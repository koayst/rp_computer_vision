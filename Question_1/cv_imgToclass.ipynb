{
 "cells": [
  {
   "cell_type": "code",
   "execution_count": 1,
   "metadata": {
    "scrolled": true
   },
   "outputs": [],
   "source": [
    "# TIPP - AAI Assignment (Applied AI Solutions Development – Computer Vision)\n",
    "# Date Due: 6 March 2020\n",
    "# Submited By: KOAY SENG TIAN\n",
    "# Email: sengtian@yahoo.com\n",
    "#\n",
    "# GitHub: https://github.com/koayst/rp_computer_vision_assignment\n",
    "#\n",
    "# The script is to copy the jpeg files to its relevant classes using the .csv as a guidance.\n",
    "# The directory names are used as the name of the classes.  As you will notice below,\n",
    "# there are 77 unique bird species.\n",
    "#\n",
    "# This \"straw-headed_Bulbul\" has 1 jpeg file only.  Will need to get more images.\n",
    "#\n",
    "# windows (directory)\n",
    "# -------------------\n",
    "# TIPP_AAI_AAISD_CV\n",
    "#        |--- model\n",
    "#        |--- Question_1\n",
    "#        |        |--- clean_dataset (bird images for training)\n",
    "#        |        |--- cv_imgToclass.ipynb \n",
    "#        |        |--- question_1_cv_colab.ipynb (to run on google colab)\n",
    "#        |--- Question_2\n",
    "#                 |--- test_bird (bird images for testing)\n",
    "#                 |--- bird_predict.py (python script for prediction)\n",
    "#                 |--- question_2_cv_colab.ipynb (to run on google colab, similar bird_predict.py)\n",
    "#\n",
    "\n",
    "import os\n",
    "import glob\n",
    "import pandas as pd\n",
    "\n",
    "original_images_dir = '..\\\\birds_dataset\\\\birds'\n",
    "label_csv_filename = '..\\\\birds_dataset\\\\trainLabels_bird.csv'\n",
    "cleaned_dir = 'clean_dataset'\n",
    "image_type = 'jpg'\n",
    "\n",
    "current_dir = os.getcwd()\n",
    "orgImageDir = os.path.join(current_dir, original_images_dir)\n",
    "imageFileList = glob.glob(orgImageDir + '/*.' + image_type)\n"
   ]
  },
  {
   "cell_type": "code",
   "execution_count": 2,
   "metadata": {},
   "outputs": [
    {
     "data": {
      "text/html": [
       "<div>\n",
       "<style scoped>\n",
       "    .dataframe tbody tr th:only-of-type {\n",
       "        vertical-align: middle;\n",
       "    }\n",
       "\n",
       "    .dataframe tbody tr th {\n",
       "        vertical-align: top;\n",
       "    }\n",
       "\n",
       "    .dataframe thead th {\n",
       "        text-align: right;\n",
       "    }\n",
       "</style>\n",
       "<table border=\"1\" class=\"dataframe\">\n",
       "  <thead>\n",
       "    <tr style=\"text-align: right;\">\n",
       "      <th></th>\n",
       "      <th>filename</th>\n",
       "      <th>label</th>\n",
       "      <th>directory</th>\n",
       "    </tr>\n",
       "  </thead>\n",
       "  <tbody>\n",
       "    <tr>\n",
       "      <th>0</th>\n",
       "      <td>_JWO0007_cr</td>\n",
       "      <td>Stork-billed_Kingfisher</td>\n",
       "      <td>train</td>\n",
       "    </tr>\n",
       "    <tr>\n",
       "      <th>1</th>\n",
       "      <td>_JWO0008_cr</td>\n",
       "      <td>Banded_Woodpecker</td>\n",
       "      <td>train</td>\n",
       "    </tr>\n",
       "    <tr>\n",
       "      <th>2</th>\n",
       "      <td>_JWO0019_cr</td>\n",
       "      <td>Banded_Woodpecker</td>\n",
       "      <td>train</td>\n",
       "    </tr>\n",
       "    <tr>\n",
       "      <th>3</th>\n",
       "      <td>_JWO0044_cr</td>\n",
       "      <td>Common_Redshank</td>\n",
       "      <td>train</td>\n",
       "    </tr>\n",
       "    <tr>\n",
       "      <th>4</th>\n",
       "      <td>_JWO0046_cr</td>\n",
       "      <td>Common_Redshank</td>\n",
       "      <td>train</td>\n",
       "    </tr>\n",
       "  </tbody>\n",
       "</table>\n",
       "</div>"
      ],
      "text/plain": [
       "      filename                    label directory\n",
       "0  _JWO0007_cr  Stork-billed_Kingfisher     train\n",
       "1  _JWO0008_cr        Banded_Woodpecker     train\n",
       "2  _JWO0019_cr        Banded_Woodpecker     train\n",
       "3  _JWO0044_cr          Common_Redshank     train\n",
       "4  _JWO0046_cr          Common_Redshank     train"
      ]
     },
     "execution_count": 2,
     "metadata": {},
     "output_type": "execute_result"
    },
    {
     "data": {
      "text/plain": [
       "(886, 3)"
      ]
     },
     "execution_count": 2,
     "metadata": {},
     "output_type": "execute_result"
    }
   ],
   "source": [
    "# create (filename, class) pair\n",
    "df = pd.read_csv(os.path.join(current_dir, label_csv_filename))\n",
    "df.head()\n",
    "df.shape"
   ]
  },
  {
   "cell_type": "code",
   "execution_count": 3,
   "metadata": {},
   "outputs": [],
   "source": [
    "train_cplist = df[df.directory == 'train'][['filename', 'label']].to_numpy()\n",
    "validate_cplist = df[df.directory == 'validate'][['filename', 'label']].to_numpy()"
   ]
  },
  {
   "cell_type": "code",
   "execution_count": 4,
   "metadata": {},
   "outputs": [
    {
     "name": "stdout",
     "output_type": "stream",
     "text": [
      "Number of train classes (labels) =  77\n",
      "Number of validate classes (labels) =  0\n"
     ]
    }
   ],
   "source": [
    "train_unique_class = df[df.directory == 'train'].label.unique()\n",
    "validate_unique_class = df[df.directory == 'validate'].label.unique()\n",
    "\n",
    "print('Number of train classes (labels) = ', len(train_unique_class))\n",
    "print('Number of validate classes (labels) = ', len(validate_unique_class))\n"
   ]
  },
  {
   "cell_type": "code",
   "execution_count": 5,
   "metadata": {},
   "outputs": [
    {
     "name": "stdout",
     "output_type": "stream",
     "text": [
      "Creating C:\\Users\\SengTian\\Downloads\\Temp\\Republic Polytechnic\\Assignment_ComputerVision\\TIPP_AAI_AAISD_CV\\Question_1\\clean_dataset\n"
     ]
    }
   ],
   "source": [
    "# create the cleaned image directory\n",
    "if os.path.exists(os.path.join(current_dir, cleaned_dir)) == True:\n",
    "    print()\n",
    "    input('Please delete directory({}) before continue.'.format(cleaned_dir))\n",
    "    \n",
    "os.mkdir(os.path.join(current_dir, cleaned_dir))      \n",
    "print('Creating ' + os.path.join(current_dir, cleaned_dir))"
   ]
  },
  {
   "cell_type": "code",
   "execution_count": 6,
   "metadata": {},
   "outputs": [],
   "source": [
    "# create the 'classes' directories\n",
    "clean_dir_path = os.path.join(current_dir, cleaned_dir)"
   ]
  },
  {
   "cell_type": "code",
   "execution_count": 7,
   "metadata": {
    "scrolled": false
   },
   "outputs": [],
   "source": [
    "os.mkdir(os.path.join(clean_dir_path, 'train'))\n",
    "os.mkdir(os.path.join(clean_dir_path, 'validate'))\n",
    "\n",
    "# train directory\n",
    "for dirName in train_unique_class:\n",
    "    dn = os.path.join(clean_dir_path, 'train')\n",
    "    dn = os.path.join(dn, dirName)\n",
    "    os.mkdir(dn)\n",
    "\n",
    "# validate directory\n",
    "for dirName in validate_unique_class:\n",
    "    dn = os.path.join(clean_dir_path, 'validate')\n",
    "    dn = os.path.join(dn, dirName)\n",
    "    os.mkdir(dn)\n"
   ]
  },
  {
   "cell_type": "code",
   "execution_count": 8,
   "metadata": {},
   "outputs": [],
   "source": [
    "# copy image to their respective class directory\n",
    "import shutil\n",
    "count = 0\n"
   ]
  },
  {
   "cell_type": "code",
   "execution_count": 9,
   "metadata": {
    "scrolled": true
   },
   "outputs": [
    {
     "data": {
      "text/plain": [
       "'C:\\\\Users\\\\SengTian\\\\Downloads\\\\Temp\\\\Republic Polytechnic\\\\Assignment_ComputerVision\\\\TIPP_AAI_AAISD_CV\\\\Question_1\\\\clean_dataset\\\\train\\\\Stork-billed_Kingfisher\\\\_JWO0007_cr.jpg'"
      ]
     },
     "execution_count": 9,
     "metadata": {},
     "output_type": "execute_result"
    },
    {
     "data": {
      "text/plain": [
       "'C:\\\\Users\\\\SengTian\\\\Downloads\\\\Temp\\\\Republic Polytechnic\\\\Assignment_ComputerVision\\\\TIPP_AAI_AAISD_CV\\\\Question_1\\\\clean_dataset\\\\train\\\\Banded_Woodpecker\\\\_JWO0008_cr.jpg'"
      ]
     },
     "execution_count": 9,
     "metadata": {},
     "output_type": "execute_result"
    },
    {
     "data": {
      "text/plain": [
       "'C:\\\\Users\\\\SengTian\\\\Downloads\\\\Temp\\\\Republic Polytechnic\\\\Assignment_ComputerVision\\\\TIPP_AAI_AAISD_CV\\\\Question_1\\\\clean_dataset\\\\train\\\\Banded_Woodpecker\\\\_JWO0019_cr.jpg'"
      ]
     },
     "execution_count": 9,
     "metadata": {},
     "output_type": "execute_result"
    },
    {
     "data": {
      "text/plain": [
       "'C:\\\\Users\\\\SengTian\\\\Downloads\\\\Temp\\\\Republic Polytechnic\\\\Assignment_ComputerVision\\\\TIPP_AAI_AAISD_CV\\\\Question_1\\\\clean_dataset\\\\train\\\\Common_Redshank\\\\_JWO0044_cr.jpg'"
      ]
     },
     "execution_count": 9,
     "metadata": {},
     "output_type": "execute_result"
    },
    {
     "data": {
      "text/plain": [
       "'C:\\\\Users\\\\SengTian\\\\Downloads\\\\Temp\\\\Republic Polytechnic\\\\Assignment_ComputerVision\\\\TIPP_AAI_AAISD_CV\\\\Question_1\\\\clean_dataset\\\\train\\\\Common_Redshank\\\\_JWO0046_cr.jpg'"
      ]
     },
     "execution_count": 9,
     "metadata": {},
     "output_type": "execute_result"
    },
    {
     "data": {
      "text/plain": [
       "'C:\\\\Users\\\\SengTian\\\\Downloads\\\\Temp\\\\Republic Polytechnic\\\\Assignment_ComputerVision\\\\TIPP_AAI_AAISD_CV\\\\Question_1\\\\clean_dataset\\\\train\\\\Common_Redshank\\\\_JWO0050_cr.jpg'"
      ]
     },
     "execution_count": 9,
     "metadata": {},
     "output_type": "execute_result"
    },
    {
     "data": {
      "text/plain": [
       "'C:\\\\Users\\\\SengTian\\\\Downloads\\\\Temp\\\\Republic Polytechnic\\\\Assignment_ComputerVision\\\\TIPP_AAI_AAISD_CV\\\\Question_1\\\\clean_dataset\\\\train\\\\Banded_Woodpecker\\\\_JWO0067_cr.jpg'"
      ]
     },
     "execution_count": 9,
     "metadata": {},
     "output_type": "execute_result"
    },
    {
     "data": {
      "text/plain": [
       "'C:\\\\Users\\\\SengTian\\\\Downloads\\\\Temp\\\\Republic Polytechnic\\\\Assignment_ComputerVision\\\\TIPP_AAI_AAISD_CV\\\\Question_1\\\\clean_dataset\\\\train\\\\Banded_Woodpecker\\\\_JWO0081_cr.jpg'"
      ]
     },
     "execution_count": 9,
     "metadata": {},
     "output_type": "execute_result"
    },
    {
     "data": {
      "text/plain": [
       "'C:\\\\Users\\\\SengTian\\\\Downloads\\\\Temp\\\\Republic Polytechnic\\\\Assignment_ComputerVision\\\\TIPP_AAI_AAISD_CV\\\\Question_1\\\\clean_dataset\\\\train\\\\Banded_Woodpecker\\\\_JWO0084_cr.jpg'"
      ]
     },
     "execution_count": 9,
     "metadata": {},
     "output_type": "execute_result"
    },
    {
     "data": {
      "text/plain": [
       "'C:\\\\Users\\\\SengTian\\\\Downloads\\\\Temp\\\\Republic Polytechnic\\\\Assignment_ComputerVision\\\\TIPP_AAI_AAISD_CV\\\\Question_1\\\\clean_dataset\\\\train\\\\Common_Redshank\\\\_JWO0086_cr.jpg'"
      ]
     },
     "execution_count": 9,
     "metadata": {},
     "output_type": "execute_result"
    },
    {
     "data": {
      "text/plain": [
       "'C:\\\\Users\\\\SengTian\\\\Downloads\\\\Temp\\\\Republic Polytechnic\\\\Assignment_ComputerVision\\\\TIPP_AAI_AAISD_CV\\\\Question_1\\\\clean_dataset\\\\train\\\\Banded_Woodpecker\\\\_JWO0103_cr.jpg'"
      ]
     },
     "execution_count": 9,
     "metadata": {},
     "output_type": "execute_result"
    },
    {
     "data": {
      "text/plain": [
       "'C:\\\\Users\\\\SengTian\\\\Downloads\\\\Temp\\\\Republic Polytechnic\\\\Assignment_ComputerVision\\\\TIPP_AAI_AAISD_CV\\\\Question_1\\\\clean_dataset\\\\train\\\\Banded_Woodpecker\\\\_JWO0108_cr.jpg'"
      ]
     },
     "execution_count": 9,
     "metadata": {},
     "output_type": "execute_result"
    },
    {
     "data": {
      "text/plain": [
       "'C:\\\\Users\\\\SengTian\\\\Downloads\\\\Temp\\\\Republic Polytechnic\\\\Assignment_ComputerVision\\\\TIPP_AAI_AAISD_CV\\\\Question_1\\\\clean_dataset\\\\train\\\\Banded_Woodpecker\\\\_JWO0114_cr.jpg'"
      ]
     },
     "execution_count": 9,
     "metadata": {},
     "output_type": "execute_result"
    },
    {
     "data": {
      "text/plain": [
       "'C:\\\\Users\\\\SengTian\\\\Downloads\\\\Temp\\\\Republic Polytechnic\\\\Assignment_ComputerVision\\\\TIPP_AAI_AAISD_CV\\\\Question_1\\\\clean_dataset\\\\train\\\\Banded_Woodpecker\\\\_JWO0126_cr.jpg'"
      ]
     },
     "execution_count": 9,
     "metadata": {},
     "output_type": "execute_result"
    },
    {
     "data": {
      "text/plain": [
       "'C:\\\\Users\\\\SengTian\\\\Downloads\\\\Temp\\\\Republic Polytechnic\\\\Assignment_ComputerVision\\\\TIPP_AAI_AAISD_CV\\\\Question_1\\\\clean_dataset\\\\train\\\\Banded_Woodpecker\\\\_JWO0129_cr.jpg'"
      ]
     },
     "execution_count": 9,
     "metadata": {},
     "output_type": "execute_result"
    },
    {
     "data": {
      "text/plain": [
       "'C:\\\\Users\\\\SengTian\\\\Downloads\\\\Temp\\\\Republic Polytechnic\\\\Assignment_ComputerVision\\\\TIPP_AAI_AAISD_CV\\\\Question_1\\\\clean_dataset\\\\train\\\\Common_Redshank\\\\_JWO0131a_cr.jpg'"
      ]
     },
     "execution_count": 9,
     "metadata": {},
     "output_type": "execute_result"
    },
    {
     "data": {
      "text/plain": [
       "'C:\\\\Users\\\\SengTian\\\\Downloads\\\\Temp\\\\Republic Polytechnic\\\\Assignment_ComputerVision\\\\TIPP_AAI_AAISD_CV\\\\Question_1\\\\clean_dataset\\\\train\\\\Banded_Woodpecker\\\\_JWO0174_cr.jpg'"
      ]
     },
     "execution_count": 9,
     "metadata": {},
     "output_type": "execute_result"
    },
    {
     "data": {
      "text/plain": [
       "'C:\\\\Users\\\\SengTian\\\\Downloads\\\\Temp\\\\Republic Polytechnic\\\\Assignment_ComputerVision\\\\TIPP_AAI_AAISD_CV\\\\Question_1\\\\clean_dataset\\\\train\\\\Banded_Woodpecker\\\\_JWO0176_cr.jpg'"
      ]
     },
     "execution_count": 9,
     "metadata": {},
     "output_type": "execute_result"
    },
    {
     "data": {
      "text/plain": [
       "'C:\\\\Users\\\\SengTian\\\\Downloads\\\\Temp\\\\Republic Polytechnic\\\\Assignment_ComputerVision\\\\TIPP_AAI_AAISD_CV\\\\Question_1\\\\clean_dataset\\\\train\\\\Banded_Woodpecker\\\\_JWO0178_cr.jpg'"
      ]
     },
     "execution_count": 9,
     "metadata": {},
     "output_type": "execute_result"
    },
    {
     "data": {
      "text/plain": [
       "'C:\\\\Users\\\\SengTian\\\\Downloads\\\\Temp\\\\Republic Polytechnic\\\\Assignment_ComputerVision\\\\TIPP_AAI_AAISD_CV\\\\Question_1\\\\clean_dataset\\\\train\\\\Banded_Woodpecker\\\\_JWO0182_cr.jpg'"
      ]
     },
     "execution_count": 9,
     "metadata": {},
     "output_type": "execute_result"
    },
    {
     "data": {
      "text/plain": [
       "'C:\\\\Users\\\\SengTian\\\\Downloads\\\\Temp\\\\Republic Polytechnic\\\\Assignment_ComputerVision\\\\TIPP_AAI_AAISD_CV\\\\Question_1\\\\clean_dataset\\\\train\\\\Banded_Woodpecker\\\\_JWO0194_cr.jpg'"
      ]
     },
     "execution_count": 9,
     "metadata": {},
     "output_type": "execute_result"
    },
    {
     "data": {
      "text/plain": [
       "'C:\\\\Users\\\\SengTian\\\\Downloads\\\\Temp\\\\Republic Polytechnic\\\\Assignment_ComputerVision\\\\TIPP_AAI_AAISD_CV\\\\Question_1\\\\clean_dataset\\\\train\\\\Banded_Woodpecker\\\\_JWO0197_cr.jpg'"
      ]
     },
     "execution_count": 9,
     "metadata": {},
     "output_type": "execute_result"
    },
    {
     "data": {
      "text/plain": [
       "'C:\\\\Users\\\\SengTian\\\\Downloads\\\\Temp\\\\Republic Polytechnic\\\\Assignment_ComputerVision\\\\TIPP_AAI_AAISD_CV\\\\Question_1\\\\clean_dataset\\\\train\\\\Banded_Woodpecker\\\\_JWO0202_cr.jpg'"
      ]
     },
     "execution_count": 9,
     "metadata": {},
     "output_type": "execute_result"
    },
    {
     "data": {
      "text/plain": [
       "'C:\\\\Users\\\\SengTian\\\\Downloads\\\\Temp\\\\Republic Polytechnic\\\\Assignment_ComputerVision\\\\TIPP_AAI_AAISD_CV\\\\Question_1\\\\clean_dataset\\\\train\\\\Brown-throated_Sunbird\\\\_JWO0256_cr.jpg'"
      ]
     },
     "execution_count": 9,
     "metadata": {},
     "output_type": "execute_result"
    },
    {
     "data": {
      "text/plain": [
       "'C:\\\\Users\\\\SengTian\\\\Downloads\\\\Temp\\\\Republic Polytechnic\\\\Assignment_ComputerVision\\\\TIPP_AAI_AAISD_CV\\\\Question_1\\\\clean_dataset\\\\train\\\\Brown-throated_Sunbird\\\\_JWO0266_cr.jpg'"
      ]
     },
     "execution_count": 9,
     "metadata": {},
     "output_type": "execute_result"
    },
    {
     "data": {
      "text/plain": [
       "'C:\\\\Users\\\\SengTian\\\\Downloads\\\\Temp\\\\Republic Polytechnic\\\\Assignment_ComputerVision\\\\TIPP_AAI_AAISD_CV\\\\Question_1\\\\clean_dataset\\\\train\\\\Brown-throated_Sunbird\\\\_JWO0283_cr.jpg'"
      ]
     },
     "execution_count": 9,
     "metadata": {},
     "output_type": "execute_result"
    },
    {
     "data": {
      "text/plain": [
       "'C:\\\\Users\\\\SengTian\\\\Downloads\\\\Temp\\\\Republic Polytechnic\\\\Assignment_ComputerVision\\\\TIPP_AAI_AAISD_CV\\\\Question_1\\\\clean_dataset\\\\train\\\\Stork-billed_Kingfisher\\\\_JWO0284_cr.jpg'"
      ]
     },
     "execution_count": 9,
     "metadata": {},
     "output_type": "execute_result"
    },
    {
     "data": {
      "text/plain": [
       "'C:\\\\Users\\\\SengTian\\\\Downloads\\\\Temp\\\\Republic Polytechnic\\\\Assignment_ComputerVision\\\\TIPP_AAI_AAISD_CV\\\\Question_1\\\\clean_dataset\\\\train\\\\Brown-throated_Sunbird\\\\_JWO0299_cr.jpg'"
      ]
     },
     "execution_count": 9,
     "metadata": {},
     "output_type": "execute_result"
    },
    {
     "data": {
      "text/plain": [
       "'C:\\\\Users\\\\SengTian\\\\Downloads\\\\Temp\\\\Republic Polytechnic\\\\Assignment_ComputerVision\\\\TIPP_AAI_AAISD_CV\\\\Question_1\\\\clean_dataset\\\\train\\\\Grey-headed_Fish_Eagle\\\\_JWO0302_cr.jpg'"
      ]
     },
     "execution_count": 9,
     "metadata": {},
     "output_type": "execute_result"
    },
    {
     "data": {
      "text/plain": [
       "'C:\\\\Users\\\\SengTian\\\\Downloads\\\\Temp\\\\Republic Polytechnic\\\\Assignment_ComputerVision\\\\TIPP_AAI_AAISD_CV\\\\Question_1\\\\clean_dataset\\\\train\\\\Brown-throated_Sunbird\\\\_JWO0323_cr.jpg'"
      ]
     },
     "execution_count": 9,
     "metadata": {},
     "output_type": "execute_result"
    },
    {
     "data": {
      "text/plain": [
       "'C:\\\\Users\\\\SengTian\\\\Downloads\\\\Temp\\\\Republic Polytechnic\\\\Assignment_ComputerVision\\\\TIPP_AAI_AAISD_CV\\\\Question_1\\\\clean_dataset\\\\train\\\\Brown-throated_Sunbird\\\\_JWO0328_cr.jpg'"
      ]
     },
     "execution_count": 9,
     "metadata": {},
     "output_type": "execute_result"
    },
    {
     "data": {
      "text/plain": [
       "'C:\\\\Users\\\\SengTian\\\\Downloads\\\\Temp\\\\Republic Polytechnic\\\\Assignment_ComputerVision\\\\TIPP_AAI_AAISD_CV\\\\Question_1\\\\clean_dataset\\\\train\\\\Brown-throated_Sunbird\\\\_JWO0334_cr.jpg'"
      ]
     },
     "execution_count": 9,
     "metadata": {},
     "output_type": "execute_result"
    },
    {
     "data": {
      "text/plain": [
       "'C:\\\\Users\\\\SengTian\\\\Downloads\\\\Temp\\\\Republic Polytechnic\\\\Assignment_ComputerVision\\\\TIPP_AAI_AAISD_CV\\\\Question_1\\\\clean_dataset\\\\train\\\\Grey-headed_Fish_Eagle\\\\_JWO0343_cr.jpg'"
      ]
     },
     "execution_count": 9,
     "metadata": {},
     "output_type": "execute_result"
    },
    {
     "data": {
      "text/plain": [
       "'C:\\\\Users\\\\SengTian\\\\Downloads\\\\Temp\\\\Republic Polytechnic\\\\Assignment_ComputerVision\\\\TIPP_AAI_AAISD_CV\\\\Question_1\\\\clean_dataset\\\\train\\\\Grey-headed_Fish_Eagle\\\\_JWO0344_cr.jpg'"
      ]
     },
     "execution_count": 9,
     "metadata": {},
     "output_type": "execute_result"
    },
    {
     "data": {
      "text/plain": [
       "'C:\\\\Users\\\\SengTian\\\\Downloads\\\\Temp\\\\Republic Polytechnic\\\\Assignment_ComputerVision\\\\TIPP_AAI_AAISD_CV\\\\Question_1\\\\clean_dataset\\\\train\\\\Grey-headed_Fish_Eagle\\\\_JWO0346_cr.jpg'"
      ]
     },
     "execution_count": 9,
     "metadata": {},
     "output_type": "execute_result"
    },
    {
     "data": {
      "text/plain": [
       "'C:\\\\Users\\\\SengTian\\\\Downloads\\\\Temp\\\\Republic Polytechnic\\\\Assignment_ComputerVision\\\\TIPP_AAI_AAISD_CV\\\\Question_1\\\\clean_dataset\\\\train\\\\Grey-headed_Fish_Eagle\\\\_JWO0347_cr.jpg'"
      ]
     },
     "execution_count": 9,
     "metadata": {},
     "output_type": "execute_result"
    },
    {
     "data": {
      "text/plain": [
       "'C:\\\\Users\\\\SengTian\\\\Downloads\\\\Temp\\\\Republic Polytechnic\\\\Assignment_ComputerVision\\\\TIPP_AAI_AAISD_CV\\\\Question_1\\\\clean_dataset\\\\train\\\\Grey-headed_Fish_Eagle\\\\_JWO0348_cr.jpg'"
      ]
     },
     "execution_count": 9,
     "metadata": {},
     "output_type": "execute_result"
    },
    {
     "data": {
      "text/plain": [
       "'C:\\\\Users\\\\SengTian\\\\Downloads\\\\Temp\\\\Republic Polytechnic\\\\Assignment_ComputerVision\\\\TIPP_AAI_AAISD_CV\\\\Question_1\\\\clean_dataset\\\\train\\\\White-bellied_Sea_Eagle\\\\_JWO0365_cr.jpg'"
      ]
     },
     "execution_count": 9,
     "metadata": {},
     "output_type": "execute_result"
    },
    {
     "data": {
      "text/plain": [
       "'C:\\\\Users\\\\SengTian\\\\Downloads\\\\Temp\\\\Republic Polytechnic\\\\Assignment_ComputerVision\\\\TIPP_AAI_AAISD_CV\\\\Question_1\\\\clean_dataset\\\\train\\\\White-bellied_Sea_Eagle\\\\_JWO0373_cr.jpg'"
      ]
     },
     "execution_count": 9,
     "metadata": {},
     "output_type": "execute_result"
    },
    {
     "data": {
      "text/plain": [
       "'C:\\\\Users\\\\SengTian\\\\Downloads\\\\Temp\\\\Republic Polytechnic\\\\Assignment_ComputerVision\\\\TIPP_AAI_AAISD_CV\\\\Question_1\\\\clean_dataset\\\\train\\\\White-bellied_Sea_Eagle\\\\_JWO0375_cr.jpg'"
      ]
     },
     "execution_count": 9,
     "metadata": {},
     "output_type": "execute_result"
    },
    {
     "data": {
      "text/plain": [
       "'C:\\\\Users\\\\SengTian\\\\Downloads\\\\Temp\\\\Republic Polytechnic\\\\Assignment_ComputerVision\\\\TIPP_AAI_AAISD_CV\\\\Question_1\\\\clean_dataset\\\\train\\\\White-bellied_Sea_Eagle\\\\_JWO0378_cr.jpg'"
      ]
     },
     "execution_count": 9,
     "metadata": {},
     "output_type": "execute_result"
    },
    {
     "data": {
      "text/plain": [
       "'C:\\\\Users\\\\SengTian\\\\Downloads\\\\Temp\\\\Republic Polytechnic\\\\Assignment_ComputerVision\\\\TIPP_AAI_AAISD_CV\\\\Question_1\\\\clean_dataset\\\\train\\\\White-bellied_Sea_Eagle\\\\_JWO0379_cr.jpg'"
      ]
     },
     "execution_count": 9,
     "metadata": {},
     "output_type": "execute_result"
    },
    {
     "data": {
      "text/plain": [
       "'C:\\\\Users\\\\SengTian\\\\Downloads\\\\Temp\\\\Republic Polytechnic\\\\Assignment_ComputerVision\\\\TIPP_AAI_AAISD_CV\\\\Question_1\\\\clean_dataset\\\\train\\\\Straw-headed_Bulbul\\\\_JWO0424_cr.jpg'"
      ]
     },
     "execution_count": 9,
     "metadata": {},
     "output_type": "execute_result"
    },
    {
     "data": {
      "text/plain": [
       "'C:\\\\Users\\\\SengTian\\\\Downloads\\\\Temp\\\\Republic Polytechnic\\\\Assignment_ComputerVision\\\\TIPP_AAI_AAISD_CV\\\\Question_1\\\\clean_dataset\\\\train\\\\White-bellied_Sea_Eagle\\\\_JWO0439_cr.jpg'"
      ]
     },
     "execution_count": 9,
     "metadata": {},
     "output_type": "execute_result"
    },
    {
     "data": {
      "text/plain": [
       "'C:\\\\Users\\\\SengTian\\\\Downloads\\\\Temp\\\\Republic Polytechnic\\\\Assignment_ComputerVision\\\\TIPP_AAI_AAISD_CV\\\\Question_1\\\\clean_dataset\\\\train\\\\White-bellied_Sea_Eagle\\\\_JWO0440_cr.jpg'"
      ]
     },
     "execution_count": 9,
     "metadata": {},
     "output_type": "execute_result"
    },
    {
     "data": {
      "text/plain": [
       "'C:\\\\Users\\\\SengTian\\\\Downloads\\\\Temp\\\\Republic Polytechnic\\\\Assignment_ComputerVision\\\\TIPP_AAI_AAISD_CV\\\\Question_1\\\\clean_dataset\\\\train\\\\White-bellied_Sea_Eagle\\\\_JWO0441_cr.jpg'"
      ]
     },
     "execution_count": 9,
     "metadata": {},
     "output_type": "execute_result"
    },
    {
     "data": {
      "text/plain": [
       "'C:\\\\Users\\\\SengTian\\\\Downloads\\\\Temp\\\\Republic Polytechnic\\\\Assignment_ComputerVision\\\\TIPP_AAI_AAISD_CV\\\\Question_1\\\\clean_dataset\\\\train\\\\White-bellied_Sea_Eagle\\\\_JWO0442_cr.jpg'"
      ]
     },
     "execution_count": 9,
     "metadata": {},
     "output_type": "execute_result"
    },
    {
     "data": {
      "text/plain": [
       "'C:\\\\Users\\\\SengTian\\\\Downloads\\\\Temp\\\\Republic Polytechnic\\\\Assignment_ComputerVision\\\\TIPP_AAI_AAISD_CV\\\\Question_1\\\\clean_dataset\\\\train\\\\White-bellied_Sea_Eagle\\\\_JWO0443_cr.jpg'"
      ]
     },
     "execution_count": 9,
     "metadata": {},
     "output_type": "execute_result"
    },
    {
     "data": {
      "text/plain": [
       "'C:\\\\Users\\\\SengTian\\\\Downloads\\\\Temp\\\\Republic Polytechnic\\\\Assignment_ComputerVision\\\\TIPP_AAI_AAISD_CV\\\\Question_1\\\\clean_dataset\\\\train\\\\White-bellied_Sea_Eagle\\\\_JWO0444_cr.jpg'"
      ]
     },
     "execution_count": 9,
     "metadata": {},
     "output_type": "execute_result"
    },
    {
     "data": {
      "text/plain": [
       "'C:\\\\Users\\\\SengTian\\\\Downloads\\\\Temp\\\\Republic Polytechnic\\\\Assignment_ComputerVision\\\\TIPP_AAI_AAISD_CV\\\\Question_1\\\\clean_dataset\\\\train\\\\White-bellied_Sea_Eagle\\\\_JWO0445_cr.jpg'"
      ]
     },
     "execution_count": 9,
     "metadata": {},
     "output_type": "execute_result"
    },
    {
     "data": {
      "text/plain": [
       "'C:\\\\Users\\\\SengTian\\\\Downloads\\\\Temp\\\\Republic Polytechnic\\\\Assignment_ComputerVision\\\\TIPP_AAI_AAISD_CV\\\\Question_1\\\\clean_dataset\\\\train\\\\White-bellied_Sea_Eagle\\\\_JWO0446_cr.jpg'"
      ]
     },
     "execution_count": 9,
     "metadata": {},
     "output_type": "execute_result"
    },
    {
     "data": {
      "text/plain": [
       "'C:\\\\Users\\\\SengTian\\\\Downloads\\\\Temp\\\\Republic Polytechnic\\\\Assignment_ComputerVision\\\\TIPP_AAI_AAISD_CV\\\\Question_1\\\\clean_dataset\\\\train\\\\White-bellied_Sea_Eagle\\\\_JWO0447_cr.jpg'"
      ]
     },
     "execution_count": 9,
     "metadata": {},
     "output_type": "execute_result"
    },
    {
     "data": {
      "text/plain": [
       "'C:\\\\Users\\\\SengTian\\\\Downloads\\\\Temp\\\\Republic Polytechnic\\\\Assignment_ComputerVision\\\\TIPP_AAI_AAISD_CV\\\\Question_1\\\\clean_dataset\\\\train\\\\Orange-bellied_Woodpecker\\\\_JWO0459_cr.jpg'"
      ]
     },
     "execution_count": 9,
     "metadata": {},
     "output_type": "execute_result"
    },
    {
     "data": {
      "text/plain": [
       "'C:\\\\Users\\\\SengTian\\\\Downloads\\\\Temp\\\\Republic Polytechnic\\\\Assignment_ComputerVision\\\\TIPP_AAI_AAISD_CV\\\\Question_1\\\\clean_dataset\\\\train\\\\Orange-bellied_Woodpecker\\\\_JWO0463_cr.jpg'"
      ]
     },
     "execution_count": 9,
     "metadata": {},
     "output_type": "execute_result"
    },
    {
     "data": {
      "text/plain": [
       "'C:\\\\Users\\\\SengTian\\\\Downloads\\\\Temp\\\\Republic Polytechnic\\\\Assignment_ComputerVision\\\\TIPP_AAI_AAISD_CV\\\\Question_1\\\\clean_dataset\\\\train\\\\White-bellied_Sea_Eagle\\\\_JWO0495_cr.jpg'"
      ]
     },
     "execution_count": 9,
     "metadata": {},
     "output_type": "execute_result"
    },
    {
     "data": {
      "text/plain": [
       "'C:\\\\Users\\\\SengTian\\\\Downloads\\\\Temp\\\\Republic Polytechnic\\\\Assignment_ComputerVision\\\\TIPP_AAI_AAISD_CV\\\\Question_1\\\\clean_dataset\\\\train\\\\Brahmini_Kite\\\\_JWO0526_cr.jpg'"
      ]
     },
     "execution_count": 9,
     "metadata": {},
     "output_type": "execute_result"
    },
    {
     "data": {
      "text/plain": [
       "'C:\\\\Users\\\\SengTian\\\\Downloads\\\\Temp\\\\Republic Polytechnic\\\\Assignment_ComputerVision\\\\TIPP_AAI_AAISD_CV\\\\Question_1\\\\clean_dataset\\\\train\\\\Brahmini_Kite\\\\_JWO0528_cr.jpg'"
      ]
     },
     "execution_count": 9,
     "metadata": {},
     "output_type": "execute_result"
    },
    {
     "data": {
      "text/plain": [
       "'C:\\\\Users\\\\SengTian\\\\Downloads\\\\Temp\\\\Republic Polytechnic\\\\Assignment_ComputerVision\\\\TIPP_AAI_AAISD_CV\\\\Question_1\\\\clean_dataset\\\\train\\\\Orange-bellied_Woodpecker\\\\_JWO066_cr.jpg'"
      ]
     },
     "execution_count": 9,
     "metadata": {},
     "output_type": "execute_result"
    },
    {
     "data": {
      "text/plain": [
       "'C:\\\\Users\\\\SengTian\\\\Downloads\\\\Temp\\\\Republic Polytechnic\\\\Assignment_ComputerVision\\\\TIPP_AAI_AAISD_CV\\\\Question_1\\\\clean_dataset\\\\train\\\\Black-crowned_Night_Heron\\\\_JWO0713_cr.jpg'"
      ]
     },
     "execution_count": 9,
     "metadata": {},
     "output_type": "execute_result"
    },
    {
     "data": {
      "text/plain": [
       "'C:\\\\Users\\\\SengTian\\\\Downloads\\\\Temp\\\\Republic Polytechnic\\\\Assignment_ComputerVision\\\\TIPP_AAI_AAISD_CV\\\\Question_1\\\\clean_dataset\\\\train\\\\Pin-tailed_Whydah\\\\_JWO0872_cr.jpg'"
      ]
     },
     "execution_count": 9,
     "metadata": {},
     "output_type": "execute_result"
    },
    {
     "data": {
      "text/plain": [
       "'C:\\\\Users\\\\SengTian\\\\Downloads\\\\Temp\\\\Republic Polytechnic\\\\Assignment_ComputerVision\\\\TIPP_AAI_AAISD_CV\\\\Question_1\\\\clean_dataset\\\\train\\\\Black-crowned_Night_Heron\\\\_JWO0873_cr.jpg'"
      ]
     },
     "execution_count": 9,
     "metadata": {},
     "output_type": "execute_result"
    },
    {
     "data": {
      "text/plain": [
       "'C:\\\\Users\\\\SengTian\\\\Downloads\\\\Temp\\\\Republic Polytechnic\\\\Assignment_ComputerVision\\\\TIPP_AAI_AAISD_CV\\\\Question_1\\\\clean_dataset\\\\train\\\\Black-crowned_Night_Heron\\\\_JWO0874_cr.jpg'"
      ]
     },
     "execution_count": 9,
     "metadata": {},
     "output_type": "execute_result"
    },
    {
     "data": {
      "text/plain": [
       "'C:\\\\Users\\\\SengTian\\\\Downloads\\\\Temp\\\\Republic Polytechnic\\\\Assignment_ComputerVision\\\\TIPP_AAI_AAISD_CV\\\\Question_1\\\\clean_dataset\\\\train\\\\Black-crowned_Night_Heron\\\\_JWO0899_cr.jpg'"
      ]
     },
     "execution_count": 9,
     "metadata": {},
     "output_type": "execute_result"
    },
    {
     "data": {
      "text/plain": [
       "'C:\\\\Users\\\\SengTian\\\\Downloads\\\\Temp\\\\Republic Polytechnic\\\\Assignment_ComputerVision\\\\TIPP_AAI_AAISD_CV\\\\Question_1\\\\clean_dataset\\\\train\\\\Pin-tailed_Whydah\\\\_JWO0920_cr.jpg'"
      ]
     },
     "execution_count": 9,
     "metadata": {},
     "output_type": "execute_result"
    },
    {
     "data": {
      "text/plain": [
       "'C:\\\\Users\\\\SengTian\\\\Downloads\\\\Temp\\\\Republic Polytechnic\\\\Assignment_ComputerVision\\\\TIPP_AAI_AAISD_CV\\\\Question_1\\\\clean_dataset\\\\train\\\\Pin-tailed_Whydah\\\\_JWO0943_cr.jpg'"
      ]
     },
     "execution_count": 9,
     "metadata": {},
     "output_type": "execute_result"
    },
    {
     "data": {
      "text/plain": [
       "'C:\\\\Users\\\\SengTian\\\\Downloads\\\\Temp\\\\Republic Polytechnic\\\\Assignment_ComputerVision\\\\TIPP_AAI_AAISD_CV\\\\Question_1\\\\clean_dataset\\\\train\\\\Common_Kingfisher\\\\_JWO0949_cr.jpg'"
      ]
     },
     "execution_count": 9,
     "metadata": {},
     "output_type": "execute_result"
    },
    {
     "data": {
      "text/plain": [
       "'C:\\\\Users\\\\SengTian\\\\Downloads\\\\Temp\\\\Republic Polytechnic\\\\Assignment_ComputerVision\\\\TIPP_AAI_AAISD_CV\\\\Question_1\\\\clean_dataset\\\\train\\\\Black-crowned_Night_Heron\\\\_JWO1018_cr.jpg'"
      ]
     },
     "execution_count": 9,
     "metadata": {},
     "output_type": "execute_result"
    },
    {
     "data": {
      "text/plain": [
       "'C:\\\\Users\\\\SengTian\\\\Downloads\\\\Temp\\\\Republic Polytechnic\\\\Assignment_ComputerVision\\\\TIPP_AAI_AAISD_CV\\\\Question_1\\\\clean_dataset\\\\train\\\\Black-crowned_Night_Heron\\\\_JWO1038_cr.jpg'"
      ]
     },
     "execution_count": 9,
     "metadata": {},
     "output_type": "execute_result"
    },
    {
     "data": {
      "text/plain": [
       "'C:\\\\Users\\\\SengTian\\\\Downloads\\\\Temp\\\\Republic Polytechnic\\\\Assignment_ComputerVision\\\\TIPP_AAI_AAISD_CV\\\\Question_1\\\\clean_dataset\\\\train\\\\Black-crowned_Night_Heron\\\\_JWO1045_cr.jpg'"
      ]
     },
     "execution_count": 9,
     "metadata": {},
     "output_type": "execute_result"
    },
    {
     "data": {
      "text/plain": [
       "'C:\\\\Users\\\\SengTian\\\\Downloads\\\\Temp\\\\Republic Polytechnic\\\\Assignment_ComputerVision\\\\TIPP_AAI_AAISD_CV\\\\Question_1\\\\clean_dataset\\\\train\\\\Black-crowned_Night_Heron\\\\_JWO1054_cr.jpg'"
      ]
     },
     "execution_count": 9,
     "metadata": {},
     "output_type": "execute_result"
    },
    {
     "data": {
      "text/plain": [
       "'C:\\\\Users\\\\SengTian\\\\Downloads\\\\Temp\\\\Republic Polytechnic\\\\Assignment_ComputerVision\\\\TIPP_AAI_AAISD_CV\\\\Question_1\\\\clean_dataset\\\\train\\\\Black-crowned_Night_Heron\\\\_JWO1063_cr.jpg'"
      ]
     },
     "execution_count": 9,
     "metadata": {},
     "output_type": "execute_result"
    },
    {
     "data": {
      "text/plain": [
       "'C:\\\\Users\\\\SengTian\\\\Downloads\\\\Temp\\\\Republic Polytechnic\\\\Assignment_ComputerVision\\\\TIPP_AAI_AAISD_CV\\\\Question_1\\\\clean_dataset\\\\train\\\\Black-crowned_Night_Heron\\\\_JWO1079_cr.jpg'"
      ]
     },
     "execution_count": 9,
     "metadata": {},
     "output_type": "execute_result"
    },
    {
     "data": {
      "text/plain": [
       "'C:\\\\Users\\\\SengTian\\\\Downloads\\\\Temp\\\\Republic Polytechnic\\\\Assignment_ComputerVision\\\\TIPP_AAI_AAISD_CV\\\\Question_1\\\\clean_dataset\\\\train\\\\Black-crowned_Night_Heron\\\\_JWO1095_cr.jpg'"
      ]
     },
     "execution_count": 9,
     "metadata": {},
     "output_type": "execute_result"
    },
    {
     "data": {
      "text/plain": [
       "'C:\\\\Users\\\\SengTian\\\\Downloads\\\\Temp\\\\Republic Polytechnic\\\\Assignment_ComputerVision\\\\TIPP_AAI_AAISD_CV\\\\Question_1\\\\clean_dataset\\\\train\\\\Black-crowned_Night_Heron\\\\_JWO1100_cr.jpg'"
      ]
     },
     "execution_count": 9,
     "metadata": {},
     "output_type": "execute_result"
    },
    {
     "data": {
      "text/plain": [
       "'C:\\\\Users\\\\SengTian\\\\Downloads\\\\Temp\\\\Republic Polytechnic\\\\Assignment_ComputerVision\\\\TIPP_AAI_AAISD_CV\\\\Question_1\\\\clean_dataset\\\\train\\\\Black-crowned_Night_Heron\\\\_JWO1129_cr.jpg'"
      ]
     },
     "execution_count": 9,
     "metadata": {},
     "output_type": "execute_result"
    },
    {
     "data": {
      "text/plain": [
       "'C:\\\\Users\\\\SengTian\\\\Downloads\\\\Temp\\\\Republic Polytechnic\\\\Assignment_ComputerVision\\\\TIPP_AAI_AAISD_CV\\\\Question_1\\\\clean_dataset\\\\train\\\\Golden-backed_Weaver\\\\_JWO1192_cr.jpg'"
      ]
     },
     "execution_count": 9,
     "metadata": {},
     "output_type": "execute_result"
    },
    {
     "data": {
      "text/plain": [
       "'C:\\\\Users\\\\SengTian\\\\Downloads\\\\Temp\\\\Republic Polytechnic\\\\Assignment_ComputerVision\\\\TIPP_AAI_AAISD_CV\\\\Question_1\\\\clean_dataset\\\\train\\\\Golden-backed_Weaver\\\\_JWO1193_cr.jpg'"
      ]
     },
     "execution_count": 9,
     "metadata": {},
     "output_type": "execute_result"
    },
    {
     "data": {
      "text/plain": [
       "'C:\\\\Users\\\\SengTian\\\\Downloads\\\\Temp\\\\Republic Polytechnic\\\\Assignment_ComputerVision\\\\TIPP_AAI_AAISD_CV\\\\Question_1\\\\clean_dataset\\\\train\\\\Black-crowned_Night_Heron\\\\_JWO1193a_cr.jpg'"
      ]
     },
     "execution_count": 9,
     "metadata": {},
     "output_type": "execute_result"
    },
    {
     "data": {
      "text/plain": [
       "'C:\\\\Users\\\\SengTian\\\\Downloads\\\\Temp\\\\Republic Polytechnic\\\\Assignment_ComputerVision\\\\TIPP_AAI_AAISD_CV\\\\Question_1\\\\clean_dataset\\\\train\\\\Golden-backed_Weaver\\\\_JWO1201_cr.jpg'"
      ]
     },
     "execution_count": 9,
     "metadata": {},
     "output_type": "execute_result"
    },
    {
     "data": {
      "text/plain": [
       "'C:\\\\Users\\\\SengTian\\\\Downloads\\\\Temp\\\\Republic Polytechnic\\\\Assignment_ComputerVision\\\\TIPP_AAI_AAISD_CV\\\\Question_1\\\\clean_dataset\\\\train\\\\Golden-backed_Weaver\\\\_JWO1212_cr.jpg'"
      ]
     },
     "execution_count": 9,
     "metadata": {},
     "output_type": "execute_result"
    },
    {
     "data": {
      "text/plain": [
       "'C:\\\\Users\\\\SengTian\\\\Downloads\\\\Temp\\\\Republic Polytechnic\\\\Assignment_ComputerVision\\\\TIPP_AAI_AAISD_CV\\\\Question_1\\\\clean_dataset\\\\train\\\\Oriental_Magpie_Robin\\\\_JWO1277_cr.jpg'"
      ]
     },
     "execution_count": 9,
     "metadata": {},
     "output_type": "execute_result"
    },
    {
     "data": {
      "text/plain": [
       "'C:\\\\Users\\\\SengTian\\\\Downloads\\\\Temp\\\\Republic Polytechnic\\\\Assignment_ComputerVision\\\\TIPP_AAI_AAISD_CV\\\\Question_1\\\\clean_dataset\\\\train\\\\Oriental_Magpie_Robin\\\\_JWO1280_cr.jpg'"
      ]
     },
     "execution_count": 9,
     "metadata": {},
     "output_type": "execute_result"
    },
    {
     "data": {
      "text/plain": [
       "'C:\\\\Users\\\\SengTian\\\\Downloads\\\\Temp\\\\Republic Polytechnic\\\\Assignment_ComputerVision\\\\TIPP_AAI_AAISD_CV\\\\Question_1\\\\clean_dataset\\\\train\\\\Oriental_Magpie_Robin\\\\_JWO1283a_cr.jpg'"
      ]
     },
     "execution_count": 9,
     "metadata": {},
     "output_type": "execute_result"
    },
    {
     "data": {
      "text/plain": [
       "'C:\\\\Users\\\\SengTian\\\\Downloads\\\\Temp\\\\Republic Polytechnic\\\\Assignment_ComputerVision\\\\TIPP_AAI_AAISD_CV\\\\Question_1\\\\clean_dataset\\\\train\\\\Golden-backed_Weaver\\\\_JWO1305_cr.jpg'"
      ]
     },
     "execution_count": 9,
     "metadata": {},
     "output_type": "execute_result"
    },
    {
     "data": {
      "text/plain": [
       "'C:\\\\Users\\\\SengTian\\\\Downloads\\\\Temp\\\\Republic Polytechnic\\\\Assignment_ComputerVision\\\\TIPP_AAI_AAISD_CV\\\\Question_1\\\\clean_dataset\\\\train\\\\Golden-backed_Weaver\\\\_JWO1308_cr.jpg'"
      ]
     },
     "execution_count": 9,
     "metadata": {},
     "output_type": "execute_result"
    },
    {
     "data": {
      "text/plain": [
       "'C:\\\\Users\\\\SengTian\\\\Downloads\\\\Temp\\\\Republic Polytechnic\\\\Assignment_ComputerVision\\\\TIPP_AAI_AAISD_CV\\\\Question_1\\\\clean_dataset\\\\train\\\\Golden-backed_Weaver\\\\_JWO1338_cr.jpg'"
      ]
     },
     "execution_count": 9,
     "metadata": {},
     "output_type": "execute_result"
    },
    {
     "data": {
      "text/plain": [
       "'C:\\\\Users\\\\SengTian\\\\Downloads\\\\Temp\\\\Republic Polytechnic\\\\Assignment_ComputerVision\\\\TIPP_AAI_AAISD_CV\\\\Question_1\\\\clean_dataset\\\\train\\\\Golden-backed_Weaver\\\\_JWO1349_cr.jpg'"
      ]
     },
     "execution_count": 9,
     "metadata": {},
     "output_type": "execute_result"
    },
    {
     "data": {
      "text/plain": [
       "'C:\\\\Users\\\\SengTian\\\\Downloads\\\\Temp\\\\Republic Polytechnic\\\\Assignment_ComputerVision\\\\TIPP_AAI_AAISD_CV\\\\Question_1\\\\clean_dataset\\\\train\\\\Golden-backed_Weaver\\\\_JWO1350_cr.jpg'"
      ]
     },
     "execution_count": 9,
     "metadata": {},
     "output_type": "execute_result"
    },
    {
     "data": {
      "text/plain": [
       "'C:\\\\Users\\\\SengTian\\\\Downloads\\\\Temp\\\\Republic Polytechnic\\\\Assignment_ComputerVision\\\\TIPP_AAI_AAISD_CV\\\\Question_1\\\\clean_dataset\\\\train\\\\Golden-backed_Weaver\\\\_JWO1351_cr.jpg'"
      ]
     },
     "execution_count": 9,
     "metadata": {},
     "output_type": "execute_result"
    },
    {
     "data": {
      "text/plain": [
       "'C:\\\\Users\\\\SengTian\\\\Downloads\\\\Temp\\\\Republic Polytechnic\\\\Assignment_ComputerVision\\\\TIPP_AAI_AAISD_CV\\\\Question_1\\\\clean_dataset\\\\train\\\\Common_Kingfisher\\\\_JWO1368_cr.jpg'"
      ]
     },
     "execution_count": 9,
     "metadata": {},
     "output_type": "execute_result"
    },
    {
     "data": {
      "text/plain": [
       "'C:\\\\Users\\\\SengTian\\\\Downloads\\\\Temp\\\\Republic Polytechnic\\\\Assignment_ComputerVision\\\\TIPP_AAI_AAISD_CV\\\\Question_1\\\\clean_dataset\\\\train\\\\Common_Kingfisher\\\\_JWO1369_cr.jpg'"
      ]
     },
     "execution_count": 9,
     "metadata": {},
     "output_type": "execute_result"
    },
    {
     "data": {
      "text/plain": [
       "'C:\\\\Users\\\\SengTian\\\\Downloads\\\\Temp\\\\Republic Polytechnic\\\\Assignment_ComputerVision\\\\TIPP_AAI_AAISD_CV\\\\Question_1\\\\clean_dataset\\\\train\\\\Common_Kingfisher\\\\_JWO1403_1_cr.jpg'"
      ]
     },
     "execution_count": 9,
     "metadata": {},
     "output_type": "execute_result"
    },
    {
     "data": {
      "text/plain": [
       "'C:\\\\Users\\\\SengTian\\\\Downloads\\\\Temp\\\\Republic Polytechnic\\\\Assignment_ComputerVision\\\\TIPP_AAI_AAISD_CV\\\\Question_1\\\\clean_dataset\\\\train\\\\Common_Kingfisher\\\\_JWO1403_cr.jpg'"
      ]
     },
     "execution_count": 9,
     "metadata": {},
     "output_type": "execute_result"
    },
    {
     "data": {
      "text/plain": [
       "'C:\\\\Users\\\\SengTian\\\\Downloads\\\\Temp\\\\Republic Polytechnic\\\\Assignment_ComputerVision\\\\TIPP_AAI_AAISD_CV\\\\Question_1\\\\clean_dataset\\\\train\\\\Common_Kingfisher\\\\_JWO1424_cr.jpg'"
      ]
     },
     "execution_count": 9,
     "metadata": {},
     "output_type": "execute_result"
    },
    {
     "data": {
      "text/plain": [
       "'C:\\\\Users\\\\SengTian\\\\Downloads\\\\Temp\\\\Republic Polytechnic\\\\Assignment_ComputerVision\\\\TIPP_AAI_AAISD_CV\\\\Question_1\\\\clean_dataset\\\\train\\\\Yellow_Bittern\\\\_JWO1450_cr.jpg'"
      ]
     },
     "execution_count": 9,
     "metadata": {},
     "output_type": "execute_result"
    },
    {
     "data": {
      "text/plain": [
       "'C:\\\\Users\\\\SengTian\\\\Downloads\\\\Temp\\\\Republic Polytechnic\\\\Assignment_ComputerVision\\\\TIPP_AAI_AAISD_CV\\\\Question_1\\\\clean_dataset\\\\train\\\\Yellow_Bittern\\\\_JWO1459_cr.jpg'"
      ]
     },
     "execution_count": 9,
     "metadata": {},
     "output_type": "execute_result"
    },
    {
     "data": {
      "text/plain": [
       "'C:\\\\Users\\\\SengTian\\\\Downloads\\\\Temp\\\\Republic Polytechnic\\\\Assignment_ComputerVision\\\\TIPP_AAI_AAISD_CV\\\\Question_1\\\\clean_dataset\\\\train\\\\Yellow_Bittern\\\\_JWO1463_cr.jpg'"
      ]
     },
     "execution_count": 9,
     "metadata": {},
     "output_type": "execute_result"
    },
    {
     "data": {
      "text/plain": [
       "'C:\\\\Users\\\\SengTian\\\\Downloads\\\\Temp\\\\Republic Polytechnic\\\\Assignment_ComputerVision\\\\TIPP_AAI_AAISD_CV\\\\Question_1\\\\clean_dataset\\\\train\\\\Yellow_Bittern\\\\_JWO1477_cr_cr.jpg'"
      ]
     },
     "execution_count": 9,
     "metadata": {},
     "output_type": "execute_result"
    },
    {
     "data": {
      "text/plain": [
       "'C:\\\\Users\\\\SengTian\\\\Downloads\\\\Temp\\\\Republic Polytechnic\\\\Assignment_ComputerVision\\\\TIPP_AAI_AAISD_CV\\\\Question_1\\\\clean_dataset\\\\train\\\\White-tailed_Sea_Eagle\\\\_JWO1482_cr.jpg'"
      ]
     },
     "execution_count": 9,
     "metadata": {},
     "output_type": "execute_result"
    },
    {
     "data": {
      "text/plain": [
       "'C:\\\\Users\\\\SengTian\\\\Downloads\\\\Temp\\\\Republic Polytechnic\\\\Assignment_ComputerVision\\\\TIPP_AAI_AAISD_CV\\\\Question_1\\\\clean_dataset\\\\train\\\\Yellow_Bittern\\\\_JWO1483_cr.jpg'"
      ]
     },
     "execution_count": 9,
     "metadata": {},
     "output_type": "execute_result"
    },
    {
     "data": {
      "text/plain": [
       "'C:\\\\Users\\\\SengTian\\\\Downloads\\\\Temp\\\\Republic Polytechnic\\\\Assignment_ComputerVision\\\\TIPP_AAI_AAISD_CV\\\\Question_1\\\\clean_dataset\\\\train\\\\Yellow_Bittern\\\\_JWO1484_cr.jpg'"
      ]
     },
     "execution_count": 9,
     "metadata": {},
     "output_type": "execute_result"
    },
    {
     "data": {
      "text/plain": [
       "'C:\\\\Users\\\\SengTian\\\\Downloads\\\\Temp\\\\Republic Polytechnic\\\\Assignment_ComputerVision\\\\TIPP_AAI_AAISD_CV\\\\Question_1\\\\clean_dataset\\\\train\\\\Yellow_Bittern\\\\_JWO1485_cr.jpg'"
      ]
     },
     "execution_count": 9,
     "metadata": {},
     "output_type": "execute_result"
    },
    {
     "data": {
      "text/plain": [
       "'C:\\\\Users\\\\SengTian\\\\Downloads\\\\Temp\\\\Republic Polytechnic\\\\Assignment_ComputerVision\\\\TIPP_AAI_AAISD_CV\\\\Question_1\\\\clean_dataset\\\\train\\\\Yellow_Bittern\\\\_JWO1486_cr.jpg'"
      ]
     },
     "execution_count": 9,
     "metadata": {},
     "output_type": "execute_result"
    },
    {
     "data": {
      "text/plain": [
       "'C:\\\\Users\\\\SengTian\\\\Downloads\\\\Temp\\\\Republic Polytechnic\\\\Assignment_ComputerVision\\\\TIPP_AAI_AAISD_CV\\\\Question_1\\\\clean_dataset\\\\train\\\\Yellow_Bittern\\\\_JWO1506_cr.jpg'"
      ]
     },
     "execution_count": 9,
     "metadata": {},
     "output_type": "execute_result"
    },
    {
     "data": {
      "text/plain": [
       "'C:\\\\Users\\\\SengTian\\\\Downloads\\\\Temp\\\\Republic Polytechnic\\\\Assignment_ComputerVision\\\\TIPP_AAI_AAISD_CV\\\\Question_1\\\\clean_dataset\\\\train\\\\Golden-backed_Weaver\\\\_JWO1545_cr.jpg'"
      ]
     },
     "execution_count": 9,
     "metadata": {},
     "output_type": "execute_result"
    },
    {
     "data": {
      "text/plain": [
       "'C:\\\\Users\\\\SengTian\\\\Downloads\\\\Temp\\\\Republic Polytechnic\\\\Assignment_ComputerVision\\\\TIPP_AAI_AAISD_CV\\\\Question_1\\\\clean_dataset\\\\train\\\\Yellow_Bittern\\\\_JWO1548_cr.jpg'"
      ]
     },
     "execution_count": 9,
     "metadata": {},
     "output_type": "execute_result"
    },
    {
     "data": {
      "text/plain": [
       "'C:\\\\Users\\\\SengTian\\\\Downloads\\\\Temp\\\\Republic Polytechnic\\\\Assignment_ComputerVision\\\\TIPP_AAI_AAISD_CV\\\\Question_1\\\\clean_dataset\\\\train\\\\Golden-backed_Weaver\\\\_JWO1589_cr.jpg'"
      ]
     },
     "execution_count": 9,
     "metadata": {},
     "output_type": "execute_result"
    },
    {
     "data": {
      "text/plain": [
       "'C:\\\\Users\\\\SengTian\\\\Downloads\\\\Temp\\\\Republic Polytechnic\\\\Assignment_ComputerVision\\\\TIPP_AAI_AAISD_CV\\\\Question_1\\\\clean_dataset\\\\train\\\\Olive-backed_Sunbird\\\\_JWO1604_cr.jpg'"
      ]
     },
     "execution_count": 9,
     "metadata": {},
     "output_type": "execute_result"
    },
    {
     "data": {
      "text/plain": [
       "'C:\\\\Users\\\\SengTian\\\\Downloads\\\\Temp\\\\Republic Polytechnic\\\\Assignment_ComputerVision\\\\TIPP_AAI_AAISD_CV\\\\Question_1\\\\clean_dataset\\\\train\\\\Golden-backed_Weaver\\\\_JWO1637_cr.jpg'"
      ]
     },
     "execution_count": 9,
     "metadata": {},
     "output_type": "execute_result"
    },
    {
     "data": {
      "text/plain": [
       "'C:\\\\Users\\\\SengTian\\\\Downloads\\\\Temp\\\\Republic Polytechnic\\\\Assignment_ComputerVision\\\\TIPP_AAI_AAISD_CV\\\\Question_1\\\\clean_dataset\\\\train\\\\Olive-backed_Sunbird\\\\_JWO1651_cr.jpg'"
      ]
     },
     "execution_count": 9,
     "metadata": {},
     "output_type": "execute_result"
    },
    {
     "data": {
      "text/plain": [
       "'C:\\\\Users\\\\SengTian\\\\Downloads\\\\Temp\\\\Republic Polytechnic\\\\Assignment_ComputerVision\\\\TIPP_AAI_AAISD_CV\\\\Question_1\\\\clean_dataset\\\\train\\\\Olive-backed_Sunbird\\\\_JWO1682_cr.jpg'"
      ]
     },
     "execution_count": 9,
     "metadata": {},
     "output_type": "execute_result"
    },
    {
     "data": {
      "text/plain": [
       "'C:\\\\Users\\\\SengTian\\\\Downloads\\\\Temp\\\\Republic Polytechnic\\\\Assignment_ComputerVision\\\\TIPP_AAI_AAISD_CV\\\\Question_1\\\\clean_dataset\\\\train\\\\Olive-backed_Sunbird\\\\_JWO1696_cr.jpg'"
      ]
     },
     "execution_count": 9,
     "metadata": {},
     "output_type": "execute_result"
    },
    {
     "data": {
      "text/plain": [
       "'C:\\\\Users\\\\SengTian\\\\Downloads\\\\Temp\\\\Republic Polytechnic\\\\Assignment_ComputerVision\\\\TIPP_AAI_AAISD_CV\\\\Question_1\\\\clean_dataset\\\\train\\\\Olive-backed_Sunbird\\\\_JWO1705_cr.jpg'"
      ]
     },
     "execution_count": 9,
     "metadata": {},
     "output_type": "execute_result"
    },
    {
     "data": {
      "text/plain": [
       "'C:\\\\Users\\\\SengTian\\\\Downloads\\\\Temp\\\\Republic Polytechnic\\\\Assignment_ComputerVision\\\\TIPP_AAI_AAISD_CV\\\\Question_1\\\\clean_dataset\\\\train\\\\Olive-backed_Sunbird\\\\_JWO1711_cr.jpg'"
      ]
     },
     "execution_count": 9,
     "metadata": {},
     "output_type": "execute_result"
    },
    {
     "data": {
      "text/plain": [
       "'C:\\\\Users\\\\SengTian\\\\Downloads\\\\Temp\\\\Republic Polytechnic\\\\Assignment_ComputerVision\\\\TIPP_AAI_AAISD_CV\\\\Question_1\\\\clean_dataset\\\\train\\\\Olive-backed_Sunbird\\\\_JWO1734_cr.jpg'"
      ]
     },
     "execution_count": 9,
     "metadata": {},
     "output_type": "execute_result"
    },
    {
     "data": {
      "text/plain": [
       "'C:\\\\Users\\\\SengTian\\\\Downloads\\\\Temp\\\\Republic Polytechnic\\\\Assignment_ComputerVision\\\\TIPP_AAI_AAISD_CV\\\\Question_1\\\\clean_dataset\\\\train\\\\Olive-backed_Sunbird\\\\_JWO1737_cr.jpg'"
      ]
     },
     "execution_count": 9,
     "metadata": {},
     "output_type": "execute_result"
    },
    {
     "data": {
      "text/plain": [
       "'C:\\\\Users\\\\SengTian\\\\Downloads\\\\Temp\\\\Republic Polytechnic\\\\Assignment_ComputerVision\\\\TIPP_AAI_AAISD_CV\\\\Question_1\\\\clean_dataset\\\\train\\\\Lesser_Whistling_Duck\\\\_JWO1745_cr.jpg'"
      ]
     },
     "execution_count": 9,
     "metadata": {},
     "output_type": "execute_result"
    },
    {
     "data": {
      "text/plain": [
       "'C:\\\\Users\\\\SengTian\\\\Downloads\\\\Temp\\\\Republic Polytechnic\\\\Assignment_ComputerVision\\\\TIPP_AAI_AAISD_CV\\\\Question_1\\\\clean_dataset\\\\train\\\\Olive-backed_Sunbird\\\\_JWO1747_cr.jpg'"
      ]
     },
     "execution_count": 9,
     "metadata": {},
     "output_type": "execute_result"
    },
    {
     "data": {
      "text/plain": [
       "'C:\\\\Users\\\\SengTian\\\\Downloads\\\\Temp\\\\Republic Polytechnic\\\\Assignment_ComputerVision\\\\TIPP_AAI_AAISD_CV\\\\Question_1\\\\clean_dataset\\\\train\\\\Olive-backed_Sunbird\\\\_JWO1789_cr.jpg'"
      ]
     },
     "execution_count": 9,
     "metadata": {},
     "output_type": "execute_result"
    },
    {
     "data": {
      "text/plain": [
       "'C:\\\\Users\\\\SengTian\\\\Downloads\\\\Temp\\\\Republic Polytechnic\\\\Assignment_ComputerVision\\\\TIPP_AAI_AAISD_CV\\\\Question_1\\\\clean_dataset\\\\train\\\\Olive-backed_Sunbird\\\\_JWO1818_cr.jpg'"
      ]
     },
     "execution_count": 9,
     "metadata": {},
     "output_type": "execute_result"
    },
    {
     "data": {
      "text/plain": [
       "'C:\\\\Users\\\\SengTian\\\\Downloads\\\\Temp\\\\Republic Polytechnic\\\\Assignment_ComputerVision\\\\TIPP_AAI_AAISD_CV\\\\Question_1\\\\clean_dataset\\\\train\\\\Malayan_Pied_Fantail\\\\_JWO1841_cr.jpg'"
      ]
     },
     "execution_count": 9,
     "metadata": {},
     "output_type": "execute_result"
    },
    {
     "data": {
      "text/plain": [
       "'C:\\\\Users\\\\SengTian\\\\Downloads\\\\Temp\\\\Republic Polytechnic\\\\Assignment_ComputerVision\\\\TIPP_AAI_AAISD_CV\\\\Question_1\\\\clean_dataset\\\\train\\\\Lesser_Whistling_Duck\\\\_JWO1848_cr.jpg'"
      ]
     },
     "execution_count": 9,
     "metadata": {},
     "output_type": "execute_result"
    },
    {
     "data": {
      "text/plain": [
       "'C:\\\\Users\\\\SengTian\\\\Downloads\\\\Temp\\\\Republic Polytechnic\\\\Assignment_ComputerVision\\\\TIPP_AAI_AAISD_CV\\\\Question_1\\\\clean_dataset\\\\train\\\\Malayan_Pied_Fantail\\\\_JWO1853_cr.jpg'"
      ]
     },
     "execution_count": 9,
     "metadata": {},
     "output_type": "execute_result"
    },
    {
     "data": {
      "text/plain": [
       "'C:\\\\Users\\\\SengTian\\\\Downloads\\\\Temp\\\\Republic Polytechnic\\\\Assignment_ComputerVision\\\\TIPP_AAI_AAISD_CV\\\\Question_1\\\\clean_dataset\\\\train\\\\Lesser_Whistling_Duck\\\\_JWO1857_cr.jpg'"
      ]
     },
     "execution_count": 9,
     "metadata": {},
     "output_type": "execute_result"
    },
    {
     "data": {
      "text/plain": [
       "'C:\\\\Users\\\\SengTian\\\\Downloads\\\\Temp\\\\Republic Polytechnic\\\\Assignment_ComputerVision\\\\TIPP_AAI_AAISD_CV\\\\Question_1\\\\clean_dataset\\\\train\\\\White-tailed_Sea_Eagle\\\\_JWO1858_cr.jpg'"
      ]
     },
     "execution_count": 9,
     "metadata": {},
     "output_type": "execute_result"
    },
    {
     "data": {
      "text/plain": [
       "'C:\\\\Users\\\\SengTian\\\\Downloads\\\\Temp\\\\Republic Polytechnic\\\\Assignment_ComputerVision\\\\TIPP_AAI_AAISD_CV\\\\Question_1\\\\clean_dataset\\\\train\\\\White-tailed_Sea_Eagle\\\\_JWO1862_cr.jpg'"
      ]
     },
     "execution_count": 9,
     "metadata": {},
     "output_type": "execute_result"
    },
    {
     "data": {
      "text/plain": [
       "'C:\\\\Users\\\\SengTian\\\\Downloads\\\\Temp\\\\Republic Polytechnic\\\\Assignment_ComputerVision\\\\TIPP_AAI_AAISD_CV\\\\Question_1\\\\clean_dataset\\\\train\\\\White-tailed_Sea_Eagle\\\\_JWO1871_cr.jpg'"
      ]
     },
     "execution_count": 9,
     "metadata": {},
     "output_type": "execute_result"
    },
    {
     "data": {
      "text/plain": [
       "'C:\\\\Users\\\\SengTian\\\\Downloads\\\\Temp\\\\Republic Polytechnic\\\\Assignment_ComputerVision\\\\TIPP_AAI_AAISD_CV\\\\Question_1\\\\clean_dataset\\\\train\\\\Lesser_Whistling_Duck\\\\_JWO1871a_cr.jpg'"
      ]
     },
     "execution_count": 9,
     "metadata": {},
     "output_type": "execute_result"
    },
    {
     "data": {
      "text/plain": [
       "'C:\\\\Users\\\\SengTian\\\\Downloads\\\\Temp\\\\Republic Polytechnic\\\\Assignment_ComputerVision\\\\TIPP_AAI_AAISD_CV\\\\Question_1\\\\clean_dataset\\\\train\\\\Lesser_Whistling_Duck\\\\_JWO1876_cr.jpg'"
      ]
     },
     "execution_count": 9,
     "metadata": {},
     "output_type": "execute_result"
    },
    {
     "data": {
      "text/plain": [
       "'C:\\\\Users\\\\SengTian\\\\Downloads\\\\Temp\\\\Republic Polytechnic\\\\Assignment_ComputerVision\\\\TIPP_AAI_AAISD_CV\\\\Question_1\\\\clean_dataset\\\\train\\\\Malayan_Pied_Fantail\\\\_JWO1891_cr.jpg'"
      ]
     },
     "execution_count": 9,
     "metadata": {},
     "output_type": "execute_result"
    },
    {
     "data": {
      "text/plain": [
       "'C:\\\\Users\\\\SengTian\\\\Downloads\\\\Temp\\\\Republic Polytechnic\\\\Assignment_ComputerVision\\\\TIPP_AAI_AAISD_CV\\\\Question_1\\\\clean_dataset\\\\train\\\\Lesser_Whistling_Duck\\\\_JWO1901_cr.jpg'"
      ]
     },
     "execution_count": 9,
     "metadata": {},
     "output_type": "execute_result"
    },
    {
     "data": {
      "text/plain": [
       "'C:\\\\Users\\\\SengTian\\\\Downloads\\\\Temp\\\\Republic Polytechnic\\\\Assignment_ComputerVision\\\\TIPP_AAI_AAISD_CV\\\\Question_1\\\\clean_dataset\\\\train\\\\Zitting_Cisticola\\\\_JWO1902_cr.jpg'"
      ]
     },
     "execution_count": 9,
     "metadata": {},
     "output_type": "execute_result"
    },
    {
     "data": {
      "text/plain": [
       "'C:\\\\Users\\\\SengTian\\\\Downloads\\\\Temp\\\\Republic Polytechnic\\\\Assignment_ComputerVision\\\\TIPP_AAI_AAISD_CV\\\\Question_1\\\\clean_dataset\\\\train\\\\Malayan_Pied_Fantail\\\\_JWO1922_cr.jpg'"
      ]
     },
     "execution_count": 9,
     "metadata": {},
     "output_type": "execute_result"
    },
    {
     "data": {
      "text/plain": [
       "'C:\\\\Users\\\\SengTian\\\\Downloads\\\\Temp\\\\Republic Polytechnic\\\\Assignment_ComputerVision\\\\TIPP_AAI_AAISD_CV\\\\Question_1\\\\clean_dataset\\\\train\\\\Zitting_Cisticola\\\\_JWO1929_cr.jpg'"
      ]
     },
     "execution_count": 9,
     "metadata": {},
     "output_type": "execute_result"
    },
    {
     "data": {
      "text/plain": [
       "'C:\\\\Users\\\\SengTian\\\\Downloads\\\\Temp\\\\Republic Polytechnic\\\\Assignment_ComputerVision\\\\TIPP_AAI_AAISD_CV\\\\Question_1\\\\clean_dataset\\\\train\\\\Zitting_Cisticola\\\\_JWO1934_cr.jpg'"
      ]
     },
     "execution_count": 9,
     "metadata": {},
     "output_type": "execute_result"
    },
    {
     "data": {
      "text/plain": [
       "'C:\\\\Users\\\\SengTian\\\\Downloads\\\\Temp\\\\Republic Polytechnic\\\\Assignment_ComputerVision\\\\TIPP_AAI_AAISD_CV\\\\Question_1\\\\clean_dataset\\\\train\\\\Malayan_Pied_Fantail\\\\_JWO1950_cr.jpg'"
      ]
     },
     "execution_count": 9,
     "metadata": {},
     "output_type": "execute_result"
    },
    {
     "data": {
      "text/plain": [
       "'C:\\\\Users\\\\SengTian\\\\Downloads\\\\Temp\\\\Republic Polytechnic\\\\Assignment_ComputerVision\\\\TIPP_AAI_AAISD_CV\\\\Question_1\\\\clean_dataset\\\\train\\\\Zitting_Cisticola\\\\_JWO1953_cr.jpg'"
      ]
     },
     "execution_count": 9,
     "metadata": {},
     "output_type": "execute_result"
    },
    {
     "data": {
      "text/plain": [
       "'C:\\\\Users\\\\SengTian\\\\Downloads\\\\Temp\\\\Republic Polytechnic\\\\Assignment_ComputerVision\\\\TIPP_AAI_AAISD_CV\\\\Question_1\\\\clean_dataset\\\\train\\\\Zitting_Cisticola\\\\_JWO1959_cr.jpg'"
      ]
     },
     "execution_count": 9,
     "metadata": {},
     "output_type": "execute_result"
    },
    {
     "data": {
      "text/plain": [
       "'C:\\\\Users\\\\SengTian\\\\Downloads\\\\Temp\\\\Republic Polytechnic\\\\Assignment_ComputerVision\\\\TIPP_AAI_AAISD_CV\\\\Question_1\\\\clean_dataset\\\\train\\\\Malayan_Pied_Fantail\\\\_JWO1960_cr.jpg'"
      ]
     },
     "execution_count": 9,
     "metadata": {},
     "output_type": "execute_result"
    },
    {
     "data": {
      "text/plain": [
       "'C:\\\\Users\\\\SengTian\\\\Downloads\\\\Temp\\\\Republic Polytechnic\\\\Assignment_ComputerVision\\\\TIPP_AAI_AAISD_CV\\\\Question_1\\\\clean_dataset\\\\train\\\\Zitting_Cisticola\\\\_JWO1962_cr.jpg'"
      ]
     },
     "execution_count": 9,
     "metadata": {},
     "output_type": "execute_result"
    },
    {
     "data": {
      "text/plain": [
       "'C:\\\\Users\\\\SengTian\\\\Downloads\\\\Temp\\\\Republic Polytechnic\\\\Assignment_ComputerVision\\\\TIPP_AAI_AAISD_CV\\\\Question_1\\\\clean_dataset\\\\train\\\\Lesser_Whistling_Duck\\\\_JWO1964_cr.jpg'"
      ]
     },
     "execution_count": 9,
     "metadata": {},
     "output_type": "execute_result"
    },
    {
     "data": {
      "text/plain": [
       "'C:\\\\Users\\\\SengTian\\\\Downloads\\\\Temp\\\\Republic Polytechnic\\\\Assignment_ComputerVision\\\\TIPP_AAI_AAISD_CV\\\\Question_1\\\\clean_dataset\\\\train\\\\Lesser_Whistling_Duck\\\\_JWO1967_cr.jpg'"
      ]
     },
     "execution_count": 9,
     "metadata": {},
     "output_type": "execute_result"
    },
    {
     "data": {
      "text/plain": [
       "'C:\\\\Users\\\\SengTian\\\\Downloads\\\\Temp\\\\Republic Polytechnic\\\\Assignment_ComputerVision\\\\TIPP_AAI_AAISD_CV\\\\Question_1\\\\clean_dataset\\\\train\\\\Malayan_Pied_Fantail\\\\_JWO1970_cr.jpg'"
      ]
     },
     "execution_count": 9,
     "metadata": {},
     "output_type": "execute_result"
    },
    {
     "data": {
      "text/plain": [
       "'C:\\\\Users\\\\SengTian\\\\Downloads\\\\Temp\\\\Republic Polytechnic\\\\Assignment_ComputerVision\\\\TIPP_AAI_AAISD_CV\\\\Question_1\\\\clean_dataset\\\\train\\\\Malayan_Pied_Fantail\\\\_JWO1976_cr.jpg'"
      ]
     },
     "execution_count": 9,
     "metadata": {},
     "output_type": "execute_result"
    },
    {
     "data": {
      "text/plain": [
       "'C:\\\\Users\\\\SengTian\\\\Downloads\\\\Temp\\\\Republic Polytechnic\\\\Assignment_ComputerVision\\\\TIPP_AAI_AAISD_CV\\\\Question_1\\\\clean_dataset\\\\train\\\\Lesser_Whistling_Duck\\\\_JWO1977_cr.jpg'"
      ]
     },
     "execution_count": 9,
     "metadata": {},
     "output_type": "execute_result"
    },
    {
     "data": {
      "text/plain": [
       "'C:\\\\Users\\\\SengTian\\\\Downloads\\\\Temp\\\\Republic Polytechnic\\\\Assignment_ComputerVision\\\\TIPP_AAI_AAISD_CV\\\\Question_1\\\\clean_dataset\\\\train\\\\Lesser_Whistling_Duck\\\\_JWO1981_cr.jpg'"
      ]
     },
     "execution_count": 9,
     "metadata": {},
     "output_type": "execute_result"
    },
    {
     "data": {
      "text/plain": [
       "'C:\\\\Users\\\\SengTian\\\\Downloads\\\\Temp\\\\Republic Polytechnic\\\\Assignment_ComputerVision\\\\TIPP_AAI_AAISD_CV\\\\Question_1\\\\clean_dataset\\\\train\\\\Lesser_Whistling_Duck\\\\_JWO1981a_cr.jpg'"
      ]
     },
     "execution_count": 9,
     "metadata": {},
     "output_type": "execute_result"
    },
    {
     "data": {
      "text/plain": [
       "'C:\\\\Users\\\\SengTian\\\\Downloads\\\\Temp\\\\Republic Polytechnic\\\\Assignment_ComputerVision\\\\TIPP_AAI_AAISD_CV\\\\Question_1\\\\clean_dataset\\\\train\\\\Zitting_Cisticola\\\\_JWO1988_cr.jpg'"
      ]
     },
     "execution_count": 9,
     "metadata": {},
     "output_type": "execute_result"
    },
    {
     "data": {
      "text/plain": [
       "'C:\\\\Users\\\\SengTian\\\\Downloads\\\\Temp\\\\Republic Polytechnic\\\\Assignment_ComputerVision\\\\TIPP_AAI_AAISD_CV\\\\Question_1\\\\clean_dataset\\\\train\\\\Lesser_Whistling_Duck\\\\_JWO2004_cr.jpg'"
      ]
     },
     "execution_count": 9,
     "metadata": {},
     "output_type": "execute_result"
    },
    {
     "data": {
      "text/plain": [
       "'C:\\\\Users\\\\SengTian\\\\Downloads\\\\Temp\\\\Republic Polytechnic\\\\Assignment_ComputerVision\\\\TIPP_AAI_AAISD_CV\\\\Question_1\\\\clean_dataset\\\\train\\\\White-winged_Tern\\\\_JWO2023_cr.jpg'"
      ]
     },
     "execution_count": 9,
     "metadata": {},
     "output_type": "execute_result"
    },
    {
     "data": {
      "text/plain": [
       "'C:\\\\Users\\\\SengTian\\\\Downloads\\\\Temp\\\\Republic Polytechnic\\\\Assignment_ComputerVision\\\\TIPP_AAI_AAISD_CV\\\\Question_1\\\\clean_dataset\\\\train\\\\White-winged_Tern\\\\_JWO2024_cr.jpg'"
      ]
     },
     "execution_count": 9,
     "metadata": {},
     "output_type": "execute_result"
    },
    {
     "data": {
      "text/plain": [
       "'C:\\\\Users\\\\SengTian\\\\Downloads\\\\Temp\\\\Republic Polytechnic\\\\Assignment_ComputerVision\\\\TIPP_AAI_AAISD_CV\\\\Question_1\\\\clean_dataset\\\\train\\\\White-winged_Tern\\\\_JWO2025_cr.jpg'"
      ]
     },
     "execution_count": 9,
     "metadata": {},
     "output_type": "execute_result"
    },
    {
     "data": {
      "text/plain": [
       "'C:\\\\Users\\\\SengTian\\\\Downloads\\\\Temp\\\\Republic Polytechnic\\\\Assignment_ComputerVision\\\\TIPP_AAI_AAISD_CV\\\\Question_1\\\\clean_dataset\\\\train\\\\White-tailed_Sea_Eagle\\\\_JWO2026a_cr.jpg'"
      ]
     },
     "execution_count": 9,
     "metadata": {},
     "output_type": "execute_result"
    },
    {
     "data": {
      "text/plain": [
       "'C:\\\\Users\\\\SengTian\\\\Downloads\\\\Temp\\\\Republic Polytechnic\\\\Assignment_ComputerVision\\\\TIPP_AAI_AAISD_CV\\\\Question_1\\\\clean_dataset\\\\train\\\\White-winged_Tern\\\\_JWO2026_cr.jpg'"
      ]
     },
     "execution_count": 9,
     "metadata": {},
     "output_type": "execute_result"
    },
    {
     "data": {
      "text/plain": [
       "'C:\\\\Users\\\\SengTian\\\\Downloads\\\\Temp\\\\Republic Polytechnic\\\\Assignment_ComputerVision\\\\TIPP_AAI_AAISD_CV\\\\Question_1\\\\clean_dataset\\\\train\\\\White-winged_Tern\\\\_JWO2027_cr.jpg'"
      ]
     },
     "execution_count": 9,
     "metadata": {},
     "output_type": "execute_result"
    },
    {
     "data": {
      "text/plain": [
       "'C:\\\\Users\\\\SengTian\\\\Downloads\\\\Temp\\\\Republic Polytechnic\\\\Assignment_ComputerVision\\\\TIPP_AAI_AAISD_CV\\\\Question_1\\\\clean_dataset\\\\train\\\\White-winged_Tern\\\\_JWO2028_cr.jpg'"
      ]
     },
     "execution_count": 9,
     "metadata": {},
     "output_type": "execute_result"
    },
    {
     "data": {
      "text/plain": [
       "'C:\\\\Users\\\\SengTian\\\\Downloads\\\\Temp\\\\Republic Polytechnic\\\\Assignment_ComputerVision\\\\TIPP_AAI_AAISD_CV\\\\Question_1\\\\clean_dataset\\\\train\\\\White-winged_Tern\\\\_JWO2029_cr.jpg'"
      ]
     },
     "execution_count": 9,
     "metadata": {},
     "output_type": "execute_result"
    },
    {
     "data": {
      "text/plain": [
       "'C:\\\\Users\\\\SengTian\\\\Downloads\\\\Temp\\\\Republic Polytechnic\\\\Assignment_ComputerVision\\\\TIPP_AAI_AAISD_CV\\\\Question_1\\\\clean_dataset\\\\train\\\\White-tailed_Sea_Eagle\\\\_JWO2029a_cr.jpg'"
      ]
     },
     "execution_count": 9,
     "metadata": {},
     "output_type": "execute_result"
    },
    {
     "data": {
      "text/plain": [
       "'C:\\\\Users\\\\SengTian\\\\Downloads\\\\Temp\\\\Republic Polytechnic\\\\Assignment_ComputerVision\\\\TIPP_AAI_AAISD_CV\\\\Question_1\\\\clean_dataset\\\\train\\\\White-winged_Tern\\\\_JWO2030_cr.jpg'"
      ]
     },
     "execution_count": 9,
     "metadata": {},
     "output_type": "execute_result"
    },
    {
     "data": {
      "text/plain": [
       "'C:\\\\Users\\\\SengTian\\\\Downloads\\\\Temp\\\\Republic Polytechnic\\\\Assignment_ComputerVision\\\\TIPP_AAI_AAISD_CV\\\\Question_1\\\\clean_dataset\\\\train\\\\White-winged_Tern\\\\_JWO2031_cr.jpg'"
      ]
     },
     "execution_count": 9,
     "metadata": {},
     "output_type": "execute_result"
    },
    {
     "data": {
      "text/plain": [
       "'C:\\\\Users\\\\SengTian\\\\Downloads\\\\Temp\\\\Republic Polytechnic\\\\Assignment_ComputerVision\\\\TIPP_AAI_AAISD_CV\\\\Question_1\\\\clean_dataset\\\\train\\\\White-winged_Tern\\\\_JWO2032_cr.jpg'"
      ]
     },
     "execution_count": 9,
     "metadata": {},
     "output_type": "execute_result"
    },
    {
     "data": {
      "text/plain": [
       "'C:\\\\Users\\\\SengTian\\\\Downloads\\\\Temp\\\\Republic Polytechnic\\\\Assignment_ComputerVision\\\\TIPP_AAI_AAISD_CV\\\\Question_1\\\\clean_dataset\\\\train\\\\White-winged_Tern\\\\_JWO2033_cr.jpg'"
      ]
     },
     "execution_count": 9,
     "metadata": {},
     "output_type": "execute_result"
    },
    {
     "data": {
      "text/plain": [
       "'C:\\\\Users\\\\SengTian\\\\Downloads\\\\Temp\\\\Republic Polytechnic\\\\Assignment_ComputerVision\\\\TIPP_AAI_AAISD_CV\\\\Question_1\\\\clean_dataset\\\\train\\\\White-winged_Tern\\\\_JWO2034_cr.jpg'"
      ]
     },
     "execution_count": 9,
     "metadata": {},
     "output_type": "execute_result"
    },
    {
     "data": {
      "text/plain": [
       "'C:\\\\Users\\\\SengTian\\\\Downloads\\\\Temp\\\\Republic Polytechnic\\\\Assignment_ComputerVision\\\\TIPP_AAI_AAISD_CV\\\\Question_1\\\\clean_dataset\\\\train\\\\White-winged_Tern\\\\_JWO2035_cr.jpg'"
      ]
     },
     "execution_count": 9,
     "metadata": {},
     "output_type": "execute_result"
    },
    {
     "data": {
      "text/plain": [
       "'C:\\\\Users\\\\SengTian\\\\Downloads\\\\Temp\\\\Republic Polytechnic\\\\Assignment_ComputerVision\\\\TIPP_AAI_AAISD_CV\\\\Question_1\\\\clean_dataset\\\\train\\\\Zitting_Cisticola\\\\_JWO2035a_cr.jpg'"
      ]
     },
     "execution_count": 9,
     "metadata": {},
     "output_type": "execute_result"
    },
    {
     "data": {
      "text/plain": [
       "'C:\\\\Users\\\\SengTian\\\\Downloads\\\\Temp\\\\Republic Polytechnic\\\\Assignment_ComputerVision\\\\TIPP_AAI_AAISD_CV\\\\Question_1\\\\clean_dataset\\\\train\\\\Lesser_Whistling_Duck\\\\_JWO2036b_cr.jpg'"
      ]
     },
     "execution_count": 9,
     "metadata": {},
     "output_type": "execute_result"
    },
    {
     "data": {
      "text/plain": [
       "'C:\\\\Users\\\\SengTian\\\\Downloads\\\\Temp\\\\Republic Polytechnic\\\\Assignment_ComputerVision\\\\TIPP_AAI_AAISD_CV\\\\Question_1\\\\clean_dataset\\\\train\\\\White-winged_Tern\\\\_JWO2036_cr.jpg'"
      ]
     },
     "execution_count": 9,
     "metadata": {},
     "output_type": "execute_result"
    },
    {
     "data": {
      "text/plain": [
       "'C:\\\\Users\\\\SengTian\\\\Downloads\\\\Temp\\\\Republic Polytechnic\\\\Assignment_ComputerVision\\\\TIPP_AAI_AAISD_CV\\\\Question_1\\\\clean_dataset\\\\train\\\\Zitting_Cisticola\\\\_JWO2036a_cr.jpg'"
      ]
     },
     "execution_count": 9,
     "metadata": {},
     "output_type": "execute_result"
    },
    {
     "data": {
      "text/plain": [
       "'C:\\\\Users\\\\SengTian\\\\Downloads\\\\Temp\\\\Republic Polytechnic\\\\Assignment_ComputerVision\\\\TIPP_AAI_AAISD_CV\\\\Question_1\\\\clean_dataset\\\\train\\\\White-winged_Tern\\\\_JWO2037_cr.jpg'"
      ]
     },
     "execution_count": 9,
     "metadata": {},
     "output_type": "execute_result"
    },
    {
     "data": {
      "text/plain": [
       "'C:\\\\Users\\\\SengTian\\\\Downloads\\\\Temp\\\\Republic Polytechnic\\\\Assignment_ComputerVision\\\\TIPP_AAI_AAISD_CV\\\\Question_1\\\\clean_dataset\\\\train\\\\White-winged_Tern\\\\_JWO2039_cr.jpg'"
      ]
     },
     "execution_count": 9,
     "metadata": {},
     "output_type": "execute_result"
    },
    {
     "data": {
      "text/plain": [
       "'C:\\\\Users\\\\SengTian\\\\Downloads\\\\Temp\\\\Republic Polytechnic\\\\Assignment_ComputerVision\\\\TIPP_AAI_AAISD_CV\\\\Question_1\\\\clean_dataset\\\\train\\\\Zitting_Cisticola\\\\_JWO2047_cr.jpg'"
      ]
     },
     "execution_count": 9,
     "metadata": {},
     "output_type": "execute_result"
    },
    {
     "data": {
      "text/plain": [
       "'C:\\\\Users\\\\SengTian\\\\Downloads\\\\Temp\\\\Republic Polytechnic\\\\Assignment_ComputerVision\\\\TIPP_AAI_AAISD_CV\\\\Question_1\\\\clean_dataset\\\\train\\\\Zitting_Cisticola\\\\_JWO2048_cr.jpg'"
      ]
     },
     "execution_count": 9,
     "metadata": {},
     "output_type": "execute_result"
    },
    {
     "data": {
      "text/plain": [
       "'C:\\\\Users\\\\SengTian\\\\Downloads\\\\Temp\\\\Republic Polytechnic\\\\Assignment_ComputerVision\\\\TIPP_AAI_AAISD_CV\\\\Question_1\\\\clean_dataset\\\\train\\\\Zitting_Cisticola\\\\_JWO2058_cr.jpg'"
      ]
     },
     "execution_count": 9,
     "metadata": {},
     "output_type": "execute_result"
    },
    {
     "data": {
      "text/plain": [
       "'C:\\\\Users\\\\SengTian\\\\Downloads\\\\Temp\\\\Republic Polytechnic\\\\Assignment_ComputerVision\\\\TIPP_AAI_AAISD_CV\\\\Question_1\\\\clean_dataset\\\\train\\\\Zitting_Cisticola\\\\_JWO2059_cr.jpg'"
      ]
     },
     "execution_count": 9,
     "metadata": {},
     "output_type": "execute_result"
    },
    {
     "data": {
      "text/plain": [
       "'C:\\\\Users\\\\SengTian\\\\Downloads\\\\Temp\\\\Republic Polytechnic\\\\Assignment_ComputerVision\\\\TIPP_AAI_AAISD_CV\\\\Question_1\\\\clean_dataset\\\\train\\\\Zitting_Cisticola\\\\_JWO2060_cr.jpg'"
      ]
     },
     "execution_count": 9,
     "metadata": {},
     "output_type": "execute_result"
    },
    {
     "data": {
      "text/plain": [
       "'C:\\\\Users\\\\SengTian\\\\Downloads\\\\Temp\\\\Republic Polytechnic\\\\Assignment_ComputerVision\\\\TIPP_AAI_AAISD_CV\\\\Question_1\\\\clean_dataset\\\\train\\\\Zitting_Cisticola\\\\_JWO2074_cr.jpg'"
      ]
     },
     "execution_count": 9,
     "metadata": {},
     "output_type": "execute_result"
    },
    {
     "data": {
      "text/plain": [
       "'C:\\\\Users\\\\SengTian\\\\Downloads\\\\Temp\\\\Republic Polytechnic\\\\Assignment_ComputerVision\\\\TIPP_AAI_AAISD_CV\\\\Question_1\\\\clean_dataset\\\\train\\\\Zitting_Cisticola\\\\_JWO2078_cr.jpg'"
      ]
     },
     "execution_count": 9,
     "metadata": {},
     "output_type": "execute_result"
    },
    {
     "data": {
      "text/plain": [
       "'C:\\\\Users\\\\SengTian\\\\Downloads\\\\Temp\\\\Republic Polytechnic\\\\Assignment_ComputerVision\\\\TIPP_AAI_AAISD_CV\\\\Question_1\\\\clean_dataset\\\\train\\\\Zitting_Cisticola\\\\_JWO2079_cr.jpg'"
      ]
     },
     "execution_count": 9,
     "metadata": {},
     "output_type": "execute_result"
    },
    {
     "data": {
      "text/plain": [
       "'C:\\\\Users\\\\SengTian\\\\Downloads\\\\Temp\\\\Republic Polytechnic\\\\Assignment_ComputerVision\\\\TIPP_AAI_AAISD_CV\\\\Question_1\\\\clean_dataset\\\\train\\\\Zitting_Cisticola\\\\_JWO2091_cr.jpg'"
      ]
     },
     "execution_count": 9,
     "metadata": {},
     "output_type": "execute_result"
    },
    {
     "data": {
      "text/plain": [
       "'C:\\\\Users\\\\SengTian\\\\Downloads\\\\Temp\\\\Republic Polytechnic\\\\Assignment_ComputerVision\\\\TIPP_AAI_AAISD_CV\\\\Question_1\\\\clean_dataset\\\\train\\\\Zitting_Cisticola\\\\_JWO2094_cr.jpg'"
      ]
     },
     "execution_count": 9,
     "metadata": {},
     "output_type": "execute_result"
    },
    {
     "data": {
      "text/plain": [
       "'C:\\\\Users\\\\SengTian\\\\Downloads\\\\Temp\\\\Republic Polytechnic\\\\Assignment_ComputerVision\\\\TIPP_AAI_AAISD_CV\\\\Question_1\\\\clean_dataset\\\\train\\\\Zitting_Cisticola\\\\_JWO2099_cr.jpg'"
      ]
     },
     "execution_count": 9,
     "metadata": {},
     "output_type": "execute_result"
    },
    {
     "data": {
      "text/plain": [
       "'C:\\\\Users\\\\SengTian\\\\Downloads\\\\Temp\\\\Republic Polytechnic\\\\Assignment_ComputerVision\\\\TIPP_AAI_AAISD_CV\\\\Question_1\\\\clean_dataset\\\\train\\\\Lesser_Whistling_Duck\\\\_JWO2117_1_cr.jpg'"
      ]
     },
     "execution_count": 9,
     "metadata": {},
     "output_type": "execute_result"
    },
    {
     "data": {
      "text/plain": [
       "'C:\\\\Users\\\\SengTian\\\\Downloads\\\\Temp\\\\Republic Polytechnic\\\\Assignment_ComputerVision\\\\TIPP_AAI_AAISD_CV\\\\Question_1\\\\clean_dataset\\\\train\\\\Lesser_Whistling_Duck\\\\_JWO2117_cr.jpg'"
      ]
     },
     "execution_count": 9,
     "metadata": {},
     "output_type": "execute_result"
    },
    {
     "data": {
      "text/plain": [
       "'C:\\\\Users\\\\SengTian\\\\Downloads\\\\Temp\\\\Republic Polytechnic\\\\Assignment_ComputerVision\\\\TIPP_AAI_AAISD_CV\\\\Question_1\\\\clean_dataset\\\\train\\\\Stellar_Sea_Eagle\\\\_JWO2126_cr.jpg'"
      ]
     },
     "execution_count": 9,
     "metadata": {},
     "output_type": "execute_result"
    },
    {
     "data": {
      "text/plain": [
       "'C:\\\\Users\\\\SengTian\\\\Downloads\\\\Temp\\\\Republic Polytechnic\\\\Assignment_ComputerVision\\\\TIPP_AAI_AAISD_CV\\\\Question_1\\\\clean_dataset\\\\train\\\\Stellar_Sea_Eagle\\\\_JWO2127_cr.jpg'"
      ]
     },
     "execution_count": 9,
     "metadata": {},
     "output_type": "execute_result"
    },
    {
     "data": {
      "text/plain": [
       "'C:\\\\Users\\\\SengTian\\\\Downloads\\\\Temp\\\\Republic Polytechnic\\\\Assignment_ComputerVision\\\\TIPP_AAI_AAISD_CV\\\\Question_1\\\\clean_dataset\\\\train\\\\Slaty-breasted_Rail\\\\_JWO2133_cr.jpg'"
      ]
     },
     "execution_count": 9,
     "metadata": {},
     "output_type": "execute_result"
    },
    {
     "data": {
      "text/plain": [
       "'C:\\\\Users\\\\SengTian\\\\Downloads\\\\Temp\\\\Republic Polytechnic\\\\Assignment_ComputerVision\\\\TIPP_AAI_AAISD_CV\\\\Question_1\\\\clean_dataset\\\\train\\\\Slaty-breasted_Rail\\\\_JWO2141_cr.jpg'"
      ]
     },
     "execution_count": 9,
     "metadata": {},
     "output_type": "execute_result"
    },
    {
     "data": {
      "text/plain": [
       "'C:\\\\Users\\\\SengTian\\\\Downloads\\\\Temp\\\\Republic Polytechnic\\\\Assignment_ComputerVision\\\\TIPP_AAI_AAISD_CV\\\\Question_1\\\\clean_dataset\\\\train\\\\Lesser_Whistling_Duck\\\\_JWO2144_cr.jpg'"
      ]
     },
     "execution_count": 9,
     "metadata": {},
     "output_type": "execute_result"
    },
    {
     "data": {
      "text/plain": [
       "'C:\\\\Users\\\\SengTian\\\\Downloads\\\\Temp\\\\Republic Polytechnic\\\\Assignment_ComputerVision\\\\TIPP_AAI_AAISD_CV\\\\Question_1\\\\clean_dataset\\\\train\\\\Slaty-breasted_Rail\\\\_JWO2152_cr.jpg'"
      ]
     },
     "execution_count": 9,
     "metadata": {},
     "output_type": "execute_result"
    },
    {
     "data": {
      "text/plain": [
       "'C:\\\\Users\\\\SengTian\\\\Downloads\\\\Temp\\\\Republic Polytechnic\\\\Assignment_ComputerVision\\\\TIPP_AAI_AAISD_CV\\\\Question_1\\\\clean_dataset\\\\train\\\\Lesser_Whistling_Duck\\\\_JWO2156_cr.jpg'"
      ]
     },
     "execution_count": 9,
     "metadata": {},
     "output_type": "execute_result"
    },
    {
     "data": {
      "text/plain": [
       "'C:\\\\Users\\\\SengTian\\\\Downloads\\\\Temp\\\\Republic Polytechnic\\\\Assignment_ComputerVision\\\\TIPP_AAI_AAISD_CV\\\\Question_1\\\\clean_dataset\\\\train\\\\Slaty-breasted_Rail\\\\_JWO2160_cr.jpg'"
      ]
     },
     "execution_count": 9,
     "metadata": {},
     "output_type": "execute_result"
    },
    {
     "data": {
      "text/plain": [
       "'C:\\\\Users\\\\SengTian\\\\Downloads\\\\Temp\\\\Republic Polytechnic\\\\Assignment_ComputerVision\\\\TIPP_AAI_AAISD_CV\\\\Question_1\\\\clean_dataset\\\\train\\\\Slaty-breasted_Rail\\\\_JWO2163_cr.jpg'"
      ]
     },
     "execution_count": 9,
     "metadata": {},
     "output_type": "execute_result"
    },
    {
     "data": {
      "text/plain": [
       "'C:\\\\Users\\\\SengTian\\\\Downloads\\\\Temp\\\\Republic Polytechnic\\\\Assignment_ComputerVision\\\\TIPP_AAI_AAISD_CV\\\\Question_1\\\\clean_dataset\\\\train\\\\Slaty-breasted_Rail\\\\_JWO2165_cr.jpg'"
      ]
     },
     "execution_count": 9,
     "metadata": {},
     "output_type": "execute_result"
    },
    {
     "data": {
      "text/plain": [
       "'C:\\\\Users\\\\SengTian\\\\Downloads\\\\Temp\\\\Republic Polytechnic\\\\Assignment_ComputerVision\\\\TIPP_AAI_AAISD_CV\\\\Question_1\\\\clean_dataset\\\\train\\\\Slaty-breasted_Rail\\\\_JWO2180_cr.jpg'"
      ]
     },
     "execution_count": 9,
     "metadata": {},
     "output_type": "execute_result"
    },
    {
     "data": {
      "text/plain": [
       "'C:\\\\Users\\\\SengTian\\\\Downloads\\\\Temp\\\\Republic Polytechnic\\\\Assignment_ComputerVision\\\\TIPP_AAI_AAISD_CV\\\\Question_1\\\\clean_dataset\\\\train\\\\Slaty-breasted_Rail\\\\_JWO2187_cr.jpg'"
      ]
     },
     "execution_count": 9,
     "metadata": {},
     "output_type": "execute_result"
    },
    {
     "data": {
      "text/plain": [
       "'C:\\\\Users\\\\SengTian\\\\Downloads\\\\Temp\\\\Republic Polytechnic\\\\Assignment_ComputerVision\\\\TIPP_AAI_AAISD_CV\\\\Question_1\\\\clean_dataset\\\\train\\\\Lesser_Whistling_Duck\\\\_JWO2214_cr.jpg'"
      ]
     },
     "execution_count": 9,
     "metadata": {},
     "output_type": "execute_result"
    },
    {
     "data": {
      "text/plain": [
       "'C:\\\\Users\\\\SengTian\\\\Downloads\\\\Temp\\\\Republic Polytechnic\\\\Assignment_ComputerVision\\\\TIPP_AAI_AAISD_CV\\\\Question_1\\\\clean_dataset\\\\train\\\\Slaty-breasted_Rail\\\\_JWO2216_cr.jpg'"
      ]
     },
     "execution_count": 9,
     "metadata": {},
     "output_type": "execute_result"
    },
    {
     "data": {
      "text/plain": [
       "'C:\\\\Users\\\\SengTian\\\\Downloads\\\\Temp\\\\Republic Polytechnic\\\\Assignment_ComputerVision\\\\TIPP_AAI_AAISD_CV\\\\Question_1\\\\clean_dataset\\\\train\\\\Lesser_Whistling_Duck\\\\_JWO2217_cr.jpg'"
      ]
     },
     "execution_count": 9,
     "metadata": {},
     "output_type": "execute_result"
    },
    {
     "data": {
      "text/plain": [
       "'C:\\\\Users\\\\SengTian\\\\Downloads\\\\Temp\\\\Republic Polytechnic\\\\Assignment_ComputerVision\\\\TIPP_AAI_AAISD_CV\\\\Question_1\\\\clean_dataset\\\\train\\\\Slaty-breasted_Rail\\\\_JWO2224_cr.jpg'"
      ]
     },
     "execution_count": 9,
     "metadata": {},
     "output_type": "execute_result"
    },
    {
     "data": {
      "text/plain": [
       "'C:\\\\Users\\\\SengTian\\\\Downloads\\\\Temp\\\\Republic Polytechnic\\\\Assignment_ComputerVision\\\\TIPP_AAI_AAISD_CV\\\\Question_1\\\\clean_dataset\\\\train\\\\Slaty-breasted_Rail\\\\_JWO2227_cr.jpg'"
      ]
     },
     "execution_count": 9,
     "metadata": {},
     "output_type": "execute_result"
    },
    {
     "data": {
      "text/plain": [
       "'C:\\\\Users\\\\SengTian\\\\Downloads\\\\Temp\\\\Republic Polytechnic\\\\Assignment_ComputerVision\\\\TIPP_AAI_AAISD_CV\\\\Question_1\\\\clean_dataset\\\\train\\\\Slaty-breasted_Rail\\\\_JWO2244_cr.jpg'"
      ]
     },
     "execution_count": 9,
     "metadata": {},
     "output_type": "execute_result"
    },
    {
     "data": {
      "text/plain": [
       "'C:\\\\Users\\\\SengTian\\\\Downloads\\\\Temp\\\\Republic Polytechnic\\\\Assignment_ComputerVision\\\\TIPP_AAI_AAISD_CV\\\\Question_1\\\\clean_dataset\\\\train\\\\White-winged_Tern\\\\_JWO2278_cr.jpg'"
      ]
     },
     "execution_count": 9,
     "metadata": {},
     "output_type": "execute_result"
    },
    {
     "data": {
      "text/plain": [
       "'C:\\\\Users\\\\SengTian\\\\Downloads\\\\Temp\\\\Republic Polytechnic\\\\Assignment_ComputerVision\\\\TIPP_AAI_AAISD_CV\\\\Question_1\\\\clean_dataset\\\\train\\\\Lesser_Whistling_Duck\\\\_JWO2297_cr.jpg'"
      ]
     },
     "execution_count": 9,
     "metadata": {},
     "output_type": "execute_result"
    },
    {
     "data": {
      "text/plain": [
       "'C:\\\\Users\\\\SengTian\\\\Downloads\\\\Temp\\\\Republic Polytechnic\\\\Assignment_ComputerVision\\\\TIPP_AAI_AAISD_CV\\\\Question_1\\\\clean_dataset\\\\train\\\\White-winged_Tern\\\\_JWO2302_cr.jpg'"
      ]
     },
     "execution_count": 9,
     "metadata": {},
     "output_type": "execute_result"
    },
    {
     "data": {
      "text/plain": [
       "'C:\\\\Users\\\\SengTian\\\\Downloads\\\\Temp\\\\Republic Polytechnic\\\\Assignment_ComputerVision\\\\TIPP_AAI_AAISD_CV\\\\Question_1\\\\clean_dataset\\\\train\\\\White-winged_Tern\\\\_JWO2321_cr.jpg'"
      ]
     },
     "execution_count": 9,
     "metadata": {},
     "output_type": "execute_result"
    },
    {
     "data": {
      "text/plain": [
       "'C:\\\\Users\\\\SengTian\\\\Downloads\\\\Temp\\\\Republic Polytechnic\\\\Assignment_ComputerVision\\\\TIPP_AAI_AAISD_CV\\\\Question_1\\\\clean_dataset\\\\train\\\\White-winged_Tern\\\\_JWO2322_cr.jpg'"
      ]
     },
     "execution_count": 9,
     "metadata": {},
     "output_type": "execute_result"
    },
    {
     "data": {
      "text/plain": [
       "'C:\\\\Users\\\\SengTian\\\\Downloads\\\\Temp\\\\Republic Polytechnic\\\\Assignment_ComputerVision\\\\TIPP_AAI_AAISD_CV\\\\Question_1\\\\clean_dataset\\\\train\\\\White-winged_Tern\\\\_JWO2323_cr.jpg'"
      ]
     },
     "execution_count": 9,
     "metadata": {},
     "output_type": "execute_result"
    },
    {
     "data": {
      "text/plain": [
       "'C:\\\\Users\\\\SengTian\\\\Downloads\\\\Temp\\\\Republic Polytechnic\\\\Assignment_ComputerVision\\\\TIPP_AAI_AAISD_CV\\\\Question_1\\\\clean_dataset\\\\train\\\\White-winged_Tern\\\\_JWO2324_cr.jpg'"
      ]
     },
     "execution_count": 9,
     "metadata": {},
     "output_type": "execute_result"
    },
    {
     "data": {
      "text/plain": [
       "'C:\\\\Users\\\\SengTian\\\\Downloads\\\\Temp\\\\Republic Polytechnic\\\\Assignment_ComputerVision\\\\TIPP_AAI_AAISD_CV\\\\Question_1\\\\clean_dataset\\\\train\\\\White-winged_Tern\\\\_JWO2325_cr.jpg'"
      ]
     },
     "execution_count": 9,
     "metadata": {},
     "output_type": "execute_result"
    },
    {
     "data": {
      "text/plain": [
       "'C:\\\\Users\\\\SengTian\\\\Downloads\\\\Temp\\\\Republic Polytechnic\\\\Assignment_ComputerVision\\\\TIPP_AAI_AAISD_CV\\\\Question_1\\\\clean_dataset\\\\train\\\\White-winged_Tern\\\\_JWO2326_cr.jpg'"
      ]
     },
     "execution_count": 9,
     "metadata": {},
     "output_type": "execute_result"
    },
    {
     "data": {
      "text/plain": [
       "'C:\\\\Users\\\\SengTian\\\\Downloads\\\\Temp\\\\Republic Polytechnic\\\\Assignment_ComputerVision\\\\TIPP_AAI_AAISD_CV\\\\Question_1\\\\clean_dataset\\\\train\\\\White-winged_Tern\\\\_JWO2327_cr.jpg'"
      ]
     },
     "execution_count": 9,
     "metadata": {},
     "output_type": "execute_result"
    },
    {
     "data": {
      "text/plain": [
       "'C:\\\\Users\\\\SengTian\\\\Downloads\\\\Temp\\\\Republic Polytechnic\\\\Assignment_ComputerVision\\\\TIPP_AAI_AAISD_CV\\\\Question_1\\\\clean_dataset\\\\train\\\\White-winged_Tern\\\\_JWO2328_cr.jpg'"
      ]
     },
     "execution_count": 9,
     "metadata": {},
     "output_type": "execute_result"
    },
    {
     "data": {
      "text/plain": [
       "'C:\\\\Users\\\\SengTian\\\\Downloads\\\\Temp\\\\Republic Polytechnic\\\\Assignment_ComputerVision\\\\TIPP_AAI_AAISD_CV\\\\Question_1\\\\clean_dataset\\\\train\\\\Slaty-breasted_Rail\\\\_JWO2328a_cr.jpg'"
      ]
     },
     "execution_count": 9,
     "metadata": {},
     "output_type": "execute_result"
    },
    {
     "data": {
      "text/plain": [
       "'C:\\\\Users\\\\SengTian\\\\Downloads\\\\Temp\\\\Republic Polytechnic\\\\Assignment_ComputerVision\\\\TIPP_AAI_AAISD_CV\\\\Question_1\\\\clean_dataset\\\\train\\\\White-winged_Tern\\\\_JWO2329_cr.jpg'"
      ]
     },
     "execution_count": 9,
     "metadata": {},
     "output_type": "execute_result"
    },
    {
     "data": {
      "text/plain": [
       "'C:\\\\Users\\\\SengTian\\\\Downloads\\\\Temp\\\\Republic Polytechnic\\\\Assignment_ComputerVision\\\\TIPP_AAI_AAISD_CV\\\\Question_1\\\\clean_dataset\\\\train\\\\White-winged_Tern\\\\_JWO2330_cr.jpg'"
      ]
     },
     "execution_count": 9,
     "metadata": {},
     "output_type": "execute_result"
    },
    {
     "data": {
      "text/plain": [
       "'C:\\\\Users\\\\SengTian\\\\Downloads\\\\Temp\\\\Republic Polytechnic\\\\Assignment_ComputerVision\\\\TIPP_AAI_AAISD_CV\\\\Question_1\\\\clean_dataset\\\\train\\\\White-winged_Tern\\\\_JWO2331_cr.jpg'"
      ]
     },
     "execution_count": 9,
     "metadata": {},
     "output_type": "execute_result"
    },
    {
     "data": {
      "text/plain": [
       "'C:\\\\Users\\\\SengTian\\\\Downloads\\\\Temp\\\\Republic Polytechnic\\\\Assignment_ComputerVision\\\\TIPP_AAI_AAISD_CV\\\\Question_1\\\\clean_dataset\\\\train\\\\White-winged_Tern\\\\_JWO2332_cr.jpg'"
      ]
     },
     "execution_count": 9,
     "metadata": {},
     "output_type": "execute_result"
    },
    {
     "data": {
      "text/plain": [
       "'C:\\\\Users\\\\SengTian\\\\Downloads\\\\Temp\\\\Republic Polytechnic\\\\Assignment_ComputerVision\\\\TIPP_AAI_AAISD_CV\\\\Question_1\\\\clean_dataset\\\\train\\\\White-winged_Tern\\\\_JWO2333_cr.jpg'"
      ]
     },
     "execution_count": 9,
     "metadata": {},
     "output_type": "execute_result"
    },
    {
     "data": {
      "text/plain": [
       "'C:\\\\Users\\\\SengTian\\\\Downloads\\\\Temp\\\\Republic Polytechnic\\\\Assignment_ComputerVision\\\\TIPP_AAI_AAISD_CV\\\\Question_1\\\\clean_dataset\\\\train\\\\White-winged_Tern\\\\_JWO2334_cr.jpg'"
      ]
     },
     "execution_count": 9,
     "metadata": {},
     "output_type": "execute_result"
    },
    {
     "data": {
      "text/plain": [
       "'C:\\\\Users\\\\SengTian\\\\Downloads\\\\Temp\\\\Republic Polytechnic\\\\Assignment_ComputerVision\\\\TIPP_AAI_AAISD_CV\\\\Question_1\\\\clean_dataset\\\\train\\\\White-winged_Tern\\\\_JWO2335_cr.jpg'"
      ]
     },
     "execution_count": 9,
     "metadata": {},
     "output_type": "execute_result"
    },
    {
     "data": {
      "text/plain": [
       "'C:\\\\Users\\\\SengTian\\\\Downloads\\\\Temp\\\\Republic Polytechnic\\\\Assignment_ComputerVision\\\\TIPP_AAI_AAISD_CV\\\\Question_1\\\\clean_dataset\\\\train\\\\White-winged_Tern\\\\_JWO2336_cr.jpg'"
      ]
     },
     "execution_count": 9,
     "metadata": {},
     "output_type": "execute_result"
    },
    {
     "data": {
      "text/plain": [
       "'C:\\\\Users\\\\SengTian\\\\Downloads\\\\Temp\\\\Republic Polytechnic\\\\Assignment_ComputerVision\\\\TIPP_AAI_AAISD_CV\\\\Question_1\\\\clean_dataset\\\\train\\\\Lesser_Whistling_Duck\\\\_JWO2350_1_cr.jpg'"
      ]
     },
     "execution_count": 9,
     "metadata": {},
     "output_type": "execute_result"
    },
    {
     "data": {
      "text/plain": [
       "'C:\\\\Users\\\\SengTian\\\\Downloads\\\\Temp\\\\Republic Polytechnic\\\\Assignment_ComputerVision\\\\TIPP_AAI_AAISD_CV\\\\Question_1\\\\clean_dataset\\\\train\\\\Lesser_Whistling_Duck\\\\_JWO2350_cr.jpg'"
      ]
     },
     "execution_count": 9,
     "metadata": {},
     "output_type": "execute_result"
    },
    {
     "data": {
      "text/plain": [
       "'C:\\\\Users\\\\SengTian\\\\Downloads\\\\Temp\\\\Republic Polytechnic\\\\Assignment_ComputerVision\\\\TIPP_AAI_AAISD_CV\\\\Question_1\\\\clean_dataset\\\\train\\\\Lesser_Whistling_Duck\\\\_JWO2403_cr.jpg'"
      ]
     },
     "execution_count": 9,
     "metadata": {},
     "output_type": "execute_result"
    },
    {
     "data": {
      "text/plain": [
       "'C:\\\\Users\\\\SengTian\\\\Downloads\\\\Temp\\\\Republic Polytechnic\\\\Assignment_ComputerVision\\\\TIPP_AAI_AAISD_CV\\\\Question_1\\\\clean_dataset\\\\train\\\\White-winged_Tern\\\\_JWO2442_cr.jpg'"
      ]
     },
     "execution_count": 9,
     "metadata": {},
     "output_type": "execute_result"
    },
    {
     "data": {
      "text/plain": [
       "'C:\\\\Users\\\\SengTian\\\\Downloads\\\\Temp\\\\Republic Polytechnic\\\\Assignment_ComputerVision\\\\TIPP_AAI_AAISD_CV\\\\Question_1\\\\clean_dataset\\\\train\\\\Slaty-breasted_Rail\\\\_JWO2455_cr.jpg'"
      ]
     },
     "execution_count": 9,
     "metadata": {},
     "output_type": "execute_result"
    },
    {
     "data": {
      "text/plain": [
       "'C:\\\\Users\\\\SengTian\\\\Downloads\\\\Temp\\\\Republic Polytechnic\\\\Assignment_ComputerVision\\\\TIPP_AAI_AAISD_CV\\\\Question_1\\\\clean_dataset\\\\train\\\\Lesser_Whistling_Duck\\\\_JWO2456_cr.jpg'"
      ]
     },
     "execution_count": 9,
     "metadata": {},
     "output_type": "execute_result"
    },
    {
     "data": {
      "text/plain": [
       "'C:\\\\Users\\\\SengTian\\\\Downloads\\\\Temp\\\\Republic Polytechnic\\\\Assignment_ComputerVision\\\\TIPP_AAI_AAISD_CV\\\\Question_1\\\\clean_dataset\\\\train\\\\Rose-ringed_Parakeet\\\\_JWO2495_cr.jpg'"
      ]
     },
     "execution_count": 9,
     "metadata": {},
     "output_type": "execute_result"
    },
    {
     "data": {
      "text/plain": [
       "'C:\\\\Users\\\\SengTian\\\\Downloads\\\\Temp\\\\Republic Polytechnic\\\\Assignment_ComputerVision\\\\TIPP_AAI_AAISD_CV\\\\Question_1\\\\clean_dataset\\\\train\\\\Rose-ringed_Parakeet\\\\_JWO2496_cr.jpg'"
      ]
     },
     "execution_count": 9,
     "metadata": {},
     "output_type": "execute_result"
    },
    {
     "data": {
      "text/plain": [
       "'C:\\\\Users\\\\SengTian\\\\Downloads\\\\Temp\\\\Republic Polytechnic\\\\Assignment_ComputerVision\\\\TIPP_AAI_AAISD_CV\\\\Question_1\\\\clean_dataset\\\\train\\\\Rose-ringed_Parakeet\\\\_JWO2498_cr.jpg'"
      ]
     },
     "execution_count": 9,
     "metadata": {},
     "output_type": "execute_result"
    },
    {
     "data": {
      "text/plain": [
       "'C:\\\\Users\\\\SengTian\\\\Downloads\\\\Temp\\\\Republic Polytechnic\\\\Assignment_ComputerVision\\\\TIPP_AAI_AAISD_CV\\\\Question_1\\\\clean_dataset\\\\train\\\\Rose-ringed_Parakeet\\\\_JWO2511_cr.jpg'"
      ]
     },
     "execution_count": 9,
     "metadata": {},
     "output_type": "execute_result"
    },
    {
     "data": {
      "text/plain": [
       "'C:\\\\Users\\\\SengTian\\\\Downloads\\\\Temp\\\\Republic Polytechnic\\\\Assignment_ComputerVision\\\\TIPP_AAI_AAISD_CV\\\\Question_1\\\\clean_dataset\\\\train\\\\Rose-ringed_Parakeet\\\\_JWO2523_cr.jpg'"
      ]
     },
     "execution_count": 9,
     "metadata": {},
     "output_type": "execute_result"
    },
    {
     "data": {
      "text/plain": [
       "'C:\\\\Users\\\\SengTian\\\\Downloads\\\\Temp\\\\Republic Polytechnic\\\\Assignment_ComputerVision\\\\TIPP_AAI_AAISD_CV\\\\Question_1\\\\clean_dataset\\\\train\\\\Slaty-breasted_Rail\\\\_JWO2526_cr.jpg'"
      ]
     },
     "execution_count": 9,
     "metadata": {},
     "output_type": "execute_result"
    },
    {
     "data": {
      "text/plain": [
       "'C:\\\\Users\\\\SengTian\\\\Downloads\\\\Temp\\\\Republic Polytechnic\\\\Assignment_ComputerVision\\\\TIPP_AAI_AAISD_CV\\\\Question_1\\\\clean_dataset\\\\train\\\\Rose-ringed_Parakeet\\\\_JWO2532_cr.jpg'"
      ]
     },
     "execution_count": 9,
     "metadata": {},
     "output_type": "execute_result"
    },
    {
     "data": {
      "text/plain": [
       "'C:\\\\Users\\\\SengTian\\\\Downloads\\\\Temp\\\\Republic Polytechnic\\\\Assignment_ComputerVision\\\\TIPP_AAI_AAISD_CV\\\\Question_1\\\\clean_dataset\\\\train\\\\Rose-ringed_Parakeet\\\\_JWO2533_cr.jpg'"
      ]
     },
     "execution_count": 9,
     "metadata": {},
     "output_type": "execute_result"
    },
    {
     "data": {
      "text/plain": [
       "'C:\\\\Users\\\\SengTian\\\\Downloads\\\\Temp\\\\Republic Polytechnic\\\\Assignment_ComputerVision\\\\TIPP_AAI_AAISD_CV\\\\Question_1\\\\clean_dataset\\\\train\\\\Rose-ringed_Parakeet\\\\_JWO2534_cr.jpg'"
      ]
     },
     "execution_count": 9,
     "metadata": {},
     "output_type": "execute_result"
    },
    {
     "data": {
      "text/plain": [
       "'C:\\\\Users\\\\SengTian\\\\Downloads\\\\Temp\\\\Republic Polytechnic\\\\Assignment_ComputerVision\\\\TIPP_AAI_AAISD_CV\\\\Question_1\\\\clean_dataset\\\\train\\\\Slaty-breasted_Rail\\\\_JWO2535_cr.jpg'"
      ]
     },
     "execution_count": 9,
     "metadata": {},
     "output_type": "execute_result"
    },
    {
     "data": {
      "text/plain": [
       "'C:\\\\Users\\\\SengTian\\\\Downloads\\\\Temp\\\\Republic Polytechnic\\\\Assignment_ComputerVision\\\\TIPP_AAI_AAISD_CV\\\\Question_1\\\\clean_dataset\\\\train\\\\Slaty-breasted_Rail\\\\_JWO2546_cr.jpg'"
      ]
     },
     "execution_count": 9,
     "metadata": {},
     "output_type": "execute_result"
    },
    {
     "data": {
      "text/plain": [
       "'C:\\\\Users\\\\SengTian\\\\Downloads\\\\Temp\\\\Republic Polytechnic\\\\Assignment_ComputerVision\\\\TIPP_AAI_AAISD_CV\\\\Question_1\\\\clean_dataset\\\\train\\\\Slaty-breasted_Rail\\\\_JWO2551_cr.jpg'"
      ]
     },
     "execution_count": 9,
     "metadata": {},
     "output_type": "execute_result"
    },
    {
     "data": {
      "text/plain": [
       "'C:\\\\Users\\\\SengTian\\\\Downloads\\\\Temp\\\\Republic Polytechnic\\\\Assignment_ComputerVision\\\\TIPP_AAI_AAISD_CV\\\\Question_1\\\\clean_dataset\\\\train\\\\Tiger_Shrike\\\\_JWO2562_cr.jpg'"
      ]
     },
     "execution_count": 9,
     "metadata": {},
     "output_type": "execute_result"
    },
    {
     "data": {
      "text/plain": [
       "'C:\\\\Users\\\\SengTian\\\\Downloads\\\\Temp\\\\Republic Polytechnic\\\\Assignment_ComputerVision\\\\TIPP_AAI_AAISD_CV\\\\Question_1\\\\clean_dataset\\\\train\\\\Tiger_Shrike\\\\_JWO2567_cr.jpg'"
      ]
     },
     "execution_count": 9,
     "metadata": {},
     "output_type": "execute_result"
    },
    {
     "data": {
      "text/plain": [
       "'C:\\\\Users\\\\SengTian\\\\Downloads\\\\Temp\\\\Republic Polytechnic\\\\Assignment_ComputerVision\\\\TIPP_AAI_AAISD_CV\\\\Question_1\\\\clean_dataset\\\\train\\\\Oriental_Dollarbird\\\\_JWO2573_cr.jpg'"
      ]
     },
     "execution_count": 9,
     "metadata": {},
     "output_type": "execute_result"
    },
    {
     "data": {
      "text/plain": [
       "'C:\\\\Users\\\\SengTian\\\\Downloads\\\\Temp\\\\Republic Polytechnic\\\\Assignment_ComputerVision\\\\TIPP_AAI_AAISD_CV\\\\Question_1\\\\clean_dataset\\\\train\\\\Purple_Heron\\\\_JWO2583_cr.jpg'"
      ]
     },
     "execution_count": 9,
     "metadata": {},
     "output_type": "execute_result"
    },
    {
     "data": {
      "text/plain": [
       "'C:\\\\Users\\\\SengTian\\\\Downloads\\\\Temp\\\\Republic Polytechnic\\\\Assignment_ComputerVision\\\\TIPP_AAI_AAISD_CV\\\\Question_1\\\\clean_dataset\\\\train\\\\Oriental_Dollarbird\\\\_JWO2588_cr.jpg'"
      ]
     },
     "execution_count": 9,
     "metadata": {},
     "output_type": "execute_result"
    },
    {
     "data": {
      "text/plain": [
       "'C:\\\\Users\\\\SengTian\\\\Downloads\\\\Temp\\\\Republic Polytechnic\\\\Assignment_ComputerVision\\\\TIPP_AAI_AAISD_CV\\\\Question_1\\\\clean_dataset\\\\train\\\\Purple_Heron\\\\_JWO2593_cr.jpg'"
      ]
     },
     "execution_count": 9,
     "metadata": {},
     "output_type": "execute_result"
    },
    {
     "data": {
      "text/plain": [
       "'C:\\\\Users\\\\SengTian\\\\Downloads\\\\Temp\\\\Republic Polytechnic\\\\Assignment_ComputerVision\\\\TIPP_AAI_AAISD_CV\\\\Question_1\\\\clean_dataset\\\\train\\\\Purple_Heron\\\\_JWO2599_cr.jpg'"
      ]
     },
     "execution_count": 9,
     "metadata": {},
     "output_type": "execute_result"
    },
    {
     "data": {
      "text/plain": [
       "'C:\\\\Users\\\\SengTian\\\\Downloads\\\\Temp\\\\Republic Polytechnic\\\\Assignment_ComputerVision\\\\TIPP_AAI_AAISD_CV\\\\Question_1\\\\clean_dataset\\\\train\\\\Purple_Heron\\\\_JWO2610_cr.jpg'"
      ]
     },
     "execution_count": 9,
     "metadata": {},
     "output_type": "execute_result"
    },
    {
     "data": {
      "text/plain": [
       "'C:\\\\Users\\\\SengTian\\\\Downloads\\\\Temp\\\\Republic Polytechnic\\\\Assignment_ComputerVision\\\\TIPP_AAI_AAISD_CV\\\\Question_1\\\\clean_dataset\\\\train\\\\Purple_Heron\\\\_JWO2616_cr.jpg'"
      ]
     },
     "execution_count": 9,
     "metadata": {},
     "output_type": "execute_result"
    },
    {
     "data": {
      "text/plain": [
       "'C:\\\\Users\\\\SengTian\\\\Downloads\\\\Temp\\\\Republic Polytechnic\\\\Assignment_ComputerVision\\\\TIPP_AAI_AAISD_CV\\\\Question_1\\\\clean_dataset\\\\train\\\\Oriental_Dollarbird\\\\_JWO2616a_cr.jpg'"
      ]
     },
     "execution_count": 9,
     "metadata": {},
     "output_type": "execute_result"
    },
    {
     "data": {
      "text/plain": [
       "'C:\\\\Users\\\\SengTian\\\\Downloads\\\\Temp\\\\Republic Polytechnic\\\\Assignment_ComputerVision\\\\TIPP_AAI_AAISD_CV\\\\Question_1\\\\clean_dataset\\\\train\\\\Purple_Heron\\\\_JWO2622_cr.jpg'"
      ]
     },
     "execution_count": 9,
     "metadata": {},
     "output_type": "execute_result"
    },
    {
     "data": {
      "text/plain": [
       "'C:\\\\Users\\\\SengTian\\\\Downloads\\\\Temp\\\\Republic Polytechnic\\\\Assignment_ComputerVision\\\\TIPP_AAI_AAISD_CV\\\\Question_1\\\\clean_dataset\\\\train\\\\Oriental_Dollarbird\\\\_JWO2670_cr.jpg'"
      ]
     },
     "execution_count": 9,
     "metadata": {},
     "output_type": "execute_result"
    },
    {
     "data": {
      "text/plain": [
       "'C:\\\\Users\\\\SengTian\\\\Downloads\\\\Temp\\\\Republic Polytechnic\\\\Assignment_ComputerVision\\\\TIPP_AAI_AAISD_CV\\\\Question_1\\\\clean_dataset\\\\train\\\\Amur_Asian_Paradise_Flycatcher\\\\_JWO2714_cr.jpg'"
      ]
     },
     "execution_count": 9,
     "metadata": {},
     "output_type": "execute_result"
    },
    {
     "data": {
      "text/plain": [
       "'C:\\\\Users\\\\SengTian\\\\Downloads\\\\Temp\\\\Republic Polytechnic\\\\Assignment_ComputerVision\\\\TIPP_AAI_AAISD_CV\\\\Question_1\\\\clean_dataset\\\\train\\\\Amur_Asian_Paradise_Flycatcher\\\\_JWO2742_cr.jpg'"
      ]
     },
     "execution_count": 9,
     "metadata": {},
     "output_type": "execute_result"
    },
    {
     "data": {
      "text/plain": [
       "'C:\\\\Users\\\\SengTian\\\\Downloads\\\\Temp\\\\Republic Polytechnic\\\\Assignment_ComputerVision\\\\TIPP_AAI_AAISD_CV\\\\Question_1\\\\clean_dataset\\\\train\\\\Amur_Asian_Paradise_Flycatcher\\\\_JWO2744_cr.jpg'"
      ]
     },
     "execution_count": 9,
     "metadata": {},
     "output_type": "execute_result"
    },
    {
     "data": {
      "text/plain": [
       "'C:\\\\Users\\\\SengTian\\\\Downloads\\\\Temp\\\\Republic Polytechnic\\\\Assignment_ComputerVision\\\\TIPP_AAI_AAISD_CV\\\\Question_1\\\\clean_dataset\\\\train\\\\Amur_Asian_Paradise_Flycatcher\\\\_JWO2777_cr.jpg'"
      ]
     },
     "execution_count": 9,
     "metadata": {},
     "output_type": "execute_result"
    },
    {
     "data": {
      "text/plain": [
       "'C:\\\\Users\\\\SengTian\\\\Downloads\\\\Temp\\\\Republic Polytechnic\\\\Assignment_ComputerVision\\\\TIPP_AAI_AAISD_CV\\\\Question_1\\\\clean_dataset\\\\train\\\\Red_Junglefowl\\\\_JWO2831_cr.jpg'"
      ]
     },
     "execution_count": 9,
     "metadata": {},
     "output_type": "execute_result"
    },
    {
     "data": {
      "text/plain": [
       "'C:\\\\Users\\\\SengTian\\\\Downloads\\\\Temp\\\\Republic Polytechnic\\\\Assignment_ComputerVision\\\\TIPP_AAI_AAISD_CV\\\\Question_1\\\\clean_dataset\\\\train\\\\Swiftlet\\\\_JWO2854_cr.jpg'"
      ]
     },
     "execution_count": 9,
     "metadata": {},
     "output_type": "execute_result"
    },
    {
     "data": {
      "text/plain": [
       "'C:\\\\Users\\\\SengTian\\\\Downloads\\\\Temp\\\\Republic Polytechnic\\\\Assignment_ComputerVision\\\\TIPP_AAI_AAISD_CV\\\\Question_1\\\\clean_dataset\\\\train\\\\Swiftlet\\\\_JWO2890_cr.jpg'"
      ]
     },
     "execution_count": 9,
     "metadata": {},
     "output_type": "execute_result"
    },
    {
     "data": {
      "text/plain": [
       "'C:\\\\Users\\\\SengTian\\\\Downloads\\\\Temp\\\\Republic Polytechnic\\\\Assignment_ComputerVision\\\\TIPP_AAI_AAISD_CV\\\\Question_1\\\\clean_dataset\\\\train\\\\Swiftlet\\\\_JWO2901_cr.jpg'"
      ]
     },
     "execution_count": 9,
     "metadata": {},
     "output_type": "execute_result"
    },
    {
     "data": {
      "text/plain": [
       "'C:\\\\Users\\\\SengTian\\\\Downloads\\\\Temp\\\\Republic Polytechnic\\\\Assignment_ComputerVision\\\\TIPP_AAI_AAISD_CV\\\\Question_1\\\\clean_dataset\\\\train\\\\Blue-crowned_Hanging_Parrot\\\\_JWO3018_cr.jpg'"
      ]
     },
     "execution_count": 9,
     "metadata": {},
     "output_type": "execute_result"
    },
    {
     "data": {
      "text/plain": [
       "'C:\\\\Users\\\\SengTian\\\\Downloads\\\\Temp\\\\Republic Polytechnic\\\\Assignment_ComputerVision\\\\TIPP_AAI_AAISD_CV\\\\Question_1\\\\clean_dataset\\\\train\\\\Blue-crowned_Hanging_Parrot\\\\_JWO3019_cr.jpg'"
      ]
     },
     "execution_count": 9,
     "metadata": {},
     "output_type": "execute_result"
    },
    {
     "data": {
      "text/plain": [
       "'C:\\\\Users\\\\SengTian\\\\Downloads\\\\Temp\\\\Republic Polytechnic\\\\Assignment_ComputerVision\\\\TIPP_AAI_AAISD_CV\\\\Question_1\\\\clean_dataset\\\\train\\\\Blue-crowned_Hanging_Parrot\\\\_JWO3020_cr.jpg'"
      ]
     },
     "execution_count": 9,
     "metadata": {},
     "output_type": "execute_result"
    },
    {
     "data": {
      "text/plain": [
       "'C:\\\\Users\\\\SengTian\\\\Downloads\\\\Temp\\\\Republic Polytechnic\\\\Assignment_ComputerVision\\\\TIPP_AAI_AAISD_CV\\\\Question_1\\\\clean_dataset\\\\train\\\\Blue-crowned_Hanging_Parrot\\\\_JWO3062_cr.jpg'"
      ]
     },
     "execution_count": 9,
     "metadata": {},
     "output_type": "execute_result"
    },
    {
     "data": {
      "text/plain": [
       "'C:\\\\Users\\\\SengTian\\\\Downloads\\\\Temp\\\\Republic Polytechnic\\\\Assignment_ComputerVision\\\\TIPP_AAI_AAISD_CV\\\\Question_1\\\\clean_dataset\\\\train\\\\Blue-crowned_Hanging_Parrot\\\\_JWO3068_cr.jpg'"
      ]
     },
     "execution_count": 9,
     "metadata": {},
     "output_type": "execute_result"
    },
    {
     "data": {
      "text/plain": [
       "'C:\\\\Users\\\\SengTian\\\\Downloads\\\\Temp\\\\Republic Polytechnic\\\\Assignment_ComputerVision\\\\TIPP_AAI_AAISD_CV\\\\Question_1\\\\clean_dataset\\\\train\\\\Blue-crowned_Hanging_Parrot\\\\_JWO3089_cr.jpg'"
      ]
     },
     "execution_count": 9,
     "metadata": {},
     "output_type": "execute_result"
    },
    {
     "data": {
      "text/plain": [
       "'C:\\\\Users\\\\SengTian\\\\Downloads\\\\Temp\\\\Republic Polytechnic\\\\Assignment_ComputerVision\\\\TIPP_AAI_AAISD_CV\\\\Question_1\\\\clean_dataset\\\\train\\\\Blue-crowned_Hanging_Parrot\\\\_JWO3107_cr.jpg'"
      ]
     },
     "execution_count": 9,
     "metadata": {},
     "output_type": "execute_result"
    },
    {
     "data": {
      "text/plain": [
       "'C:\\\\Users\\\\SengTian\\\\Downloads\\\\Temp\\\\Republic Polytechnic\\\\Assignment_ComputerVision\\\\TIPP_AAI_AAISD_CV\\\\Question_1\\\\clean_dataset\\\\train\\\\Blue-crowned_Hanging_Parrot\\\\_JWO3117_cr.jpg'"
      ]
     },
     "execution_count": 9,
     "metadata": {},
     "output_type": "execute_result"
    },
    {
     "data": {
      "text/plain": [
       "'C:\\\\Users\\\\SengTian\\\\Downloads\\\\Temp\\\\Republic Polytechnic\\\\Assignment_ComputerVision\\\\TIPP_AAI_AAISD_CV\\\\Question_1\\\\clean_dataset\\\\train\\\\Blue-crowned_Hanging_Parrot\\\\_JWO3120_cr.jpg'"
      ]
     },
     "execution_count": 9,
     "metadata": {},
     "output_type": "execute_result"
    },
    {
     "data": {
      "text/plain": [
       "'C:\\\\Users\\\\SengTian\\\\Downloads\\\\Temp\\\\Republic Polytechnic\\\\Assignment_ComputerVision\\\\TIPP_AAI_AAISD_CV\\\\Question_1\\\\clean_dataset\\\\train\\\\Blue-crowned_Hanging_Parrot\\\\_JWO3123_cr.jpg'"
      ]
     },
     "execution_count": 9,
     "metadata": {},
     "output_type": "execute_result"
    },
    {
     "data": {
      "text/plain": [
       "'C:\\\\Users\\\\SengTian\\\\Downloads\\\\Temp\\\\Republic Polytechnic\\\\Assignment_ComputerVision\\\\TIPP_AAI_AAISD_CV\\\\Question_1\\\\clean_dataset\\\\train\\\\Blue-crowned_Hanging_Parrot\\\\_JWO3128_cr.jpg'"
      ]
     },
     "execution_count": 9,
     "metadata": {},
     "output_type": "execute_result"
    },
    {
     "data": {
      "text/plain": [
       "'C:\\\\Users\\\\SengTian\\\\Downloads\\\\Temp\\\\Republic Polytechnic\\\\Assignment_ComputerVision\\\\TIPP_AAI_AAISD_CV\\\\Question_1\\\\clean_dataset\\\\train\\\\Blue-crowned_Hanging_Parrot\\\\_JWO3129_cr.jpg'"
      ]
     },
     "execution_count": 9,
     "metadata": {},
     "output_type": "execute_result"
    },
    {
     "data": {
      "text/plain": [
       "'C:\\\\Users\\\\SengTian\\\\Downloads\\\\Temp\\\\Republic Polytechnic\\\\Assignment_ComputerVision\\\\TIPP_AAI_AAISD_CV\\\\Question_1\\\\clean_dataset\\\\train\\\\Blue-crowned_Hanging_Parrot\\\\_JWO3133_cr.jpg'"
      ]
     },
     "execution_count": 9,
     "metadata": {},
     "output_type": "execute_result"
    },
    {
     "data": {
      "text/plain": [
       "'C:\\\\Users\\\\SengTian\\\\Downloads\\\\Temp\\\\Republic Polytechnic\\\\Assignment_ComputerVision\\\\TIPP_AAI_AAISD_CV\\\\Question_1\\\\clean_dataset\\\\train\\\\Swiftlet\\\\_JWO3171_cr.jpg'"
      ]
     },
     "execution_count": 9,
     "metadata": {},
     "output_type": "execute_result"
    },
    {
     "data": {
      "text/plain": [
       "'C:\\\\Users\\\\SengTian\\\\Downloads\\\\Temp\\\\Republic Polytechnic\\\\Assignment_ComputerVision\\\\TIPP_AAI_AAISD_CV\\\\Question_1\\\\clean_dataset\\\\train\\\\White-collared_Kingfisher\\\\_JWO3183_cr.jpg'"
      ]
     },
     "execution_count": 9,
     "metadata": {},
     "output_type": "execute_result"
    },
    {
     "data": {
      "text/plain": [
       "'C:\\\\Users\\\\SengTian\\\\Downloads\\\\Temp\\\\Republic Polytechnic\\\\Assignment_ComputerVision\\\\TIPP_AAI_AAISD_CV\\\\Question_1\\\\clean_dataset\\\\train\\\\White-collared_Kingfisher\\\\_JWO3205_cr.jpg'"
      ]
     },
     "execution_count": 9,
     "metadata": {},
     "output_type": "execute_result"
    },
    {
     "data": {
      "text/plain": [
       "'C:\\\\Users\\\\SengTian\\\\Downloads\\\\Temp\\\\Republic Polytechnic\\\\Assignment_ComputerVision\\\\TIPP_AAI_AAISD_CV\\\\Question_1\\\\clean_dataset\\\\train\\\\White-collared_Kingfisher\\\\_JWO3219_cr.jpg'"
      ]
     },
     "execution_count": 9,
     "metadata": {},
     "output_type": "execute_result"
    },
    {
     "data": {
      "text/plain": [
       "'C:\\\\Users\\\\SengTian\\\\Downloads\\\\Temp\\\\Republic Polytechnic\\\\Assignment_ComputerVision\\\\TIPP_AAI_AAISD_CV\\\\Question_1\\\\clean_dataset\\\\train\\\\White-collared_Kingfisher\\\\_JWO3222_cr.jpg'"
      ]
     },
     "execution_count": 9,
     "metadata": {},
     "output_type": "execute_result"
    },
    {
     "data": {
      "text/plain": [
       "'C:\\\\Users\\\\SengTian\\\\Downloads\\\\Temp\\\\Republic Polytechnic\\\\Assignment_ComputerVision\\\\TIPP_AAI_AAISD_CV\\\\Question_1\\\\clean_dataset\\\\train\\\\White-collared_Kingfisher\\\\_JWO3227_cr.jpg'"
      ]
     },
     "execution_count": 9,
     "metadata": {},
     "output_type": "execute_result"
    },
    {
     "data": {
      "text/plain": [
       "'C:\\\\Users\\\\SengTian\\\\Downloads\\\\Temp\\\\Republic Polytechnic\\\\Assignment_ComputerVision\\\\TIPP_AAI_AAISD_CV\\\\Question_1\\\\clean_dataset\\\\train\\\\Paddyfield_Pipit\\\\_JWO3290_cr.jpg'"
      ]
     },
     "execution_count": 9,
     "metadata": {},
     "output_type": "execute_result"
    },
    {
     "data": {
      "text/plain": [
       "'C:\\\\Users\\\\SengTian\\\\Downloads\\\\Temp\\\\Republic Polytechnic\\\\Assignment_ComputerVision\\\\TIPP_AAI_AAISD_CV\\\\Question_1\\\\clean_dataset\\\\train\\\\Paddyfield_Pipit\\\\_JWO3293_cr.jpg'"
      ]
     },
     "execution_count": 9,
     "metadata": {},
     "output_type": "execute_result"
    },
    {
     "data": {
      "text/plain": [
       "'C:\\\\Users\\\\SengTian\\\\Downloads\\\\Temp\\\\Republic Polytechnic\\\\Assignment_ComputerVision\\\\TIPP_AAI_AAISD_CV\\\\Question_1\\\\clean_dataset\\\\train\\\\Paddyfield_Pipit\\\\_JWO3303_cr.jpg'"
      ]
     },
     "execution_count": 9,
     "metadata": {},
     "output_type": "execute_result"
    },
    {
     "data": {
      "text/plain": [
       "'C:\\\\Users\\\\SengTian\\\\Downloads\\\\Temp\\\\Republic Polytechnic\\\\Assignment_ComputerVision\\\\TIPP_AAI_AAISD_CV\\\\Question_1\\\\clean_dataset\\\\train\\\\Paddyfield_Pipit\\\\_JWO3304_cr.jpg'"
      ]
     },
     "execution_count": 9,
     "metadata": {},
     "output_type": "execute_result"
    },
    {
     "data": {
      "text/plain": [
       "'C:\\\\Users\\\\SengTian\\\\Downloads\\\\Temp\\\\Republic Polytechnic\\\\Assignment_ComputerVision\\\\TIPP_AAI_AAISD_CV\\\\Question_1\\\\clean_dataset\\\\train\\\\Paddyfield_Pipit\\\\_JWO3305_cr.jpg'"
      ]
     },
     "execution_count": 9,
     "metadata": {},
     "output_type": "execute_result"
    },
    {
     "data": {
      "text/plain": [
       "'C:\\\\Users\\\\SengTian\\\\Downloads\\\\Temp\\\\Republic Polytechnic\\\\Assignment_ComputerVision\\\\TIPP_AAI_AAISD_CV\\\\Question_1\\\\clean_dataset\\\\train\\\\Paddyfield_Pipit\\\\_JWO3309_cr.jpg'"
      ]
     },
     "execution_count": 9,
     "metadata": {},
     "output_type": "execute_result"
    },
    {
     "data": {
      "text/plain": [
       "'C:\\\\Users\\\\SengTian\\\\Downloads\\\\Temp\\\\Republic Polytechnic\\\\Assignment_ComputerVision\\\\TIPP_AAI_AAISD_CV\\\\Question_1\\\\clean_dataset\\\\train\\\\Paddyfield_Pipit\\\\_JWO3314_cr.jpg'"
      ]
     },
     "execution_count": 9,
     "metadata": {},
     "output_type": "execute_result"
    },
    {
     "data": {
      "text/plain": [
       "'C:\\\\Users\\\\SengTian\\\\Downloads\\\\Temp\\\\Republic Polytechnic\\\\Assignment_ComputerVision\\\\TIPP_AAI_AAISD_CV\\\\Question_1\\\\clean_dataset\\\\train\\\\Paddyfield_Pipit\\\\_JWO3328_cr.jpg'"
      ]
     },
     "execution_count": 9,
     "metadata": {},
     "output_type": "execute_result"
    },
    {
     "data": {
      "text/plain": [
       "'C:\\\\Users\\\\SengTian\\\\Downloads\\\\Temp\\\\Republic Polytechnic\\\\Assignment_ComputerVision\\\\TIPP_AAI_AAISD_CV\\\\Question_1\\\\clean_dataset\\\\train\\\\Paddyfield_Pipit\\\\_JWO3331_cr.jpg'"
      ]
     },
     "execution_count": 9,
     "metadata": {},
     "output_type": "execute_result"
    },
    {
     "data": {
      "text/plain": [
       "'C:\\\\Users\\\\SengTian\\\\Downloads\\\\Temp\\\\Republic Polytechnic\\\\Assignment_ComputerVision\\\\TIPP_AAI_AAISD_CV\\\\Question_1\\\\clean_dataset\\\\train\\\\Wimbrel\\\\_JWO3331_cr1_cr.jpg'"
      ]
     },
     "execution_count": 9,
     "metadata": {},
     "output_type": "execute_result"
    },
    {
     "data": {
      "text/plain": [
       "'C:\\\\Users\\\\SengTian\\\\Downloads\\\\Temp\\\\Republic Polytechnic\\\\Assignment_ComputerVision\\\\TIPP_AAI_AAISD_CV\\\\Question_1\\\\clean_dataset\\\\train\\\\Paddyfield_Pipit\\\\_JWO3332_cr.jpg'"
      ]
     },
     "execution_count": 9,
     "metadata": {},
     "output_type": "execute_result"
    },
    {
     "data": {
      "text/plain": [
       "'C:\\\\Users\\\\SengTian\\\\Downloads\\\\Temp\\\\Republic Polytechnic\\\\Assignment_ComputerVision\\\\TIPP_AAI_AAISD_CV\\\\Question_1\\\\clean_dataset\\\\train\\\\Paddyfield_Pipit\\\\_JWO3341_cr.jpg'"
      ]
     },
     "execution_count": 9,
     "metadata": {},
     "output_type": "execute_result"
    },
    {
     "data": {
      "text/plain": [
       "'C:\\\\Users\\\\SengTian\\\\Downloads\\\\Temp\\\\Republic Polytechnic\\\\Assignment_ComputerVision\\\\TIPP_AAI_AAISD_CV\\\\Question_1\\\\clean_dataset\\\\train\\\\White-breasted_Waterhen\\\\_JWO3384_cr.jpg'"
      ]
     },
     "execution_count": 9,
     "metadata": {},
     "output_type": "execute_result"
    },
    {
     "data": {
      "text/plain": [
       "'C:\\\\Users\\\\SengTian\\\\Downloads\\\\Temp\\\\Republic Polytechnic\\\\Assignment_ComputerVision\\\\TIPP_AAI_AAISD_CV\\\\Question_1\\\\clean_dataset\\\\train\\\\White-breasted_Waterhen\\\\_JWO3394_cr.jpg'"
      ]
     },
     "execution_count": 9,
     "metadata": {},
     "output_type": "execute_result"
    },
    {
     "data": {
      "text/plain": [
       "'C:\\\\Users\\\\SengTian\\\\Downloads\\\\Temp\\\\Republic Polytechnic\\\\Assignment_ComputerVision\\\\TIPP_AAI_AAISD_CV\\\\Question_1\\\\clean_dataset\\\\train\\\\White-breasted_Waterhen\\\\_JWO3399_cr.jpg'"
      ]
     },
     "execution_count": 9,
     "metadata": {},
     "output_type": "execute_result"
    },
    {
     "data": {
      "text/plain": [
       "'C:\\\\Users\\\\SengTian\\\\Downloads\\\\Temp\\\\Republic Polytechnic\\\\Assignment_ComputerVision\\\\TIPP_AAI_AAISD_CV\\\\Question_1\\\\clean_dataset\\\\train\\\\White-breasted_Waterhen\\\\_JWO3408_cr.jpg'"
      ]
     },
     "execution_count": 9,
     "metadata": {},
     "output_type": "execute_result"
    },
    {
     "data": {
      "text/plain": [
       "'C:\\\\Users\\\\SengTian\\\\Downloads\\\\Temp\\\\Republic Polytechnic\\\\Assignment_ComputerVision\\\\TIPP_AAI_AAISD_CV\\\\Question_1\\\\clean_dataset\\\\train\\\\White-breasted_Waterhen\\\\_JWO3421_cr.jpg'"
      ]
     },
     "execution_count": 9,
     "metadata": {},
     "output_type": "execute_result"
    },
    {
     "data": {
      "text/plain": [
       "'C:\\\\Users\\\\SengTian\\\\Downloads\\\\Temp\\\\Republic Polytechnic\\\\Assignment_ComputerVision\\\\TIPP_AAI_AAISD_CV\\\\Question_1\\\\clean_dataset\\\\train\\\\White-breasted_Waterhen\\\\_JWO3426_cr.jpg'"
      ]
     },
     "execution_count": 9,
     "metadata": {},
     "output_type": "execute_result"
    },
    {
     "data": {
      "text/plain": [
       "'C:\\\\Users\\\\SengTian\\\\Downloads\\\\Temp\\\\Republic Polytechnic\\\\Assignment_ComputerVision\\\\TIPP_AAI_AAISD_CV\\\\Question_1\\\\clean_dataset\\\\train\\\\Wimbrel\\\\_JWO3435_cr.jpg'"
      ]
     },
     "execution_count": 9,
     "metadata": {},
     "output_type": "execute_result"
    },
    {
     "data": {
      "text/plain": [
       "'C:\\\\Users\\\\SengTian\\\\Downloads\\\\Temp\\\\Republic Polytechnic\\\\Assignment_ComputerVision\\\\TIPP_AAI_AAISD_CV\\\\Question_1\\\\clean_dataset\\\\train\\\\Wimbrel\\\\_JWO3435a_cr.jpg'"
      ]
     },
     "execution_count": 9,
     "metadata": {},
     "output_type": "execute_result"
    },
    {
     "data": {
      "text/plain": [
       "'C:\\\\Users\\\\SengTian\\\\Downloads\\\\Temp\\\\Republic Polytechnic\\\\Assignment_ComputerVision\\\\TIPP_AAI_AAISD_CV\\\\Question_1\\\\clean_dataset\\\\train\\\\White-breasted_Waterhen\\\\_JWO3436_cr.jpg'"
      ]
     },
     "execution_count": 9,
     "metadata": {},
     "output_type": "execute_result"
    },
    {
     "data": {
      "text/plain": [
       "'C:\\\\Users\\\\SengTian\\\\Downloads\\\\Temp\\\\Republic Polytechnic\\\\Assignment_ComputerVision\\\\TIPP_AAI_AAISD_CV\\\\Question_1\\\\clean_dataset\\\\train\\\\White-breasted_Waterhen\\\\_JWO3445.jpg'"
      ]
     },
     "execution_count": 9,
     "metadata": {},
     "output_type": "execute_result"
    },
    {
     "data": {
      "text/plain": [
       "'C:\\\\Users\\\\SengTian\\\\Downloads\\\\Temp\\\\Republic Polytechnic\\\\Assignment_ComputerVision\\\\TIPP_AAI_AAISD_CV\\\\Question_1\\\\clean_dataset\\\\train\\\\White-breasted_Waterhen\\\\_JWO3445_cr.jpg'"
      ]
     },
     "execution_count": 9,
     "metadata": {},
     "output_type": "execute_result"
    },
    {
     "data": {
      "text/plain": [
       "'C:\\\\Users\\\\SengTian\\\\Downloads\\\\Temp\\\\Republic Polytechnic\\\\Assignment_ComputerVision\\\\TIPP_AAI_AAISD_CV\\\\Question_1\\\\clean_dataset\\\\train\\\\White-breasted_Waterhen\\\\_JWO3454_cr.jpg'"
      ]
     },
     "execution_count": 9,
     "metadata": {},
     "output_type": "execute_result"
    },
    {
     "data": {
      "text/plain": [
       "'C:\\\\Users\\\\SengTian\\\\Downloads\\\\Temp\\\\Republic Polytechnic\\\\Assignment_ComputerVision\\\\TIPP_AAI_AAISD_CV\\\\Question_1\\\\clean_dataset\\\\train\\\\White-breasted_Waterhen\\\\_JWO3456_cr.jpg'"
      ]
     },
     "execution_count": 9,
     "metadata": {},
     "output_type": "execute_result"
    },
    {
     "data": {
      "text/plain": [
       "'C:\\\\Users\\\\SengTian\\\\Downloads\\\\Temp\\\\Republic Polytechnic\\\\Assignment_ComputerVision\\\\TIPP_AAI_AAISD_CV\\\\Question_1\\\\clean_dataset\\\\train\\\\Little_Tern\\\\_JWO3458_cr.jpg'"
      ]
     },
     "execution_count": 9,
     "metadata": {},
     "output_type": "execute_result"
    },
    {
     "data": {
      "text/plain": [
       "'C:\\\\Users\\\\SengTian\\\\Downloads\\\\Temp\\\\Republic Polytechnic\\\\Assignment_ComputerVision\\\\TIPP_AAI_AAISD_CV\\\\Question_1\\\\clean_dataset\\\\train\\\\White-breasted_Waterhen\\\\_JWO3459_cr.jpg'"
      ]
     },
     "execution_count": 9,
     "metadata": {},
     "output_type": "execute_result"
    },
    {
     "data": {
      "text/plain": [
       "'C:\\\\Users\\\\SengTian\\\\Downloads\\\\Temp\\\\Republic Polytechnic\\\\Assignment_ComputerVision\\\\TIPP_AAI_AAISD_CV\\\\Question_1\\\\clean_dataset\\\\train\\\\White-breasted_Waterhen\\\\_JWO3460_cr.jpg'"
      ]
     },
     "execution_count": 9,
     "metadata": {},
     "output_type": "execute_result"
    },
    {
     "data": {
      "text/plain": [
       "'C:\\\\Users\\\\SengTian\\\\Downloads\\\\Temp\\\\Republic Polytechnic\\\\Assignment_ComputerVision\\\\TIPP_AAI_AAISD_CV\\\\Question_1\\\\clean_dataset\\\\train\\\\White-breasted_Waterhen\\\\_JWO3470_cr.jpg'"
      ]
     },
     "execution_count": 9,
     "metadata": {},
     "output_type": "execute_result"
    },
    {
     "data": {
      "text/plain": [
       "'C:\\\\Users\\\\SengTian\\\\Downloads\\\\Temp\\\\Republic Polytechnic\\\\Assignment_ComputerVision\\\\TIPP_AAI_AAISD_CV\\\\Question_1\\\\clean_dataset\\\\train\\\\White-breasted_Waterhen\\\\_JWO3546_cr.jpg'"
      ]
     },
     "execution_count": 9,
     "metadata": {},
     "output_type": "execute_result"
    },
    {
     "data": {
      "text/plain": [
       "'C:\\\\Users\\\\SengTian\\\\Downloads\\\\Temp\\\\Republic Polytechnic\\\\Assignment_ComputerVision\\\\TIPP_AAI_AAISD_CV\\\\Question_1\\\\clean_dataset\\\\train\\\\Grey_Heron\\\\_JWO3552_cr.jpg'"
      ]
     },
     "execution_count": 9,
     "metadata": {},
     "output_type": "execute_result"
    },
    {
     "data": {
      "text/plain": [
       "'C:\\\\Users\\\\SengTian\\\\Downloads\\\\Temp\\\\Republic Polytechnic\\\\Assignment_ComputerVision\\\\TIPP_AAI_AAISD_CV\\\\Question_1\\\\clean_dataset\\\\train\\\\White-breasted_Waterhen\\\\_JWO3559_cr.jpg'"
      ]
     },
     "execution_count": 9,
     "metadata": {},
     "output_type": "execute_result"
    },
    {
     "data": {
      "text/plain": [
       "'C:\\\\Users\\\\SengTian\\\\Downloads\\\\Temp\\\\Republic Polytechnic\\\\Assignment_ComputerVision\\\\TIPP_AAI_AAISD_CV\\\\Question_1\\\\clean_dataset\\\\train\\\\White-breasted_Waterhen\\\\_JWO3564_cr.jpg'"
      ]
     },
     "execution_count": 9,
     "metadata": {},
     "output_type": "execute_result"
    },
    {
     "data": {
      "text/plain": [
       "'C:\\\\Users\\\\SengTian\\\\Downloads\\\\Temp\\\\Republic Polytechnic\\\\Assignment_ComputerVision\\\\TIPP_AAI_AAISD_CV\\\\Question_1\\\\clean_dataset\\\\train\\\\Little_Tern\\\\_JWO3583_cr.jpg'"
      ]
     },
     "execution_count": 9,
     "metadata": {},
     "output_type": "execute_result"
    },
    {
     "data": {
      "text/plain": [
       "'C:\\\\Users\\\\SengTian\\\\Downloads\\\\Temp\\\\Republic Polytechnic\\\\Assignment_ComputerVision\\\\TIPP_AAI_AAISD_CV\\\\Question_1\\\\clean_dataset\\\\train\\\\Common_Kingfisher\\\\_JWO3610_cr.jpg'"
      ]
     },
     "execution_count": 9,
     "metadata": {},
     "output_type": "execute_result"
    },
    {
     "data": {
      "text/plain": [
       "'C:\\\\Users\\\\SengTian\\\\Downloads\\\\Temp\\\\Republic Polytechnic\\\\Assignment_ComputerVision\\\\TIPP_AAI_AAISD_CV\\\\Question_1\\\\clean_dataset\\\\train\\\\Common_Kingfisher\\\\_JWO3616_cr.jpg'"
      ]
     },
     "execution_count": 9,
     "metadata": {},
     "output_type": "execute_result"
    },
    {
     "data": {
      "text/plain": [
       "'C:\\\\Users\\\\SengTian\\\\Downloads\\\\Temp\\\\Republic Polytechnic\\\\Assignment_ComputerVision\\\\TIPP_AAI_AAISD_CV\\\\Question_1\\\\clean_dataset\\\\train\\\\Common_Kingfisher\\\\_JWO3619_cr.jpg'"
      ]
     },
     "execution_count": 9,
     "metadata": {},
     "output_type": "execute_result"
    },
    {
     "data": {
      "text/plain": [
       "'C:\\\\Users\\\\SengTian\\\\Downloads\\\\Temp\\\\Republic Polytechnic\\\\Assignment_ComputerVision\\\\TIPP_AAI_AAISD_CV\\\\Question_1\\\\clean_dataset\\\\train\\\\Little_Tern\\\\_JWO3649_cr.jpg'"
      ]
     },
     "execution_count": 9,
     "metadata": {},
     "output_type": "execute_result"
    },
    {
     "data": {
      "text/plain": [
       "'C:\\\\Users\\\\SengTian\\\\Downloads\\\\Temp\\\\Republic Polytechnic\\\\Assignment_ComputerVision\\\\TIPP_AAI_AAISD_CV\\\\Question_1\\\\clean_dataset\\\\train\\\\Little_Tern\\\\_JWO3649a_cr.jpg'"
      ]
     },
     "execution_count": 9,
     "metadata": {},
     "output_type": "execute_result"
    },
    {
     "data": {
      "text/plain": [
       "'C:\\\\Users\\\\SengTian\\\\Downloads\\\\Temp\\\\Republic Polytechnic\\\\Assignment_ComputerVision\\\\TIPP_AAI_AAISD_CV\\\\Question_1\\\\clean_dataset\\\\train\\\\Little_Tern\\\\_JWO3664_cr.jpg'"
      ]
     },
     "execution_count": 9,
     "metadata": {},
     "output_type": "execute_result"
    },
    {
     "data": {
      "text/plain": [
       "'C:\\\\Users\\\\SengTian\\\\Downloads\\\\Temp\\\\Republic Polytechnic\\\\Assignment_ComputerVision\\\\TIPP_AAI_AAISD_CV\\\\Question_1\\\\clean_dataset\\\\train\\\\Common_Kingfisher\\\\_JWO3666_cr.jpg'"
      ]
     },
     "execution_count": 9,
     "metadata": {},
     "output_type": "execute_result"
    },
    {
     "data": {
      "text/plain": [
       "'C:\\\\Users\\\\SengTian\\\\Downloads\\\\Temp\\\\Republic Polytechnic\\\\Assignment_ComputerVision\\\\TIPP_AAI_AAISD_CV\\\\Question_1\\\\clean_dataset\\\\train\\\\Common_Kingfisher\\\\_JWO3687_cr.jpg'"
      ]
     },
     "execution_count": 9,
     "metadata": {},
     "output_type": "execute_result"
    },
    {
     "data": {
      "text/plain": [
       "'C:\\\\Users\\\\SengTian\\\\Downloads\\\\Temp\\\\Republic Polytechnic\\\\Assignment_ComputerVision\\\\TIPP_AAI_AAISD_CV\\\\Question_1\\\\clean_dataset\\\\train\\\\Common_Kingfisher\\\\_JWO3689_cr.jpg'"
      ]
     },
     "execution_count": 9,
     "metadata": {},
     "output_type": "execute_result"
    },
    {
     "data": {
      "text/plain": [
       "'C:\\\\Users\\\\SengTian\\\\Downloads\\\\Temp\\\\Republic Polytechnic\\\\Assignment_ComputerVision\\\\TIPP_AAI_AAISD_CV\\\\Question_1\\\\clean_dataset\\\\train\\\\White-breasted_Waterhen\\\\_JWO3690_cr.jpg'"
      ]
     },
     "execution_count": 9,
     "metadata": {},
     "output_type": "execute_result"
    },
    {
     "data": {
      "text/plain": [
       "'C:\\\\Users\\\\SengTian\\\\Downloads\\\\Temp\\\\Republic Polytechnic\\\\Assignment_ComputerVision\\\\TIPP_AAI_AAISD_CV\\\\Question_1\\\\clean_dataset\\\\train\\\\White-breasted_Waterhen\\\\_JWO3692_cr.jpg'"
      ]
     },
     "execution_count": 9,
     "metadata": {},
     "output_type": "execute_result"
    },
    {
     "data": {
      "text/plain": [
       "'C:\\\\Users\\\\SengTian\\\\Downloads\\\\Temp\\\\Republic Polytechnic\\\\Assignment_ComputerVision\\\\TIPP_AAI_AAISD_CV\\\\Question_1\\\\clean_dataset\\\\train\\\\Common_Kingfisher\\\\_JWO3695_cr.jpg'"
      ]
     },
     "execution_count": 9,
     "metadata": {},
     "output_type": "execute_result"
    },
    {
     "data": {
      "text/plain": [
       "'C:\\\\Users\\\\SengTian\\\\Downloads\\\\Temp\\\\Republic Polytechnic\\\\Assignment_ComputerVision\\\\TIPP_AAI_AAISD_CV\\\\Question_1\\\\clean_dataset\\\\train\\\\White-breasted_Waterhen\\\\_JWO3697_cr.jpg'"
      ]
     },
     "execution_count": 9,
     "metadata": {},
     "output_type": "execute_result"
    },
    {
     "data": {
      "text/plain": [
       "'C:\\\\Users\\\\SengTian\\\\Downloads\\\\Temp\\\\Republic Polytechnic\\\\Assignment_ComputerVision\\\\TIPP_AAI_AAISD_CV\\\\Question_1\\\\clean_dataset\\\\train\\\\Pied_Triller\\\\_JWO3697_cr_cr.jpg'"
      ]
     },
     "execution_count": 9,
     "metadata": {},
     "output_type": "execute_result"
    },
    {
     "data": {
      "text/plain": [
       "'C:\\\\Users\\\\SengTian\\\\Downloads\\\\Temp\\\\Republic Polytechnic\\\\Assignment_ComputerVision\\\\TIPP_AAI_AAISD_CV\\\\Question_1\\\\clean_dataset\\\\train\\\\Grey-headed_Fish_Eagle\\\\_JWO3703_cr.jpg'"
      ]
     },
     "execution_count": 9,
     "metadata": {},
     "output_type": "execute_result"
    },
    {
     "data": {
      "text/plain": [
       "'C:\\\\Users\\\\SengTian\\\\Downloads\\\\Temp\\\\Republic Polytechnic\\\\Assignment_ComputerVision\\\\TIPP_AAI_AAISD_CV\\\\Question_1\\\\clean_dataset\\\\train\\\\Grey-headed_Fish_Eagle\\\\_JWO3704_cr.jpg'"
      ]
     },
     "execution_count": 9,
     "metadata": {},
     "output_type": "execute_result"
    },
    {
     "data": {
      "text/plain": [
       "'C:\\\\Users\\\\SengTian\\\\Downloads\\\\Temp\\\\Republic Polytechnic\\\\Assignment_ComputerVision\\\\TIPP_AAI_AAISD_CV\\\\Question_1\\\\clean_dataset\\\\train\\\\White-breasted_Waterhen\\\\_JWO3704a_cr.jpg'"
      ]
     },
     "execution_count": 9,
     "metadata": {},
     "output_type": "execute_result"
    },
    {
     "data": {
      "text/plain": [
       "'C:\\\\Users\\\\SengTian\\\\Downloads\\\\Temp\\\\Republic Polytechnic\\\\Assignment_ComputerVision\\\\TIPP_AAI_AAISD_CV\\\\Question_1\\\\clean_dataset\\\\train\\\\White-breasted_Waterhen\\\\_JWO3710_cr.jpg'"
      ]
     },
     "execution_count": 9,
     "metadata": {},
     "output_type": "execute_result"
    },
    {
     "data": {
      "text/plain": [
       "'C:\\\\Users\\\\SengTian\\\\Downloads\\\\Temp\\\\Republic Polytechnic\\\\Assignment_ComputerVision\\\\TIPP_AAI_AAISD_CV\\\\Question_1\\\\clean_dataset\\\\train\\\\Common_Kingfisher\\\\_JWO3713_cr.jpg'"
      ]
     },
     "execution_count": 9,
     "metadata": {},
     "output_type": "execute_result"
    },
    {
     "data": {
      "text/plain": [
       "'C:\\\\Users\\\\SengTian\\\\Downloads\\\\Temp\\\\Republic Polytechnic\\\\Assignment_ComputerVision\\\\TIPP_AAI_AAISD_CV\\\\Question_1\\\\clean_dataset\\\\train\\\\Common_Kingfisher\\\\_JWO3726_cr.jpg'"
      ]
     },
     "execution_count": 9,
     "metadata": {},
     "output_type": "execute_result"
    },
    {
     "data": {
      "text/plain": [
       "'C:\\\\Users\\\\SengTian\\\\Downloads\\\\Temp\\\\Republic Polytechnic\\\\Assignment_ComputerVision\\\\TIPP_AAI_AAISD_CV\\\\Question_1\\\\clean_dataset\\\\train\\\\Common_Kingfisher\\\\_JWO3730_cr.jpg'"
      ]
     },
     "execution_count": 9,
     "metadata": {},
     "output_type": "execute_result"
    },
    {
     "data": {
      "text/plain": [
       "'C:\\\\Users\\\\SengTian\\\\Downloads\\\\Temp\\\\Republic Polytechnic\\\\Assignment_ComputerVision\\\\TIPP_AAI_AAISD_CV\\\\Question_1\\\\clean_dataset\\\\train\\\\Grey-headed_Fish_Eagle\\\\_JWO3752_cr.jpg'"
      ]
     },
     "execution_count": 9,
     "metadata": {},
     "output_type": "execute_result"
    },
    {
     "data": {
      "text/plain": [
       "'C:\\\\Users\\\\SengTian\\\\Downloads\\\\Temp\\\\Republic Polytechnic\\\\Assignment_ComputerVision\\\\TIPP_AAI_AAISD_CV\\\\Question_1\\\\clean_dataset\\\\train\\\\Grey-headed_Fish_Eagle\\\\_JWO3759_cr.jpg'"
      ]
     },
     "execution_count": 9,
     "metadata": {},
     "output_type": "execute_result"
    },
    {
     "data": {
      "text/plain": [
       "'C:\\\\Users\\\\SengTian\\\\Downloads\\\\Temp\\\\Republic Polytechnic\\\\Assignment_ComputerVision\\\\TIPP_AAI_AAISD_CV\\\\Question_1\\\\clean_dataset\\\\train\\\\Greater_Racket-tailed_Drongo\\\\_JWO3771_cr.jpg'"
      ]
     },
     "execution_count": 9,
     "metadata": {},
     "output_type": "execute_result"
    },
    {
     "data": {
      "text/plain": [
       "'C:\\\\Users\\\\SengTian\\\\Downloads\\\\Temp\\\\Republic Polytechnic\\\\Assignment_ComputerVision\\\\TIPP_AAI_AAISD_CV\\\\Question_1\\\\clean_dataset\\\\train\\\\White-breasted_Waterhen\\\\_JWO3783_cr.jpg'"
      ]
     },
     "execution_count": 9,
     "metadata": {},
     "output_type": "execute_result"
    },
    {
     "data": {
      "text/plain": [
       "'C:\\\\Users\\\\SengTian\\\\Downloads\\\\Temp\\\\Republic Polytechnic\\\\Assignment_ComputerVision\\\\TIPP_AAI_AAISD_CV\\\\Question_1\\\\clean_dataset\\\\train\\\\White-breasted_Waterhen\\\\_JWO3799_cr.jpg'"
      ]
     },
     "execution_count": 9,
     "metadata": {},
     "output_type": "execute_result"
    },
    {
     "data": {
      "text/plain": [
       "'C:\\\\Users\\\\SengTian\\\\Downloads\\\\Temp\\\\Republic Polytechnic\\\\Assignment_ComputerVision\\\\TIPP_AAI_AAISD_CV\\\\Question_1\\\\clean_dataset\\\\train\\\\Greater_Racket-tailed_Drongo\\\\_JWO3813_cr.jpg'"
      ]
     },
     "execution_count": 9,
     "metadata": {},
     "output_type": "execute_result"
    },
    {
     "data": {
      "text/plain": [
       "'C:\\\\Users\\\\SengTian\\\\Downloads\\\\Temp\\\\Republic Polytechnic\\\\Assignment_ComputerVision\\\\TIPP_AAI_AAISD_CV\\\\Question_1\\\\clean_dataset\\\\train\\\\White-breasted_Waterhen\\\\_JWO3816_cr.jpg'"
      ]
     },
     "execution_count": 9,
     "metadata": {},
     "output_type": "execute_result"
    },
    {
     "data": {
      "text/plain": [
       "'C:\\\\Users\\\\SengTian\\\\Downloads\\\\Temp\\\\Republic Polytechnic\\\\Assignment_ComputerVision\\\\TIPP_AAI_AAISD_CV\\\\Question_1\\\\clean_dataset\\\\train\\\\White-breasted_Waterhen\\\\_JWO3839_cr.jpg'"
      ]
     },
     "execution_count": 9,
     "metadata": {},
     "output_type": "execute_result"
    },
    {
     "data": {
      "text/plain": [
       "'C:\\\\Users\\\\SengTian\\\\Downloads\\\\Temp\\\\Republic Polytechnic\\\\Assignment_ComputerVision\\\\TIPP_AAI_AAISD_CV\\\\Question_1\\\\clean_dataset\\\\train\\\\White-breasted_Waterhen\\\\_JWO3846_cr.jpg'"
      ]
     },
     "execution_count": 9,
     "metadata": {},
     "output_type": "execute_result"
    },
    {
     "data": {
      "text/plain": [
       "'C:\\\\Users\\\\SengTian\\\\Downloads\\\\Temp\\\\Republic Polytechnic\\\\Assignment_ComputerVision\\\\TIPP_AAI_AAISD_CV\\\\Question_1\\\\clean_dataset\\\\train\\\\White-breasted_Waterhen\\\\_JWO3849_cr.jpg'"
      ]
     },
     "execution_count": 9,
     "metadata": {},
     "output_type": "execute_result"
    },
    {
     "data": {
      "text/plain": [
       "'C:\\\\Users\\\\SengTian\\\\Downloads\\\\Temp\\\\Republic Polytechnic\\\\Assignment_ComputerVision\\\\TIPP_AAI_AAISD_CV\\\\Question_1\\\\clean_dataset\\\\train\\\\Greater_Racket-tailed_Drongo\\\\_JWO3853_cr.jpg'"
      ]
     },
     "execution_count": 9,
     "metadata": {},
     "output_type": "execute_result"
    },
    {
     "data": {
      "text/plain": [
       "'C:\\\\Users\\\\SengTian\\\\Downloads\\\\Temp\\\\Republic Polytechnic\\\\Assignment_ComputerVision\\\\TIPP_AAI_AAISD_CV\\\\Question_1\\\\clean_dataset\\\\train\\\\White-breasted_Waterhen\\\\_JWO3854_cr.jpg'"
      ]
     },
     "execution_count": 9,
     "metadata": {},
     "output_type": "execute_result"
    },
    {
     "data": {
      "text/plain": [
       "'C:\\\\Users\\\\SengTian\\\\Downloads\\\\Temp\\\\Republic Polytechnic\\\\Assignment_ComputerVision\\\\TIPP_AAI_AAISD_CV\\\\Question_1\\\\clean_dataset\\\\train\\\\Greater_Racket-tailed_Drongo\\\\_JWO3867_cr.jpg'"
      ]
     },
     "execution_count": 9,
     "metadata": {},
     "output_type": "execute_result"
    },
    {
     "data": {
      "text/plain": [
       "'C:\\\\Users\\\\SengTian\\\\Downloads\\\\Temp\\\\Republic Polytechnic\\\\Assignment_ComputerVision\\\\TIPP_AAI_AAISD_CV\\\\Question_1\\\\clean_dataset\\\\train\\\\White-breasted_Waterhen\\\\_JWO3867a_cr.jpg'"
      ]
     },
     "execution_count": 9,
     "metadata": {},
     "output_type": "execute_result"
    },
    {
     "data": {
      "text/plain": [
       "'C:\\\\Users\\\\SengTian\\\\Downloads\\\\Temp\\\\Republic Polytechnic\\\\Assignment_ComputerVision\\\\TIPP_AAI_AAISD_CV\\\\Question_1\\\\clean_dataset\\\\train\\\\Greater_Racket-tailed_Drongo\\\\_JWO3875_cr.jpg'"
      ]
     },
     "execution_count": 9,
     "metadata": {},
     "output_type": "execute_result"
    },
    {
     "data": {
      "text/plain": [
       "'C:\\\\Users\\\\SengTian\\\\Downloads\\\\Temp\\\\Republic Polytechnic\\\\Assignment_ComputerVision\\\\TIPP_AAI_AAISD_CV\\\\Question_1\\\\clean_dataset\\\\train\\\\White-breasted_Waterhen\\\\_JWO3876_cr.jpg'"
      ]
     },
     "execution_count": 9,
     "metadata": {},
     "output_type": "execute_result"
    },
    {
     "data": {
      "text/plain": [
       "'C:\\\\Users\\\\SengTian\\\\Downloads\\\\Temp\\\\Republic Polytechnic\\\\Assignment_ComputerVision\\\\TIPP_AAI_AAISD_CV\\\\Question_1\\\\clean_dataset\\\\train\\\\White-breasted_Waterhen\\\\_JWO3878_cr.jpg'"
      ]
     },
     "execution_count": 9,
     "metadata": {},
     "output_type": "execute_result"
    },
    {
     "data": {
      "text/plain": [
       "'C:\\\\Users\\\\SengTian\\\\Downloads\\\\Temp\\\\Republic Polytechnic\\\\Assignment_ComputerVision\\\\TIPP_AAI_AAISD_CV\\\\Question_1\\\\clean_dataset\\\\train\\\\Grey_Heron\\\\_JWO3894_cr.jpg'"
      ]
     },
     "execution_count": 9,
     "metadata": {},
     "output_type": "execute_result"
    },
    {
     "data": {
      "text/plain": [
       "'C:\\\\Users\\\\SengTian\\\\Downloads\\\\Temp\\\\Republic Polytechnic\\\\Assignment_ComputerVision\\\\TIPP_AAI_AAISD_CV\\\\Question_1\\\\clean_dataset\\\\train\\\\White-breasted_Waterhen\\\\_JWO3901_cr.jpg'"
      ]
     },
     "execution_count": 9,
     "metadata": {},
     "output_type": "execute_result"
    },
    {
     "data": {
      "text/plain": [
       "'C:\\\\Users\\\\SengTian\\\\Downloads\\\\Temp\\\\Republic Polytechnic\\\\Assignment_ComputerVision\\\\TIPP_AAI_AAISD_CV\\\\Question_1\\\\clean_dataset\\\\train\\\\Greater_Racket-tailed_Drongo\\\\_JWO3903_cr.jpg'"
      ]
     },
     "execution_count": 9,
     "metadata": {},
     "output_type": "execute_result"
    },
    {
     "data": {
      "text/plain": [
       "'C:\\\\Users\\\\SengTian\\\\Downloads\\\\Temp\\\\Republic Polytechnic\\\\Assignment_ComputerVision\\\\TIPP_AAI_AAISD_CV\\\\Question_1\\\\clean_dataset\\\\train\\\\White-breasted_Waterhen\\\\_JWO3905_cr.jpg'"
      ]
     },
     "execution_count": 9,
     "metadata": {},
     "output_type": "execute_result"
    },
    {
     "data": {
      "text/plain": [
       "'C:\\\\Users\\\\SengTian\\\\Downloads\\\\Temp\\\\Republic Polytechnic\\\\Assignment_ComputerVision\\\\TIPP_AAI_AAISD_CV\\\\Question_1\\\\clean_dataset\\\\train\\\\White-breasted_Waterhen\\\\_JWO3912_cr.jpg'"
      ]
     },
     "execution_count": 9,
     "metadata": {},
     "output_type": "execute_result"
    },
    {
     "data": {
      "text/plain": [
       "'C:\\\\Users\\\\SengTian\\\\Downloads\\\\Temp\\\\Republic Polytechnic\\\\Assignment_ComputerVision\\\\TIPP_AAI_AAISD_CV\\\\Question_1\\\\clean_dataset\\\\train\\\\White-breasted_Waterhen\\\\_JWO3943_cr.jpg'"
      ]
     },
     "execution_count": 9,
     "metadata": {},
     "output_type": "execute_result"
    },
    {
     "data": {
      "text/plain": [
       "'C:\\\\Users\\\\SengTian\\\\Downloads\\\\Temp\\\\Republic Polytechnic\\\\Assignment_ComputerVision\\\\TIPP_AAI_AAISD_CV\\\\Question_1\\\\clean_dataset\\\\train\\\\White-breasted_Waterhen\\\\_JWO3944_cr.jpg'"
      ]
     },
     "execution_count": 9,
     "metadata": {},
     "output_type": "execute_result"
    },
    {
     "data": {
      "text/plain": [
       "'C:\\\\Users\\\\SengTian\\\\Downloads\\\\Temp\\\\Republic Polytechnic\\\\Assignment_ComputerVision\\\\TIPP_AAI_AAISD_CV\\\\Question_1\\\\clean_dataset\\\\train\\\\White-breasted_Waterhen\\\\_JWO3954_cr.jpg'"
      ]
     },
     "execution_count": 9,
     "metadata": {},
     "output_type": "execute_result"
    },
    {
     "data": {
      "text/plain": [
       "'C:\\\\Users\\\\SengTian\\\\Downloads\\\\Temp\\\\Republic Polytechnic\\\\Assignment_ComputerVision\\\\TIPP_AAI_AAISD_CV\\\\Question_1\\\\clean_dataset\\\\train\\\\White-breasted_Waterhen\\\\_JWO3977_cr.jpg'"
      ]
     },
     "execution_count": 9,
     "metadata": {},
     "output_type": "execute_result"
    },
    {
     "data": {
      "text/plain": [
       "'C:\\\\Users\\\\SengTian\\\\Downloads\\\\Temp\\\\Republic Polytechnic\\\\Assignment_ComputerVision\\\\TIPP_AAI_AAISD_CV\\\\Question_1\\\\clean_dataset\\\\train\\\\Tiger_Shrike\\\\_JWO3982_cr.jpg'"
      ]
     },
     "execution_count": 9,
     "metadata": {},
     "output_type": "execute_result"
    },
    {
     "data": {
      "text/plain": [
       "'C:\\\\Users\\\\SengTian\\\\Downloads\\\\Temp\\\\Republic Polytechnic\\\\Assignment_ComputerVision\\\\TIPP_AAI_AAISD_CV\\\\Question_1\\\\clean_dataset\\\\train\\\\White-breasted_Waterhen\\\\_JWO3995_cr.jpg'"
      ]
     },
     "execution_count": 9,
     "metadata": {},
     "output_type": "execute_result"
    },
    {
     "data": {
      "text/plain": [
       "'C:\\\\Users\\\\SengTian\\\\Downloads\\\\Temp\\\\Republic Polytechnic\\\\Assignment_ComputerVision\\\\TIPP_AAI_AAISD_CV\\\\Question_1\\\\clean_dataset\\\\train\\\\White-breasted_Waterhen\\\\_JWO3996_cr.jpg'"
      ]
     },
     "execution_count": 9,
     "metadata": {},
     "output_type": "execute_result"
    },
    {
     "data": {
      "text/plain": [
       "'C:\\\\Users\\\\SengTian\\\\Downloads\\\\Temp\\\\Republic Polytechnic\\\\Assignment_ComputerVision\\\\TIPP_AAI_AAISD_CV\\\\Question_1\\\\clean_dataset\\\\train\\\\Tiger_Shrike\\\\_JWO4004_cr.jpg'"
      ]
     },
     "execution_count": 9,
     "metadata": {},
     "output_type": "execute_result"
    },
    {
     "data": {
      "text/plain": [
       "'C:\\\\Users\\\\SengTian\\\\Downloads\\\\Temp\\\\Republic Polytechnic\\\\Assignment_ComputerVision\\\\TIPP_AAI_AAISD_CV\\\\Question_1\\\\clean_dataset\\\\train\\\\Tiger_Shrike\\\\_JWO4023_cr.jpg'"
      ]
     },
     "execution_count": 9,
     "metadata": {},
     "output_type": "execute_result"
    },
    {
     "data": {
      "text/plain": [
       "'C:\\\\Users\\\\SengTian\\\\Downloads\\\\Temp\\\\Republic Polytechnic\\\\Assignment_ComputerVision\\\\TIPP_AAI_AAISD_CV\\\\Question_1\\\\clean_dataset\\\\train\\\\White-breasted_Waterhen\\\\_JWO4032_cr.jpg'"
      ]
     },
     "execution_count": 9,
     "metadata": {},
     "output_type": "execute_result"
    },
    {
     "data": {
      "text/plain": [
       "'C:\\\\Users\\\\SengTian\\\\Downloads\\\\Temp\\\\Republic Polytechnic\\\\Assignment_ComputerVision\\\\TIPP_AAI_AAISD_CV\\\\Question_1\\\\clean_dataset\\\\train\\\\Grey_Heron\\\\_JWO4155_cr.jpg'"
      ]
     },
     "execution_count": 9,
     "metadata": {},
     "output_type": "execute_result"
    },
    {
     "data": {
      "text/plain": [
       "'C:\\\\Users\\\\SengTian\\\\Downloads\\\\Temp\\\\Republic Polytechnic\\\\Assignment_ComputerVision\\\\TIPP_AAI_AAISD_CV\\\\Question_1\\\\clean_dataset\\\\train\\\\Black-crowned_Night_Heron\\\\_JWO4161_cr.jpg'"
      ]
     },
     "execution_count": 9,
     "metadata": {},
     "output_type": "execute_result"
    },
    {
     "data": {
      "text/plain": [
       "'C:\\\\Users\\\\SengTian\\\\Downloads\\\\Temp\\\\Republic Polytechnic\\\\Assignment_ComputerVision\\\\TIPP_AAI_AAISD_CV\\\\Question_1\\\\clean_dataset\\\\train\\\\Black-crowned_Night_Heron\\\\_JWO4174_cr.jpg'"
      ]
     },
     "execution_count": 9,
     "metadata": {},
     "output_type": "execute_result"
    },
    {
     "data": {
      "text/plain": [
       "\"C:\\\\Users\\\\SengTian\\\\Downloads\\\\Temp\\\\Republic Polytechnic\\\\Assignment_ComputerVision\\\\TIPP_AAI_AAISD_CV\\\\Question_1\\\\clean_dataset\\\\train\\\\Blyth's_Asian_Paradise_Flycatcher\\\\_JWO4183_cr.jpg\""
      ]
     },
     "execution_count": 9,
     "metadata": {},
     "output_type": "execute_result"
    },
    {
     "data": {
      "text/plain": [
       "\"C:\\\\Users\\\\SengTian\\\\Downloads\\\\Temp\\\\Republic Polytechnic\\\\Assignment_ComputerVision\\\\TIPP_AAI_AAISD_CV\\\\Question_1\\\\clean_dataset\\\\train\\\\Blyth's_Asian_Paradise_Flycatcher\\\\_JWO4184_cr.jpg\""
      ]
     },
     "execution_count": 9,
     "metadata": {},
     "output_type": "execute_result"
    },
    {
     "data": {
      "text/plain": [
       "'C:\\\\Users\\\\SengTian\\\\Downloads\\\\Temp\\\\Republic Polytechnic\\\\Assignment_ComputerVision\\\\TIPP_AAI_AAISD_CV\\\\Question_1\\\\clean_dataset\\\\train\\\\Pied_Triller\\\\_JWO4260_cr.jpg'"
      ]
     },
     "execution_count": 9,
     "metadata": {},
     "output_type": "execute_result"
    },
    {
     "data": {
      "text/plain": [
       "'C:\\\\Users\\\\SengTian\\\\Downloads\\\\Temp\\\\Republic Polytechnic\\\\Assignment_ComputerVision\\\\TIPP_AAI_AAISD_CV\\\\Question_1\\\\clean_dataset\\\\train\\\\Pied_Triller\\\\_JWO4269_cr.jpg'"
      ]
     },
     "execution_count": 9,
     "metadata": {},
     "output_type": "execute_result"
    },
    {
     "data": {
      "text/plain": [
       "'C:\\\\Users\\\\SengTian\\\\Downloads\\\\Temp\\\\Republic Polytechnic\\\\Assignment_ComputerVision\\\\TIPP_AAI_AAISD_CV\\\\Question_1\\\\clean_dataset\\\\train\\\\Painted_Stork\\\\_JWO4302_1_cr.jpg'"
      ]
     },
     "execution_count": 9,
     "metadata": {},
     "output_type": "execute_result"
    },
    {
     "data": {
      "text/plain": [
       "'C:\\\\Users\\\\SengTian\\\\Downloads\\\\Temp\\\\Republic Polytechnic\\\\Assignment_ComputerVision\\\\TIPP_AAI_AAISD_CV\\\\Question_1\\\\clean_dataset\\\\train\\\\Painted_Stork\\\\_JWO4309_cr.jpg'"
      ]
     },
     "execution_count": 9,
     "metadata": {},
     "output_type": "execute_result"
    },
    {
     "data": {
      "text/plain": [
       "'C:\\\\Users\\\\SengTian\\\\Downloads\\\\Temp\\\\Republic Polytechnic\\\\Assignment_ComputerVision\\\\TIPP_AAI_AAISD_CV\\\\Question_1\\\\clean_dataset\\\\train\\\\Pied_Triller\\\\_JWO4335_cr.jpg'"
      ]
     },
     "execution_count": 9,
     "metadata": {},
     "output_type": "execute_result"
    },
    {
     "data": {
      "text/plain": [
       "'C:\\\\Users\\\\SengTian\\\\Downloads\\\\Temp\\\\Republic Polytechnic\\\\Assignment_ComputerVision\\\\TIPP_AAI_AAISD_CV\\\\Question_1\\\\clean_dataset\\\\train\\\\Blue-winged_Pita\\\\_JWO4357_cr.jpg'"
      ]
     },
     "execution_count": 9,
     "metadata": {},
     "output_type": "execute_result"
    },
    {
     "data": {
      "text/plain": [
       "'C:\\\\Users\\\\SengTian\\\\Downloads\\\\Temp\\\\Republic Polytechnic\\\\Assignment_ComputerVision\\\\TIPP_AAI_AAISD_CV\\\\Question_1\\\\clean_dataset\\\\train\\\\Pied_Triller\\\\_JWO4363_cr.jpg'"
      ]
     },
     "execution_count": 9,
     "metadata": {},
     "output_type": "execute_result"
    },
    {
     "data": {
      "text/plain": [
       "'C:\\\\Users\\\\SengTian\\\\Downloads\\\\Temp\\\\Republic Polytechnic\\\\Assignment_ComputerVision\\\\TIPP_AAI_AAISD_CV\\\\Question_1\\\\clean_dataset\\\\train\\\\Pied_Triller\\\\_JWO4364_cr.jpg'"
      ]
     },
     "execution_count": 9,
     "metadata": {},
     "output_type": "execute_result"
    },
    {
     "data": {
      "text/plain": [
       "'C:\\\\Users\\\\SengTian\\\\Downloads\\\\Temp\\\\Republic Polytechnic\\\\Assignment_ComputerVision\\\\TIPP_AAI_AAISD_CV\\\\Question_1\\\\clean_dataset\\\\train\\\\Pied_Triller\\\\_JWO4389_cr.jpg'"
      ]
     },
     "execution_count": 9,
     "metadata": {},
     "output_type": "execute_result"
    },
    {
     "data": {
      "text/plain": [
       "'C:\\\\Users\\\\SengTian\\\\Downloads\\\\Temp\\\\Republic Polytechnic\\\\Assignment_ComputerVision\\\\TIPP_AAI_AAISD_CV\\\\Question_1\\\\clean_dataset\\\\train\\\\Pied_Triller\\\\_JWO4424_cr.jpg'"
      ]
     },
     "execution_count": 9,
     "metadata": {},
     "output_type": "execute_result"
    },
    {
     "data": {
      "text/plain": [
       "'C:\\\\Users\\\\SengTian\\\\Downloads\\\\Temp\\\\Republic Polytechnic\\\\Assignment_ComputerVision\\\\TIPP_AAI_AAISD_CV\\\\Question_1\\\\clean_dataset\\\\train\\\\Pied_Triller\\\\_JWO4425_cr.jpg'"
      ]
     },
     "execution_count": 9,
     "metadata": {},
     "output_type": "execute_result"
    },
    {
     "data": {
      "text/plain": [
       "'C:\\\\Users\\\\SengTian\\\\Downloads\\\\Temp\\\\Republic Polytechnic\\\\Assignment_ComputerVision\\\\TIPP_AAI_AAISD_CV\\\\Question_1\\\\clean_dataset\\\\train\\\\Blue-winged_Pita\\\\_JWO4425a_cr.jpg'"
      ]
     },
     "execution_count": 9,
     "metadata": {},
     "output_type": "execute_result"
    },
    {
     "data": {
      "text/plain": [
       "'C:\\\\Users\\\\SengTian\\\\Downloads\\\\Temp\\\\Republic Polytechnic\\\\Assignment_ComputerVision\\\\TIPP_AAI_AAISD_CV\\\\Question_1\\\\clean_dataset\\\\train\\\\Pied_Triller\\\\_JWO4441_cr.jpg'"
      ]
     },
     "execution_count": 9,
     "metadata": {},
     "output_type": "execute_result"
    },
    {
     "data": {
      "text/plain": [
       "'C:\\\\Users\\\\SengTian\\\\Downloads\\\\Temp\\\\Republic Polytechnic\\\\Assignment_ComputerVision\\\\TIPP_AAI_AAISD_CV\\\\Question_1\\\\clean_dataset\\\\train\\\\Pied_Triller\\\\_JWO4449_cr.jpg'"
      ]
     },
     "execution_count": 9,
     "metadata": {},
     "output_type": "execute_result"
    },
    {
     "data": {
      "text/plain": [
       "'C:\\\\Users\\\\SengTian\\\\Downloads\\\\Temp\\\\Republic Polytechnic\\\\Assignment_ComputerVision\\\\TIPP_AAI_AAISD_CV\\\\Question_1\\\\clean_dataset\\\\train\\\\Grey_Heron\\\\_JWO4524_cr.jpg'"
      ]
     },
     "execution_count": 9,
     "metadata": {},
     "output_type": "execute_result"
    },
    {
     "data": {
      "text/plain": [
       "'C:\\\\Users\\\\SengTian\\\\Downloads\\\\Temp\\\\Republic Polytechnic\\\\Assignment_ComputerVision\\\\TIPP_AAI_AAISD_CV\\\\Question_1\\\\clean_dataset\\\\train\\\\Blue-winged_Pita\\\\_JWO4587_cr.jpg'"
      ]
     },
     "execution_count": 9,
     "metadata": {},
     "output_type": "execute_result"
    },
    {
     "data": {
      "text/plain": [
       "'C:\\\\Users\\\\SengTian\\\\Downloads\\\\Temp\\\\Republic Polytechnic\\\\Assignment_ComputerVision\\\\TIPP_AAI_AAISD_CV\\\\Question_1\\\\clean_dataset\\\\train\\\\Blue-winged_Pita\\\\_JWO4589_cr.jpg'"
      ]
     },
     "execution_count": 9,
     "metadata": {},
     "output_type": "execute_result"
    },
    {
     "data": {
      "text/plain": [
       "'C:\\\\Users\\\\SengTian\\\\Downloads\\\\Temp\\\\Republic Polytechnic\\\\Assignment_ComputerVision\\\\TIPP_AAI_AAISD_CV\\\\Question_1\\\\clean_dataset\\\\train\\\\Sunda_Scoops_Owl\\\\_JWO4591_cr.jpg'"
      ]
     },
     "execution_count": 9,
     "metadata": {},
     "output_type": "execute_result"
    },
    {
     "data": {
      "text/plain": [
       "'C:\\\\Users\\\\SengTian\\\\Downloads\\\\Temp\\\\Republic Polytechnic\\\\Assignment_ComputerVision\\\\TIPP_AAI_AAISD_CV\\\\Question_1\\\\clean_dataset\\\\train\\\\Blue-winged_Pita\\\\_JWO4591a_cr.jpg'"
      ]
     },
     "execution_count": 9,
     "metadata": {},
     "output_type": "execute_result"
    },
    {
     "data": {
      "text/plain": [
       "'C:\\\\Users\\\\SengTian\\\\Downloads\\\\Temp\\\\Republic Polytechnic\\\\Assignment_ComputerVision\\\\TIPP_AAI_AAISD_CV\\\\Question_1\\\\clean_dataset\\\\train\\\\Sunda_Scoops_Owl\\\\_JWO4596_cr.jpg'"
      ]
     },
     "execution_count": 9,
     "metadata": {},
     "output_type": "execute_result"
    },
    {
     "data": {
      "text/plain": [
       "'C:\\\\Users\\\\SengTian\\\\Downloads\\\\Temp\\\\Republic Polytechnic\\\\Assignment_ComputerVision\\\\TIPP_AAI_AAISD_CV\\\\Question_1\\\\clean_dataset\\\\train\\\\Sunda_Scoops_Owl\\\\_JWO4602_cr.jpg'"
      ]
     },
     "execution_count": 9,
     "metadata": {},
     "output_type": "execute_result"
    },
    {
     "data": {
      "text/plain": [
       "'C:\\\\Users\\\\SengTian\\\\Downloads\\\\Temp\\\\Republic Polytechnic\\\\Assignment_ComputerVision\\\\TIPP_AAI_AAISD_CV\\\\Question_1\\\\clean_dataset\\\\train\\\\Sunda_Scoops_Owl\\\\_JWO4607_cr.jpg'"
      ]
     },
     "execution_count": 9,
     "metadata": {},
     "output_type": "execute_result"
    },
    {
     "data": {
      "text/plain": [
       "'C:\\\\Users\\\\SengTian\\\\Downloads\\\\Temp\\\\Republic Polytechnic\\\\Assignment_ComputerVision\\\\TIPP_AAI_AAISD_CV\\\\Question_1\\\\clean_dataset\\\\train\\\\Sunda_Scoops_Owl\\\\_JWO4618_cr.jpg'"
      ]
     },
     "execution_count": 9,
     "metadata": {},
     "output_type": "execute_result"
    },
    {
     "data": {
      "text/plain": [
       "'C:\\\\Users\\\\SengTian\\\\Downloads\\\\Temp\\\\Republic Polytechnic\\\\Assignment_ComputerVision\\\\TIPP_AAI_AAISD_CV\\\\Question_1\\\\clean_dataset\\\\train\\\\Blue-winged_Pita\\\\_JWO4620_cr.jpg'"
      ]
     },
     "execution_count": 9,
     "metadata": {},
     "output_type": "execute_result"
    },
    {
     "data": {
      "text/plain": [
       "'C:\\\\Users\\\\SengTian\\\\Downloads\\\\Temp\\\\Republic Polytechnic\\\\Assignment_ComputerVision\\\\TIPP_AAI_AAISD_CV\\\\Question_1\\\\clean_dataset\\\\train\\\\Yellow-vented_Bulbul\\\\_JWO4626_cr.jpg'"
      ]
     },
     "execution_count": 9,
     "metadata": {},
     "output_type": "execute_result"
    },
    {
     "data": {
      "text/plain": [
       "'C:\\\\Users\\\\SengTian\\\\Downloads\\\\Temp\\\\Republic Polytechnic\\\\Assignment_ComputerVision\\\\TIPP_AAI_AAISD_CV\\\\Question_1\\\\clean_dataset\\\\train\\\\Little_Tern\\\\_JWO4627_cr.jpg'"
      ]
     },
     "execution_count": 9,
     "metadata": {},
     "output_type": "execute_result"
    },
    {
     "data": {
      "text/plain": [
       "'C:\\\\Users\\\\SengTian\\\\Downloads\\\\Temp\\\\Republic Polytechnic\\\\Assignment_ComputerVision\\\\TIPP_AAI_AAISD_CV\\\\Question_1\\\\clean_dataset\\\\train\\\\Yellow-vented_Bulbul\\\\_JWO4635_cr.jpg'"
      ]
     },
     "execution_count": 9,
     "metadata": {},
     "output_type": "execute_result"
    },
    {
     "data": {
      "text/plain": [
       "'C:\\\\Users\\\\SengTian\\\\Downloads\\\\Temp\\\\Republic Polytechnic\\\\Assignment_ComputerVision\\\\TIPP_AAI_AAISD_CV\\\\Question_1\\\\clean_dataset\\\\train\\\\Little_Tern\\\\_JWO4656_cr.jpg'"
      ]
     },
     "execution_count": 9,
     "metadata": {},
     "output_type": "execute_result"
    },
    {
     "data": {
      "text/plain": [
       "'C:\\\\Users\\\\SengTian\\\\Downloads\\\\Temp\\\\Republic Polytechnic\\\\Assignment_ComputerVision\\\\TIPP_AAI_AAISD_CV\\\\Question_1\\\\clean_dataset\\\\train\\\\Little_Tern\\\\_JWO4664_cr.jpg'"
      ]
     },
     "execution_count": 9,
     "metadata": {},
     "output_type": "execute_result"
    },
    {
     "data": {
      "text/plain": [
       "'C:\\\\Users\\\\SengTian\\\\Downloads\\\\Temp\\\\Republic Polytechnic\\\\Assignment_ComputerVision\\\\TIPP_AAI_AAISD_CV\\\\Question_1\\\\clean_dataset\\\\train\\\\Yellow-vented_Bulbul\\\\_JWO4671_cr.jpg'"
      ]
     },
     "execution_count": 9,
     "metadata": {},
     "output_type": "execute_result"
    },
    {
     "data": {
      "text/plain": [
       "'C:\\\\Users\\\\SengTian\\\\Downloads\\\\Temp\\\\Republic Polytechnic\\\\Assignment_ComputerVision\\\\TIPP_AAI_AAISD_CV\\\\Question_1\\\\clean_dataset\\\\train\\\\Blue-winged_Pita\\\\_JWO4672_cr.jpg'"
      ]
     },
     "execution_count": 9,
     "metadata": {},
     "output_type": "execute_result"
    },
    {
     "data": {
      "text/plain": [
       "'C:\\\\Users\\\\SengTian\\\\Downloads\\\\Temp\\\\Republic Polytechnic\\\\Assignment_ComputerVision\\\\TIPP_AAI_AAISD_CV\\\\Question_1\\\\clean_dataset\\\\train\\\\Yellow-vented_Bulbul\\\\_JWO4676_cr.jpg'"
      ]
     },
     "execution_count": 9,
     "metadata": {},
     "output_type": "execute_result"
    },
    {
     "data": {
      "text/plain": [
       "'C:\\\\Users\\\\SengTian\\\\Downloads\\\\Temp\\\\Republic Polytechnic\\\\Assignment_ComputerVision\\\\TIPP_AAI_AAISD_CV\\\\Question_1\\\\clean_dataset\\\\train\\\\Blue-winged_Pita\\\\_JWO4678_cr.jpg'"
      ]
     },
     "execution_count": 9,
     "metadata": {},
     "output_type": "execute_result"
    },
    {
     "data": {
      "text/plain": [
       "'C:\\\\Users\\\\SengTian\\\\Downloads\\\\Temp\\\\Republic Polytechnic\\\\Assignment_ComputerVision\\\\TIPP_AAI_AAISD_CV\\\\Question_1\\\\clean_dataset\\\\train\\\\Little_Tern\\\\_JWO4688_cr.jpg'"
      ]
     },
     "execution_count": 9,
     "metadata": {},
     "output_type": "execute_result"
    },
    {
     "data": {
      "text/plain": [
       "'C:\\\\Users\\\\SengTian\\\\Downloads\\\\Temp\\\\Republic Polytechnic\\\\Assignment_ComputerVision\\\\TIPP_AAI_AAISD_CV\\\\Question_1\\\\clean_dataset\\\\train\\\\Blue-winged_Pita\\\\_JWO4692_cr.jpg'"
      ]
     },
     "execution_count": 9,
     "metadata": {},
     "output_type": "execute_result"
    },
    {
     "data": {
      "text/plain": [
       "'C:\\\\Users\\\\SengTian\\\\Downloads\\\\Temp\\\\Republic Polytechnic\\\\Assignment_ComputerVision\\\\TIPP_AAI_AAISD_CV\\\\Question_1\\\\clean_dataset\\\\train\\\\Blue-winged_Pita\\\\_JWO4693_cr.jpg'"
      ]
     },
     "execution_count": 9,
     "metadata": {},
     "output_type": "execute_result"
    },
    {
     "data": {
      "text/plain": [
       "'C:\\\\Users\\\\SengTian\\\\Downloads\\\\Temp\\\\Republic Polytechnic\\\\Assignment_ComputerVision\\\\TIPP_AAI_AAISD_CV\\\\Question_1\\\\clean_dataset\\\\train\\\\Yellow-vented_Bulbul\\\\_JWO4700_cr.jpg'"
      ]
     },
     "execution_count": 9,
     "metadata": {},
     "output_type": "execute_result"
    },
    {
     "data": {
      "text/plain": [
       "'C:\\\\Users\\\\SengTian\\\\Downloads\\\\Temp\\\\Republic Polytechnic\\\\Assignment_ComputerVision\\\\TIPP_AAI_AAISD_CV\\\\Question_1\\\\clean_dataset\\\\train\\\\Little_Tern\\\\_JWO4701_cr.jpg'"
      ]
     },
     "execution_count": 9,
     "metadata": {},
     "output_type": "execute_result"
    },
    {
     "data": {
      "text/plain": [
       "'C:\\\\Users\\\\SengTian\\\\Downloads\\\\Temp\\\\Republic Polytechnic\\\\Assignment_ComputerVision\\\\TIPP_AAI_AAISD_CV\\\\Question_1\\\\clean_dataset\\\\train\\\\Yellow-vented_Bulbul\\\\_JWO4708_cr.jpg'"
      ]
     },
     "execution_count": 9,
     "metadata": {},
     "output_type": "execute_result"
    },
    {
     "data": {
      "text/plain": [
       "'C:\\\\Users\\\\SengTian\\\\Downloads\\\\Temp\\\\Republic Polytechnic\\\\Assignment_ComputerVision\\\\TIPP_AAI_AAISD_CV\\\\Question_1\\\\clean_dataset\\\\train\\\\Yellow-vented_Bulbul\\\\_JWO4711_cr.jpg'"
      ]
     },
     "execution_count": 9,
     "metadata": {},
     "output_type": "execute_result"
    },
    {
     "data": {
      "text/plain": [
       "\"C:\\\\Users\\\\SengTian\\\\Downloads\\\\Temp\\\\Republic Polytechnic\\\\Assignment_ComputerVision\\\\TIPP_AAI_AAISD_CV\\\\Question_1\\\\clean_dataset\\\\train\\\\Zappey's_Flycatcher\\\\_JWO4722_cr.jpg\""
      ]
     },
     "execution_count": 9,
     "metadata": {},
     "output_type": "execute_result"
    },
    {
     "data": {
      "text/plain": [
       "\"C:\\\\Users\\\\SengTian\\\\Downloads\\\\Temp\\\\Republic Polytechnic\\\\Assignment_ComputerVision\\\\TIPP_AAI_AAISD_CV\\\\Question_1\\\\clean_dataset\\\\train\\\\Zappey's_Flycatcher\\\\_JWO4725_cr.jpg\""
      ]
     },
     "execution_count": 9,
     "metadata": {},
     "output_type": "execute_result"
    },
    {
     "data": {
      "text/plain": [
       "'C:\\\\Users\\\\SengTian\\\\Downloads\\\\Temp\\\\Republic Polytechnic\\\\Assignment_ComputerVision\\\\TIPP_AAI_AAISD_CV\\\\Question_1\\\\clean_dataset\\\\train\\\\Little_Tern\\\\_JWO4726_cr.jpg'"
      ]
     },
     "execution_count": 9,
     "metadata": {},
     "output_type": "execute_result"
    },
    {
     "data": {
      "text/plain": [
       "'C:\\\\Users\\\\SengTian\\\\Downloads\\\\Temp\\\\Republic Polytechnic\\\\Assignment_ComputerVision\\\\TIPP_AAI_AAISD_CV\\\\Question_1\\\\clean_dataset\\\\train\\\\Yellow-vented_Bulbul\\\\_JWO4729_cr.jpg'"
      ]
     },
     "execution_count": 9,
     "metadata": {},
     "output_type": "execute_result"
    },
    {
     "data": {
      "text/plain": [
       "\"C:\\\\Users\\\\SengTian\\\\Downloads\\\\Temp\\\\Republic Polytechnic\\\\Assignment_ComputerVision\\\\TIPP_AAI_AAISD_CV\\\\Question_1\\\\clean_dataset\\\\train\\\\Zappey's_Flycatcher\\\\_JWO4729a_cr.jpg\""
      ]
     },
     "execution_count": 9,
     "metadata": {},
     "output_type": "execute_result"
    },
    {
     "data": {
      "text/plain": [
       "'C:\\\\Users\\\\SengTian\\\\Downloads\\\\Temp\\\\Republic Polytechnic\\\\Assignment_ComputerVision\\\\TIPP_AAI_AAISD_CV\\\\Question_1\\\\clean_dataset\\\\train\\\\Little_Tern\\\\_JWO4732_cr.jpg'"
      ]
     },
     "execution_count": 9,
     "metadata": {},
     "output_type": "execute_result"
    },
    {
     "data": {
      "text/plain": [
       "'C:\\\\Users\\\\SengTian\\\\Downloads\\\\Temp\\\\Republic Polytechnic\\\\Assignment_ComputerVision\\\\TIPP_AAI_AAISD_CV\\\\Question_1\\\\clean_dataset\\\\train\\\\Common_Flamebacked_Woodpecker\\\\_JWO4760_cr.jpg'"
      ]
     },
     "execution_count": 9,
     "metadata": {},
     "output_type": "execute_result"
    },
    {
     "data": {
      "text/plain": [
       "'C:\\\\Users\\\\SengTian\\\\Downloads\\\\Temp\\\\Republic Polytechnic\\\\Assignment_ComputerVision\\\\TIPP_AAI_AAISD_CV\\\\Question_1\\\\clean_dataset\\\\train\\\\Little_Tern\\\\_JWO4776_cr.jpg'"
      ]
     },
     "execution_count": 9,
     "metadata": {},
     "output_type": "execute_result"
    },
    {
     "data": {
      "text/plain": [
       "'C:\\\\Users\\\\SengTian\\\\Downloads\\\\Temp\\\\Republic Polytechnic\\\\Assignment_ComputerVision\\\\TIPP_AAI_AAISD_CV\\\\Question_1\\\\clean_dataset\\\\train\\\\Oriental_Pied_Hornbill\\\\_JWO4781_cr.jpg'"
      ]
     },
     "execution_count": 9,
     "metadata": {},
     "output_type": "execute_result"
    },
    {
     "data": {
      "text/plain": [
       "'C:\\\\Users\\\\SengTian\\\\Downloads\\\\Temp\\\\Republic Polytechnic\\\\Assignment_ComputerVision\\\\TIPP_AAI_AAISD_CV\\\\Question_1\\\\clean_dataset\\\\train\\\\Oriental_Pied_Hornbill\\\\_JWO4786_cr.jpg'"
      ]
     },
     "execution_count": 9,
     "metadata": {},
     "output_type": "execute_result"
    },
    {
     "data": {
      "text/plain": [
       "'C:\\\\Users\\\\SengTian\\\\Downloads\\\\Temp\\\\Republic Polytechnic\\\\Assignment_ComputerVision\\\\TIPP_AAI_AAISD_CV\\\\Question_1\\\\clean_dataset\\\\train\\\\Yellow-vented_Bulbul\\\\_JWO4786a_cr.jpg'"
      ]
     },
     "execution_count": 9,
     "metadata": {},
     "output_type": "execute_result"
    },
    {
     "data": {
      "text/plain": [
       "'C:\\\\Users\\\\SengTian\\\\Downloads\\\\Temp\\\\Republic Polytechnic\\\\Assignment_ComputerVision\\\\TIPP_AAI_AAISD_CV\\\\Question_1\\\\clean_dataset\\\\train\\\\Oriental_Pied_Hornbill\\\\_JWO4790_cr.jpg'"
      ]
     },
     "execution_count": 9,
     "metadata": {},
     "output_type": "execute_result"
    },
    {
     "data": {
      "text/plain": [
       "'C:\\\\Users\\\\SengTian\\\\Downloads\\\\Temp\\\\Republic Polytechnic\\\\Assignment_ComputerVision\\\\TIPP_AAI_AAISD_CV\\\\Question_1\\\\clean_dataset\\\\train\\\\Yellow-vented_Bulbul\\\\_JWO4791_cr.jpg'"
      ]
     },
     "execution_count": 9,
     "metadata": {},
     "output_type": "execute_result"
    },
    {
     "data": {
      "text/plain": [
       "'C:\\\\Users\\\\SengTian\\\\Downloads\\\\Temp\\\\Republic Polytechnic\\\\Assignment_ComputerVision\\\\TIPP_AAI_AAISD_CV\\\\Question_1\\\\clean_dataset\\\\train\\\\Yellow-vented_Bulbul\\\\_JWO4794_cr.jpg'"
      ]
     },
     "execution_count": 9,
     "metadata": {},
     "output_type": "execute_result"
    },
    {
     "data": {
      "text/plain": [
       "'C:\\\\Users\\\\SengTian\\\\Downloads\\\\Temp\\\\Republic Polytechnic\\\\Assignment_ComputerVision\\\\TIPP_AAI_AAISD_CV\\\\Question_1\\\\clean_dataset\\\\train\\\\Yellow-vented_Bulbul\\\\_JWO4799_cr.jpg'"
      ]
     },
     "execution_count": 9,
     "metadata": {},
     "output_type": "execute_result"
    },
    {
     "data": {
      "text/plain": [
       "'C:\\\\Users\\\\SengTian\\\\Downloads\\\\Temp\\\\Republic Polytechnic\\\\Assignment_ComputerVision\\\\TIPP_AAI_AAISD_CV\\\\Question_1\\\\clean_dataset\\\\train\\\\Yellow-vented_Bulbul\\\\_JWO4800_cr.jpg'"
      ]
     },
     "execution_count": 9,
     "metadata": {},
     "output_type": "execute_result"
    },
    {
     "data": {
      "text/plain": [
       "'C:\\\\Users\\\\SengTian\\\\Downloads\\\\Temp\\\\Republic Polytechnic\\\\Assignment_ComputerVision\\\\TIPP_AAI_AAISD_CV\\\\Question_1\\\\clean_dataset\\\\train\\\\Oriental_Pied_Hornbill\\\\_JWO4800a_cr.jpg'"
      ]
     },
     "execution_count": 9,
     "metadata": {},
     "output_type": "execute_result"
    },
    {
     "data": {
      "text/plain": [
       "'C:\\\\Users\\\\SengTian\\\\Downloads\\\\Temp\\\\Republic Polytechnic\\\\Assignment_ComputerVision\\\\TIPP_AAI_AAISD_CV\\\\Question_1\\\\clean_dataset\\\\train\\\\Little_Tern\\\\_JWO4810_cr.jpg'"
      ]
     },
     "execution_count": 9,
     "metadata": {},
     "output_type": "execute_result"
    },
    {
     "data": {
      "text/plain": [
       "'C:\\\\Users\\\\SengTian\\\\Downloads\\\\Temp\\\\Republic Polytechnic\\\\Assignment_ComputerVision\\\\TIPP_AAI_AAISD_CV\\\\Question_1\\\\clean_dataset\\\\train\\\\Little_Tern\\\\_JWO4811_cr.jpg'"
      ]
     },
     "execution_count": 9,
     "metadata": {},
     "output_type": "execute_result"
    },
    {
     "data": {
      "text/plain": [
       "'C:\\\\Users\\\\SengTian\\\\Downloads\\\\Temp\\\\Republic Polytechnic\\\\Assignment_ComputerVision\\\\TIPP_AAI_AAISD_CV\\\\Question_1\\\\clean_dataset\\\\train\\\\Little_Tern\\\\_JWO4814_cr.jpg'"
      ]
     },
     "execution_count": 9,
     "metadata": {},
     "output_type": "execute_result"
    },
    {
     "data": {
      "text/plain": [
       "'C:\\\\Users\\\\SengTian\\\\Downloads\\\\Temp\\\\Republic Polytechnic\\\\Assignment_ComputerVision\\\\TIPP_AAI_AAISD_CV\\\\Question_1\\\\clean_dataset\\\\train\\\\Yellow-vented_Bulbul\\\\_JWO4817_cr.jpg'"
      ]
     },
     "execution_count": 9,
     "metadata": {},
     "output_type": "execute_result"
    },
    {
     "data": {
      "text/plain": [
       "'C:\\\\Users\\\\SengTian\\\\Downloads\\\\Temp\\\\Republic Polytechnic\\\\Assignment_ComputerVision\\\\TIPP_AAI_AAISD_CV\\\\Question_1\\\\clean_dataset\\\\train\\\\Yellow-vented_Bulbul\\\\_JWO4823_cr.jpg'"
      ]
     },
     "execution_count": 9,
     "metadata": {},
     "output_type": "execute_result"
    },
    {
     "data": {
      "text/plain": [
       "'C:\\\\Users\\\\SengTian\\\\Downloads\\\\Temp\\\\Republic Polytechnic\\\\Assignment_ComputerVision\\\\TIPP_AAI_AAISD_CV\\\\Question_1\\\\clean_dataset\\\\train\\\\Little_Tern\\\\_JWO4829_cr.jpg'"
      ]
     },
     "execution_count": 9,
     "metadata": {},
     "output_type": "execute_result"
    },
    {
     "data": {
      "text/plain": [
       "'C:\\\\Users\\\\SengTian\\\\Downloads\\\\Temp\\\\Republic Polytechnic\\\\Assignment_ComputerVision\\\\TIPP_AAI_AAISD_CV\\\\Question_1\\\\clean_dataset\\\\train\\\\Little_Tern\\\\_JWO4831_cr.jpg'"
      ]
     },
     "execution_count": 9,
     "metadata": {},
     "output_type": "execute_result"
    },
    {
     "data": {
      "text/plain": [
       "'C:\\\\Users\\\\SengTian\\\\Downloads\\\\Temp\\\\Republic Polytechnic\\\\Assignment_ComputerVision\\\\TIPP_AAI_AAISD_CV\\\\Question_1\\\\clean_dataset\\\\train\\\\Common_Kingfisher\\\\_JWO4833_cr.jpg'"
      ]
     },
     "execution_count": 9,
     "metadata": {},
     "output_type": "execute_result"
    },
    {
     "data": {
      "text/plain": [
       "'C:\\\\Users\\\\SengTian\\\\Downloads\\\\Temp\\\\Republic Polytechnic\\\\Assignment_ComputerVision\\\\TIPP_AAI_AAISD_CV\\\\Question_1\\\\clean_dataset\\\\train\\\\Common_Kingfisher\\\\_JWO4834_cr.jpg'"
      ]
     },
     "execution_count": 9,
     "metadata": {},
     "output_type": "execute_result"
    },
    {
     "data": {
      "text/plain": [
       "'C:\\\\Users\\\\SengTian\\\\Downloads\\\\Temp\\\\Republic Polytechnic\\\\Assignment_ComputerVision\\\\TIPP_AAI_AAISD_CV\\\\Question_1\\\\clean_dataset\\\\train\\\\Yellow-vented_Bulbul\\\\_JWO4837_cr.jpg'"
      ]
     },
     "execution_count": 9,
     "metadata": {},
     "output_type": "execute_result"
    },
    {
     "data": {
      "text/plain": [
       "'C:\\\\Users\\\\SengTian\\\\Downloads\\\\Temp\\\\Republic Polytechnic\\\\Assignment_ComputerVision\\\\TIPP_AAI_AAISD_CV\\\\Question_1\\\\clean_dataset\\\\train\\\\Common_Kingfisher\\\\_JWO4851_cr.jpg'"
      ]
     },
     "execution_count": 9,
     "metadata": {},
     "output_type": "execute_result"
    },
    {
     "data": {
      "text/plain": [
       "'C:\\\\Users\\\\SengTian\\\\Downloads\\\\Temp\\\\Republic Polytechnic\\\\Assignment_ComputerVision\\\\TIPP_AAI_AAISD_CV\\\\Question_1\\\\clean_dataset\\\\train\\\\Yellow-vented_Bulbul\\\\_JWO4858_cr.jpg'"
      ]
     },
     "execution_count": 9,
     "metadata": {},
     "output_type": "execute_result"
    },
    {
     "data": {
      "text/plain": [
       "'C:\\\\Users\\\\SengTian\\\\Downloads\\\\Temp\\\\Republic Polytechnic\\\\Assignment_ComputerVision\\\\TIPP_AAI_AAISD_CV\\\\Question_1\\\\clean_dataset\\\\train\\\\Little_Tern\\\\_JWO4883_cr.jpg'"
      ]
     },
     "execution_count": 9,
     "metadata": {},
     "output_type": "execute_result"
    },
    {
     "data": {
      "text/plain": [
       "'C:\\\\Users\\\\SengTian\\\\Downloads\\\\Temp\\\\Republic Polytechnic\\\\Assignment_ComputerVision\\\\TIPP_AAI_AAISD_CV\\\\Question_1\\\\clean_dataset\\\\train\\\\Oriental_Magpie_Robin\\\\_JWO4923_cr.jpg'"
      ]
     },
     "execution_count": 9,
     "metadata": {},
     "output_type": "execute_result"
    },
    {
     "data": {
      "text/plain": [
       "'C:\\\\Users\\\\SengTian\\\\Downloads\\\\Temp\\\\Republic Polytechnic\\\\Assignment_ComputerVision\\\\TIPP_AAI_AAISD_CV\\\\Question_1\\\\clean_dataset\\\\train\\\\Oriental_Magpie_Robin\\\\_JWO4971_cr.jpg'"
      ]
     },
     "execution_count": 9,
     "metadata": {},
     "output_type": "execute_result"
    },
    {
     "data": {
      "text/plain": [
       "'C:\\\\Users\\\\SengTian\\\\Downloads\\\\Temp\\\\Republic Polytechnic\\\\Assignment_ComputerVision\\\\TIPP_AAI_AAISD_CV\\\\Question_1\\\\clean_dataset\\\\train\\\\Oriental_Magpie_Robin\\\\_JWO4983_cr.jpg'"
      ]
     },
     "execution_count": 9,
     "metadata": {},
     "output_type": "execute_result"
    },
    {
     "data": {
      "text/plain": [
       "'C:\\\\Users\\\\SengTian\\\\Downloads\\\\Temp\\\\Republic Polytechnic\\\\Assignment_ComputerVision\\\\TIPP_AAI_AAISD_CV\\\\Question_1\\\\clean_dataset\\\\train\\\\Oriental_Magpie_Robin\\\\_JWO4989_cr.jpg'"
      ]
     },
     "execution_count": 9,
     "metadata": {},
     "output_type": "execute_result"
    },
    {
     "data": {
      "text/plain": [
       "'C:\\\\Users\\\\SengTian\\\\Downloads\\\\Temp\\\\Republic Polytechnic\\\\Assignment_ComputerVision\\\\TIPP_AAI_AAISD_CV\\\\Question_1\\\\clean_dataset\\\\train\\\\Blue-eared_Kingfisher\\\\_JWO5080_cr.jpg'"
      ]
     },
     "execution_count": 9,
     "metadata": {},
     "output_type": "execute_result"
    },
    {
     "data": {
      "text/plain": [
       "'C:\\\\Users\\\\SengTian\\\\Downloads\\\\Temp\\\\Republic Polytechnic\\\\Assignment_ComputerVision\\\\TIPP_AAI_AAISD_CV\\\\Question_1\\\\clean_dataset\\\\train\\\\Blue-eared_Kingfisher\\\\_JWO5084_cr.jpg'"
      ]
     },
     "execution_count": 9,
     "metadata": {},
     "output_type": "execute_result"
    },
    {
     "data": {
      "text/plain": [
       "'C:\\\\Users\\\\SengTian\\\\Downloads\\\\Temp\\\\Republic Polytechnic\\\\Assignment_ComputerVision\\\\TIPP_AAI_AAISD_CV\\\\Question_1\\\\clean_dataset\\\\train\\\\Blue-eared_Kingfisher\\\\_JWO5087_cr.jpg'"
      ]
     },
     "execution_count": 9,
     "metadata": {},
     "output_type": "execute_result"
    },
    {
     "data": {
      "text/plain": [
       "'C:\\\\Users\\\\SengTian\\\\Downloads\\\\Temp\\\\Republic Polytechnic\\\\Assignment_ComputerVision\\\\TIPP_AAI_AAISD_CV\\\\Question_1\\\\clean_dataset\\\\train\\\\Black_Baza\\\\_JWO5089_cr.jpg'"
      ]
     },
     "execution_count": 9,
     "metadata": {},
     "output_type": "execute_result"
    },
    {
     "data": {
      "text/plain": [
       "'C:\\\\Users\\\\SengTian\\\\Downloads\\\\Temp\\\\Republic Polytechnic\\\\Assignment_ComputerVision\\\\TIPP_AAI_AAISD_CV\\\\Question_1\\\\clean_dataset\\\\train\\\\Black_Baza\\\\_JWO5090_cr.jpg'"
      ]
     },
     "execution_count": 9,
     "metadata": {},
     "output_type": "execute_result"
    },
    {
     "data": {
      "text/plain": [
       "'C:\\\\Users\\\\SengTian\\\\Downloads\\\\Temp\\\\Republic Polytechnic\\\\Assignment_ComputerVision\\\\TIPP_AAI_AAISD_CV\\\\Question_1\\\\clean_dataset\\\\train\\\\Black_Baza\\\\_JWO5093_cr.jpg'"
      ]
     },
     "execution_count": 9,
     "metadata": {},
     "output_type": "execute_result"
    },
    {
     "data": {
      "text/plain": [
       "'C:\\\\Users\\\\SengTian\\\\Downloads\\\\Temp\\\\Republic Polytechnic\\\\Assignment_ComputerVision\\\\TIPP_AAI_AAISD_CV\\\\Question_1\\\\clean_dataset\\\\train\\\\Black_Baza\\\\_JWO5108_cr.jpg'"
      ]
     },
     "execution_count": 9,
     "metadata": {},
     "output_type": "execute_result"
    },
    {
     "data": {
      "text/plain": [
       "'C:\\\\Users\\\\SengTian\\\\Downloads\\\\Temp\\\\Republic Polytechnic\\\\Assignment_ComputerVision\\\\TIPP_AAI_AAISD_CV\\\\Question_1\\\\clean_dataset\\\\train\\\\Black_Baza\\\\_JWO5109_cr.jpg'"
      ]
     },
     "execution_count": 9,
     "metadata": {},
     "output_type": "execute_result"
    },
    {
     "data": {
      "text/plain": [
       "'C:\\\\Users\\\\SengTian\\\\Downloads\\\\Temp\\\\Republic Polytechnic\\\\Assignment_ComputerVision\\\\TIPP_AAI_AAISD_CV\\\\Question_1\\\\clean_dataset\\\\train\\\\Black_Baza\\\\_JWO5111_cr.jpg'"
      ]
     },
     "execution_count": 9,
     "metadata": {},
     "output_type": "execute_result"
    },
    {
     "data": {
      "text/plain": [
       "'C:\\\\Users\\\\SengTian\\\\Downloads\\\\Temp\\\\Republic Polytechnic\\\\Assignment_ComputerVision\\\\TIPP_AAI_AAISD_CV\\\\Question_1\\\\clean_dataset\\\\train\\\\Black_Baza\\\\_JWO5114_cr.jpg'"
      ]
     },
     "execution_count": 9,
     "metadata": {},
     "output_type": "execute_result"
    },
    {
     "data": {
      "text/plain": [
       "'C:\\\\Users\\\\SengTian\\\\Downloads\\\\Temp\\\\Republic Polytechnic\\\\Assignment_ComputerVision\\\\TIPP_AAI_AAISD_CV\\\\Question_1\\\\clean_dataset\\\\train\\\\Black_Baza\\\\_JWO5121_cr.jpg'"
      ]
     },
     "execution_count": 9,
     "metadata": {},
     "output_type": "execute_result"
    },
    {
     "data": {
      "text/plain": [
       "'C:\\\\Users\\\\SengTian\\\\Downloads\\\\Temp\\\\Republic Polytechnic\\\\Assignment_ComputerVision\\\\TIPP_AAI_AAISD_CV\\\\Question_1\\\\clean_dataset\\\\train\\\\Jerdons_Baza\\\\_JWO5130_cr.jpg'"
      ]
     },
     "execution_count": 9,
     "metadata": {},
     "output_type": "execute_result"
    },
    {
     "data": {
      "text/plain": [
       "'C:\\\\Users\\\\SengTian\\\\Downloads\\\\Temp\\\\Republic Polytechnic\\\\Assignment_ComputerVision\\\\TIPP_AAI_AAISD_CV\\\\Question_1\\\\clean_dataset\\\\train\\\\Jerdons_Baza\\\\_JWO5137_cr.jpg'"
      ]
     },
     "execution_count": 9,
     "metadata": {},
     "output_type": "execute_result"
    },
    {
     "data": {
      "text/plain": [
       "'C:\\\\Users\\\\SengTian\\\\Downloads\\\\Temp\\\\Republic Polytechnic\\\\Assignment_ComputerVision\\\\TIPP_AAI_AAISD_CV\\\\Question_1\\\\clean_dataset\\\\train\\\\Jerdons_Baza\\\\_JWO5151_cr.jpg'"
      ]
     },
     "execution_count": 9,
     "metadata": {},
     "output_type": "execute_result"
    },
    {
     "data": {
      "text/plain": [
       "'C:\\\\Users\\\\SengTian\\\\Downloads\\\\Temp\\\\Republic Polytechnic\\\\Assignment_ComputerVision\\\\TIPP_AAI_AAISD_CV\\\\Question_1\\\\clean_dataset\\\\train\\\\Jerdons_Baza\\\\_JWO5151_cr_cr.jpg'"
      ]
     },
     "execution_count": 9,
     "metadata": {},
     "output_type": "execute_result"
    },
    {
     "data": {
      "text/plain": [
       "'C:\\\\Users\\\\SengTian\\\\Downloads\\\\Temp\\\\Republic Polytechnic\\\\Assignment_ComputerVision\\\\TIPP_AAI_AAISD_CV\\\\Question_1\\\\clean_dataset\\\\train\\\\Jerdons_Baza\\\\_JWO5168_cr.jpg'"
      ]
     },
     "execution_count": 9,
     "metadata": {},
     "output_type": "execute_result"
    },
    {
     "data": {
      "text/plain": [
       "'C:\\\\Users\\\\SengTian\\\\Downloads\\\\Temp\\\\Republic Polytechnic\\\\Assignment_ComputerVision\\\\TIPP_AAI_AAISD_CV\\\\Question_1\\\\clean_dataset\\\\train\\\\Sunda_Pygmy_Woodpecker\\\\_JWO5186a_cr.jpg'"
      ]
     },
     "execution_count": 9,
     "metadata": {},
     "output_type": "execute_result"
    },
    {
     "data": {
      "text/plain": [
       "'C:\\\\Users\\\\SengTian\\\\Downloads\\\\Temp\\\\Republic Polytechnic\\\\Assignment_ComputerVision\\\\TIPP_AAI_AAISD_CV\\\\Question_1\\\\clean_dataset\\\\train\\\\Sunda_Pygmy_Woodpecker\\\\_JWO5188_cr.jpg'"
      ]
     },
     "execution_count": 9,
     "metadata": {},
     "output_type": "execute_result"
    },
    {
     "data": {
      "text/plain": [
       "'C:\\\\Users\\\\SengTian\\\\Downloads\\\\Temp\\\\Republic Polytechnic\\\\Assignment_ComputerVision\\\\TIPP_AAI_AAISD_CV\\\\Question_1\\\\clean_dataset\\\\train\\\\Jerdons_Baza\\\\_JWO5192_cr.jpg'"
      ]
     },
     "execution_count": 9,
     "metadata": {},
     "output_type": "execute_result"
    },
    {
     "data": {
      "text/plain": [
       "'C:\\\\Users\\\\SengTian\\\\Downloads\\\\Temp\\\\Republic Polytechnic\\\\Assignment_ComputerVision\\\\TIPP_AAI_AAISD_CV\\\\Question_1\\\\clean_dataset\\\\train\\\\Jerdons_Baza\\\\_JWO5193_cr.jpg'"
      ]
     },
     "execution_count": 9,
     "metadata": {},
     "output_type": "execute_result"
    },
    {
     "data": {
      "text/plain": [
       "'C:\\\\Users\\\\SengTian\\\\Downloads\\\\Temp\\\\Republic Polytechnic\\\\Assignment_ComputerVision\\\\TIPP_AAI_AAISD_CV\\\\Question_1\\\\clean_dataset\\\\train\\\\Sunda_Pygmy_Woodpecker\\\\_JWO5193a_cr.jpg'"
      ]
     },
     "execution_count": 9,
     "metadata": {},
     "output_type": "execute_result"
    },
    {
     "data": {
      "text/plain": [
       "'C:\\\\Users\\\\SengTian\\\\Downloads\\\\Temp\\\\Republic Polytechnic\\\\Assignment_ComputerVision\\\\TIPP_AAI_AAISD_CV\\\\Question_1\\\\clean_dataset\\\\train\\\\Sunda_Pygmy_Woodpecker\\\\_JWO5193b_cr.jpg'"
      ]
     },
     "execution_count": 9,
     "metadata": {},
     "output_type": "execute_result"
    },
    {
     "data": {
      "text/plain": [
       "'C:\\\\Users\\\\SengTian\\\\Downloads\\\\Temp\\\\Republic Polytechnic\\\\Assignment_ComputerVision\\\\TIPP_AAI_AAISD_CV\\\\Question_1\\\\clean_dataset\\\\train\\\\Jerdons_Baza\\\\_JWO5201.jpg'"
      ]
     },
     "execution_count": 9,
     "metadata": {},
     "output_type": "execute_result"
    },
    {
     "data": {
      "text/plain": [
       "'C:\\\\Users\\\\SengTian\\\\Downloads\\\\Temp\\\\Republic Polytechnic\\\\Assignment_ComputerVision\\\\TIPP_AAI_AAISD_CV\\\\Question_1\\\\clean_dataset\\\\train\\\\Sunda_Pygmy_Woodpecker\\\\_JWO5215_1_cr.jpg'"
      ]
     },
     "execution_count": 9,
     "metadata": {},
     "output_type": "execute_result"
    },
    {
     "data": {
      "text/plain": [
       "'C:\\\\Users\\\\SengTian\\\\Downloads\\\\Temp\\\\Republic Polytechnic\\\\Assignment_ComputerVision\\\\TIPP_AAI_AAISD_CV\\\\Question_1\\\\clean_dataset\\\\train\\\\Sunda_Pygmy_Woodpecker\\\\_JWO5215_cr.jpg'"
      ]
     },
     "execution_count": 9,
     "metadata": {},
     "output_type": "execute_result"
    },
    {
     "data": {
      "text/plain": [
       "'C:\\\\Users\\\\SengTian\\\\Downloads\\\\Temp\\\\Republic Polytechnic\\\\Assignment_ComputerVision\\\\TIPP_AAI_AAISD_CV\\\\Question_1\\\\clean_dataset\\\\train\\\\Sunda_Scoops_Owl\\\\_JWO5253_1_cr.jpg'"
      ]
     },
     "execution_count": 9,
     "metadata": {},
     "output_type": "execute_result"
    },
    {
     "data": {
      "text/plain": [
       "'C:\\\\Users\\\\SengTian\\\\Downloads\\\\Temp\\\\Republic Polytechnic\\\\Assignment_ComputerVision\\\\TIPP_AAI_AAISD_CV\\\\Question_1\\\\clean_dataset\\\\train\\\\Sunda_Scoops_Owl\\\\_JWO5259_cr.jpg'"
      ]
     },
     "execution_count": 9,
     "metadata": {},
     "output_type": "execute_result"
    },
    {
     "data": {
      "text/plain": [
       "'C:\\\\Users\\\\SengTian\\\\Downloads\\\\Temp\\\\Republic Polytechnic\\\\Assignment_ComputerVision\\\\TIPP_AAI_AAISD_CV\\\\Question_1\\\\clean_dataset\\\\train\\\\Sunda_Scoops_Owl\\\\_JWO5260a_cr.jpg'"
      ]
     },
     "execution_count": 9,
     "metadata": {},
     "output_type": "execute_result"
    },
    {
     "data": {
      "text/plain": [
       "'C:\\\\Users\\\\SengTian\\\\Downloads\\\\Temp\\\\Republic Polytechnic\\\\Assignment_ComputerVision\\\\TIPP_AAI_AAISD_CV\\\\Question_1\\\\clean_dataset\\\\train\\\\Sunda_Scoops_Owl\\\\_JWO5263a_cr.jpg'"
      ]
     },
     "execution_count": 9,
     "metadata": {},
     "output_type": "execute_result"
    },
    {
     "data": {
      "text/plain": [
       "'C:\\\\Users\\\\SengTian\\\\Downloads\\\\Temp\\\\Republic Polytechnic\\\\Assignment_ComputerVision\\\\TIPP_AAI_AAISD_CV\\\\Question_1\\\\clean_dataset\\\\train\\\\Sunda_Pygmy_Woodpecker\\\\_JWO5266_cr.jpg'"
      ]
     },
     "execution_count": 9,
     "metadata": {},
     "output_type": "execute_result"
    },
    {
     "data": {
      "text/plain": [
       "'C:\\\\Users\\\\SengTian\\\\Downloads\\\\Temp\\\\Republic Polytechnic\\\\Assignment_ComputerVision\\\\TIPP_AAI_AAISD_CV\\\\Question_1\\\\clean_dataset\\\\train\\\\Sunda_Scoops_Owl\\\\_JWO5273_2_cr.jpg'"
      ]
     },
     "execution_count": 9,
     "metadata": {},
     "output_type": "execute_result"
    },
    {
     "data": {
      "text/plain": [
       "'C:\\\\Users\\\\SengTian\\\\Downloads\\\\Temp\\\\Republic Polytechnic\\\\Assignment_ComputerVision\\\\TIPP_AAI_AAISD_CV\\\\Question_1\\\\clean_dataset\\\\train\\\\Sunda_Scoops_Owl\\\\_JWO5277_cr.jpg'"
      ]
     },
     "execution_count": 9,
     "metadata": {},
     "output_type": "execute_result"
    },
    {
     "data": {
      "text/plain": [
       "'C:\\\\Users\\\\SengTian\\\\Downloads\\\\Temp\\\\Republic Polytechnic\\\\Assignment_ComputerVision\\\\TIPP_AAI_AAISD_CV\\\\Question_1\\\\clean_dataset\\\\train\\\\Sunda_Pygmy_Woodpecker\\\\_JWO5296_cr.jpg'"
      ]
     },
     "execution_count": 9,
     "metadata": {},
     "output_type": "execute_result"
    },
    {
     "data": {
      "text/plain": [
       "'C:\\\\Users\\\\SengTian\\\\Downloads\\\\Temp\\\\Republic Polytechnic\\\\Assignment_ComputerVision\\\\TIPP_AAI_AAISD_CV\\\\Question_1\\\\clean_dataset\\\\train\\\\Red-Crowned_Crane\\\\_JWO5310_cr.jpg'"
      ]
     },
     "execution_count": 9,
     "metadata": {},
     "output_type": "execute_result"
    },
    {
     "data": {
      "text/plain": [
       "'C:\\\\Users\\\\SengTian\\\\Downloads\\\\Temp\\\\Republic Polytechnic\\\\Assignment_ComputerVision\\\\TIPP_AAI_AAISD_CV\\\\Question_1\\\\clean_dataset\\\\train\\\\Red-Crowned_Crane\\\\_JWO5311_cr.jpg'"
      ]
     },
     "execution_count": 9,
     "metadata": {},
     "output_type": "execute_result"
    },
    {
     "data": {
      "text/plain": [
       "'C:\\\\Users\\\\SengTian\\\\Downloads\\\\Temp\\\\Republic Polytechnic\\\\Assignment_ComputerVision\\\\TIPP_AAI_AAISD_CV\\\\Question_1\\\\clean_dataset\\\\train\\\\Olive-backed_Sunbird\\\\_JWO5316_cr.jpg'"
      ]
     },
     "execution_count": 9,
     "metadata": {},
     "output_type": "execute_result"
    },
    {
     "data": {
      "text/plain": [
       "'C:\\\\Users\\\\SengTian\\\\Downloads\\\\Temp\\\\Republic Polytechnic\\\\Assignment_ComputerVision\\\\TIPP_AAI_AAISD_CV\\\\Question_1\\\\clean_dataset\\\\train\\\\Olive-backed_Sunbird\\\\_JWO5328_cr.jpg'"
      ]
     },
     "execution_count": 9,
     "metadata": {},
     "output_type": "execute_result"
    },
    {
     "data": {
      "text/plain": [
       "'C:\\\\Users\\\\SengTian\\\\Downloads\\\\Temp\\\\Republic Polytechnic\\\\Assignment_ComputerVision\\\\TIPP_AAI_AAISD_CV\\\\Question_1\\\\clean_dataset\\\\train\\\\Jerdons_Baza\\\\_JWO5328a_cr.jpg'"
      ]
     },
     "execution_count": 9,
     "metadata": {},
     "output_type": "execute_result"
    },
    {
     "data": {
      "text/plain": [
       "'C:\\\\Users\\\\SengTian\\\\Downloads\\\\Temp\\\\Republic Polytechnic\\\\Assignment_ComputerVision\\\\TIPP_AAI_AAISD_CV\\\\Question_1\\\\clean_dataset\\\\train\\\\Olive-backed_Sunbird\\\\_JWO5329_1_cr.jpg'"
      ]
     },
     "execution_count": 9,
     "metadata": {},
     "output_type": "execute_result"
    },
    {
     "data": {
      "text/plain": [
       "'C:\\\\Users\\\\SengTian\\\\Downloads\\\\Temp\\\\Republic Polytechnic\\\\Assignment_ComputerVision\\\\TIPP_AAI_AAISD_CV\\\\Question_1\\\\clean_dataset\\\\train\\\\Olive-backed_Sunbird\\\\_JWO5329_cr.jpg'"
      ]
     },
     "execution_count": 9,
     "metadata": {},
     "output_type": "execute_result"
    },
    {
     "data": {
      "text/plain": [
       "'C:\\\\Users\\\\SengTian\\\\Downloads\\\\Temp\\\\Republic Polytechnic\\\\Assignment_ComputerVision\\\\TIPP_AAI_AAISD_CV\\\\Question_1\\\\clean_dataset\\\\train\\\\Jerdons_Baza\\\\_JWO5334_cr.jpg'"
      ]
     },
     "execution_count": 9,
     "metadata": {},
     "output_type": "execute_result"
    },
    {
     "data": {
      "text/plain": [
       "'C:\\\\Users\\\\SengTian\\\\Downloads\\\\Temp\\\\Republic Polytechnic\\\\Assignment_ComputerVision\\\\TIPP_AAI_AAISD_CV\\\\Question_1\\\\clean_dataset\\\\train\\\\Olive-backed_Sunbird\\\\_JWO5337_1_cr.jpg'"
      ]
     },
     "execution_count": 9,
     "metadata": {},
     "output_type": "execute_result"
    },
    {
     "data": {
      "text/plain": [
       "'C:\\\\Users\\\\SengTian\\\\Downloads\\\\Temp\\\\Republic Polytechnic\\\\Assignment_ComputerVision\\\\TIPP_AAI_AAISD_CV\\\\Question_1\\\\clean_dataset\\\\train\\\\Lesser_Egret\\\\_JWO5339_cr.jpg'"
      ]
     },
     "execution_count": 9,
     "metadata": {},
     "output_type": "execute_result"
    },
    {
     "data": {
      "text/plain": [
       "'C:\\\\Users\\\\SengTian\\\\Downloads\\\\Temp\\\\Republic Polytechnic\\\\Assignment_ComputerVision\\\\TIPP_AAI_AAISD_CV\\\\Question_1\\\\clean_dataset\\\\train\\\\Olive-backed_Sunbird\\\\_JWO5345_cr.jpg'"
      ]
     },
     "execution_count": 9,
     "metadata": {},
     "output_type": "execute_result"
    },
    {
     "data": {
      "text/plain": [
       "'C:\\\\Users\\\\SengTian\\\\Downloads\\\\Temp\\\\Republic Polytechnic\\\\Assignment_ComputerVision\\\\TIPP_AAI_AAISD_CV\\\\Question_1\\\\clean_dataset\\\\train\\\\Lesser_Egret\\\\_JWO5347_cr.jpg'"
      ]
     },
     "execution_count": 9,
     "metadata": {},
     "output_type": "execute_result"
    },
    {
     "data": {
      "text/plain": [
       "'C:\\\\Users\\\\SengTian\\\\Downloads\\\\Temp\\\\Republic Polytechnic\\\\Assignment_ComputerVision\\\\TIPP_AAI_AAISD_CV\\\\Question_1\\\\clean_dataset\\\\train\\\\Lesser_Egret\\\\_JWO5348_cr.jpg'"
      ]
     },
     "execution_count": 9,
     "metadata": {},
     "output_type": "execute_result"
    },
    {
     "data": {
      "text/plain": [
       "'C:\\\\Users\\\\SengTian\\\\Downloads\\\\Temp\\\\Republic Polytechnic\\\\Assignment_ComputerVision\\\\TIPP_AAI_AAISD_CV\\\\Question_1\\\\clean_dataset\\\\train\\\\Jerdons_Baza\\\\_JWO5363_cr.jpg'"
      ]
     },
     "execution_count": 9,
     "metadata": {},
     "output_type": "execute_result"
    },
    {
     "data": {
      "text/plain": [
       "'C:\\\\Users\\\\SengTian\\\\Downloads\\\\Temp\\\\Republic Polytechnic\\\\Assignment_ComputerVision\\\\TIPP_AAI_AAISD_CV\\\\Question_1\\\\clean_dataset\\\\train\\\\Olive-backed_Sunbird\\\\_JWO5366_1_cr.jpg'"
      ]
     },
     "execution_count": 9,
     "metadata": {},
     "output_type": "execute_result"
    },
    {
     "data": {
      "text/plain": [
       "'C:\\\\Users\\\\SengTian\\\\Downloads\\\\Temp\\\\Republic Polytechnic\\\\Assignment_ComputerVision\\\\TIPP_AAI_AAISD_CV\\\\Question_1\\\\clean_dataset\\\\train\\\\Lesser_Egret\\\\_JWO5366_cr.jpg'"
      ]
     },
     "execution_count": 9,
     "metadata": {},
     "output_type": "execute_result"
    },
    {
     "data": {
      "text/plain": [
       "'C:\\\\Users\\\\SengTian\\\\Downloads\\\\Temp\\\\Republic Polytechnic\\\\Assignment_ComputerVision\\\\TIPP_AAI_AAISD_CV\\\\Question_1\\\\clean_dataset\\\\train\\\\Olive-backed_Sunbird\\\\_JWO5367_cr.jpg'"
      ]
     },
     "execution_count": 9,
     "metadata": {},
     "output_type": "execute_result"
    },
    {
     "data": {
      "text/plain": [
       "'C:\\\\Users\\\\SengTian\\\\Downloads\\\\Temp\\\\Republic Polytechnic\\\\Assignment_ComputerVision\\\\TIPP_AAI_AAISD_CV\\\\Question_1\\\\clean_dataset\\\\train\\\\Jerdons_Baza\\\\_JWO5367a_cr.jpg'"
      ]
     },
     "execution_count": 9,
     "metadata": {},
     "output_type": "execute_result"
    },
    {
     "data": {
      "text/plain": [
       "'C:\\\\Users\\\\SengTian\\\\Downloads\\\\Temp\\\\Republic Polytechnic\\\\Assignment_ComputerVision\\\\TIPP_AAI_AAISD_CV\\\\Question_1\\\\clean_dataset\\\\train\\\\Olive-backed_Sunbird\\\\_JWO5368_cr.jpg'"
      ]
     },
     "execution_count": 9,
     "metadata": {},
     "output_type": "execute_result"
    },
    {
     "data": {
      "text/plain": [
       "'C:\\\\Users\\\\SengTian\\\\Downloads\\\\Temp\\\\Republic Polytechnic\\\\Assignment_ComputerVision\\\\TIPP_AAI_AAISD_CV\\\\Question_1\\\\clean_dataset\\\\train\\\\Olive-backed_Sunbird\\\\_JWO5369_cr.jpg'"
      ]
     },
     "execution_count": 9,
     "metadata": {},
     "output_type": "execute_result"
    },
    {
     "data": {
      "text/plain": [
       "'C:\\\\Users\\\\SengTian\\\\Downloads\\\\Temp\\\\Republic Polytechnic\\\\Assignment_ComputerVision\\\\TIPP_AAI_AAISD_CV\\\\Question_1\\\\clean_dataset\\\\train\\\\Jerdons_Baza\\\\_JWO5369a_cr.jpg'"
      ]
     },
     "execution_count": 9,
     "metadata": {},
     "output_type": "execute_result"
    },
    {
     "data": {
      "text/plain": [
       "'C:\\\\Users\\\\SengTian\\\\Downloads\\\\Temp\\\\Republic Polytechnic\\\\Assignment_ComputerVision\\\\TIPP_AAI_AAISD_CV\\\\Question_1\\\\clean_dataset\\\\train\\\\Olive-backed_Sunbird\\\\_JWO5370_cr.jpg'"
      ]
     },
     "execution_count": 9,
     "metadata": {},
     "output_type": "execute_result"
    },
    {
     "data": {
      "text/plain": [
       "'C:\\\\Users\\\\SengTian\\\\Downloads\\\\Temp\\\\Republic Polytechnic\\\\Assignment_ComputerVision\\\\TIPP_AAI_AAISD_CV\\\\Question_1\\\\clean_dataset\\\\train\\\\Jerdons_Baza\\\\_JWO5370a_cr.jpg'"
      ]
     },
     "execution_count": 9,
     "metadata": {},
     "output_type": "execute_result"
    },
    {
     "data": {
      "text/plain": [
       "'C:\\\\Users\\\\SengTian\\\\Downloads\\\\Temp\\\\Republic Polytechnic\\\\Assignment_ComputerVision\\\\TIPP_AAI_AAISD_CV\\\\Question_1\\\\clean_dataset\\\\train\\\\Olive-backed_Sunbird\\\\_JWO5371_cr.jpg'"
      ]
     },
     "execution_count": 9,
     "metadata": {},
     "output_type": "execute_result"
    },
    {
     "data": {
      "text/plain": [
       "'C:\\\\Users\\\\SengTian\\\\Downloads\\\\Temp\\\\Republic Polytechnic\\\\Assignment_ComputerVision\\\\TIPP_AAI_AAISD_CV\\\\Question_1\\\\clean_dataset\\\\train\\\\Jerdons_Baza\\\\_JWO5379_cr.jpg'"
      ]
     },
     "execution_count": 9,
     "metadata": {},
     "output_type": "execute_result"
    },
    {
     "data": {
      "text/plain": [
       "'C:\\\\Users\\\\SengTian\\\\Downloads\\\\Temp\\\\Republic Polytechnic\\\\Assignment_ComputerVision\\\\TIPP_AAI_AAISD_CV\\\\Question_1\\\\clean_dataset\\\\train\\\\Jerdons_Baza\\\\_JWO5393_cr.jpg'"
      ]
     },
     "execution_count": 9,
     "metadata": {},
     "output_type": "execute_result"
    },
    {
     "data": {
      "text/plain": [
       "'C:\\\\Users\\\\SengTian\\\\Downloads\\\\Temp\\\\Republic Polytechnic\\\\Assignment_ComputerVision\\\\TIPP_AAI_AAISD_CV\\\\Question_1\\\\clean_dataset\\\\train\\\\Large-tailed_Nightjar\\\\_JWO5399_cr.jpg'"
      ]
     },
     "execution_count": 9,
     "metadata": {},
     "output_type": "execute_result"
    },
    {
     "data": {
      "text/plain": [
       "'C:\\\\Users\\\\SengTian\\\\Downloads\\\\Temp\\\\Republic Polytechnic\\\\Assignment_ComputerVision\\\\TIPP_AAI_AAISD_CV\\\\Question_1\\\\clean_dataset\\\\train\\\\Large-tailed_Nightjar\\\\_JWO5456_cr.jpg'"
      ]
     },
     "execution_count": 9,
     "metadata": {},
     "output_type": "execute_result"
    },
    {
     "data": {
      "text/plain": [
       "'C:\\\\Users\\\\SengTian\\\\Downloads\\\\Temp\\\\Republic Polytechnic\\\\Assignment_ComputerVision\\\\TIPP_AAI_AAISD_CV\\\\Question_1\\\\clean_dataset\\\\train\\\\Red-Crowned_Crane\\\\_JWO5458_cr.jpg'"
      ]
     },
     "execution_count": 9,
     "metadata": {},
     "output_type": "execute_result"
    },
    {
     "data": {
      "text/plain": [
       "'C:\\\\Users\\\\SengTian\\\\Downloads\\\\Temp\\\\Republic Polytechnic\\\\Assignment_ComputerVision\\\\TIPP_AAI_AAISD_CV\\\\Question_1\\\\clean_dataset\\\\train\\\\Large-tailed_Nightjar\\\\_JWO5470_cr.jpg'"
      ]
     },
     "execution_count": 9,
     "metadata": {},
     "output_type": "execute_result"
    },
    {
     "data": {
      "text/plain": [
       "'C:\\\\Users\\\\SengTian\\\\Downloads\\\\Temp\\\\Republic Polytechnic\\\\Assignment_ComputerVision\\\\TIPP_AAI_AAISD_CV\\\\Question_1\\\\clean_dataset\\\\train\\\\Red-Crowned_Crane\\\\_JWO5532_cr.jpg'"
      ]
     },
     "execution_count": 9,
     "metadata": {},
     "output_type": "execute_result"
    },
    {
     "data": {
      "text/plain": [
       "'C:\\\\Users\\\\SengTian\\\\Downloads\\\\Temp\\\\Republic Polytechnic\\\\Assignment_ComputerVision\\\\TIPP_AAI_AAISD_CV\\\\Question_1\\\\clean_dataset\\\\train\\\\Brown_Shrike\\\\_JWO5543_cr.jpg'"
      ]
     },
     "execution_count": 9,
     "metadata": {},
     "output_type": "execute_result"
    },
    {
     "data": {
      "text/plain": [
       "'C:\\\\Users\\\\SengTian\\\\Downloads\\\\Temp\\\\Republic Polytechnic\\\\Assignment_ComputerVision\\\\TIPP_AAI_AAISD_CV\\\\Question_1\\\\clean_dataset\\\\train\\\\Brown_Shrike\\\\_JWO5571_cr.jpg'"
      ]
     },
     "execution_count": 9,
     "metadata": {},
     "output_type": "execute_result"
    },
    {
     "data": {
      "text/plain": [
       "'C:\\\\Users\\\\SengTian\\\\Downloads\\\\Temp\\\\Republic Polytechnic\\\\Assignment_ComputerVision\\\\TIPP_AAI_AAISD_CV\\\\Question_1\\\\clean_dataset\\\\train\\\\Brown_Shrike\\\\_JWO5572_cr.jpg'"
      ]
     },
     "execution_count": 9,
     "metadata": {},
     "output_type": "execute_result"
    },
    {
     "data": {
      "text/plain": [
       "'C:\\\\Users\\\\SengTian\\\\Downloads\\\\Temp\\\\Republic Polytechnic\\\\Assignment_ComputerVision\\\\TIPP_AAI_AAISD_CV\\\\Question_1\\\\clean_dataset\\\\train\\\\Oriental_Honey_Buzzard\\\\_JWO5610_cr.jpg'"
      ]
     },
     "execution_count": 9,
     "metadata": {},
     "output_type": "execute_result"
    },
    {
     "data": {
      "text/plain": [
       "'C:\\\\Users\\\\SengTian\\\\Downloads\\\\Temp\\\\Republic Polytechnic\\\\Assignment_ComputerVision\\\\TIPP_AAI_AAISD_CV\\\\Question_1\\\\clean_dataset\\\\train\\\\Oriental_Honey_Buzzard\\\\_JWO5611_cr.jpg'"
      ]
     },
     "execution_count": 9,
     "metadata": {},
     "output_type": "execute_result"
    },
    {
     "data": {
      "text/plain": [
       "'C:\\\\Users\\\\SengTian\\\\Downloads\\\\Temp\\\\Republic Polytechnic\\\\Assignment_ComputerVision\\\\TIPP_AAI_AAISD_CV\\\\Question_1\\\\clean_dataset\\\\train\\\\Blue-tailed_Bee-eater\\\\_JWO5643_cr.jpg'"
      ]
     },
     "execution_count": 9,
     "metadata": {},
     "output_type": "execute_result"
    },
    {
     "data": {
      "text/plain": [
       "'C:\\\\Users\\\\SengTian\\\\Downloads\\\\Temp\\\\Republic Polytechnic\\\\Assignment_ComputerVision\\\\TIPP_AAI_AAISD_CV\\\\Question_1\\\\clean_dataset\\\\train\\\\Blue-tailed_Bee-eater\\\\_JWO5644_cr.jpg'"
      ]
     },
     "execution_count": 9,
     "metadata": {},
     "output_type": "execute_result"
    },
    {
     "data": {
      "text/plain": [
       "'C:\\\\Users\\\\SengTian\\\\Downloads\\\\Temp\\\\Republic Polytechnic\\\\Assignment_ComputerVision\\\\TIPP_AAI_AAISD_CV\\\\Question_1\\\\clean_dataset\\\\train\\\\Jerdons_Baza\\\\_JWO5656_cr.jpg'"
      ]
     },
     "execution_count": 9,
     "metadata": {},
     "output_type": "execute_result"
    },
    {
     "data": {
      "text/plain": [
       "'C:\\\\Users\\\\SengTian\\\\Downloads\\\\Temp\\\\Republic Polytechnic\\\\Assignment_ComputerVision\\\\TIPP_AAI_AAISD_CV\\\\Question_1\\\\clean_dataset\\\\train\\\\Jerdons_Baza\\\\_JWO5675_cr.jpg'"
      ]
     },
     "execution_count": 9,
     "metadata": {},
     "output_type": "execute_result"
    },
    {
     "data": {
      "text/plain": [
       "'C:\\\\Users\\\\SengTian\\\\Downloads\\\\Temp\\\\Republic Polytechnic\\\\Assignment_ComputerVision\\\\TIPP_AAI_AAISD_CV\\\\Question_1\\\\clean_dataset\\\\train\\\\Jerdons_Baza\\\\_JWO5680_cr.jpg'"
      ]
     },
     "execution_count": 9,
     "metadata": {},
     "output_type": "execute_result"
    },
    {
     "data": {
      "text/plain": [
       "'C:\\\\Users\\\\SengTian\\\\Downloads\\\\Temp\\\\Republic Polytechnic\\\\Assignment_ComputerVision\\\\TIPP_AAI_AAISD_CV\\\\Question_1\\\\clean_dataset\\\\train\\\\Red-Crowned_Crane\\\\_JWO5689_cr.jpg'"
      ]
     },
     "execution_count": 9,
     "metadata": {},
     "output_type": "execute_result"
    },
    {
     "data": {
      "text/plain": [
       "'C:\\\\Users\\\\SengTian\\\\Downloads\\\\Temp\\\\Republic Polytechnic\\\\Assignment_ComputerVision\\\\TIPP_AAI_AAISD_CV\\\\Question_1\\\\clean_dataset\\\\train\\\\Red-Crowned_Crane\\\\_JWO5695_cr.jpg'"
      ]
     },
     "execution_count": 9,
     "metadata": {},
     "output_type": "execute_result"
    },
    {
     "data": {
      "text/plain": [
       "'C:\\\\Users\\\\SengTian\\\\Downloads\\\\Temp\\\\Republic Polytechnic\\\\Assignment_ComputerVision\\\\TIPP_AAI_AAISD_CV\\\\Question_1\\\\clean_dataset\\\\train\\\\Red-Crowned_Crane\\\\_JWO5696_cr.jpg'"
      ]
     },
     "execution_count": 9,
     "metadata": {},
     "output_type": "execute_result"
    },
    {
     "data": {
      "text/plain": [
       "'C:\\\\Users\\\\SengTian\\\\Downloads\\\\Temp\\\\Republic Polytechnic\\\\Assignment_ComputerVision\\\\TIPP_AAI_AAISD_CV\\\\Question_1\\\\clean_dataset\\\\train\\\\Red-Crowned_Crane\\\\_JWO5696a_cr.jpg'"
      ]
     },
     "execution_count": 9,
     "metadata": {},
     "output_type": "execute_result"
    },
    {
     "data": {
      "text/plain": [
       "'C:\\\\Users\\\\SengTian\\\\Downloads\\\\Temp\\\\Republic Polytechnic\\\\Assignment_ComputerVision\\\\TIPP_AAI_AAISD_CV\\\\Question_1\\\\clean_dataset\\\\train\\\\Red-Crowned_Crane\\\\_JWO5698_cr.jpg'"
      ]
     },
     "execution_count": 9,
     "metadata": {},
     "output_type": "execute_result"
    },
    {
     "data": {
      "text/plain": [
       "'C:\\\\Users\\\\SengTian\\\\Downloads\\\\Temp\\\\Republic Polytechnic\\\\Assignment_ComputerVision\\\\TIPP_AAI_AAISD_CV\\\\Question_1\\\\clean_dataset\\\\train\\\\Red-Crowned_Crane\\\\_JWO5699_cr.jpg'"
      ]
     },
     "execution_count": 9,
     "metadata": {},
     "output_type": "execute_result"
    },
    {
     "data": {
      "text/plain": [
       "'C:\\\\Users\\\\SengTian\\\\Downloads\\\\Temp\\\\Republic Polytechnic\\\\Assignment_ComputerVision\\\\TIPP_AAI_AAISD_CV\\\\Question_1\\\\clean_dataset\\\\train\\\\Red-Crowned_Crane\\\\_JWO5700_cr.jpg'"
      ]
     },
     "execution_count": 9,
     "metadata": {},
     "output_type": "execute_result"
    },
    {
     "data": {
      "text/plain": [
       "'C:\\\\Users\\\\SengTian\\\\Downloads\\\\Temp\\\\Republic Polytechnic\\\\Assignment_ComputerVision\\\\TIPP_AAI_AAISD_CV\\\\Question_1\\\\clean_dataset\\\\train\\\\Red-Crowned_Crane\\\\_JWO5702_cr.jpg'"
      ]
     },
     "execution_count": 9,
     "metadata": {},
     "output_type": "execute_result"
    },
    {
     "data": {
      "text/plain": [
       "'C:\\\\Users\\\\SengTian\\\\Downloads\\\\Temp\\\\Republic Polytechnic\\\\Assignment_ComputerVision\\\\TIPP_AAI_AAISD_CV\\\\Question_1\\\\clean_dataset\\\\train\\\\Red-Crowned_Crane\\\\_JWO5707_cr.jpg'"
      ]
     },
     "execution_count": 9,
     "metadata": {},
     "output_type": "execute_result"
    },
    {
     "data": {
      "text/plain": [
       "'C:\\\\Users\\\\SengTian\\\\Downloads\\\\Temp\\\\Republic Polytechnic\\\\Assignment_ComputerVision\\\\TIPP_AAI_AAISD_CV\\\\Question_1\\\\clean_dataset\\\\train\\\\Jerdons_Baza\\\\_JWO5717_cr.jpg'"
      ]
     },
     "execution_count": 9,
     "metadata": {},
     "output_type": "execute_result"
    },
    {
     "data": {
      "text/plain": [
       "'C:\\\\Users\\\\SengTian\\\\Downloads\\\\Temp\\\\Republic Polytechnic\\\\Assignment_ComputerVision\\\\TIPP_AAI_AAISD_CV\\\\Question_1\\\\clean_dataset\\\\train\\\\Red-Crowned_Crane\\\\_JWO5744_cr.jpg'"
      ]
     },
     "execution_count": 9,
     "metadata": {},
     "output_type": "execute_result"
    },
    {
     "data": {
      "text/plain": [
       "'C:\\\\Users\\\\SengTian\\\\Downloads\\\\Temp\\\\Republic Polytechnic\\\\Assignment_ComputerVision\\\\TIPP_AAI_AAISD_CV\\\\Question_1\\\\clean_dataset\\\\train\\\\Red-Crowned_Crane\\\\_JWO5747_cr.jpg'"
      ]
     },
     "execution_count": 9,
     "metadata": {},
     "output_type": "execute_result"
    },
    {
     "data": {
      "text/plain": [
       "'C:\\\\Users\\\\SengTian\\\\Downloads\\\\Temp\\\\Republic Polytechnic\\\\Assignment_ComputerVision\\\\TIPP_AAI_AAISD_CV\\\\Question_1\\\\clean_dataset\\\\train\\\\Red-Crowned_Crane\\\\_JWO5747a_cr.jpg'"
      ]
     },
     "execution_count": 9,
     "metadata": {},
     "output_type": "execute_result"
    },
    {
     "data": {
      "text/plain": [
       "'C:\\\\Users\\\\SengTian\\\\Downloads\\\\Temp\\\\Republic Polytechnic\\\\Assignment_ComputerVision\\\\TIPP_AAI_AAISD_CV\\\\Question_1\\\\clean_dataset\\\\train\\\\Red-Crowned_Crane\\\\_JWO5756_cr.jpg'"
      ]
     },
     "execution_count": 9,
     "metadata": {},
     "output_type": "execute_result"
    },
    {
     "data": {
      "text/plain": [
       "'C:\\\\Users\\\\SengTian\\\\Downloads\\\\Temp\\\\Republic Polytechnic\\\\Assignment_ComputerVision\\\\TIPP_AAI_AAISD_CV\\\\Question_1\\\\clean_dataset\\\\train\\\\Red-Crowned_Crane\\\\_JWO5759_cr.jpg'"
      ]
     },
     "execution_count": 9,
     "metadata": {},
     "output_type": "execute_result"
    },
    {
     "data": {
      "text/plain": [
       "'C:\\\\Users\\\\SengTian\\\\Downloads\\\\Temp\\\\Republic Polytechnic\\\\Assignment_ComputerVision\\\\TIPP_AAI_AAISD_CV\\\\Question_1\\\\clean_dataset\\\\train\\\\Jerdons_Baza\\\\_JWO5764_cr.jpg'"
      ]
     },
     "execution_count": 9,
     "metadata": {},
     "output_type": "execute_result"
    },
    {
     "data": {
      "text/plain": [
       "'C:\\\\Users\\\\SengTian\\\\Downloads\\\\Temp\\\\Republic Polytechnic\\\\Assignment_ComputerVision\\\\TIPP_AAI_AAISD_CV\\\\Question_1\\\\clean_dataset\\\\train\\\\Red-Crowned_Crane\\\\_JWO5777_cr.jpg'"
      ]
     },
     "execution_count": 9,
     "metadata": {},
     "output_type": "execute_result"
    },
    {
     "data": {
      "text/plain": [
       "'C:\\\\Users\\\\SengTian\\\\Downloads\\\\Temp\\\\Republic Polytechnic\\\\Assignment_ComputerVision\\\\TIPP_AAI_AAISD_CV\\\\Question_1\\\\clean_dataset\\\\train\\\\Red-Crowned_Crane\\\\_JWO5777a_cr.jpg'"
      ]
     },
     "execution_count": 9,
     "metadata": {},
     "output_type": "execute_result"
    },
    {
     "data": {
      "text/plain": [
       "'C:\\\\Users\\\\SengTian\\\\Downloads\\\\Temp\\\\Republic Polytechnic\\\\Assignment_ComputerVision\\\\TIPP_AAI_AAISD_CV\\\\Question_1\\\\clean_dataset\\\\train\\\\Jerdons_Baza\\\\_JWO5816_cr.jpg'"
      ]
     },
     "execution_count": 9,
     "metadata": {},
     "output_type": "execute_result"
    },
    {
     "data": {
      "text/plain": [
       "'C:\\\\Users\\\\SengTian\\\\Downloads\\\\Temp\\\\Republic Polytechnic\\\\Assignment_ComputerVision\\\\TIPP_AAI_AAISD_CV\\\\Question_1\\\\clean_dataset\\\\train\\\\Jerdons_Baza\\\\_JWO5827_cr.jpg'"
      ]
     },
     "execution_count": 9,
     "metadata": {},
     "output_type": "execute_result"
    },
    {
     "data": {
      "text/plain": [
       "'C:\\\\Users\\\\SengTian\\\\Downloads\\\\Temp\\\\Republic Polytechnic\\\\Assignment_ComputerVision\\\\TIPP_AAI_AAISD_CV\\\\Question_1\\\\clean_dataset\\\\train\\\\Jerdons_Baza\\\\_JWO5857_cr.jpg'"
      ]
     },
     "execution_count": 9,
     "metadata": {},
     "output_type": "execute_result"
    },
    {
     "data": {
      "text/plain": [
       "'C:\\\\Users\\\\SengTian\\\\Downloads\\\\Temp\\\\Republic Polytechnic\\\\Assignment_ComputerVision\\\\TIPP_AAI_AAISD_CV\\\\Question_1\\\\clean_dataset\\\\train\\\\Masked_Lapwing\\\\_JWO5925_cr.jpg'"
      ]
     },
     "execution_count": 9,
     "metadata": {},
     "output_type": "execute_result"
    },
    {
     "data": {
      "text/plain": [
       "'C:\\\\Users\\\\SengTian\\\\Downloads\\\\Temp\\\\Republic Polytechnic\\\\Assignment_ComputerVision\\\\TIPP_AAI_AAISD_CV\\\\Question_1\\\\clean_dataset\\\\train\\\\Masked_Lapwing\\\\_JWO5943_cr.jpg'"
      ]
     },
     "execution_count": 9,
     "metadata": {},
     "output_type": "execute_result"
    },
    {
     "data": {
      "text/plain": [
       "'C:\\\\Users\\\\SengTian\\\\Downloads\\\\Temp\\\\Republic Polytechnic\\\\Assignment_ComputerVision\\\\TIPP_AAI_AAISD_CV\\\\Question_1\\\\clean_dataset\\\\train\\\\Masked_Lapwing\\\\_JWO5959_cr.jpg'"
      ]
     },
     "execution_count": 9,
     "metadata": {},
     "output_type": "execute_result"
    },
    {
     "data": {
      "text/plain": [
       "'C:\\\\Users\\\\SengTian\\\\Downloads\\\\Temp\\\\Republic Polytechnic\\\\Assignment_ComputerVision\\\\TIPP_AAI_AAISD_CV\\\\Question_1\\\\clean_dataset\\\\train\\\\Masked_Lapwing\\\\_JWO6001_cr.jpg'"
      ]
     },
     "execution_count": 9,
     "metadata": {},
     "output_type": "execute_result"
    },
    {
     "data": {
      "text/plain": [
       "'C:\\\\Users\\\\SengTian\\\\Downloads\\\\Temp\\\\Republic Polytechnic\\\\Assignment_ComputerVision\\\\TIPP_AAI_AAISD_CV\\\\Question_1\\\\clean_dataset\\\\train\\\\Masked_Lapwing\\\\_JWO6005_1_cr.jpg'"
      ]
     },
     "execution_count": 9,
     "metadata": {},
     "output_type": "execute_result"
    },
    {
     "data": {
      "text/plain": [
       "'C:\\\\Users\\\\SengTian\\\\Downloads\\\\Temp\\\\Republic Polytechnic\\\\Assignment_ComputerVision\\\\TIPP_AAI_AAISD_CV\\\\Question_1\\\\clean_dataset\\\\train\\\\Masked_Lapwing\\\\_JWO6006_cr.jpg'"
      ]
     },
     "execution_count": 9,
     "metadata": {},
     "output_type": "execute_result"
    },
    {
     "data": {
      "text/plain": [
       "'C:\\\\Users\\\\SengTian\\\\Downloads\\\\Temp\\\\Republic Polytechnic\\\\Assignment_ComputerVision\\\\TIPP_AAI_AAISD_CV\\\\Question_1\\\\clean_dataset\\\\train\\\\Chinese_Sparrowhawk\\\\_JWO6009_cr.jpg'"
      ]
     },
     "execution_count": 9,
     "metadata": {},
     "output_type": "execute_result"
    },
    {
     "data": {
      "text/plain": [
       "'C:\\\\Users\\\\SengTian\\\\Downloads\\\\Temp\\\\Republic Polytechnic\\\\Assignment_ComputerVision\\\\TIPP_AAI_AAISD_CV\\\\Question_1\\\\clean_dataset\\\\train\\\\Masked_Lapwing\\\\_JWO6022_cr.jpg'"
      ]
     },
     "execution_count": 9,
     "metadata": {},
     "output_type": "execute_result"
    },
    {
     "data": {
      "text/plain": [
       "'C:\\\\Users\\\\SengTian\\\\Downloads\\\\Temp\\\\Republic Polytechnic\\\\Assignment_ComputerVision\\\\TIPP_AAI_AAISD_CV\\\\Question_1\\\\clean_dataset\\\\train\\\\Asian_Glossy_Starling\\\\_JWO6023.jpg'"
      ]
     },
     "execution_count": 9,
     "metadata": {},
     "output_type": "execute_result"
    },
    {
     "data": {
      "text/plain": [
       "'C:\\\\Users\\\\SengTian\\\\Downloads\\\\Temp\\\\Republic Polytechnic\\\\Assignment_ComputerVision\\\\TIPP_AAI_AAISD_CV\\\\Question_1\\\\clean_dataset\\\\train\\\\Asian_Glossy_Starling\\\\_JWO6025.jpg'"
      ]
     },
     "execution_count": 9,
     "metadata": {},
     "output_type": "execute_result"
    },
    {
     "data": {
      "text/plain": [
       "'C:\\\\Users\\\\SengTian\\\\Downloads\\\\Temp\\\\Republic Polytechnic\\\\Assignment_ComputerVision\\\\TIPP_AAI_AAISD_CV\\\\Question_1\\\\clean_dataset\\\\train\\\\Masked_Lapwing\\\\_JWO6033_cr.jpg'"
      ]
     },
     "execution_count": 9,
     "metadata": {},
     "output_type": "execute_result"
    },
    {
     "data": {
      "text/plain": [
       "'C:\\\\Users\\\\SengTian\\\\Downloads\\\\Temp\\\\Republic Polytechnic\\\\Assignment_ComputerVision\\\\TIPP_AAI_AAISD_CV\\\\Question_1\\\\clean_dataset\\\\train\\\\Coppersmith_Barbet\\\\_JWO6049_cr.jpg'"
      ]
     },
     "execution_count": 9,
     "metadata": {},
     "output_type": "execute_result"
    },
    {
     "data": {
      "text/plain": [
       "'C:\\\\Users\\\\SengTian\\\\Downloads\\\\Temp\\\\Republic Polytechnic\\\\Assignment_ComputerVision\\\\TIPP_AAI_AAISD_CV\\\\Question_1\\\\clean_dataset\\\\train\\\\Coppersmith_Barbet\\\\_JWO6055_cr.jpg'"
      ]
     },
     "execution_count": 9,
     "metadata": {},
     "output_type": "execute_result"
    },
    {
     "data": {
      "text/plain": [
       "'C:\\\\Users\\\\SengTian\\\\Downloads\\\\Temp\\\\Republic Polytechnic\\\\Assignment_ComputerVision\\\\TIPP_AAI_AAISD_CV\\\\Question_1\\\\clean_dataset\\\\train\\\\Coppersmith_Barbet\\\\_JWO6057_cr.jpg'"
      ]
     },
     "execution_count": 9,
     "metadata": {},
     "output_type": "execute_result"
    },
    {
     "data": {
      "text/plain": [
       "'C:\\\\Users\\\\SengTian\\\\Downloads\\\\Temp\\\\Republic Polytechnic\\\\Assignment_ComputerVision\\\\TIPP_AAI_AAISD_CV\\\\Question_1\\\\clean_dataset\\\\train\\\\Coppersmith_Barbet\\\\_JWO6065_cr.jpg'"
      ]
     },
     "execution_count": 9,
     "metadata": {},
     "output_type": "execute_result"
    },
    {
     "data": {
      "text/plain": [
       "'C:\\\\Users\\\\SengTian\\\\Downloads\\\\Temp\\\\Republic Polytechnic\\\\Assignment_ComputerVision\\\\TIPP_AAI_AAISD_CV\\\\Question_1\\\\clean_dataset\\\\train\\\\Grey-rumped_Treeswift\\\\_JWO6113_cr.jpg'"
      ]
     },
     "execution_count": 9,
     "metadata": {},
     "output_type": "execute_result"
    },
    {
     "data": {
      "text/plain": [
       "'C:\\\\Users\\\\SengTian\\\\Downloads\\\\Temp\\\\Republic Polytechnic\\\\Assignment_ComputerVision\\\\TIPP_AAI_AAISD_CV\\\\Question_1\\\\clean_dataset\\\\train\\\\Grey-rumped_Treeswift\\\\_JWO6122_cr.jpg'"
      ]
     },
     "execution_count": 9,
     "metadata": {},
     "output_type": "execute_result"
    },
    {
     "data": {
      "text/plain": [
       "'C:\\\\Users\\\\SengTian\\\\Downloads\\\\Temp\\\\Republic Polytechnic\\\\Assignment_ComputerVision\\\\TIPP_AAI_AAISD_CV\\\\Question_1\\\\clean_dataset\\\\train\\\\Grey-rumped_Treeswift\\\\_JWO6129_cr.jpg'"
      ]
     },
     "execution_count": 9,
     "metadata": {},
     "output_type": "execute_result"
    },
    {
     "data": {
      "text/plain": [
       "'C:\\\\Users\\\\SengTian\\\\Downloads\\\\Temp\\\\Republic Polytechnic\\\\Assignment_ComputerVision\\\\TIPP_AAI_AAISD_CV\\\\Question_1\\\\clean_dataset\\\\train\\\\Grey-rumped_Treeswift\\\\_JWO6138_cr.jpg'"
      ]
     },
     "execution_count": 9,
     "metadata": {},
     "output_type": "execute_result"
    },
    {
     "data": {
      "text/plain": [
       "'C:\\\\Users\\\\SengTian\\\\Downloads\\\\Temp\\\\Republic Polytechnic\\\\Assignment_ComputerVision\\\\TIPP_AAI_AAISD_CV\\\\Question_1\\\\clean_dataset\\\\train\\\\Red-Crowned_Crane\\\\_JWO6147_cr.jpg'"
      ]
     },
     "execution_count": 9,
     "metadata": {},
     "output_type": "execute_result"
    },
    {
     "data": {
      "text/plain": [
       "'C:\\\\Users\\\\SengTian\\\\Downloads\\\\Temp\\\\Republic Polytechnic\\\\Assignment_ComputerVision\\\\TIPP_AAI_AAISD_CV\\\\Question_1\\\\clean_dataset\\\\train\\\\Red-Crowned_Crane\\\\_JWO6149_cr.jpg'"
      ]
     },
     "execution_count": 9,
     "metadata": {},
     "output_type": "execute_result"
    },
    {
     "data": {
      "text/plain": [
       "'C:\\\\Users\\\\SengTian\\\\Downloads\\\\Temp\\\\Republic Polytechnic\\\\Assignment_ComputerVision\\\\TIPP_AAI_AAISD_CV\\\\Question_1\\\\clean_dataset\\\\train\\\\Red-Crowned_Crane\\\\_JWO6155_cr.jpg'"
      ]
     },
     "execution_count": 9,
     "metadata": {},
     "output_type": "execute_result"
    },
    {
     "data": {
      "text/plain": [
       "'C:\\\\Users\\\\SengTian\\\\Downloads\\\\Temp\\\\Republic Polytechnic\\\\Assignment_ComputerVision\\\\TIPP_AAI_AAISD_CV\\\\Question_1\\\\clean_dataset\\\\train\\\\Sunda_Scoops_Owl\\\\_JWO6155a_cr.jpg'"
      ]
     },
     "execution_count": 9,
     "metadata": {},
     "output_type": "execute_result"
    },
    {
     "data": {
      "text/plain": [
       "'C:\\\\Users\\\\SengTian\\\\Downloads\\\\Temp\\\\Republic Polytechnic\\\\Assignment_ComputerVision\\\\TIPP_AAI_AAISD_CV\\\\Question_1\\\\clean_dataset\\\\train\\\\Sunda_Scoops_Owl\\\\_JWO6160_cr.jpg'"
      ]
     },
     "execution_count": 9,
     "metadata": {},
     "output_type": "execute_result"
    },
    {
     "data": {
      "text/plain": [
       "'C:\\\\Users\\\\SengTian\\\\Downloads\\\\Temp\\\\Republic Polytechnic\\\\Assignment_ComputerVision\\\\TIPP_AAI_AAISD_CV\\\\Question_1\\\\clean_dataset\\\\train\\\\Grey-rumped_Treeswift\\\\_JWO6161_cr.jpg'"
      ]
     },
     "execution_count": 9,
     "metadata": {},
     "output_type": "execute_result"
    },
    {
     "data": {
      "text/plain": [
       "'C:\\\\Users\\\\SengTian\\\\Downloads\\\\Temp\\\\Republic Polytechnic\\\\Assignment_ComputerVision\\\\TIPP_AAI_AAISD_CV\\\\Question_1\\\\clean_dataset\\\\train\\\\Sunda_Scoops_Owl\\\\_JWO6163_cr.jpg'"
      ]
     },
     "execution_count": 9,
     "metadata": {},
     "output_type": "execute_result"
    },
    {
     "data": {
      "text/plain": [
       "'C:\\\\Users\\\\SengTian\\\\Downloads\\\\Temp\\\\Republic Polytechnic\\\\Assignment_ComputerVision\\\\TIPP_AAI_AAISD_CV\\\\Question_1\\\\clean_dataset\\\\train\\\\Grey-rumped_Treeswift\\\\_JWO6168_cr.jpg'"
      ]
     },
     "execution_count": 9,
     "metadata": {},
     "output_type": "execute_result"
    },
    {
     "data": {
      "text/plain": [
       "'C:\\\\Users\\\\SengTian\\\\Downloads\\\\Temp\\\\Republic Polytechnic\\\\Assignment_ComputerVision\\\\TIPP_AAI_AAISD_CV\\\\Question_1\\\\clean_dataset\\\\train\\\\Sunda_Scoops_Owl\\\\_JWO6170_cr.jpg'"
      ]
     },
     "execution_count": 9,
     "metadata": {},
     "output_type": "execute_result"
    },
    {
     "data": {
      "text/plain": [
       "'C:\\\\Users\\\\SengTian\\\\Downloads\\\\Temp\\\\Republic Polytechnic\\\\Assignment_ComputerVision\\\\TIPP_AAI_AAISD_CV\\\\Question_1\\\\clean_dataset\\\\train\\\\Sunda_Scoops_Owl\\\\_JWO6173_cr.jpg'"
      ]
     },
     "execution_count": 9,
     "metadata": {},
     "output_type": "execute_result"
    },
    {
     "data": {
      "text/plain": [
       "'C:\\\\Users\\\\SengTian\\\\Downloads\\\\Temp\\\\Republic Polytechnic\\\\Assignment_ComputerVision\\\\TIPP_AAI_AAISD_CV\\\\Question_1\\\\clean_dataset\\\\train\\\\Sunda_Scoops_Owl\\\\_JWO6175_cr.jpg'"
      ]
     },
     "execution_count": 9,
     "metadata": {},
     "output_type": "execute_result"
    },
    {
     "data": {
      "text/plain": [
       "'C:\\\\Users\\\\SengTian\\\\Downloads\\\\Temp\\\\Republic Polytechnic\\\\Assignment_ComputerVision\\\\TIPP_AAI_AAISD_CV\\\\Question_1\\\\clean_dataset\\\\train\\\\Grey-rumped_Treeswift\\\\_JWO6176_cr.jpg'"
      ]
     },
     "execution_count": 9,
     "metadata": {},
     "output_type": "execute_result"
    },
    {
     "data": {
      "text/plain": [
       "'C:\\\\Users\\\\SengTian\\\\Downloads\\\\Temp\\\\Republic Polytechnic\\\\Assignment_ComputerVision\\\\TIPP_AAI_AAISD_CV\\\\Question_1\\\\clean_dataset\\\\train\\\\Grey-rumped_Treeswift\\\\_JWO6223_cr.jpg'"
      ]
     },
     "execution_count": 9,
     "metadata": {},
     "output_type": "execute_result"
    },
    {
     "data": {
      "text/plain": [
       "'C:\\\\Users\\\\SengTian\\\\Downloads\\\\Temp\\\\Republic Polytechnic\\\\Assignment_ComputerVision\\\\TIPP_AAI_AAISD_CV\\\\Question_1\\\\clean_dataset\\\\train\\\\Grey-rumped_Treeswift\\\\_JWO6224_cr.jpg'"
      ]
     },
     "execution_count": 9,
     "metadata": {},
     "output_type": "execute_result"
    },
    {
     "data": {
      "text/plain": [
       "'C:\\\\Users\\\\SengTian\\\\Downloads\\\\Temp\\\\Republic Polytechnic\\\\Assignment_ComputerVision\\\\TIPP_AAI_AAISD_CV\\\\Question_1\\\\clean_dataset\\\\train\\\\Grey-rumped_Treeswift\\\\_JWO6230_cr.jpg'"
      ]
     },
     "execution_count": 9,
     "metadata": {},
     "output_type": "execute_result"
    },
    {
     "data": {
      "text/plain": [
       "'C:\\\\Users\\\\SengTian\\\\Downloads\\\\Temp\\\\Republic Polytechnic\\\\Assignment_ComputerVision\\\\TIPP_AAI_AAISD_CV\\\\Question_1\\\\clean_dataset\\\\train\\\\Grey-rumped_Treeswift\\\\_JWO6238_cr.jpg'"
      ]
     },
     "execution_count": 9,
     "metadata": {},
     "output_type": "execute_result"
    },
    {
     "data": {
      "text/plain": [
       "'C:\\\\Users\\\\SengTian\\\\Downloads\\\\Temp\\\\Republic Polytechnic\\\\Assignment_ComputerVision\\\\TIPP_AAI_AAISD_CV\\\\Question_1\\\\clean_dataset\\\\train\\\\Grey-rumped_Treeswift\\\\_JWO6243_cr.jpg'"
      ]
     },
     "execution_count": 9,
     "metadata": {},
     "output_type": "execute_result"
    },
    {
     "data": {
      "text/plain": [
       "'C:\\\\Users\\\\SengTian\\\\Downloads\\\\Temp\\\\Republic Polytechnic\\\\Assignment_ComputerVision\\\\TIPP_AAI_AAISD_CV\\\\Question_1\\\\clean_dataset\\\\train\\\\Grey-rumped_Treeswift\\\\_JWO6246_cr.jpg'"
      ]
     },
     "execution_count": 9,
     "metadata": {},
     "output_type": "execute_result"
    },
    {
     "data": {
      "text/plain": [
       "'C:\\\\Users\\\\SengTian\\\\Downloads\\\\Temp\\\\Republic Polytechnic\\\\Assignment_ComputerVision\\\\TIPP_AAI_AAISD_CV\\\\Question_1\\\\clean_dataset\\\\train\\\\Grey-rumped_Treeswift\\\\_JWO6256_cr.jpg'"
      ]
     },
     "execution_count": 9,
     "metadata": {},
     "output_type": "execute_result"
    },
    {
     "data": {
      "text/plain": [
       "'C:\\\\Users\\\\SengTian\\\\Downloads\\\\Temp\\\\Republic Polytechnic\\\\Assignment_ComputerVision\\\\TIPP_AAI_AAISD_CV\\\\Question_1\\\\clean_dataset\\\\train\\\\Grey-rumped_Treeswift\\\\_JWO6263_cr.jpg'"
      ]
     },
     "execution_count": 9,
     "metadata": {},
     "output_type": "execute_result"
    },
    {
     "data": {
      "text/plain": [
       "'C:\\\\Users\\\\SengTian\\\\Downloads\\\\Temp\\\\Republic Polytechnic\\\\Assignment_ComputerVision\\\\TIPP_AAI_AAISD_CV\\\\Question_1\\\\clean_dataset\\\\train\\\\Grey-rumped_Treeswift\\\\_JWO6270_cr.jpg'"
      ]
     },
     "execution_count": 9,
     "metadata": {},
     "output_type": "execute_result"
    },
    {
     "data": {
      "text/plain": [
       "'C:\\\\Users\\\\SengTian\\\\Downloads\\\\Temp\\\\Republic Polytechnic\\\\Assignment_ComputerVision\\\\TIPP_AAI_AAISD_CV\\\\Question_1\\\\clean_dataset\\\\train\\\\Grey-rumped_Treeswift\\\\_JWO6287_cr.jpg'"
      ]
     },
     "execution_count": 9,
     "metadata": {},
     "output_type": "execute_result"
    },
    {
     "data": {
      "text/plain": [
       "'C:\\\\Users\\\\SengTian\\\\Downloads\\\\Temp\\\\Republic Polytechnic\\\\Assignment_ComputerVision\\\\TIPP_AAI_AAISD_CV\\\\Question_1\\\\clean_dataset\\\\train\\\\Grey-rumped_Treeswift\\\\_JWO6299_cr.jpg'"
      ]
     },
     "execution_count": 9,
     "metadata": {},
     "output_type": "execute_result"
    },
    {
     "data": {
      "text/plain": [
       "'C:\\\\Users\\\\SengTian\\\\Downloads\\\\Temp\\\\Republic Polytechnic\\\\Assignment_ComputerVision\\\\TIPP_AAI_AAISD_CV\\\\Question_1\\\\clean_dataset\\\\train\\\\Grey-rumped_Treeswift\\\\_JWO6307_cr.jpg'"
      ]
     },
     "execution_count": 9,
     "metadata": {},
     "output_type": "execute_result"
    },
    {
     "data": {
      "text/plain": [
       "'C:\\\\Users\\\\SengTian\\\\Downloads\\\\Temp\\\\Republic Polytechnic\\\\Assignment_ComputerVision\\\\TIPP_AAI_AAISD_CV\\\\Question_1\\\\clean_dataset\\\\train\\\\Red-Crowned_Crane\\\\_JWO6318_cr.jpg'"
      ]
     },
     "execution_count": 9,
     "metadata": {},
     "output_type": "execute_result"
    },
    {
     "data": {
      "text/plain": [
       "'C:\\\\Users\\\\SengTian\\\\Downloads\\\\Temp\\\\Republic Polytechnic\\\\Assignment_ComputerVision\\\\TIPP_AAI_AAISD_CV\\\\Question_1\\\\clean_dataset\\\\train\\\\Red-Crowned_Crane\\\\_JWO6357_cr.jpg'"
      ]
     },
     "execution_count": 9,
     "metadata": {},
     "output_type": "execute_result"
    },
    {
     "data": {
      "text/plain": [
       "'C:\\\\Users\\\\SengTian\\\\Downloads\\\\Temp\\\\Republic Polytechnic\\\\Assignment_ComputerVision\\\\TIPP_AAI_AAISD_CV\\\\Question_1\\\\clean_dataset\\\\train\\\\Red-Crowned_Crane\\\\_JWO6372_cr.jpg'"
      ]
     },
     "execution_count": 9,
     "metadata": {},
     "output_type": "execute_result"
    },
    {
     "data": {
      "text/plain": [
       "'C:\\\\Users\\\\SengTian\\\\Downloads\\\\Temp\\\\Republic Polytechnic\\\\Assignment_ComputerVision\\\\TIPP_AAI_AAISD_CV\\\\Question_1\\\\clean_dataset\\\\train\\\\Red-Crowned_Crane\\\\_JWO6377_cr.jpg'"
      ]
     },
     "execution_count": 9,
     "metadata": {},
     "output_type": "execute_result"
    },
    {
     "data": {
      "text/plain": [
       "'C:\\\\Users\\\\SengTian\\\\Downloads\\\\Temp\\\\Republic Polytechnic\\\\Assignment_ComputerVision\\\\TIPP_AAI_AAISD_CV\\\\Question_1\\\\clean_dataset\\\\train\\\\Red-Crowned_Crane\\\\_JWO6378_cr.jpg'"
      ]
     },
     "execution_count": 9,
     "metadata": {},
     "output_type": "execute_result"
    },
    {
     "data": {
      "text/plain": [
       "'C:\\\\Users\\\\SengTian\\\\Downloads\\\\Temp\\\\Republic Polytechnic\\\\Assignment_ComputerVision\\\\TIPP_AAI_AAISD_CV\\\\Question_1\\\\clean_dataset\\\\train\\\\Red-Crowned_Crane\\\\_JWO6412_cr.jpg'"
      ]
     },
     "execution_count": 9,
     "metadata": {},
     "output_type": "execute_result"
    },
    {
     "data": {
      "text/plain": [
       "'C:\\\\Users\\\\SengTian\\\\Downloads\\\\Temp\\\\Republic Polytechnic\\\\Assignment_ComputerVision\\\\TIPP_AAI_AAISD_CV\\\\Question_1\\\\clean_dataset\\\\train\\\\Red-Crowned_Crane\\\\_JWO6412a_cr.jpg'"
      ]
     },
     "execution_count": 9,
     "metadata": {},
     "output_type": "execute_result"
    },
    {
     "data": {
      "text/plain": [
       "'C:\\\\Users\\\\SengTian\\\\Downloads\\\\Temp\\\\Republic Polytechnic\\\\Assignment_ComputerVision\\\\TIPP_AAI_AAISD_CV\\\\Question_1\\\\clean_dataset\\\\train\\\\Grey-rumped_Treeswift\\\\_JWO6476_cr.jpg'"
      ]
     },
     "execution_count": 9,
     "metadata": {},
     "output_type": "execute_result"
    },
    {
     "data": {
      "text/plain": [
       "'C:\\\\Users\\\\SengTian\\\\Downloads\\\\Temp\\\\Republic Polytechnic\\\\Assignment_ComputerVision\\\\TIPP_AAI_AAISD_CV\\\\Question_1\\\\clean_dataset\\\\train\\\\Red-Crowned_Crane\\\\_JWO6572_cr.jpg'"
      ]
     },
     "execution_count": 9,
     "metadata": {},
     "output_type": "execute_result"
    },
    {
     "data": {
      "text/plain": [
       "'C:\\\\Users\\\\SengTian\\\\Downloads\\\\Temp\\\\Republic Polytechnic\\\\Assignment_ComputerVision\\\\TIPP_AAI_AAISD_CV\\\\Question_1\\\\clean_dataset\\\\train\\\\Red-Crowned_Crane\\\\_JWO6580_cr.jpg'"
      ]
     },
     "execution_count": 9,
     "metadata": {},
     "output_type": "execute_result"
    },
    {
     "data": {
      "text/plain": [
       "'C:\\\\Users\\\\SengTian\\\\Downloads\\\\Temp\\\\Republic Polytechnic\\\\Assignment_ComputerVision\\\\TIPP_AAI_AAISD_CV\\\\Question_1\\\\clean_dataset\\\\train\\\\Greater_Racket-tailed_Drongo\\\\_JWO6606_cr.jpg'"
      ]
     },
     "execution_count": 9,
     "metadata": {},
     "output_type": "execute_result"
    },
    {
     "data": {
      "text/plain": [
       "'C:\\\\Users\\\\SengTian\\\\Downloads\\\\Temp\\\\Republic Polytechnic\\\\Assignment_ComputerVision\\\\TIPP_AAI_AAISD_CV\\\\Question_1\\\\clean_dataset\\\\train\\\\Japanese_Tit\\\\_JWO6608_cr.jpg'"
      ]
     },
     "execution_count": 9,
     "metadata": {},
     "output_type": "execute_result"
    },
    {
     "data": {
      "text/plain": [
       "'C:\\\\Users\\\\SengTian\\\\Downloads\\\\Temp\\\\Republic Polytechnic\\\\Assignment_ComputerVision\\\\TIPP_AAI_AAISD_CV\\\\Question_1\\\\clean_dataset\\\\train\\\\Greater_Racket-tailed_Drongo\\\\_JWO6621_cr.jpg'"
      ]
     },
     "execution_count": 9,
     "metadata": {},
     "output_type": "execute_result"
    },
    {
     "data": {
      "text/plain": [
       "'C:\\\\Users\\\\SengTian\\\\Downloads\\\\Temp\\\\Republic Polytechnic\\\\Assignment_ComputerVision\\\\TIPP_AAI_AAISD_CV\\\\Question_1\\\\clean_dataset\\\\train\\\\Greater_Racket-tailed_Drongo\\\\_JWO6622_cr.jpg'"
      ]
     },
     "execution_count": 9,
     "metadata": {},
     "output_type": "execute_result"
    },
    {
     "data": {
      "text/plain": [
       "'C:\\\\Users\\\\SengTian\\\\Downloads\\\\Temp\\\\Republic Polytechnic\\\\Assignment_ComputerVision\\\\TIPP_AAI_AAISD_CV\\\\Question_1\\\\clean_dataset\\\\train\\\\Greater_Racket-tailed_Drongo\\\\_JWO6631_cr.jpg'"
      ]
     },
     "execution_count": 9,
     "metadata": {},
     "output_type": "execute_result"
    },
    {
     "data": {
      "text/plain": [
       "'C:\\\\Users\\\\SengTian\\\\Downloads\\\\Temp\\\\Republic Polytechnic\\\\Assignment_ComputerVision\\\\TIPP_AAI_AAISD_CV\\\\Question_1\\\\clean_dataset\\\\train\\\\Greater_Racket-tailed_Drongo\\\\_JWO6632_cr.jpg'"
      ]
     },
     "execution_count": 9,
     "metadata": {},
     "output_type": "execute_result"
    },
    {
     "data": {
      "text/plain": [
       "'C:\\\\Users\\\\SengTian\\\\Downloads\\\\Temp\\\\Republic Polytechnic\\\\Assignment_ComputerVision\\\\TIPP_AAI_AAISD_CV\\\\Question_1\\\\clean_dataset\\\\train\\\\Japanese_Tit\\\\_JWO6656_cr.jpg'"
      ]
     },
     "execution_count": 9,
     "metadata": {},
     "output_type": "execute_result"
    },
    {
     "data": {
      "text/plain": [
       "'C:\\\\Users\\\\SengTian\\\\Downloads\\\\Temp\\\\Republic Polytechnic\\\\Assignment_ComputerVision\\\\TIPP_AAI_AAISD_CV\\\\Question_1\\\\clean_dataset\\\\train\\\\Greater_Racket-tailed_Drongo\\\\_JWO6706_cr.jpg'"
      ]
     },
     "execution_count": 9,
     "metadata": {},
     "output_type": "execute_result"
    },
    {
     "data": {
      "text/plain": [
       "'C:\\\\Users\\\\SengTian\\\\Downloads\\\\Temp\\\\Republic Polytechnic\\\\Assignment_ComputerVision\\\\TIPP_AAI_AAISD_CV\\\\Question_1\\\\clean_dataset\\\\train\\\\Greater_Racket-tailed_Drongo\\\\_JWO6716_cr.jpg'"
      ]
     },
     "execution_count": 9,
     "metadata": {},
     "output_type": "execute_result"
    },
    {
     "data": {
      "text/plain": [
       "'C:\\\\Users\\\\SengTian\\\\Downloads\\\\Temp\\\\Republic Polytechnic\\\\Assignment_ComputerVision\\\\TIPP_AAI_AAISD_CV\\\\Question_1\\\\clean_dataset\\\\train\\\\Zanzibar_Red_Bishop\\\\_JWO6772_1_cr.jpg'"
      ]
     },
     "execution_count": 9,
     "metadata": {},
     "output_type": "execute_result"
    },
    {
     "data": {
      "text/plain": [
       "'C:\\\\Users\\\\SengTian\\\\Downloads\\\\Temp\\\\Republic Polytechnic\\\\Assignment_ComputerVision\\\\TIPP_AAI_AAISD_CV\\\\Question_1\\\\clean_dataset\\\\train\\\\Zanzibar_Red_Bishop\\\\_JWO6783_2_cr.jpg'"
      ]
     },
     "execution_count": 9,
     "metadata": {},
     "output_type": "execute_result"
    },
    {
     "data": {
      "text/plain": [
       "'C:\\\\Users\\\\SengTian\\\\Downloads\\\\Temp\\\\Republic Polytechnic\\\\Assignment_ComputerVision\\\\TIPP_AAI_AAISD_CV\\\\Question_1\\\\clean_dataset\\\\train\\\\Zanzibar_Red_Bishop\\\\_JWO6797_2_cr.jpg'"
      ]
     },
     "execution_count": 9,
     "metadata": {},
     "output_type": "execute_result"
    },
    {
     "data": {
      "text/plain": [
       "'C:\\\\Users\\\\SengTian\\\\Downloads\\\\Temp\\\\Republic Polytechnic\\\\Assignment_ComputerVision\\\\TIPP_AAI_AAISD_CV\\\\Question_1\\\\clean_dataset\\\\train\\\\Japanese_Tit\\\\_JWO6827_cr.jpg'"
      ]
     },
     "execution_count": 9,
     "metadata": {},
     "output_type": "execute_result"
    },
    {
     "data": {
      "text/plain": [
       "'C:\\\\Users\\\\SengTian\\\\Downloads\\\\Temp\\\\Republic Polytechnic\\\\Assignment_ComputerVision\\\\TIPP_AAI_AAISD_CV\\\\Question_1\\\\clean_dataset\\\\train\\\\Yellow_Oriole\\\\_JWO6829_cr.jpg'"
      ]
     },
     "execution_count": 9,
     "metadata": {},
     "output_type": "execute_result"
    },
    {
     "data": {
      "text/plain": [
       "'C:\\\\Users\\\\SengTian\\\\Downloads\\\\Temp\\\\Republic Polytechnic\\\\Assignment_ComputerVision\\\\TIPP_AAI_AAISD_CV\\\\Question_1\\\\clean_dataset\\\\train\\\\Yellow_Oriole\\\\_JWO6833_cr.jpg'"
      ]
     },
     "execution_count": 9,
     "metadata": {},
     "output_type": "execute_result"
    },
    {
     "data": {
      "text/plain": [
       "'C:\\\\Users\\\\SengTian\\\\Downloads\\\\Temp\\\\Republic Polytechnic\\\\Assignment_ComputerVision\\\\TIPP_AAI_AAISD_CV\\\\Question_1\\\\clean_dataset\\\\train\\\\Zanzibar_Red_Bishop\\\\_JWO6835_2_cr.jpg'"
      ]
     },
     "execution_count": 9,
     "metadata": {},
     "output_type": "execute_result"
    },
    {
     "data": {
      "text/plain": [
       "'C:\\\\Users\\\\SengTian\\\\Downloads\\\\Temp\\\\Republic Polytechnic\\\\Assignment_ComputerVision\\\\TIPP_AAI_AAISD_CV\\\\Question_1\\\\clean_dataset\\\\train\\\\Zanzibar_Red_Bishop\\\\_JWO6852_cr.jpg'"
      ]
     },
     "execution_count": 9,
     "metadata": {},
     "output_type": "execute_result"
    },
    {
     "data": {
      "text/plain": [
       "'C:\\\\Users\\\\SengTian\\\\Downloads\\\\Temp\\\\Republic Polytechnic\\\\Assignment_ComputerVision\\\\TIPP_AAI_AAISD_CV\\\\Question_1\\\\clean_dataset\\\\train\\\\Zanzibar_Red_Bishop\\\\_JWO6853_cr.jpg'"
      ]
     },
     "execution_count": 9,
     "metadata": {},
     "output_type": "execute_result"
    },
    {
     "data": {
      "text/plain": [
       "'C:\\\\Users\\\\SengTian\\\\Downloads\\\\Temp\\\\Republic Polytechnic\\\\Assignment_ComputerVision\\\\TIPP_AAI_AAISD_CV\\\\Question_1\\\\clean_dataset\\\\train\\\\Zanzibar_Red_Bishop\\\\_JWO6869_cr.jpg'"
      ]
     },
     "execution_count": 9,
     "metadata": {},
     "output_type": "execute_result"
    },
    {
     "data": {
      "text/plain": [
       "'C:\\\\Users\\\\SengTian\\\\Downloads\\\\Temp\\\\Republic Polytechnic\\\\Assignment_ComputerVision\\\\TIPP_AAI_AAISD_CV\\\\Question_1\\\\clean_dataset\\\\train\\\\Japanese_Tit\\\\_JWO6871_s_cr.jpg'"
      ]
     },
     "execution_count": 9,
     "metadata": {},
     "output_type": "execute_result"
    },
    {
     "data": {
      "text/plain": [
       "'C:\\\\Users\\\\SengTian\\\\Downloads\\\\Temp\\\\Republic Polytechnic\\\\Assignment_ComputerVision\\\\TIPP_AAI_AAISD_CV\\\\Question_1\\\\clean_dataset\\\\train\\\\Zanzibar_Red_Bishop\\\\_JWO6872_cr.jpg'"
      ]
     },
     "execution_count": 9,
     "metadata": {},
     "output_type": "execute_result"
    },
    {
     "data": {
      "text/plain": [
       "'C:\\\\Users\\\\SengTian\\\\Downloads\\\\Temp\\\\Republic Polytechnic\\\\Assignment_ComputerVision\\\\TIPP_AAI_AAISD_CV\\\\Question_1\\\\clean_dataset\\\\train\\\\Zanzibar_Red_Bishop\\\\_JWO6880_cr.jpg'"
      ]
     },
     "execution_count": 9,
     "metadata": {},
     "output_type": "execute_result"
    },
    {
     "data": {
      "text/plain": [
       "'C:\\\\Users\\\\SengTian\\\\Downloads\\\\Temp\\\\Republic Polytechnic\\\\Assignment_ComputerVision\\\\TIPP_AAI_AAISD_CV\\\\Question_1\\\\clean_dataset\\\\train\\\\Zanzibar_Red_Bishop\\\\_JWO6881_cr.jpg'"
      ]
     },
     "execution_count": 9,
     "metadata": {},
     "output_type": "execute_result"
    },
    {
     "data": {
      "text/plain": [
       "'C:\\\\Users\\\\SengTian\\\\Downloads\\\\Temp\\\\Republic Polytechnic\\\\Assignment_ComputerVision\\\\TIPP_AAI_AAISD_CV\\\\Question_1\\\\clean_dataset\\\\train\\\\Zanzibar_Red_Bishop\\\\_JWO6898_cr_cr.jpg'"
      ]
     },
     "execution_count": 9,
     "metadata": {},
     "output_type": "execute_result"
    },
    {
     "data": {
      "text/plain": [
       "'C:\\\\Users\\\\SengTian\\\\Downloads\\\\Temp\\\\Republic Polytechnic\\\\Assignment_ComputerVision\\\\TIPP_AAI_AAISD_CV\\\\Question_1\\\\clean_dataset\\\\train\\\\Zanzibar_Red_Bishop\\\\_JWO6902_cr.jpg'"
      ]
     },
     "execution_count": 9,
     "metadata": {},
     "output_type": "execute_result"
    },
    {
     "data": {
      "text/plain": [
       "'C:\\\\Users\\\\SengTian\\\\Downloads\\\\Temp\\\\Republic Polytechnic\\\\Assignment_ComputerVision\\\\TIPP_AAI_AAISD_CV\\\\Question_1\\\\clean_dataset\\\\train\\\\Zanzibar_Red_Bishop\\\\_JWO6902a_cr.jpg'"
      ]
     },
     "execution_count": 9,
     "metadata": {},
     "output_type": "execute_result"
    },
    {
     "data": {
      "text/plain": [
       "'C:\\\\Users\\\\SengTian\\\\Downloads\\\\Temp\\\\Republic Polytechnic\\\\Assignment_ComputerVision\\\\TIPP_AAI_AAISD_CV\\\\Question_1\\\\clean_dataset\\\\train\\\\Red_Junglefowl\\\\_JWO6928_cr.jpg'"
      ]
     },
     "execution_count": 9,
     "metadata": {},
     "output_type": "execute_result"
    },
    {
     "data": {
      "text/plain": [
       "'C:\\\\Users\\\\SengTian\\\\Downloads\\\\Temp\\\\Republic Polytechnic\\\\Assignment_ComputerVision\\\\TIPP_AAI_AAISD_CV\\\\Question_1\\\\clean_dataset\\\\train\\\\Red-Crowned_Crane\\\\_JWO6930_cr.jpg'"
      ]
     },
     "execution_count": 9,
     "metadata": {},
     "output_type": "execute_result"
    },
    {
     "data": {
      "text/plain": [
       "'C:\\\\Users\\\\SengTian\\\\Downloads\\\\Temp\\\\Republic Polytechnic\\\\Assignment_ComputerVision\\\\TIPP_AAI_AAISD_CV\\\\Question_1\\\\clean_dataset\\\\train\\\\Red-Crowned_Crane\\\\_JWO6930a_cr.jpg'"
      ]
     },
     "execution_count": 9,
     "metadata": {},
     "output_type": "execute_result"
    },
    {
     "data": {
      "text/plain": [
       "'C:\\\\Users\\\\SengTian\\\\Downloads\\\\Temp\\\\Republic Polytechnic\\\\Assignment_ComputerVision\\\\TIPP_AAI_AAISD_CV\\\\Question_1\\\\clean_dataset\\\\train\\\\Black_Baza\\\\_JWO6960_cr.jpg'"
      ]
     },
     "execution_count": 9,
     "metadata": {},
     "output_type": "execute_result"
    },
    {
     "data": {
      "text/plain": [
       "'C:\\\\Users\\\\SengTian\\\\Downloads\\\\Temp\\\\Republic Polytechnic\\\\Assignment_ComputerVision\\\\TIPP_AAI_AAISD_CV\\\\Question_1\\\\clean_dataset\\\\train\\\\Grey_Nightjar\\\\_JWO6986_cr.jpg'"
      ]
     },
     "execution_count": 9,
     "metadata": {},
     "output_type": "execute_result"
    },
    {
     "data": {
      "text/plain": [
       "'C:\\\\Users\\\\SengTian\\\\Downloads\\\\Temp\\\\Republic Polytechnic\\\\Assignment_ComputerVision\\\\TIPP_AAI_AAISD_CV\\\\Question_1\\\\clean_dataset\\\\train\\\\Blue-throated_Bee-eater\\\\_JWO6992_cr.jpg'"
      ]
     },
     "execution_count": 9,
     "metadata": {},
     "output_type": "execute_result"
    },
    {
     "data": {
      "text/plain": [
       "'C:\\\\Users\\\\SengTian\\\\Downloads\\\\Temp\\\\Republic Polytechnic\\\\Assignment_ComputerVision\\\\TIPP_AAI_AAISD_CV\\\\Question_1\\\\clean_dataset\\\\train\\\\Blue-throated_Bee-eater\\\\_JWO6994_cr.jpg'"
      ]
     },
     "execution_count": 9,
     "metadata": {},
     "output_type": "execute_result"
    },
    {
     "data": {
      "text/plain": [
       "'C:\\\\Users\\\\SengTian\\\\Downloads\\\\Temp\\\\Republic Polytechnic\\\\Assignment_ComputerVision\\\\TIPP_AAI_AAISD_CV\\\\Question_1\\\\clean_dataset\\\\train\\\\Blue-throated_Bee-eater\\\\_JWO7010_cr.jpg'"
      ]
     },
     "execution_count": 9,
     "metadata": {},
     "output_type": "execute_result"
    },
    {
     "data": {
      "text/plain": [
       "'C:\\\\Users\\\\SengTian\\\\Downloads\\\\Temp\\\\Republic Polytechnic\\\\Assignment_ComputerVision\\\\TIPP_AAI_AAISD_CV\\\\Question_1\\\\clean_dataset\\\\train\\\\Blue-throated_Bee-eater\\\\_JWO7014_cr.jpg'"
      ]
     },
     "execution_count": 9,
     "metadata": {},
     "output_type": "execute_result"
    },
    {
     "data": {
      "text/plain": [
       "'C:\\\\Users\\\\SengTian\\\\Downloads\\\\Temp\\\\Republic Polytechnic\\\\Assignment_ComputerVision\\\\TIPP_AAI_AAISD_CV\\\\Question_1\\\\clean_dataset\\\\train\\\\Asian_Koel\\\\_JWO7019_cr.jpg'"
      ]
     },
     "execution_count": 9,
     "metadata": {},
     "output_type": "execute_result"
    },
    {
     "data": {
      "text/plain": [
       "'C:\\\\Users\\\\SengTian\\\\Downloads\\\\Temp\\\\Republic Polytechnic\\\\Assignment_ComputerVision\\\\TIPP_AAI_AAISD_CV\\\\Question_1\\\\clean_dataset\\\\train\\\\Asian_Koel\\\\_JWO7024.jpg'"
      ]
     },
     "execution_count": 9,
     "metadata": {},
     "output_type": "execute_result"
    },
    {
     "data": {
      "text/plain": [
       "'C:\\\\Users\\\\SengTian\\\\Downloads\\\\Temp\\\\Republic Polytechnic\\\\Assignment_ComputerVision\\\\TIPP_AAI_AAISD_CV\\\\Question_1\\\\clean_dataset\\\\train\\\\Asian_Koel\\\\_JWO7027_cr.jpg'"
      ]
     },
     "execution_count": 9,
     "metadata": {},
     "output_type": "execute_result"
    },
    {
     "data": {
      "text/plain": [
       "'C:\\\\Users\\\\SengTian\\\\Downloads\\\\Temp\\\\Republic Polytechnic\\\\Assignment_ComputerVision\\\\TIPP_AAI_AAISD_CV\\\\Question_1\\\\clean_dataset\\\\train\\\\Grey_Nightjar\\\\_JWO7033_cr.jpg'"
      ]
     },
     "execution_count": 9,
     "metadata": {},
     "output_type": "execute_result"
    },
    {
     "data": {
      "text/plain": [
       "'C:\\\\Users\\\\SengTian\\\\Downloads\\\\Temp\\\\Republic Polytechnic\\\\Assignment_ComputerVision\\\\TIPP_AAI_AAISD_CV\\\\Question_1\\\\clean_dataset\\\\train\\\\Asian_Koel\\\\_JWO7040_cr.jpg'"
      ]
     },
     "execution_count": 9,
     "metadata": {},
     "output_type": "execute_result"
    },
    {
     "data": {
      "text/plain": [
       "'C:\\\\Users\\\\SengTian\\\\Downloads\\\\Temp\\\\Republic Polytechnic\\\\Assignment_ComputerVision\\\\TIPP_AAI_AAISD_CV\\\\Question_1\\\\clean_dataset\\\\train\\\\Asian_Koel\\\\_JWO7041_cr.jpg'"
      ]
     },
     "execution_count": 9,
     "metadata": {},
     "output_type": "execute_result"
    },
    {
     "data": {
      "text/plain": [
       "'C:\\\\Users\\\\SengTian\\\\Downloads\\\\Temp\\\\Republic Polytechnic\\\\Assignment_ComputerVision\\\\TIPP_AAI_AAISD_CV\\\\Question_1\\\\clean_dataset\\\\train\\\\Asian_Koel\\\\_JWO7048_cr.jpg'"
      ]
     },
     "execution_count": 9,
     "metadata": {},
     "output_type": "execute_result"
    },
    {
     "data": {
      "text/plain": [
       "'C:\\\\Users\\\\SengTian\\\\Downloads\\\\Temp\\\\Republic Polytechnic\\\\Assignment_ComputerVision\\\\TIPP_AAI_AAISD_CV\\\\Question_1\\\\clean_dataset\\\\train\\\\Green_Imperial_Pigeon\\\\_JWO7060_cr.jpg'"
      ]
     },
     "execution_count": 9,
     "metadata": {},
     "output_type": "execute_result"
    },
    {
     "data": {
      "text/plain": [
       "'C:\\\\Users\\\\SengTian\\\\Downloads\\\\Temp\\\\Republic Polytechnic\\\\Assignment_ComputerVision\\\\TIPP_AAI_AAISD_CV\\\\Question_1\\\\clean_dataset\\\\train\\\\Blue-throated_Bee-eater\\\\_JWO7091_cr.jpg'"
      ]
     },
     "execution_count": 9,
     "metadata": {},
     "output_type": "execute_result"
    },
    {
     "data": {
      "text/plain": [
       "'C:\\\\Users\\\\SengTian\\\\Downloads\\\\Temp\\\\Republic Polytechnic\\\\Assignment_ComputerVision\\\\TIPP_AAI_AAISD_CV\\\\Question_1\\\\clean_dataset\\\\train\\\\Green_Imperial_Pigeon\\\\_JWO7094_cr.jpg'"
      ]
     },
     "execution_count": 9,
     "metadata": {},
     "output_type": "execute_result"
    },
    {
     "data": {
      "text/plain": [
       "'C:\\\\Users\\\\SengTian\\\\Downloads\\\\Temp\\\\Republic Polytechnic\\\\Assignment_ComputerVision\\\\TIPP_AAI_AAISD_CV\\\\Question_1\\\\clean_dataset\\\\train\\\\Green_Imperial_Pigeon\\\\_JWO7095_cr.jpg'"
      ]
     },
     "execution_count": 9,
     "metadata": {},
     "output_type": "execute_result"
    },
    {
     "data": {
      "text/plain": [
       "'C:\\\\Users\\\\SengTian\\\\Downloads\\\\Temp\\\\Republic Polytechnic\\\\Assignment_ComputerVision\\\\TIPP_AAI_AAISD_CV\\\\Question_1\\\\clean_dataset\\\\train\\\\Green_Imperial_Pigeon\\\\_JWO7096_cr.jpg'"
      ]
     },
     "execution_count": 9,
     "metadata": {},
     "output_type": "execute_result"
    },
    {
     "data": {
      "text/plain": [
       "'C:\\\\Users\\\\SengTian\\\\Downloads\\\\Temp\\\\Republic Polytechnic\\\\Assignment_ComputerVision\\\\TIPP_AAI_AAISD_CV\\\\Question_1\\\\clean_dataset\\\\train\\\\Green_Imperial_Pigeon\\\\_JWO7104_cr.jpg'"
      ]
     },
     "execution_count": 9,
     "metadata": {},
     "output_type": "execute_result"
    },
    {
     "data": {
      "text/plain": [
       "'C:\\\\Users\\\\SengTian\\\\Downloads\\\\Temp\\\\Republic Polytechnic\\\\Assignment_ComputerVision\\\\TIPP_AAI_AAISD_CV\\\\Question_1\\\\clean_dataset\\\\train\\\\Green_Imperial_Pigeon\\\\_JWO7111_cr.jpg'"
      ]
     },
     "execution_count": 9,
     "metadata": {},
     "output_type": "execute_result"
    },
    {
     "data": {
      "text/plain": [
       "'C:\\\\Users\\\\SengTian\\\\Downloads\\\\Temp\\\\Republic Polytechnic\\\\Assignment_ComputerVision\\\\TIPP_AAI_AAISD_CV\\\\Question_1\\\\clean_dataset\\\\train\\\\Green_Imperial_Pigeon\\\\_JWO7112_cr.jpg'"
      ]
     },
     "execution_count": 9,
     "metadata": {},
     "output_type": "execute_result"
    },
    {
     "data": {
      "text/plain": [
       "'C:\\\\Users\\\\SengTian\\\\Downloads\\\\Temp\\\\Republic Polytechnic\\\\Assignment_ComputerVision\\\\TIPP_AAI_AAISD_CV\\\\Question_1\\\\clean_dataset\\\\train\\\\Green_Imperial_Pigeon\\\\_JWO7123_cr.jpg'"
      ]
     },
     "execution_count": 9,
     "metadata": {},
     "output_type": "execute_result"
    },
    {
     "data": {
      "text/plain": [
       "'C:\\\\Users\\\\SengTian\\\\Downloads\\\\Temp\\\\Republic Polytechnic\\\\Assignment_ComputerVision\\\\TIPP_AAI_AAISD_CV\\\\Question_1\\\\clean_dataset\\\\train\\\\Blue-throated_Bee-eater\\\\_JWO7127_cr.jpg'"
      ]
     },
     "execution_count": 9,
     "metadata": {},
     "output_type": "execute_result"
    },
    {
     "data": {
      "text/plain": [
       "'C:\\\\Users\\\\SengTian\\\\Downloads\\\\Temp\\\\Republic Polytechnic\\\\Assignment_ComputerVision\\\\TIPP_AAI_AAISD_CV\\\\Question_1\\\\clean_dataset\\\\train\\\\Green_Imperial_Pigeon\\\\_JWO7130_cr.jpg'"
      ]
     },
     "execution_count": 9,
     "metadata": {},
     "output_type": "execute_result"
    },
    {
     "data": {
      "text/plain": [
       "'C:\\\\Users\\\\SengTian\\\\Downloads\\\\Temp\\\\Republic Polytechnic\\\\Assignment_ComputerVision\\\\TIPP_AAI_AAISD_CV\\\\Question_1\\\\clean_dataset\\\\train\\\\Green_Imperial_Pigeon\\\\_JWO7132_cr.jpg'"
      ]
     },
     "execution_count": 9,
     "metadata": {},
     "output_type": "execute_result"
    },
    {
     "data": {
      "text/plain": [
       "'C:\\\\Users\\\\SengTian\\\\Downloads\\\\Temp\\\\Republic Polytechnic\\\\Assignment_ComputerVision\\\\TIPP_AAI_AAISD_CV\\\\Question_1\\\\clean_dataset\\\\train\\\\Green_Imperial_Pigeon\\\\_JWO7133_cr.jpg'"
      ]
     },
     "execution_count": 9,
     "metadata": {},
     "output_type": "execute_result"
    },
    {
     "data": {
      "text/plain": [
       "'C:\\\\Users\\\\SengTian\\\\Downloads\\\\Temp\\\\Republic Polytechnic\\\\Assignment_ComputerVision\\\\TIPP_AAI_AAISD_CV\\\\Question_1\\\\clean_dataset\\\\train\\\\Green_Imperial_Pigeon\\\\_JWO7134_cr.jpg'"
      ]
     },
     "execution_count": 9,
     "metadata": {},
     "output_type": "execute_result"
    },
    {
     "data": {
      "text/plain": [
       "'C:\\\\Users\\\\SengTian\\\\Downloads\\\\Temp\\\\Republic Polytechnic\\\\Assignment_ComputerVision\\\\TIPP_AAI_AAISD_CV\\\\Question_1\\\\clean_dataset\\\\train\\\\Blue-throated_Bee-eater\\\\_JWO7157_cr.jpg'"
      ]
     },
     "execution_count": 9,
     "metadata": {},
     "output_type": "execute_result"
    },
    {
     "data": {
      "text/plain": [
       "'C:\\\\Users\\\\SengTian\\\\Downloads\\\\Temp\\\\Republic Polytechnic\\\\Assignment_ComputerVision\\\\TIPP_AAI_AAISD_CV\\\\Question_1\\\\clean_dataset\\\\train\\\\White-throated_Kingfisher\\\\_JWO7161_cr.jpg'"
      ]
     },
     "execution_count": 9,
     "metadata": {},
     "output_type": "execute_result"
    },
    {
     "data": {
      "text/plain": [
       "'C:\\\\Users\\\\SengTian\\\\Downloads\\\\Temp\\\\Republic Polytechnic\\\\Assignment_ComputerVision\\\\TIPP_AAI_AAISD_CV\\\\Question_1\\\\clean_dataset\\\\train\\\\White-throated_Kingfisher\\\\_JWO7165_cr.jpg'"
      ]
     },
     "execution_count": 9,
     "metadata": {},
     "output_type": "execute_result"
    },
    {
     "data": {
      "text/plain": [
       "'C:\\\\Users\\\\SengTian\\\\Downloads\\\\Temp\\\\Republic Polytechnic\\\\Assignment_ComputerVision\\\\TIPP_AAI_AAISD_CV\\\\Question_1\\\\clean_dataset\\\\train\\\\Green_Imperial_Pigeon\\\\_JWO7166_cr.jpg'"
      ]
     },
     "execution_count": 9,
     "metadata": {},
     "output_type": "execute_result"
    },
    {
     "data": {
      "text/plain": [
       "'C:\\\\Users\\\\SengTian\\\\Downloads\\\\Temp\\\\Republic Polytechnic\\\\Assignment_ComputerVision\\\\TIPP_AAI_AAISD_CV\\\\Question_1\\\\clean_dataset\\\\train\\\\Green_Imperial_Pigeon\\\\_JWO7169_cr.jpg'"
      ]
     },
     "execution_count": 9,
     "metadata": {},
     "output_type": "execute_result"
    },
    {
     "data": {
      "text/plain": [
       "'C:\\\\Users\\\\SengTian\\\\Downloads\\\\Temp\\\\Republic Polytechnic\\\\Assignment_ComputerVision\\\\TIPP_AAI_AAISD_CV\\\\Question_1\\\\clean_dataset\\\\train\\\\Blue-throated_Bee-eater\\\\_JWO7173_cr.jpg'"
      ]
     },
     "execution_count": 9,
     "metadata": {},
     "output_type": "execute_result"
    },
    {
     "data": {
      "text/plain": [
       "'C:\\\\Users\\\\SengTian\\\\Downloads\\\\Temp\\\\Republic Polytechnic\\\\Assignment_ComputerVision\\\\TIPP_AAI_AAISD_CV\\\\Question_1\\\\clean_dataset\\\\train\\\\Blue-throated_Bee-eater\\\\_JWO7226_cr.jpg'"
      ]
     },
     "execution_count": 9,
     "metadata": {},
     "output_type": "execute_result"
    },
    {
     "data": {
      "text/plain": [
       "'C:\\\\Users\\\\SengTian\\\\Downloads\\\\Temp\\\\Republic Polytechnic\\\\Assignment_ComputerVision\\\\TIPP_AAI_AAISD_CV\\\\Question_1\\\\clean_dataset\\\\train\\\\Blue-throated_Bee-eater\\\\_JWO7246_cr.jpg'"
      ]
     },
     "execution_count": 9,
     "metadata": {},
     "output_type": "execute_result"
    },
    {
     "data": {
      "text/plain": [
       "'C:\\\\Users\\\\SengTian\\\\Downloads\\\\Temp\\\\Republic Polytechnic\\\\Assignment_ComputerVision\\\\TIPP_AAI_AAISD_CV\\\\Question_1\\\\clean_dataset\\\\train\\\\Blue-throated_Bee-eater\\\\_JWO7254_cr.jpg'"
      ]
     },
     "execution_count": 9,
     "metadata": {},
     "output_type": "execute_result"
    },
    {
     "data": {
      "text/plain": [
       "'C:\\\\Users\\\\SengTian\\\\Downloads\\\\Temp\\\\Republic Polytechnic\\\\Assignment_ComputerVision\\\\TIPP_AAI_AAISD_CV\\\\Question_1\\\\clean_dataset\\\\train\\\\Common_Kingfisher\\\\_JWO7256_cr.jpg'"
      ]
     },
     "execution_count": 9,
     "metadata": {},
     "output_type": "execute_result"
    },
    {
     "data": {
      "text/plain": [
       "'C:\\\\Users\\\\SengTian\\\\Downloads\\\\Temp\\\\Republic Polytechnic\\\\Assignment_ComputerVision\\\\TIPP_AAI_AAISD_CV\\\\Question_1\\\\clean_dataset\\\\train\\\\Common_Kingfisher\\\\_JWO7257_cr.jpg'"
      ]
     },
     "execution_count": 9,
     "metadata": {},
     "output_type": "execute_result"
    },
    {
     "data": {
      "text/plain": [
       "'C:\\\\Users\\\\SengTian\\\\Downloads\\\\Temp\\\\Republic Polytechnic\\\\Assignment_ComputerVision\\\\TIPP_AAI_AAISD_CV\\\\Question_1\\\\clean_dataset\\\\train\\\\Common_Kingfisher\\\\_JWO7261_cr.jpg'"
      ]
     },
     "execution_count": 9,
     "metadata": {},
     "output_type": "execute_result"
    },
    {
     "data": {
      "text/plain": [
       "'C:\\\\Users\\\\SengTian\\\\Downloads\\\\Temp\\\\Republic Polytechnic\\\\Assignment_ComputerVision\\\\TIPP_AAI_AAISD_CV\\\\Question_1\\\\clean_dataset\\\\train\\\\Blue-throated_Bee-eater\\\\_JWO7276_cr.jpg'"
      ]
     },
     "execution_count": 9,
     "metadata": {},
     "output_type": "execute_result"
    },
    {
     "data": {
      "text/plain": [
       "'C:\\\\Users\\\\SengTian\\\\Downloads\\\\Temp\\\\Republic Polytechnic\\\\Assignment_ComputerVision\\\\TIPP_AAI_AAISD_CV\\\\Question_1\\\\clean_dataset\\\\train\\\\Blue-throated_Bee-eater\\\\_JWO7307_cr.jpg'"
      ]
     },
     "execution_count": 9,
     "metadata": {},
     "output_type": "execute_result"
    },
    {
     "data": {
      "text/plain": [
       "'C:\\\\Users\\\\SengTian\\\\Downloads\\\\Temp\\\\Republic Polytechnic\\\\Assignment_ComputerVision\\\\TIPP_AAI_AAISD_CV\\\\Question_1\\\\clean_dataset\\\\train\\\\Blue-throated_Bee-eater\\\\_JWO7329_cr.jpg'"
      ]
     },
     "execution_count": 9,
     "metadata": {},
     "output_type": "execute_result"
    },
    {
     "data": {
      "text/plain": [
       "'C:\\\\Users\\\\SengTian\\\\Downloads\\\\Temp\\\\Republic Polytechnic\\\\Assignment_ComputerVision\\\\TIPP_AAI_AAISD_CV\\\\Question_1\\\\clean_dataset\\\\train\\\\Blue-throated_Bee-eater\\\\_JWO7330_cr.jpg'"
      ]
     },
     "execution_count": 9,
     "metadata": {},
     "output_type": "execute_result"
    },
    {
     "data": {
      "text/plain": [
       "'C:\\\\Users\\\\SengTian\\\\Downloads\\\\Temp\\\\Republic Polytechnic\\\\Assignment_ComputerVision\\\\TIPP_AAI_AAISD_CV\\\\Question_1\\\\clean_dataset\\\\train\\\\Zitting_Cisticola\\\\_JWO7352_cr.jpg'"
      ]
     },
     "execution_count": 9,
     "metadata": {},
     "output_type": "execute_result"
    },
    {
     "data": {
      "text/plain": [
       "'C:\\\\Users\\\\SengTian\\\\Downloads\\\\Temp\\\\Republic Polytechnic\\\\Assignment_ComputerVision\\\\TIPP_AAI_AAISD_CV\\\\Question_1\\\\clean_dataset\\\\train\\\\Zitting_Cisticola\\\\_JWO7356_cr.jpg'"
      ]
     },
     "execution_count": 9,
     "metadata": {},
     "output_type": "execute_result"
    },
    {
     "data": {
      "text/plain": [
       "'C:\\\\Users\\\\SengTian\\\\Downloads\\\\Temp\\\\Republic Polytechnic\\\\Assignment_ComputerVision\\\\TIPP_AAI_AAISD_CV\\\\Question_1\\\\clean_dataset\\\\train\\\\Zitting_Cisticola\\\\_JWO7357_cr.jpg'"
      ]
     },
     "execution_count": 9,
     "metadata": {},
     "output_type": "execute_result"
    },
    {
     "data": {
      "text/plain": [
       "'C:\\\\Users\\\\SengTian\\\\Downloads\\\\Temp\\\\Republic Polytechnic\\\\Assignment_ComputerVision\\\\TIPP_AAI_AAISD_CV\\\\Question_1\\\\clean_dataset\\\\train\\\\Zitting_Cisticola\\\\_JWO7358_cr.jpg'"
      ]
     },
     "execution_count": 9,
     "metadata": {},
     "output_type": "execute_result"
    },
    {
     "data": {
      "text/plain": [
       "'C:\\\\Users\\\\SengTian\\\\Downloads\\\\Temp\\\\Republic Polytechnic\\\\Assignment_ComputerVision\\\\TIPP_AAI_AAISD_CV\\\\Question_1\\\\clean_dataset\\\\train\\\\Zitting_Cisticola\\\\_JWO7363_cr.jpg'"
      ]
     },
     "execution_count": 9,
     "metadata": {},
     "output_type": "execute_result"
    },
    {
     "data": {
      "text/plain": [
       "'C:\\\\Users\\\\SengTian\\\\Downloads\\\\Temp\\\\Republic Polytechnic\\\\Assignment_ComputerVision\\\\TIPP_AAI_AAISD_CV\\\\Question_1\\\\clean_dataset\\\\train\\\\Blue-throated_Bee-eater\\\\_JWO7363a_cr.jpg'"
      ]
     },
     "execution_count": 9,
     "metadata": {},
     "output_type": "execute_result"
    },
    {
     "data": {
      "text/plain": [
       "'C:\\\\Users\\\\SengTian\\\\Downloads\\\\Temp\\\\Republic Polytechnic\\\\Assignment_ComputerVision\\\\TIPP_AAI_AAISD_CV\\\\Question_1\\\\clean_dataset\\\\train\\\\Zitting_Cisticola\\\\_JWO7376_cr.jpg'"
      ]
     },
     "execution_count": 9,
     "metadata": {},
     "output_type": "execute_result"
    },
    {
     "data": {
      "text/plain": [
       "'C:\\\\Users\\\\SengTian\\\\Downloads\\\\Temp\\\\Republic Polytechnic\\\\Assignment_ComputerVision\\\\TIPP_AAI_AAISD_CV\\\\Question_1\\\\clean_dataset\\\\train\\\\Zitting_Cisticola\\\\_JWO7409_cr.jpg'"
      ]
     },
     "execution_count": 9,
     "metadata": {},
     "output_type": "execute_result"
    },
    {
     "data": {
      "text/plain": [
       "'C:\\\\Users\\\\SengTian\\\\Downloads\\\\Temp\\\\Republic Polytechnic\\\\Assignment_ComputerVision\\\\TIPP_AAI_AAISD_CV\\\\Question_1\\\\clean_dataset\\\\train\\\\Zitting_Cisticola\\\\_JWO7411_cr.jpg'"
      ]
     },
     "execution_count": 9,
     "metadata": {},
     "output_type": "execute_result"
    },
    {
     "data": {
      "text/plain": [
       "'C:\\\\Users\\\\SengTian\\\\Downloads\\\\Temp\\\\Republic Polytechnic\\\\Assignment_ComputerVision\\\\TIPP_AAI_AAISD_CV\\\\Question_1\\\\clean_dataset\\\\train\\\\Zitting_Cisticola\\\\_JWO7422_1_cr.jpg'"
      ]
     },
     "execution_count": 9,
     "metadata": {},
     "output_type": "execute_result"
    },
    {
     "data": {
      "text/plain": [
       "'C:\\\\Users\\\\SengTian\\\\Downloads\\\\Temp\\\\Republic Polytechnic\\\\Assignment_ComputerVision\\\\TIPP_AAI_AAISD_CV\\\\Question_1\\\\clean_dataset\\\\train\\\\Zitting_Cisticola\\\\_JWO7422_cr.jpg'"
      ]
     },
     "execution_count": 9,
     "metadata": {},
     "output_type": "execute_result"
    },
    {
     "data": {
      "text/plain": [
       "'C:\\\\Users\\\\SengTian\\\\Downloads\\\\Temp\\\\Republic Polytechnic\\\\Assignment_ComputerVision\\\\TIPP_AAI_AAISD_CV\\\\Question_1\\\\clean_dataset\\\\train\\\\Zitting_Cisticola\\\\_JWO7428_cr.jpg'"
      ]
     },
     "execution_count": 9,
     "metadata": {},
     "output_type": "execute_result"
    },
    {
     "data": {
      "text/plain": [
       "'C:\\\\Users\\\\SengTian\\\\Downloads\\\\Temp\\\\Republic Polytechnic\\\\Assignment_ComputerVision\\\\TIPP_AAI_AAISD_CV\\\\Question_1\\\\clean_dataset\\\\train\\\\Zitting_Cisticola\\\\_JWO7434_1_cr.jpg'"
      ]
     },
     "execution_count": 9,
     "metadata": {},
     "output_type": "execute_result"
    },
    {
     "data": {
      "text/plain": [
       "'C:\\\\Users\\\\SengTian\\\\Downloads\\\\Temp\\\\Republic Polytechnic\\\\Assignment_ComputerVision\\\\TIPP_AAI_AAISD_CV\\\\Question_1\\\\clean_dataset\\\\train\\\\Zitting_Cisticola\\\\_JWO7436_cr.jpg'"
      ]
     },
     "execution_count": 9,
     "metadata": {},
     "output_type": "execute_result"
    },
    {
     "data": {
      "text/plain": [
       "'C:\\\\Users\\\\SengTian\\\\Downloads\\\\Temp\\\\Republic Polytechnic\\\\Assignment_ComputerVision\\\\TIPP_AAI_AAISD_CV\\\\Question_1\\\\clean_dataset\\\\train\\\\Zitting_Cisticola\\\\_JWO7445_cr.jpg'"
      ]
     },
     "execution_count": 9,
     "metadata": {},
     "output_type": "execute_result"
    },
    {
     "data": {
      "text/plain": [
       "'C:\\\\Users\\\\SengTian\\\\Downloads\\\\Temp\\\\Republic Polytechnic\\\\Assignment_ComputerVision\\\\TIPP_AAI_AAISD_CV\\\\Question_1\\\\clean_dataset\\\\train\\\\Zitting_Cisticola\\\\_JWO7450_cr.jpg'"
      ]
     },
     "execution_count": 9,
     "metadata": {},
     "output_type": "execute_result"
    },
    {
     "data": {
      "text/plain": [
       "'C:\\\\Users\\\\SengTian\\\\Downloads\\\\Temp\\\\Republic Polytechnic\\\\Assignment_ComputerVision\\\\TIPP_AAI_AAISD_CV\\\\Question_1\\\\clean_dataset\\\\train\\\\Blue-throated_Bee-eater\\\\_JWO7450a_cr.jpg'"
      ]
     },
     "execution_count": 9,
     "metadata": {},
     "output_type": "execute_result"
    },
    {
     "data": {
      "text/plain": [
       "'C:\\\\Users\\\\SengTian\\\\Downloads\\\\Temp\\\\Republic Polytechnic\\\\Assignment_ComputerVision\\\\TIPP_AAI_AAISD_CV\\\\Question_1\\\\clean_dataset\\\\train\\\\Zitting_Cisticola\\\\_JWO7460_cr.jpg'"
      ]
     },
     "execution_count": 9,
     "metadata": {},
     "output_type": "execute_result"
    },
    {
     "data": {
      "text/plain": [
       "'C:\\\\Users\\\\SengTian\\\\Downloads\\\\Temp\\\\Republic Polytechnic\\\\Assignment_ComputerVision\\\\TIPP_AAI_AAISD_CV\\\\Question_1\\\\clean_dataset\\\\train\\\\Zitting_Cisticola\\\\_JWO7471_cr.jpg'"
      ]
     },
     "execution_count": 9,
     "metadata": {},
     "output_type": "execute_result"
    },
    {
     "data": {
      "text/plain": [
       "'C:\\\\Users\\\\SengTian\\\\Downloads\\\\Temp\\\\Republic Polytechnic\\\\Assignment_ComputerVision\\\\TIPP_AAI_AAISD_CV\\\\Question_1\\\\clean_dataset\\\\train\\\\Sunda_Pygmy_Woodpecker\\\\_JWO7774_cr.jpg'"
      ]
     },
     "execution_count": 9,
     "metadata": {},
     "output_type": "execute_result"
    },
    {
     "data": {
      "text/plain": [
       "'C:\\\\Users\\\\SengTian\\\\Downloads\\\\Temp\\\\Republic Polytechnic\\\\Assignment_ComputerVision\\\\TIPP_AAI_AAISD_CV\\\\Question_1\\\\clean_dataset\\\\train\\\\Sunda_Pygmy_Woodpecker\\\\_JWO7782_cr.jpg'"
      ]
     },
     "execution_count": 9,
     "metadata": {},
     "output_type": "execute_result"
    },
    {
     "data": {
      "text/plain": [
       "'C:\\\\Users\\\\SengTian\\\\Downloads\\\\Temp\\\\Republic Polytechnic\\\\Assignment_ComputerVision\\\\TIPP_AAI_AAISD_CV\\\\Question_1\\\\clean_dataset\\\\train\\\\Sunda_Pygmy_Woodpecker\\\\_JWO7799_cr.jpg'"
      ]
     },
     "execution_count": 9,
     "metadata": {},
     "output_type": "execute_result"
    },
    {
     "data": {
      "text/plain": [
       "'C:\\\\Users\\\\SengTian\\\\Downloads\\\\Temp\\\\Republic Polytechnic\\\\Assignment_ComputerVision\\\\TIPP_AAI_AAISD_CV\\\\Question_1\\\\clean_dataset\\\\train\\\\Whooper_Swan\\\\_JWO7810_cr.jpg'"
      ]
     },
     "execution_count": 9,
     "metadata": {},
     "output_type": "execute_result"
    },
    {
     "data": {
      "text/plain": [
       "'C:\\\\Users\\\\SengTian\\\\Downloads\\\\Temp\\\\Republic Polytechnic\\\\Assignment_ComputerVision\\\\TIPP_AAI_AAISD_CV\\\\Question_1\\\\clean_dataset\\\\train\\\\Whooper_Swan\\\\_JWO7810a_cr.jpg'"
      ]
     },
     "execution_count": 9,
     "metadata": {},
     "output_type": "execute_result"
    },
    {
     "data": {
      "text/plain": [
       "'C:\\\\Users\\\\SengTian\\\\Downloads\\\\Temp\\\\Republic Polytechnic\\\\Assignment_ComputerVision\\\\TIPP_AAI_AAISD_CV\\\\Question_1\\\\clean_dataset\\\\train\\\\Whooper_Swan\\\\_JWO7813_cr.jpg'"
      ]
     },
     "execution_count": 9,
     "metadata": {},
     "output_type": "execute_result"
    },
    {
     "data": {
      "text/plain": [
       "'C:\\\\Users\\\\SengTian\\\\Downloads\\\\Temp\\\\Republic Polytechnic\\\\Assignment_ComputerVision\\\\TIPP_AAI_AAISD_CV\\\\Question_1\\\\clean_dataset\\\\train\\\\Sunda_Pygmy_Woodpecker\\\\_JWO7814_cr.jpg'"
      ]
     },
     "execution_count": 9,
     "metadata": {},
     "output_type": "execute_result"
    },
    {
     "data": {
      "text/plain": [
       "'C:\\\\Users\\\\SengTian\\\\Downloads\\\\Temp\\\\Republic Polytechnic\\\\Assignment_ComputerVision\\\\TIPP_AAI_AAISD_CV\\\\Question_1\\\\clean_dataset\\\\train\\\\Whooper_Swan\\\\_JWO7821_cr.jpg'"
      ]
     },
     "execution_count": 9,
     "metadata": {},
     "output_type": "execute_result"
    },
    {
     "data": {
      "text/plain": [
       "'C:\\\\Users\\\\SengTian\\\\Downloads\\\\Temp\\\\Republic Polytechnic\\\\Assignment_ComputerVision\\\\TIPP_AAI_AAISD_CV\\\\Question_1\\\\clean_dataset\\\\train\\\\Sunda_Pygmy_Woodpecker\\\\_JWO7823_cr.jpg'"
      ]
     },
     "execution_count": 9,
     "metadata": {},
     "output_type": "execute_result"
    },
    {
     "data": {
      "text/plain": [
       "'C:\\\\Users\\\\SengTian\\\\Downloads\\\\Temp\\\\Republic Polytechnic\\\\Assignment_ComputerVision\\\\TIPP_AAI_AAISD_CV\\\\Question_1\\\\clean_dataset\\\\train\\\\Whooper_Swan\\\\_JWO7842_cr.jpg'"
      ]
     },
     "execution_count": 9,
     "metadata": {},
     "output_type": "execute_result"
    },
    {
     "data": {
      "text/plain": [
       "'C:\\\\Users\\\\SengTian\\\\Downloads\\\\Temp\\\\Republic Polytechnic\\\\Assignment_ComputerVision\\\\TIPP_AAI_AAISD_CV\\\\Question_1\\\\clean_dataset\\\\train\\\\Sunda_Pygmy_Woodpecker\\\\_JWO7848_cr.jpg'"
      ]
     },
     "execution_count": 9,
     "metadata": {},
     "output_type": "execute_result"
    },
    {
     "data": {
      "text/plain": [
       "'C:\\\\Users\\\\SengTian\\\\Downloads\\\\Temp\\\\Republic Polytechnic\\\\Assignment_ComputerVision\\\\TIPP_AAI_AAISD_CV\\\\Question_1\\\\clean_dataset\\\\train\\\\Whooper_Swan\\\\_JWO7873_cr.jpg'"
      ]
     },
     "execution_count": 9,
     "metadata": {},
     "output_type": "execute_result"
    },
    {
     "data": {
      "text/plain": [
       "'C:\\\\Users\\\\SengTian\\\\Downloads\\\\Temp\\\\Republic Polytechnic\\\\Assignment_ComputerVision\\\\TIPP_AAI_AAISD_CV\\\\Question_1\\\\clean_dataset\\\\train\\\\Whooper_Swan\\\\_JWO7888_cr.jpg'"
      ]
     },
     "execution_count": 9,
     "metadata": {},
     "output_type": "execute_result"
    },
    {
     "data": {
      "text/plain": [
       "'C:\\\\Users\\\\SengTian\\\\Downloads\\\\Temp\\\\Republic Polytechnic\\\\Assignment_ComputerVision\\\\TIPP_AAI_AAISD_CV\\\\Question_1\\\\clean_dataset\\\\train\\\\Whooper_Swan\\\\_JWO7894_cr.jpg'"
      ]
     },
     "execution_count": 9,
     "metadata": {},
     "output_type": "execute_result"
    },
    {
     "data": {
      "text/plain": [
       "'C:\\\\Users\\\\SengTian\\\\Downloads\\\\Temp\\\\Republic Polytechnic\\\\Assignment_ComputerVision\\\\TIPP_AAI_AAISD_CV\\\\Question_1\\\\clean_dataset\\\\train\\\\Grey-headed_Fish_Eagle\\\\_JWO7937_cr.jpg'"
      ]
     },
     "execution_count": 9,
     "metadata": {},
     "output_type": "execute_result"
    },
    {
     "data": {
      "text/plain": [
       "'C:\\\\Users\\\\SengTian\\\\Downloads\\\\Temp\\\\Republic Polytechnic\\\\Assignment_ComputerVision\\\\TIPP_AAI_AAISD_CV\\\\Question_1\\\\clean_dataset\\\\train\\\\Whooper_Swan\\\\_JWO7938_cr.jpg'"
      ]
     },
     "execution_count": 9,
     "metadata": {},
     "output_type": "execute_result"
    },
    {
     "data": {
      "text/plain": [
       "'C:\\\\Users\\\\SengTian\\\\Downloads\\\\Temp\\\\Republic Polytechnic\\\\Assignment_ComputerVision\\\\TIPP_AAI_AAISD_CV\\\\Question_1\\\\clean_dataset\\\\train\\\\Grey-headed_Fish_Eagle\\\\_JWO7940_cr.jpg'"
      ]
     },
     "execution_count": 9,
     "metadata": {},
     "output_type": "execute_result"
    },
    {
     "data": {
      "text/plain": [
       "'C:\\\\Users\\\\SengTian\\\\Downloads\\\\Temp\\\\Republic Polytechnic\\\\Assignment_ComputerVision\\\\TIPP_AAI_AAISD_CV\\\\Question_1\\\\clean_dataset\\\\train\\\\Whooper_Swan\\\\_JWO7940a_cr.jpg'"
      ]
     },
     "execution_count": 9,
     "metadata": {},
     "output_type": "execute_result"
    },
    {
     "data": {
      "text/plain": [
       "'C:\\\\Users\\\\SengTian\\\\Downloads\\\\Temp\\\\Republic Polytechnic\\\\Assignment_ComputerVision\\\\TIPP_AAI_AAISD_CV\\\\Question_1\\\\clean_dataset\\\\train\\\\Mallard_Duck\\\\_JWO7978_cr.jpg'"
      ]
     },
     "execution_count": 9,
     "metadata": {},
     "output_type": "execute_result"
    },
    {
     "data": {
      "text/plain": [
       "'C:\\\\Users\\\\SengTian\\\\Downloads\\\\Temp\\\\Republic Polytechnic\\\\Assignment_ComputerVision\\\\TIPP_AAI_AAISD_CV\\\\Question_1\\\\clean_dataset\\\\train\\\\Mallard_Duck\\\\_JWO7979_cr.jpg'"
      ]
     },
     "execution_count": 9,
     "metadata": {},
     "output_type": "execute_result"
    },
    {
     "data": {
      "text/plain": [
       "'C:\\\\Users\\\\SengTian\\\\Downloads\\\\Temp\\\\Republic Polytechnic\\\\Assignment_ComputerVision\\\\TIPP_AAI_AAISD_CV\\\\Question_1\\\\clean_dataset\\\\train\\\\Grey-headed_Fish_Eagle\\\\_JWO8035_cr.jpg'"
      ]
     },
     "execution_count": 9,
     "metadata": {},
     "output_type": "execute_result"
    },
    {
     "data": {
      "text/plain": [
       "'C:\\\\Users\\\\SengTian\\\\Downloads\\\\Temp\\\\Republic Polytechnic\\\\Assignment_ComputerVision\\\\TIPP_AAI_AAISD_CV\\\\Question_1\\\\clean_dataset\\\\train\\\\Grey-headed_Fish_Eagle\\\\_JWO8046_cr.jpg'"
      ]
     },
     "execution_count": 9,
     "metadata": {},
     "output_type": "execute_result"
    },
    {
     "data": {
      "text/plain": [
       "'C:\\\\Users\\\\SengTian\\\\Downloads\\\\Temp\\\\Republic Polytechnic\\\\Assignment_ComputerVision\\\\TIPP_AAI_AAISD_CV\\\\Question_1\\\\clean_dataset\\\\train\\\\Grey-headed_Fish_Eagle\\\\_JWO8047_cr.jpg'"
      ]
     },
     "execution_count": 9,
     "metadata": {},
     "output_type": "execute_result"
    },
    {
     "data": {
      "text/plain": [
       "'C:\\\\Users\\\\SengTian\\\\Downloads\\\\Temp\\\\Republic Polytechnic\\\\Assignment_ComputerVision\\\\TIPP_AAI_AAISD_CV\\\\Question_1\\\\clean_dataset\\\\train\\\\Grey-headed_Fish_Eagle\\\\_JWO8084_cr.jpg'"
      ]
     },
     "execution_count": 9,
     "metadata": {},
     "output_type": "execute_result"
    },
    {
     "data": {
      "text/plain": [
       "'C:\\\\Users\\\\SengTian\\\\Downloads\\\\Temp\\\\Republic Polytechnic\\\\Assignment_ComputerVision\\\\TIPP_AAI_AAISD_CV\\\\Question_1\\\\clean_dataset\\\\train\\\\Grey-headed_Fish_Eagle\\\\_JWO8086_cr.jpg'"
      ]
     },
     "execution_count": 9,
     "metadata": {},
     "output_type": "execute_result"
    },
    {
     "data": {
      "text/plain": [
       "'C:\\\\Users\\\\SengTian\\\\Downloads\\\\Temp\\\\Republic Polytechnic\\\\Assignment_ComputerVision\\\\TIPP_AAI_AAISD_CV\\\\Question_1\\\\clean_dataset\\\\train\\\\Grey-headed_Fish_Eagle\\\\_JWO8087_cr.jpg'"
      ]
     },
     "execution_count": 9,
     "metadata": {},
     "output_type": "execute_result"
    },
    {
     "data": {
      "text/plain": [
       "'C:\\\\Users\\\\SengTian\\\\Downloads\\\\Temp\\\\Republic Polytechnic\\\\Assignment_ComputerVision\\\\TIPP_AAI_AAISD_CV\\\\Question_1\\\\clean_dataset\\\\train\\\\Grey-headed_Fish_Eagle\\\\_JWO8088_cr.jpg'"
      ]
     },
     "execution_count": 9,
     "metadata": {},
     "output_type": "execute_result"
    },
    {
     "data": {
      "text/plain": [
       "'C:\\\\Users\\\\SengTian\\\\Downloads\\\\Temp\\\\Republic Polytechnic\\\\Assignment_ComputerVision\\\\TIPP_AAI_AAISD_CV\\\\Question_1\\\\clean_dataset\\\\train\\\\Grey-headed_Fish_Eagle\\\\_JWO8089_cr.jpg'"
      ]
     },
     "execution_count": 9,
     "metadata": {},
     "output_type": "execute_result"
    },
    {
     "data": {
      "text/plain": [
       "'C:\\\\Users\\\\SengTian\\\\Downloads\\\\Temp\\\\Republic Polytechnic\\\\Assignment_ComputerVision\\\\TIPP_AAI_AAISD_CV\\\\Question_1\\\\clean_dataset\\\\train\\\\Grey_Heron\\\\_JWO8148_cr.jpg'"
      ]
     },
     "execution_count": 9,
     "metadata": {},
     "output_type": "execute_result"
    },
    {
     "data": {
      "text/plain": [
       "'C:\\\\Users\\\\SengTian\\\\Downloads\\\\Temp\\\\Republic Polytechnic\\\\Assignment_ComputerVision\\\\TIPP_AAI_AAISD_CV\\\\Question_1\\\\clean_dataset\\\\train\\\\Grey-headed_Fish_Eagle\\\\_JWO8150_cr.jpg'"
      ]
     },
     "execution_count": 9,
     "metadata": {},
     "output_type": "execute_result"
    },
    {
     "data": {
      "text/plain": [
       "'C:\\\\Users\\\\SengTian\\\\Downloads\\\\Temp\\\\Republic Polytechnic\\\\Assignment_ComputerVision\\\\TIPP_AAI_AAISD_CV\\\\Question_1\\\\clean_dataset\\\\train\\\\Little_Spiderhunter\\\\_JWO8254_cr.jpg'"
      ]
     },
     "execution_count": 9,
     "metadata": {},
     "output_type": "execute_result"
    },
    {
     "data": {
      "text/plain": [
       "'C:\\\\Users\\\\SengTian\\\\Downloads\\\\Temp\\\\Republic Polytechnic\\\\Assignment_ComputerVision\\\\TIPP_AAI_AAISD_CV\\\\Question_1\\\\clean_dataset\\\\train\\\\Little_Spiderhunter\\\\_JWO8255_cr.jpg'"
      ]
     },
     "execution_count": 9,
     "metadata": {},
     "output_type": "execute_result"
    },
    {
     "data": {
      "text/plain": [
       "'C:\\\\Users\\\\SengTian\\\\Downloads\\\\Temp\\\\Republic Polytechnic\\\\Assignment_ComputerVision\\\\TIPP_AAI_AAISD_CV\\\\Question_1\\\\clean_dataset\\\\train\\\\Little_Spiderhunter\\\\_JWO8261_cr.jpg'"
      ]
     },
     "execution_count": 9,
     "metadata": {},
     "output_type": "execute_result"
    },
    {
     "data": {
      "text/plain": [
       "'C:\\\\Users\\\\SengTian\\\\Downloads\\\\Temp\\\\Republic Polytechnic\\\\Assignment_ComputerVision\\\\TIPP_AAI_AAISD_CV\\\\Question_1\\\\clean_dataset\\\\train\\\\Grey_Heron\\\\_JWO8264_cr.jpg'"
      ]
     },
     "execution_count": 9,
     "metadata": {},
     "output_type": "execute_result"
    },
    {
     "data": {
      "text/plain": [
       "'C:\\\\Users\\\\SengTian\\\\Downloads\\\\Temp\\\\Republic Polytechnic\\\\Assignment_ComputerVision\\\\TIPP_AAI_AAISD_CV\\\\Question_1\\\\clean_dataset\\\\train\\\\Little_Spiderhunter\\\\_JWO8276_cr.jpg'"
      ]
     },
     "execution_count": 9,
     "metadata": {},
     "output_type": "execute_result"
    },
    {
     "data": {
      "text/plain": [
       "'C:\\\\Users\\\\SengTian\\\\Downloads\\\\Temp\\\\Republic Polytechnic\\\\Assignment_ComputerVision\\\\TIPP_AAI_AAISD_CV\\\\Question_1\\\\clean_dataset\\\\train\\\\Little_Spiderhunter\\\\_JWO8282_cr.jpg'"
      ]
     },
     "execution_count": 9,
     "metadata": {},
     "output_type": "execute_result"
    },
    {
     "data": {
      "text/plain": [
       "'C:\\\\Users\\\\SengTian\\\\Downloads\\\\Temp\\\\Republic Polytechnic\\\\Assignment_ComputerVision\\\\TIPP_AAI_AAISD_CV\\\\Question_1\\\\clean_dataset\\\\train\\\\Little_Spiderhunter\\\\_JWO8284_cr.jpg'"
      ]
     },
     "execution_count": 9,
     "metadata": {},
     "output_type": "execute_result"
    },
    {
     "data": {
      "text/plain": [
       "'C:\\\\Users\\\\SengTian\\\\Downloads\\\\Temp\\\\Republic Polytechnic\\\\Assignment_ComputerVision\\\\TIPP_AAI_AAISD_CV\\\\Question_1\\\\clean_dataset\\\\train\\\\Little_Spiderhunter\\\\_JWO8294_cr.jpg'"
      ]
     },
     "execution_count": 9,
     "metadata": {},
     "output_type": "execute_result"
    },
    {
     "data": {
      "text/plain": [
       "'C:\\\\Users\\\\SengTian\\\\Downloads\\\\Temp\\\\Republic Polytechnic\\\\Assignment_ComputerVision\\\\TIPP_AAI_AAISD_CV\\\\Question_1\\\\clean_dataset\\\\train\\\\Little_Spiderhunter\\\\_JWO8296_cr.jpg'"
      ]
     },
     "execution_count": 9,
     "metadata": {},
     "output_type": "execute_result"
    },
    {
     "data": {
      "text/plain": [
       "'C:\\\\Users\\\\SengTian\\\\Downloads\\\\Temp\\\\Republic Polytechnic\\\\Assignment_ComputerVision\\\\TIPP_AAI_AAISD_CV\\\\Question_1\\\\clean_dataset\\\\train\\\\Little_Spiderhunter\\\\_JWO8306_cr.jpg'"
      ]
     },
     "execution_count": 9,
     "metadata": {},
     "output_type": "execute_result"
    },
    {
     "data": {
      "text/plain": [
       "'C:\\\\Users\\\\SengTian\\\\Downloads\\\\Temp\\\\Republic Polytechnic\\\\Assignment_ComputerVision\\\\TIPP_AAI_AAISD_CV\\\\Question_1\\\\clean_dataset\\\\train\\\\Grey_Heron\\\\_JWO8365_cr.jpg'"
      ]
     },
     "execution_count": 9,
     "metadata": {},
     "output_type": "execute_result"
    },
    {
     "data": {
      "text/plain": [
       "'C:\\\\Users\\\\SengTian\\\\Downloads\\\\Temp\\\\Republic Polytechnic\\\\Assignment_ComputerVision\\\\TIPP_AAI_AAISD_CV\\\\Question_1\\\\clean_dataset\\\\train\\\\Grey_Heron\\\\_JWO8369_cr.jpg'"
      ]
     },
     "execution_count": 9,
     "metadata": {},
     "output_type": "execute_result"
    },
    {
     "data": {
      "text/plain": [
       "'C:\\\\Users\\\\SengTian\\\\Downloads\\\\Temp\\\\Republic Polytechnic\\\\Assignment_ComputerVision\\\\TIPP_AAI_AAISD_CV\\\\Question_1\\\\clean_dataset\\\\train\\\\White-tailed_Sea_Eagle\\\\_JWO8417_cr.jpg'"
      ]
     },
     "execution_count": 9,
     "metadata": {},
     "output_type": "execute_result"
    },
    {
     "data": {
      "text/plain": [
       "'C:\\\\Users\\\\SengTian\\\\Downloads\\\\Temp\\\\Republic Polytechnic\\\\Assignment_ComputerVision\\\\TIPP_AAI_AAISD_CV\\\\Question_1\\\\clean_dataset\\\\train\\\\White-tailed_Sea_Eagle\\\\_JWO8418_cr.jpg'"
      ]
     },
     "execution_count": 9,
     "metadata": {},
     "output_type": "execute_result"
    },
    {
     "data": {
      "text/plain": [
       "'C:\\\\Users\\\\SengTian\\\\Downloads\\\\Temp\\\\Republic Polytechnic\\\\Assignment_ComputerVision\\\\TIPP_AAI_AAISD_CV\\\\Question_1\\\\clean_dataset\\\\train\\\\White-tailed_Sea_Eagle\\\\_JWO8421_cr.jpg'"
      ]
     },
     "execution_count": 9,
     "metadata": {},
     "output_type": "execute_result"
    },
    {
     "data": {
      "text/plain": [
       "'C:\\\\Users\\\\SengTian\\\\Downloads\\\\Temp\\\\Republic Polytechnic\\\\Assignment_ComputerVision\\\\TIPP_AAI_AAISD_CV\\\\Question_1\\\\clean_dataset\\\\train\\\\Crimson_Sunbird\\\\_JWO8432_cr.jpg'"
      ]
     },
     "execution_count": 9,
     "metadata": {},
     "output_type": "execute_result"
    },
    {
     "data": {
      "text/plain": [
       "'C:\\\\Users\\\\SengTian\\\\Downloads\\\\Temp\\\\Republic Polytechnic\\\\Assignment_ComputerVision\\\\TIPP_AAI_AAISD_CV\\\\Question_1\\\\clean_dataset\\\\train\\\\Red_Junglefowl\\\\_JWO8441_cr.jpg'"
      ]
     },
     "execution_count": 9,
     "metadata": {},
     "output_type": "execute_result"
    },
    {
     "data": {
      "text/plain": [
       "'C:\\\\Users\\\\SengTian\\\\Downloads\\\\Temp\\\\Republic Polytechnic\\\\Assignment_ComputerVision\\\\TIPP_AAI_AAISD_CV\\\\Question_1\\\\clean_dataset\\\\train\\\\Red_Junglefowl\\\\_JWO8445_cr.jpg'"
      ]
     },
     "execution_count": 9,
     "metadata": {},
     "output_type": "execute_result"
    },
    {
     "data": {
      "text/plain": [
       "'C:\\\\Users\\\\SengTian\\\\Downloads\\\\Temp\\\\Republic Polytechnic\\\\Assignment_ComputerVision\\\\TIPP_AAI_AAISD_CV\\\\Question_1\\\\clean_dataset\\\\train\\\\White-tailed_Sea_Eagle\\\\_JWO8448_cr.jpg'"
      ]
     },
     "execution_count": 9,
     "metadata": {},
     "output_type": "execute_result"
    },
    {
     "data": {
      "text/plain": [
       "'C:\\\\Users\\\\SengTian\\\\Downloads\\\\Temp\\\\Republic Polytechnic\\\\Assignment_ComputerVision\\\\TIPP_AAI_AAISD_CV\\\\Question_1\\\\clean_dataset\\\\train\\\\Red_Junglefowl\\\\_JWO8449_cr.jpg'"
      ]
     },
     "execution_count": 9,
     "metadata": {},
     "output_type": "execute_result"
    },
    {
     "data": {
      "text/plain": [
       "'C:\\\\Users\\\\SengTian\\\\Downloads\\\\Temp\\\\Republic Polytechnic\\\\Assignment_ComputerVision\\\\TIPP_AAI_AAISD_CV\\\\Question_1\\\\clean_dataset\\\\train\\\\Crimson_Sunbird\\\\_JWO8454_cr.jpg'"
      ]
     },
     "execution_count": 9,
     "metadata": {},
     "output_type": "execute_result"
    },
    {
     "data": {
      "text/plain": [
       "'C:\\\\Users\\\\SengTian\\\\Downloads\\\\Temp\\\\Republic Polytechnic\\\\Assignment_ComputerVision\\\\TIPP_AAI_AAISD_CV\\\\Question_1\\\\clean_dataset\\\\train\\\\White-tailed_Sea_Eagle\\\\_JWO8455_cr.jpg'"
      ]
     },
     "execution_count": 9,
     "metadata": {},
     "output_type": "execute_result"
    },
    {
     "data": {
      "text/plain": [
       "'C:\\\\Users\\\\SengTian\\\\Downloads\\\\Temp\\\\Republic Polytechnic\\\\Assignment_ComputerVision\\\\TIPP_AAI_AAISD_CV\\\\Question_1\\\\clean_dataset\\\\train\\\\Crimson_Sunbird\\\\_JWO8480_cr.jpg'"
      ]
     },
     "execution_count": 9,
     "metadata": {},
     "output_type": "execute_result"
    },
    {
     "data": {
      "text/plain": [
       "'C:\\\\Users\\\\SengTian\\\\Downloads\\\\Temp\\\\Republic Polytechnic\\\\Assignment_ComputerVision\\\\TIPP_AAI_AAISD_CV\\\\Question_1\\\\clean_dataset\\\\train\\\\Crimson_Sunbird\\\\_JWO8489_cr.jpg'"
      ]
     },
     "execution_count": 9,
     "metadata": {},
     "output_type": "execute_result"
    },
    {
     "data": {
      "text/plain": [
       "'C:\\\\Users\\\\SengTian\\\\Downloads\\\\Temp\\\\Republic Polytechnic\\\\Assignment_ComputerVision\\\\TIPP_AAI_AAISD_CV\\\\Question_1\\\\clean_dataset\\\\train\\\\Blue-throated_Bee-eater\\\\_JWO8496_cr.jpg'"
      ]
     },
     "execution_count": 9,
     "metadata": {},
     "output_type": "execute_result"
    },
    {
     "data": {
      "text/plain": [
       "'C:\\\\Users\\\\SengTian\\\\Downloads\\\\Temp\\\\Republic Polytechnic\\\\Assignment_ComputerVision\\\\TIPP_AAI_AAISD_CV\\\\Question_1\\\\clean_dataset\\\\train\\\\Blue-throated_Bee-eater\\\\_JWO8499_cr.jpg'"
      ]
     },
     "execution_count": 9,
     "metadata": {},
     "output_type": "execute_result"
    },
    {
     "data": {
      "text/plain": [
       "'C:\\\\Users\\\\SengTian\\\\Downloads\\\\Temp\\\\Republic Polytechnic\\\\Assignment_ComputerVision\\\\TIPP_AAI_AAISD_CV\\\\Question_1\\\\clean_dataset\\\\train\\\\Blue-throated_Bee-eater\\\\_JWO8508_cr.jpg'"
      ]
     },
     "execution_count": 9,
     "metadata": {},
     "output_type": "execute_result"
    },
    {
     "data": {
      "text/plain": [
       "'C:\\\\Users\\\\SengTian\\\\Downloads\\\\Temp\\\\Republic Polytechnic\\\\Assignment_ComputerVision\\\\TIPP_AAI_AAISD_CV\\\\Question_1\\\\clean_dataset\\\\train\\\\White-collared_Kingfisher\\\\_JWO8565_cr.jpg'"
      ]
     },
     "execution_count": 9,
     "metadata": {},
     "output_type": "execute_result"
    },
    {
     "data": {
      "text/plain": [
       "'C:\\\\Users\\\\SengTian\\\\Downloads\\\\Temp\\\\Republic Polytechnic\\\\Assignment_ComputerVision\\\\TIPP_AAI_AAISD_CV\\\\Question_1\\\\clean_dataset\\\\train\\\\Striated_Heron\\\\_JWO8606_cr.jpg'"
      ]
     },
     "execution_count": 9,
     "metadata": {},
     "output_type": "execute_result"
    },
    {
     "data": {
      "text/plain": [
       "'C:\\\\Users\\\\SengTian\\\\Downloads\\\\Temp\\\\Republic Polytechnic\\\\Assignment_ComputerVision\\\\TIPP_AAI_AAISD_CV\\\\Question_1\\\\clean_dataset\\\\train\\\\Striated_Heron\\\\_JWO8633_cr.jpg'"
      ]
     },
     "execution_count": 9,
     "metadata": {},
     "output_type": "execute_result"
    },
    {
     "data": {
      "text/plain": [
       "'C:\\\\Users\\\\SengTian\\\\Downloads\\\\Temp\\\\Republic Polytechnic\\\\Assignment_ComputerVision\\\\TIPP_AAI_AAISD_CV\\\\Question_1\\\\clean_dataset\\\\train\\\\Striated_Heron\\\\_JWO8642_cr.jpg'"
      ]
     },
     "execution_count": 9,
     "metadata": {},
     "output_type": "execute_result"
    },
    {
     "data": {
      "text/plain": [
       "'C:\\\\Users\\\\SengTian\\\\Downloads\\\\Temp\\\\Republic Polytechnic\\\\Assignment_ComputerVision\\\\TIPP_AAI_AAISD_CV\\\\Question_1\\\\clean_dataset\\\\train\\\\Striated_Heron\\\\_JWO8646_cr.jpg'"
      ]
     },
     "execution_count": 9,
     "metadata": {},
     "output_type": "execute_result"
    },
    {
     "data": {
      "text/plain": [
       "'C:\\\\Users\\\\SengTian\\\\Downloads\\\\Temp\\\\Republic Polytechnic\\\\Assignment_ComputerVision\\\\TIPP_AAI_AAISD_CV\\\\Question_1\\\\clean_dataset\\\\train\\\\Striated_Heron\\\\_JWO8675_cr.jpg'"
      ]
     },
     "execution_count": 9,
     "metadata": {},
     "output_type": "execute_result"
    },
    {
     "data": {
      "text/plain": [
       "'C:\\\\Users\\\\SengTian\\\\Downloads\\\\Temp\\\\Republic Polytechnic\\\\Assignment_ComputerVision\\\\TIPP_AAI_AAISD_CV\\\\Question_1\\\\clean_dataset\\\\train\\\\Striated_Heron\\\\_JWO8684_cr.jpg'"
      ]
     },
     "execution_count": 9,
     "metadata": {},
     "output_type": "execute_result"
    },
    {
     "data": {
      "text/plain": [
       "'C:\\\\Users\\\\SengTian\\\\Downloads\\\\Temp\\\\Republic Polytechnic\\\\Assignment_ComputerVision\\\\TIPP_AAI_AAISD_CV\\\\Question_1\\\\clean_dataset\\\\train\\\\Striated_Heron\\\\_JWO8711_cr.jpg'"
      ]
     },
     "execution_count": 9,
     "metadata": {},
     "output_type": "execute_result"
    },
    {
     "data": {
      "text/plain": [
       "'C:\\\\Users\\\\SengTian\\\\Downloads\\\\Temp\\\\Republic Polytechnic\\\\Assignment_ComputerVision\\\\TIPP_AAI_AAISD_CV\\\\Question_1\\\\clean_dataset\\\\train\\\\Stork-billed_Kingfisher\\\\_JWO8725_cr.jpg'"
      ]
     },
     "execution_count": 9,
     "metadata": {},
     "output_type": "execute_result"
    },
    {
     "data": {
      "text/plain": [
       "'C:\\\\Users\\\\SengTian\\\\Downloads\\\\Temp\\\\Republic Polytechnic\\\\Assignment_ComputerVision\\\\TIPP_AAI_AAISD_CV\\\\Question_1\\\\clean_dataset\\\\train\\\\Stork-billed_Kingfisher\\\\_JWO8731_cr.jpg'"
      ]
     },
     "execution_count": 9,
     "metadata": {},
     "output_type": "execute_result"
    },
    {
     "data": {
      "text/plain": [
       "'C:\\\\Users\\\\SengTian\\\\Downloads\\\\Temp\\\\Republic Polytechnic\\\\Assignment_ComputerVision\\\\TIPP_AAI_AAISD_CV\\\\Question_1\\\\clean_dataset\\\\train\\\\Grey_Heron\\\\_JWO8741_cr.jpg'"
      ]
     },
     "execution_count": 9,
     "metadata": {},
     "output_type": "execute_result"
    },
    {
     "data": {
      "text/plain": [
       "'C:\\\\Users\\\\SengTian\\\\Downloads\\\\Temp\\\\Republic Polytechnic\\\\Assignment_ComputerVision\\\\TIPP_AAI_AAISD_CV\\\\Question_1\\\\clean_dataset\\\\train\\\\Stork-billed_Kingfisher\\\\_JWO8742_cr.jpg'"
      ]
     },
     "execution_count": 9,
     "metadata": {},
     "output_type": "execute_result"
    },
    {
     "data": {
      "text/plain": [
       "'C:\\\\Users\\\\SengTian\\\\Downloads\\\\Temp\\\\Republic Polytechnic\\\\Assignment_ComputerVision\\\\TIPP_AAI_AAISD_CV\\\\Question_1\\\\clean_dataset\\\\train\\\\Stork-billed_Kingfisher\\\\_JWO8746_cr.jpg'"
      ]
     },
     "execution_count": 9,
     "metadata": {},
     "output_type": "execute_result"
    },
    {
     "data": {
      "text/plain": [
       "'C:\\\\Users\\\\SengTian\\\\Downloads\\\\Temp\\\\Republic Polytechnic\\\\Assignment_ComputerVision\\\\TIPP_AAI_AAISD_CV\\\\Question_1\\\\clean_dataset\\\\train\\\\Stork-billed_Kingfisher\\\\_JWO8798_cr.jpg'"
      ]
     },
     "execution_count": 9,
     "metadata": {},
     "output_type": "execute_result"
    },
    {
     "data": {
      "text/plain": [
       "'C:\\\\Users\\\\SengTian\\\\Downloads\\\\Temp\\\\Republic Polytechnic\\\\Assignment_ComputerVision\\\\TIPP_AAI_AAISD_CV\\\\Question_1\\\\clean_dataset\\\\train\\\\Stork-billed_Kingfisher\\\\_JWO8826_cr.jpg'"
      ]
     },
     "execution_count": 9,
     "metadata": {},
     "output_type": "execute_result"
    },
    {
     "data": {
      "text/plain": [
       "'C:\\\\Users\\\\SengTian\\\\Downloads\\\\Temp\\\\Republic Polytechnic\\\\Assignment_ComputerVision\\\\TIPP_AAI_AAISD_CV\\\\Question_1\\\\clean_dataset\\\\train\\\\Brahmini_Kite\\\\_JWO8855_cr.jpg'"
      ]
     },
     "execution_count": 9,
     "metadata": {},
     "output_type": "execute_result"
    },
    {
     "data": {
      "text/plain": [
       "'C:\\\\Users\\\\SengTian\\\\Downloads\\\\Temp\\\\Republic Polytechnic\\\\Assignment_ComputerVision\\\\TIPP_AAI_AAISD_CV\\\\Question_1\\\\clean_dataset\\\\train\\\\Brahmini_Kite\\\\_JWO8856_cr.jpg'"
      ]
     },
     "execution_count": 9,
     "metadata": {},
     "output_type": "execute_result"
    },
    {
     "data": {
      "text/plain": [
       "'C:\\\\Users\\\\SengTian\\\\Downloads\\\\Temp\\\\Republic Polytechnic\\\\Assignment_ComputerVision\\\\TIPP_AAI_AAISD_CV\\\\Question_1\\\\clean_dataset\\\\train\\\\Brahmini_Kite\\\\_JWO8859_cr.jpg'"
      ]
     },
     "execution_count": 9,
     "metadata": {},
     "output_type": "execute_result"
    },
    {
     "data": {
      "text/plain": [
       "'C:\\\\Users\\\\SengTian\\\\Downloads\\\\Temp\\\\Republic Polytechnic\\\\Assignment_ComputerVision\\\\TIPP_AAI_AAISD_CV\\\\Question_1\\\\clean_dataset\\\\train\\\\Striated_Heron\\\\_JWO8973_1_cr.jpg'"
      ]
     },
     "execution_count": 9,
     "metadata": {},
     "output_type": "execute_result"
    },
    {
     "data": {
      "text/plain": [
       "'C:\\\\Users\\\\SengTian\\\\Downloads\\\\Temp\\\\Republic Polytechnic\\\\Assignment_ComputerVision\\\\TIPP_AAI_AAISD_CV\\\\Question_1\\\\clean_dataset\\\\train\\\\Striated_Heron\\\\_JWO8974_cr.jpg'"
      ]
     },
     "execution_count": 9,
     "metadata": {},
     "output_type": "execute_result"
    },
    {
     "data": {
      "text/plain": [
       "'C:\\\\Users\\\\SengTian\\\\Downloads\\\\Temp\\\\Republic Polytechnic\\\\Assignment_ComputerVision\\\\TIPP_AAI_AAISD_CV\\\\Question_1\\\\clean_dataset\\\\train\\\\Stork-billed_Kingfisher\\\\_JWO8978_cr.jpg'"
      ]
     },
     "execution_count": 9,
     "metadata": {},
     "output_type": "execute_result"
    },
    {
     "data": {
      "text/plain": [
       "'C:\\\\Users\\\\SengTian\\\\Downloads\\\\Temp\\\\Republic Polytechnic\\\\Assignment_ComputerVision\\\\TIPP_AAI_AAISD_CV\\\\Question_1\\\\clean_dataset\\\\train\\\\Stork-billed_Kingfisher\\\\_JWO8979_cr.jpg'"
      ]
     },
     "execution_count": 9,
     "metadata": {},
     "output_type": "execute_result"
    },
    {
     "data": {
      "text/plain": [
       "'C:\\\\Users\\\\SengTian\\\\Downloads\\\\Temp\\\\Republic Polytechnic\\\\Assignment_ComputerVision\\\\TIPP_AAI_AAISD_CV\\\\Question_1\\\\clean_dataset\\\\train\\\\Striated_Heron\\\\_JWO8987_cr.jpg'"
      ]
     },
     "execution_count": 9,
     "metadata": {},
     "output_type": "execute_result"
    },
    {
     "data": {
      "text/plain": [
       "'C:\\\\Users\\\\SengTian\\\\Downloads\\\\Temp\\\\Republic Polytechnic\\\\Assignment_ComputerVision\\\\TIPP_AAI_AAISD_CV\\\\Question_1\\\\clean_dataset\\\\train\\\\Buffy_Fish_Owl\\\\_JWO8989_cr.jpg'"
      ]
     },
     "execution_count": 9,
     "metadata": {},
     "output_type": "execute_result"
    },
    {
     "data": {
      "text/plain": [
       "'C:\\\\Users\\\\SengTian\\\\Downloads\\\\Temp\\\\Republic Polytechnic\\\\Assignment_ComputerVision\\\\TIPP_AAI_AAISD_CV\\\\Question_1\\\\clean_dataset\\\\train\\\\Striated_Heron\\\\_JWO8989a_cr.jpg'"
      ]
     },
     "execution_count": 9,
     "metadata": {},
     "output_type": "execute_result"
    },
    {
     "data": {
      "text/plain": [
       "'C:\\\\Users\\\\SengTian\\\\Downloads\\\\Temp\\\\Republic Polytechnic\\\\Assignment_ComputerVision\\\\TIPP_AAI_AAISD_CV\\\\Question_1\\\\clean_dataset\\\\train\\\\Buffy_Fish_Owl\\\\_JWO8993_cr.jpg'"
      ]
     },
     "execution_count": 9,
     "metadata": {},
     "output_type": "execute_result"
    },
    {
     "data": {
      "text/plain": [
       "'C:\\\\Users\\\\SengTian\\\\Downloads\\\\Temp\\\\Republic Polytechnic\\\\Assignment_ComputerVision\\\\TIPP_AAI_AAISD_CV\\\\Question_1\\\\clean_dataset\\\\train\\\\Buffy_Fish_Owl\\\\_JWO9015_cr.jpg'"
      ]
     },
     "execution_count": 9,
     "metadata": {},
     "output_type": "execute_result"
    },
    {
     "data": {
      "text/plain": [
       "'C:\\\\Users\\\\SengTian\\\\Downloads\\\\Temp\\\\Republic Polytechnic\\\\Assignment_ComputerVision\\\\TIPP_AAI_AAISD_CV\\\\Question_1\\\\clean_dataset\\\\train\\\\Buffy_Fish_Owl\\\\_JWO9021_cr.jpg'"
      ]
     },
     "execution_count": 9,
     "metadata": {},
     "output_type": "execute_result"
    },
    {
     "data": {
      "text/plain": [
       "'C:\\\\Users\\\\SengTian\\\\Downloads\\\\Temp\\\\Republic Polytechnic\\\\Assignment_ComputerVision\\\\TIPP_AAI_AAISD_CV\\\\Question_1\\\\clean_dataset\\\\train\\\\Buffy_Fish_Owl\\\\_JWO9024_cr.jpg'"
      ]
     },
     "execution_count": 9,
     "metadata": {},
     "output_type": "execute_result"
    },
    {
     "data": {
      "text/plain": [
       "'C:\\\\Users\\\\SengTian\\\\Downloads\\\\Temp\\\\Republic Polytechnic\\\\Assignment_ComputerVision\\\\TIPP_AAI_AAISD_CV\\\\Question_1\\\\clean_dataset\\\\train\\\\Stork-billed_Kingfisher\\\\_JWO9030_1_cr.jpg'"
      ]
     },
     "execution_count": 9,
     "metadata": {},
     "output_type": "execute_result"
    },
    {
     "data": {
      "text/plain": [
       "'C:\\\\Users\\\\SengTian\\\\Downloads\\\\Temp\\\\Republic Polytechnic\\\\Assignment_ComputerVision\\\\TIPP_AAI_AAISD_CV\\\\Question_1\\\\clean_dataset\\\\train\\\\Stork-billed_Kingfisher\\\\_JWO9030_cr.jpg'"
      ]
     },
     "execution_count": 9,
     "metadata": {},
     "output_type": "execute_result"
    },
    {
     "data": {
      "text/plain": [
       "'C:\\\\Users\\\\SengTian\\\\Downloads\\\\Temp\\\\Republic Polytechnic\\\\Assignment_ComputerVision\\\\TIPP_AAI_AAISD_CV\\\\Question_1\\\\clean_dataset\\\\train\\\\Buffy_Fish_Owl\\\\_JWO9033_cr.jpg'"
      ]
     },
     "execution_count": 9,
     "metadata": {},
     "output_type": "execute_result"
    },
    {
     "data": {
      "text/plain": [
       "'C:\\\\Users\\\\SengTian\\\\Downloads\\\\Temp\\\\Republic Polytechnic\\\\Assignment_ComputerVision\\\\TIPP_AAI_AAISD_CV\\\\Question_1\\\\clean_dataset\\\\train\\\\Stork-billed_Kingfisher\\\\_JWO9037_cr.jpg'"
      ]
     },
     "execution_count": 9,
     "metadata": {},
     "output_type": "execute_result"
    },
    {
     "data": {
      "text/plain": [
       "'C:\\\\Users\\\\SengTian\\\\Downloads\\\\Temp\\\\Republic Polytechnic\\\\Assignment_ComputerVision\\\\TIPP_AAI_AAISD_CV\\\\Question_1\\\\clean_dataset\\\\train\\\\Stork-billed_Kingfisher\\\\_JWO9038_cr.jpg'"
      ]
     },
     "execution_count": 9,
     "metadata": {},
     "output_type": "execute_result"
    },
    {
     "data": {
      "text/plain": [
       "'C:\\\\Users\\\\SengTian\\\\Downloads\\\\Temp\\\\Republic Polytechnic\\\\Assignment_ComputerVision\\\\TIPP_AAI_AAISD_CV\\\\Question_1\\\\clean_dataset\\\\train\\\\Stork-billed_Kingfisher\\\\_JWO9039_cr.jpg'"
      ]
     },
     "execution_count": 9,
     "metadata": {},
     "output_type": "execute_result"
    },
    {
     "data": {
      "text/plain": [
       "'C:\\\\Users\\\\SengTian\\\\Downloads\\\\Temp\\\\Republic Polytechnic\\\\Assignment_ComputerVision\\\\TIPP_AAI_AAISD_CV\\\\Question_1\\\\clean_dataset\\\\train\\\\Stork-billed_Kingfisher\\\\_JWO9040_cr.jpg'"
      ]
     },
     "execution_count": 9,
     "metadata": {},
     "output_type": "execute_result"
    },
    {
     "data": {
      "text/plain": [
       "'C:\\\\Users\\\\SengTian\\\\Downloads\\\\Temp\\\\Republic Polytechnic\\\\Assignment_ComputerVision\\\\TIPP_AAI_AAISD_CV\\\\Question_1\\\\clean_dataset\\\\train\\\\Stork-billed_Kingfisher\\\\_JWO9041_cr.jpg'"
      ]
     },
     "execution_count": 9,
     "metadata": {},
     "output_type": "execute_result"
    },
    {
     "data": {
      "text/plain": [
       "'C:\\\\Users\\\\SengTian\\\\Downloads\\\\Temp\\\\Republic Polytechnic\\\\Assignment_ComputerVision\\\\TIPP_AAI_AAISD_CV\\\\Question_1\\\\clean_dataset\\\\train\\\\Stork-billed_Kingfisher\\\\_JWO9042_cr.jpg'"
      ]
     },
     "execution_count": 9,
     "metadata": {},
     "output_type": "execute_result"
    },
    {
     "data": {
      "text/plain": [
       "'C:\\\\Users\\\\SengTian\\\\Downloads\\\\Temp\\\\Republic Polytechnic\\\\Assignment_ComputerVision\\\\TIPP_AAI_AAISD_CV\\\\Question_1\\\\clean_dataset\\\\train\\\\Stork-billed_Kingfisher\\\\_JWO9044_cr.jpg'"
      ]
     },
     "execution_count": 9,
     "metadata": {},
     "output_type": "execute_result"
    },
    {
     "data": {
      "text/plain": [
       "'C:\\\\Users\\\\SengTian\\\\Downloads\\\\Temp\\\\Republic Polytechnic\\\\Assignment_ComputerVision\\\\TIPP_AAI_AAISD_CV\\\\Question_1\\\\clean_dataset\\\\train\\\\Stork-billed_Kingfisher\\\\_JWO9044a_cr.jpg'"
      ]
     },
     "execution_count": 9,
     "metadata": {},
     "output_type": "execute_result"
    },
    {
     "data": {
      "text/plain": [
       "'C:\\\\Users\\\\SengTian\\\\Downloads\\\\Temp\\\\Republic Polytechnic\\\\Assignment_ComputerVision\\\\TIPP_AAI_AAISD_CV\\\\Question_1\\\\clean_dataset\\\\train\\\\Stork-billed_Kingfisher\\\\_JWO9048_cr.jpg'"
      ]
     },
     "execution_count": 9,
     "metadata": {},
     "output_type": "execute_result"
    },
    {
     "data": {
      "text/plain": [
       "'C:\\\\Users\\\\SengTian\\\\Downloads\\\\Temp\\\\Republic Polytechnic\\\\Assignment_ComputerVision\\\\TIPP_AAI_AAISD_CV\\\\Question_1\\\\clean_dataset\\\\train\\\\Stork-billed_Kingfisher\\\\_JWO9050_cr.jpg'"
      ]
     },
     "execution_count": 9,
     "metadata": {},
     "output_type": "execute_result"
    },
    {
     "data": {
      "text/plain": [
       "'C:\\\\Users\\\\SengTian\\\\Downloads\\\\Temp\\\\Republic Polytechnic\\\\Assignment_ComputerVision\\\\TIPP_AAI_AAISD_CV\\\\Question_1\\\\clean_dataset\\\\train\\\\Stork-billed_Kingfisher\\\\_JWO9053_cr.jpg'"
      ]
     },
     "execution_count": 9,
     "metadata": {},
     "output_type": "execute_result"
    },
    {
     "data": {
      "text/plain": [
       "'C:\\\\Users\\\\SengTian\\\\Downloads\\\\Temp\\\\Republic Polytechnic\\\\Assignment_ComputerVision\\\\TIPP_AAI_AAISD_CV\\\\Question_1\\\\clean_dataset\\\\train\\\\Stork-billed_Kingfisher\\\\_JWO9054_cr.jpg'"
      ]
     },
     "execution_count": 9,
     "metadata": {},
     "output_type": "execute_result"
    },
    {
     "data": {
      "text/plain": [
       "'C:\\\\Users\\\\SengTian\\\\Downloads\\\\Temp\\\\Republic Polytechnic\\\\Assignment_ComputerVision\\\\TIPP_AAI_AAISD_CV\\\\Question_1\\\\clean_dataset\\\\train\\\\Stork-billed_Kingfisher\\\\_JWO9090_cr.jpg'"
      ]
     },
     "execution_count": 9,
     "metadata": {},
     "output_type": "execute_result"
    },
    {
     "data": {
      "text/plain": [
       "'C:\\\\Users\\\\SengTian\\\\Downloads\\\\Temp\\\\Republic Polytechnic\\\\Assignment_ComputerVision\\\\TIPP_AAI_AAISD_CV\\\\Question_1\\\\clean_dataset\\\\train\\\\Buffy_Fish_Owl\\\\_JWO9092_cr.jpg'"
      ]
     },
     "execution_count": 9,
     "metadata": {},
     "output_type": "execute_result"
    },
    {
     "data": {
      "text/plain": [
       "'C:\\\\Users\\\\SengTian\\\\Downloads\\\\Temp\\\\Republic Polytechnic\\\\Assignment_ComputerVision\\\\TIPP_AAI_AAISD_CV\\\\Question_1\\\\clean_dataset\\\\train\\\\Buffy_Fish_Owl\\\\_JWO9093_cr.jpg'"
      ]
     },
     "execution_count": 9,
     "metadata": {},
     "output_type": "execute_result"
    },
    {
     "data": {
      "text/plain": [
       "'C:\\\\Users\\\\SengTian\\\\Downloads\\\\Temp\\\\Republic Polytechnic\\\\Assignment_ComputerVision\\\\TIPP_AAI_AAISD_CV\\\\Question_1\\\\clean_dataset\\\\train\\\\Buffy_Fish_Owl\\\\_JWO9097_cr.jpg'"
      ]
     },
     "execution_count": 9,
     "metadata": {},
     "output_type": "execute_result"
    },
    {
     "data": {
      "text/plain": [
       "'C:\\\\Users\\\\SengTian\\\\Downloads\\\\Temp\\\\Republic Polytechnic\\\\Assignment_ComputerVision\\\\TIPP_AAI_AAISD_CV\\\\Question_1\\\\clean_dataset\\\\train\\\\Buffy_Fish_Owl\\\\_JWO9111_cr.jpg'"
      ]
     },
     "execution_count": 9,
     "metadata": {},
     "output_type": "execute_result"
    },
    {
     "data": {
      "text/plain": [
       "'C:\\\\Users\\\\SengTian\\\\Downloads\\\\Temp\\\\Republic Polytechnic\\\\Assignment_ComputerVision\\\\TIPP_AAI_AAISD_CV\\\\Question_1\\\\clean_dataset\\\\train\\\\Stork-billed_Kingfisher\\\\_JWO9113_cr.jpg'"
      ]
     },
     "execution_count": 9,
     "metadata": {},
     "output_type": "execute_result"
    },
    {
     "data": {
      "text/plain": [
       "'C:\\\\Users\\\\SengTian\\\\Downloads\\\\Temp\\\\Republic Polytechnic\\\\Assignment_ComputerVision\\\\TIPP_AAI_AAISD_CV\\\\Question_1\\\\clean_dataset\\\\train\\\\Buffy_Fish_Owl\\\\_JWO9114_cr.jpg'"
      ]
     },
     "execution_count": 9,
     "metadata": {},
     "output_type": "execute_result"
    },
    {
     "data": {
      "text/plain": [
       "'C:\\\\Users\\\\SengTian\\\\Downloads\\\\Temp\\\\Republic Polytechnic\\\\Assignment_ComputerVision\\\\TIPP_AAI_AAISD_CV\\\\Question_1\\\\clean_dataset\\\\train\\\\Buffy_Fish_Owl\\\\_JWO9116_cr.jpg'"
      ]
     },
     "execution_count": 9,
     "metadata": {},
     "output_type": "execute_result"
    },
    {
     "data": {
      "text/plain": [
       "'C:\\\\Users\\\\SengTian\\\\Downloads\\\\Temp\\\\Republic Polytechnic\\\\Assignment_ComputerVision\\\\TIPP_AAI_AAISD_CV\\\\Question_1\\\\clean_dataset\\\\train\\\\Stork-billed_Kingfisher\\\\_JWO9118_cr.jpg'"
      ]
     },
     "execution_count": 9,
     "metadata": {},
     "output_type": "execute_result"
    },
    {
     "data": {
      "text/plain": [
       "'C:\\\\Users\\\\SengTian\\\\Downloads\\\\Temp\\\\Republic Polytechnic\\\\Assignment_ComputerVision\\\\TIPP_AAI_AAISD_CV\\\\Question_1\\\\clean_dataset\\\\train\\\\Buffy_Fish_Owl\\\\_JWO9126_cr.jpg'"
      ]
     },
     "execution_count": 9,
     "metadata": {},
     "output_type": "execute_result"
    },
    {
     "data": {
      "text/plain": [
       "'C:\\\\Users\\\\SengTian\\\\Downloads\\\\Temp\\\\Republic Polytechnic\\\\Assignment_ComputerVision\\\\TIPP_AAI_AAISD_CV\\\\Question_1\\\\clean_dataset\\\\train\\\\Buffy_Fish_Owl\\\\_JWO9127_cr.jpg'"
      ]
     },
     "execution_count": 9,
     "metadata": {},
     "output_type": "execute_result"
    },
    {
     "data": {
      "text/plain": [
       "'C:\\\\Users\\\\SengTian\\\\Downloads\\\\Temp\\\\Republic Polytechnic\\\\Assignment_ComputerVision\\\\TIPP_AAI_AAISD_CV\\\\Question_1\\\\clean_dataset\\\\train\\\\Buffy_Fish_Owl\\\\_JWO9130_cr.jpg'"
      ]
     },
     "execution_count": 9,
     "metadata": {},
     "output_type": "execute_result"
    },
    {
     "data": {
      "text/plain": [
       "'C:\\\\Users\\\\SengTian\\\\Downloads\\\\Temp\\\\Republic Polytechnic\\\\Assignment_ComputerVision\\\\TIPP_AAI_AAISD_CV\\\\Question_1\\\\clean_dataset\\\\train\\\\Zitting_Cisticola\\\\_JWO9144_cr.jpg'"
      ]
     },
     "execution_count": 9,
     "metadata": {},
     "output_type": "execute_result"
    },
    {
     "data": {
      "text/plain": [
       "'C:\\\\Users\\\\SengTian\\\\Downloads\\\\Temp\\\\Republic Polytechnic\\\\Assignment_ComputerVision\\\\TIPP_AAI_AAISD_CV\\\\Question_1\\\\clean_dataset\\\\train\\\\Stork-billed_Kingfisher\\\\_JWO9153_cr.jpg'"
      ]
     },
     "execution_count": 9,
     "metadata": {},
     "output_type": "execute_result"
    },
    {
     "data": {
      "text/plain": [
       "'C:\\\\Users\\\\SengTian\\\\Downloads\\\\Temp\\\\Republic Polytechnic\\\\Assignment_ComputerVision\\\\TIPP_AAI_AAISD_CV\\\\Question_1\\\\clean_dataset\\\\train\\\\Stork-billed_Kingfisher\\\\_JWO9155_cr.jpg'"
      ]
     },
     "execution_count": 9,
     "metadata": {},
     "output_type": "execute_result"
    },
    {
     "data": {
      "text/plain": [
       "'C:\\\\Users\\\\SengTian\\\\Downloads\\\\Temp\\\\Republic Polytechnic\\\\Assignment_ComputerVision\\\\TIPP_AAI_AAISD_CV\\\\Question_1\\\\clean_dataset\\\\train\\\\Stork-billed_Kingfisher\\\\_JWO9167_cr.jpg'"
      ]
     },
     "execution_count": 9,
     "metadata": {},
     "output_type": "execute_result"
    },
    {
     "data": {
      "text/plain": [
       "'C:\\\\Users\\\\SengTian\\\\Downloads\\\\Temp\\\\Republic Polytechnic\\\\Assignment_ComputerVision\\\\TIPP_AAI_AAISD_CV\\\\Question_1\\\\clean_dataset\\\\train\\\\Stork-billed_Kingfisher\\\\_JWO9176_cr.jpg'"
      ]
     },
     "execution_count": 9,
     "metadata": {},
     "output_type": "execute_result"
    },
    {
     "data": {
      "text/plain": [
       "'C:\\\\Users\\\\SengTian\\\\Downloads\\\\Temp\\\\Republic Polytechnic\\\\Assignment_ComputerVision\\\\TIPP_AAI_AAISD_CV\\\\Question_1\\\\clean_dataset\\\\train\\\\Stork-billed_Kingfisher\\\\_JWO9178_cr.jpg'"
      ]
     },
     "execution_count": 9,
     "metadata": {},
     "output_type": "execute_result"
    },
    {
     "data": {
      "text/plain": [
       "'C:\\\\Users\\\\SengTian\\\\Downloads\\\\Temp\\\\Republic Polytechnic\\\\Assignment_ComputerVision\\\\TIPP_AAI_AAISD_CV\\\\Question_1\\\\clean_dataset\\\\train\\\\Stork-billed_Kingfisher\\\\_JWO9179_cr.jpg'"
      ]
     },
     "execution_count": 9,
     "metadata": {},
     "output_type": "execute_result"
    },
    {
     "data": {
      "text/plain": [
       "'C:\\\\Users\\\\SengTian\\\\Downloads\\\\Temp\\\\Republic Polytechnic\\\\Assignment_ComputerVision\\\\TIPP_AAI_AAISD_CV\\\\Question_1\\\\clean_dataset\\\\train\\\\Stork-billed_Kingfisher\\\\_JWO9180_cr.jpg'"
      ]
     },
     "execution_count": 9,
     "metadata": {},
     "output_type": "execute_result"
    },
    {
     "data": {
      "text/plain": [
       "'C:\\\\Users\\\\SengTian\\\\Downloads\\\\Temp\\\\Republic Polytechnic\\\\Assignment_ComputerVision\\\\TIPP_AAI_AAISD_CV\\\\Question_1\\\\clean_dataset\\\\train\\\\Stork-billed_Kingfisher\\\\_JWO9181_cr.jpg'"
      ]
     },
     "execution_count": 9,
     "metadata": {},
     "output_type": "execute_result"
    },
    {
     "data": {
      "text/plain": [
       "'C:\\\\Users\\\\SengTian\\\\Downloads\\\\Temp\\\\Republic Polytechnic\\\\Assignment_ComputerVision\\\\TIPP_AAI_AAISD_CV\\\\Question_1\\\\clean_dataset\\\\train\\\\Stork-billed_Kingfisher\\\\_JWO9185_cr.jpg'"
      ]
     },
     "execution_count": 9,
     "metadata": {},
     "output_type": "execute_result"
    },
    {
     "data": {
      "text/plain": [
       "'C:\\\\Users\\\\SengTian\\\\Downloads\\\\Temp\\\\Republic Polytechnic\\\\Assignment_ComputerVision\\\\TIPP_AAI_AAISD_CV\\\\Question_1\\\\clean_dataset\\\\train\\\\Stork-billed_Kingfisher\\\\_JWO9186_cr.jpg'"
      ]
     },
     "execution_count": 9,
     "metadata": {},
     "output_type": "execute_result"
    },
    {
     "data": {
      "text/plain": [
       "'C:\\\\Users\\\\SengTian\\\\Downloads\\\\Temp\\\\Republic Polytechnic\\\\Assignment_ComputerVision\\\\TIPP_AAI_AAISD_CV\\\\Question_1\\\\clean_dataset\\\\train\\\\Stork-billed_Kingfisher\\\\_JWO9193_cr.jpg'"
      ]
     },
     "execution_count": 9,
     "metadata": {},
     "output_type": "execute_result"
    },
    {
     "data": {
      "text/plain": [
       "'C:\\\\Users\\\\SengTian\\\\Downloads\\\\Temp\\\\Republic Polytechnic\\\\Assignment_ComputerVision\\\\TIPP_AAI_AAISD_CV\\\\Question_1\\\\clean_dataset\\\\train\\\\Stork-billed_Kingfisher\\\\_JWO9201_cr.jpg'"
      ]
     },
     "execution_count": 9,
     "metadata": {},
     "output_type": "execute_result"
    },
    {
     "data": {
      "text/plain": [
       "'C:\\\\Users\\\\SengTian\\\\Downloads\\\\Temp\\\\Republic Polytechnic\\\\Assignment_ComputerVision\\\\TIPP_AAI_AAISD_CV\\\\Question_1\\\\clean_dataset\\\\train\\\\Stork-billed_Kingfisher\\\\_JWO9212_cr.jpg'"
      ]
     },
     "execution_count": 9,
     "metadata": {},
     "output_type": "execute_result"
    },
    {
     "data": {
      "text/plain": [
       "'C:\\\\Users\\\\SengTian\\\\Downloads\\\\Temp\\\\Republic Polytechnic\\\\Assignment_ComputerVision\\\\TIPP_AAI_AAISD_CV\\\\Question_1\\\\clean_dataset\\\\train\\\\Stork-billed_Kingfisher\\\\_JWO9244_cr.jpg'"
      ]
     },
     "execution_count": 9,
     "metadata": {},
     "output_type": "execute_result"
    },
    {
     "data": {
      "text/plain": [
       "'C:\\\\Users\\\\SengTian\\\\Downloads\\\\Temp\\\\Republic Polytechnic\\\\Assignment_ComputerVision\\\\TIPP_AAI_AAISD_CV\\\\Question_1\\\\clean_dataset\\\\train\\\\Zitting_Cisticola\\\\_JWO9259_cr.jpg'"
      ]
     },
     "execution_count": 9,
     "metadata": {},
     "output_type": "execute_result"
    },
    {
     "data": {
      "text/plain": [
       "'C:\\\\Users\\\\SengTian\\\\Downloads\\\\Temp\\\\Republic Polytechnic\\\\Assignment_ComputerVision\\\\TIPP_AAI_AAISD_CV\\\\Question_1\\\\clean_dataset\\\\train\\\\Stork-billed_Kingfisher\\\\_JWO9265_cr.jpg'"
      ]
     },
     "execution_count": 9,
     "metadata": {},
     "output_type": "execute_result"
    },
    {
     "data": {
      "text/plain": [
       "'C:\\\\Users\\\\SengTian\\\\Downloads\\\\Temp\\\\Republic Polytechnic\\\\Assignment_ComputerVision\\\\TIPP_AAI_AAISD_CV\\\\Question_1\\\\clean_dataset\\\\train\\\\Stork-billed_Kingfisher\\\\_JWO9267_1_cr.jpg'"
      ]
     },
     "execution_count": 9,
     "metadata": {},
     "output_type": "execute_result"
    },
    {
     "data": {
      "text/plain": [
       "'C:\\\\Users\\\\SengTian\\\\Downloads\\\\Temp\\\\Republic Polytechnic\\\\Assignment_ComputerVision\\\\TIPP_AAI_AAISD_CV\\\\Question_1\\\\clean_dataset\\\\train\\\\Stork-billed_Kingfisher\\\\_JWO9272_cr.jpg'"
      ]
     },
     "execution_count": 9,
     "metadata": {},
     "output_type": "execute_result"
    },
    {
     "data": {
      "text/plain": [
       "'C:\\\\Users\\\\SengTian\\\\Downloads\\\\Temp\\\\Republic Polytechnic\\\\Assignment_ComputerVision\\\\TIPP_AAI_AAISD_CV\\\\Question_1\\\\clean_dataset\\\\train\\\\Zitting_Cisticola\\\\_JWO9281_cr.jpg'"
      ]
     },
     "execution_count": 9,
     "metadata": {},
     "output_type": "execute_result"
    },
    {
     "data": {
      "text/plain": [
       "'C:\\\\Users\\\\SengTian\\\\Downloads\\\\Temp\\\\Republic Polytechnic\\\\Assignment_ComputerVision\\\\TIPP_AAI_AAISD_CV\\\\Question_1\\\\clean_dataset\\\\train\\\\Zitting_Cisticola\\\\_JWO9296_cr.jpg'"
      ]
     },
     "execution_count": 9,
     "metadata": {},
     "output_type": "execute_result"
    },
    {
     "data": {
      "text/plain": [
       "'C:\\\\Users\\\\SengTian\\\\Downloads\\\\Temp\\\\Republic Polytechnic\\\\Assignment_ComputerVision\\\\TIPP_AAI_AAISD_CV\\\\Question_1\\\\clean_dataset\\\\train\\\\White-bellied_Sea_Eagle\\\\_JWO9397_cr.jpg'"
      ]
     },
     "execution_count": 9,
     "metadata": {},
     "output_type": "execute_result"
    },
    {
     "data": {
      "text/plain": [
       "'C:\\\\Users\\\\SengTian\\\\Downloads\\\\Temp\\\\Republic Polytechnic\\\\Assignment_ComputerVision\\\\TIPP_AAI_AAISD_CV\\\\Question_1\\\\clean_dataset\\\\train\\\\White-bellied_Sea_Eagle\\\\_JWO9399_cr.jpg'"
      ]
     },
     "execution_count": 9,
     "metadata": {},
     "output_type": "execute_result"
    },
    {
     "data": {
      "text/plain": [
       "'C:\\\\Users\\\\SengTian\\\\Downloads\\\\Temp\\\\Republic Polytechnic\\\\Assignment_ComputerVision\\\\TIPP_AAI_AAISD_CV\\\\Question_1\\\\clean_dataset\\\\train\\\\White-bellied_Sea_Eagle\\\\_JWO9400_cr.jpg'"
      ]
     },
     "execution_count": 9,
     "metadata": {},
     "output_type": "execute_result"
    },
    {
     "data": {
      "text/plain": [
       "'C:\\\\Users\\\\SengTian\\\\Downloads\\\\Temp\\\\Republic Polytechnic\\\\Assignment_ComputerVision\\\\TIPP_AAI_AAISD_CV\\\\Question_1\\\\clean_dataset\\\\train\\\\White-bellied_Sea_Eagle\\\\_JWO9401_cr.jpg'"
      ]
     },
     "execution_count": 9,
     "metadata": {},
     "output_type": "execute_result"
    },
    {
     "data": {
      "text/plain": [
       "'C:\\\\Users\\\\SengTian\\\\Downloads\\\\Temp\\\\Republic Polytechnic\\\\Assignment_ComputerVision\\\\TIPP_AAI_AAISD_CV\\\\Question_1\\\\clean_dataset\\\\train\\\\White-bellied_Sea_Eagle\\\\_JWO9420_cr.jpg'"
      ]
     },
     "execution_count": 9,
     "metadata": {},
     "output_type": "execute_result"
    },
    {
     "data": {
      "text/plain": [
       "'C:\\\\Users\\\\SengTian\\\\Downloads\\\\Temp\\\\Republic Polytechnic\\\\Assignment_ComputerVision\\\\TIPP_AAI_AAISD_CV\\\\Question_1\\\\clean_dataset\\\\train\\\\White-bellied_Sea_Eagle\\\\_JWO9422_cr.jpg'"
      ]
     },
     "execution_count": 9,
     "metadata": {},
     "output_type": "execute_result"
    },
    {
     "data": {
      "text/plain": [
       "'C:\\\\Users\\\\SengTian\\\\Downloads\\\\Temp\\\\Republic Polytechnic\\\\Assignment_ComputerVision\\\\TIPP_AAI_AAISD_CV\\\\Question_1\\\\clean_dataset\\\\train\\\\White-bellied_Sea_Eagle\\\\_JWO9423_cr.jpg'"
      ]
     },
     "execution_count": 9,
     "metadata": {},
     "output_type": "execute_result"
    },
    {
     "data": {
      "text/plain": [
       "'C:\\\\Users\\\\SengTian\\\\Downloads\\\\Temp\\\\Republic Polytechnic\\\\Assignment_ComputerVision\\\\TIPP_AAI_AAISD_CV\\\\Question_1\\\\clean_dataset\\\\train\\\\White-bellied_Sea_Eagle\\\\_JWO9425_cr.jpg'"
      ]
     },
     "execution_count": 9,
     "metadata": {},
     "output_type": "execute_result"
    },
    {
     "data": {
      "text/plain": [
       "'C:\\\\Users\\\\SengTian\\\\Downloads\\\\Temp\\\\Republic Polytechnic\\\\Assignment_ComputerVision\\\\TIPP_AAI_AAISD_CV\\\\Question_1\\\\clean_dataset\\\\train\\\\White-bellied_Sea_Eagle\\\\_JWO9426_cr.jpg'"
      ]
     },
     "execution_count": 9,
     "metadata": {},
     "output_type": "execute_result"
    },
    {
     "data": {
      "text/plain": [
       "'C:\\\\Users\\\\SengTian\\\\Downloads\\\\Temp\\\\Republic Polytechnic\\\\Assignment_ComputerVision\\\\TIPP_AAI_AAISD_CV\\\\Question_1\\\\clean_dataset\\\\train\\\\Zitting_Cisticola\\\\_JWO9427_cr.jpg'"
      ]
     },
     "execution_count": 9,
     "metadata": {},
     "output_type": "execute_result"
    },
    {
     "data": {
      "text/plain": [
       "'C:\\\\Users\\\\SengTian\\\\Downloads\\\\Temp\\\\Republic Polytechnic\\\\Assignment_ComputerVision\\\\TIPP_AAI_AAISD_CV\\\\Question_1\\\\clean_dataset\\\\train\\\\White-bellied_Sea_Eagle\\\\_JWO9428_cr.jpg'"
      ]
     },
     "execution_count": 9,
     "metadata": {},
     "output_type": "execute_result"
    },
    {
     "data": {
      "text/plain": [
       "'C:\\\\Users\\\\SengTian\\\\Downloads\\\\Temp\\\\Republic Polytechnic\\\\Assignment_ComputerVision\\\\TIPP_AAI_AAISD_CV\\\\Question_1\\\\clean_dataset\\\\train\\\\White-bellied_Sea_Eagle\\\\_JWO9430_cr.jpg'"
      ]
     },
     "execution_count": 9,
     "metadata": {},
     "output_type": "execute_result"
    },
    {
     "data": {
      "text/plain": [
       "'C:\\\\Users\\\\SengTian\\\\Downloads\\\\Temp\\\\Republic Polytechnic\\\\Assignment_ComputerVision\\\\TIPP_AAI_AAISD_CV\\\\Question_1\\\\clean_dataset\\\\train\\\\White-bellied_Sea_Eagle\\\\_JWO9445_cr.jpg'"
      ]
     },
     "execution_count": 9,
     "metadata": {},
     "output_type": "execute_result"
    },
    {
     "data": {
      "text/plain": [
       "'C:\\\\Users\\\\SengTian\\\\Downloads\\\\Temp\\\\Republic Polytechnic\\\\Assignment_ComputerVision\\\\TIPP_AAI_AAISD_CV\\\\Question_1\\\\clean_dataset\\\\train\\\\White-bellied_Sea_Eagle\\\\_JWO9460_cr.jpg'"
      ]
     },
     "execution_count": 9,
     "metadata": {},
     "output_type": "execute_result"
    },
    {
     "data": {
      "text/plain": [
       "'C:\\\\Users\\\\SengTian\\\\Downloads\\\\Temp\\\\Republic Polytechnic\\\\Assignment_ComputerVision\\\\TIPP_AAI_AAISD_CV\\\\Question_1\\\\clean_dataset\\\\train\\\\White-bellied_Sea_Eagle\\\\_JWO9468_cr.jpg'"
      ]
     },
     "execution_count": 9,
     "metadata": {},
     "output_type": "execute_result"
    },
    {
     "data": {
      "text/plain": [
       "'C:\\\\Users\\\\SengTian\\\\Downloads\\\\Temp\\\\Republic Polytechnic\\\\Assignment_ComputerVision\\\\TIPP_AAI_AAISD_CV\\\\Question_1\\\\clean_dataset\\\\train\\\\Zitting_Cisticola\\\\_JWO9469_cr.jpg'"
      ]
     },
     "execution_count": 9,
     "metadata": {},
     "output_type": "execute_result"
    },
    {
     "data": {
      "text/plain": [
       "'C:\\\\Users\\\\SengTian\\\\Downloads\\\\Temp\\\\Republic Polytechnic\\\\Assignment_ComputerVision\\\\TIPP_AAI_AAISD_CV\\\\Question_1\\\\clean_dataset\\\\train\\\\Zitting_Cisticola\\\\_JWO9511_cr.jpg'"
      ]
     },
     "execution_count": 9,
     "metadata": {},
     "output_type": "execute_result"
    },
    {
     "data": {
      "text/plain": [
       "'C:\\\\Users\\\\SengTian\\\\Downloads\\\\Temp\\\\Republic Polytechnic\\\\Assignment_ComputerVision\\\\TIPP_AAI_AAISD_CV\\\\Question_1\\\\clean_dataset\\\\train\\\\Black-winged_Kite\\\\_JWO9527_cr.jpg'"
      ]
     },
     "execution_count": 9,
     "metadata": {},
     "output_type": "execute_result"
    },
    {
     "data": {
      "text/plain": [
       "'C:\\\\Users\\\\SengTian\\\\Downloads\\\\Temp\\\\Republic Polytechnic\\\\Assignment_ComputerVision\\\\TIPP_AAI_AAISD_CV\\\\Question_1\\\\clean_dataset\\\\train\\\\Black-winged_Kite\\\\_JWO9528_cr.jpg'"
      ]
     },
     "execution_count": 9,
     "metadata": {},
     "output_type": "execute_result"
    },
    {
     "data": {
      "text/plain": [
       "'C:\\\\Users\\\\SengTian\\\\Downloads\\\\Temp\\\\Republic Polytechnic\\\\Assignment_ComputerVision\\\\TIPP_AAI_AAISD_CV\\\\Question_1\\\\clean_dataset\\\\train\\\\Black-winged_Kite\\\\_JWO9529_cr.jpg'"
      ]
     },
     "execution_count": 9,
     "metadata": {},
     "output_type": "execute_result"
    },
    {
     "data": {
      "text/plain": [
       "'C:\\\\Users\\\\SengTian\\\\Downloads\\\\Temp\\\\Republic Polytechnic\\\\Assignment_ComputerVision\\\\TIPP_AAI_AAISD_CV\\\\Question_1\\\\clean_dataset\\\\train\\\\Black-winged_Kite\\\\_JWO9531_cr.jpg'"
      ]
     },
     "execution_count": 9,
     "metadata": {},
     "output_type": "execute_result"
    },
    {
     "data": {
      "text/plain": [
       "'C:\\\\Users\\\\SengTian\\\\Downloads\\\\Temp\\\\Republic Polytechnic\\\\Assignment_ComputerVision\\\\TIPP_AAI_AAISD_CV\\\\Question_1\\\\clean_dataset\\\\train\\\\Zitting_Cisticola\\\\_JWO9590_cr.jpg'"
      ]
     },
     "execution_count": 9,
     "metadata": {},
     "output_type": "execute_result"
    },
    {
     "data": {
      "text/plain": [
       "'C:\\\\Users\\\\SengTian\\\\Downloads\\\\Temp\\\\Republic Polytechnic\\\\Assignment_ComputerVision\\\\TIPP_AAI_AAISD_CV\\\\Question_1\\\\clean_dataset\\\\train\\\\Zitting_Cisticola\\\\_JWO9602_cr.jpg'"
      ]
     },
     "execution_count": 9,
     "metadata": {},
     "output_type": "execute_result"
    },
    {
     "data": {
      "text/plain": [
       "'C:\\\\Users\\\\SengTian\\\\Downloads\\\\Temp\\\\Republic Polytechnic\\\\Assignment_ComputerVision\\\\TIPP_AAI_AAISD_CV\\\\Question_1\\\\clean_dataset\\\\train\\\\Black-winged_Kite\\\\_JWO9651_cr.jpg'"
      ]
     },
     "execution_count": 9,
     "metadata": {},
     "output_type": "execute_result"
    },
    {
     "data": {
      "text/plain": [
       "'C:\\\\Users\\\\SengTian\\\\Downloads\\\\Temp\\\\Republic Polytechnic\\\\Assignment_ComputerVision\\\\TIPP_AAI_AAISD_CV\\\\Question_1\\\\clean_dataset\\\\train\\\\Black-winged_Kite\\\\_JWO9660_cr.jpg'"
      ]
     },
     "execution_count": 9,
     "metadata": {},
     "output_type": "execute_result"
    },
    {
     "data": {
      "text/plain": [
       "'C:\\\\Users\\\\SengTian\\\\Downloads\\\\Temp\\\\Republic Polytechnic\\\\Assignment_ComputerVision\\\\TIPP_AAI_AAISD_CV\\\\Question_1\\\\clean_dataset\\\\train\\\\Black-winged_Kite\\\\_JWO9661_cr.jpg'"
      ]
     },
     "execution_count": 9,
     "metadata": {},
     "output_type": "execute_result"
    },
    {
     "data": {
      "text/plain": [
       "'C:\\\\Users\\\\SengTian\\\\Downloads\\\\Temp\\\\Republic Polytechnic\\\\Assignment_ComputerVision\\\\TIPP_AAI_AAISD_CV\\\\Question_1\\\\clean_dataset\\\\train\\\\Black-winged_Kite\\\\_JWO9667_cr.jpg'"
      ]
     },
     "execution_count": 9,
     "metadata": {},
     "output_type": "execute_result"
    },
    {
     "data": {
      "text/plain": [
       "'C:\\\\Users\\\\SengTian\\\\Downloads\\\\Temp\\\\Republic Polytechnic\\\\Assignment_ComputerVision\\\\TIPP_AAI_AAISD_CV\\\\Question_1\\\\clean_dataset\\\\train\\\\Black-winged_Kite\\\\_JWO9669_cr.jpg'"
      ]
     },
     "execution_count": 9,
     "metadata": {},
     "output_type": "execute_result"
    },
    {
     "data": {
      "text/plain": [
       "'C:\\\\Users\\\\SengTian\\\\Downloads\\\\Temp\\\\Republic Polytechnic\\\\Assignment_ComputerVision\\\\TIPP_AAI_AAISD_CV\\\\Question_1\\\\clean_dataset\\\\train\\\\Black-winged_Kite\\\\_JWO9677_cr.jpg'"
      ]
     },
     "execution_count": 9,
     "metadata": {},
     "output_type": "execute_result"
    },
    {
     "data": {
      "text/plain": [
       "'C:\\\\Users\\\\SengTian\\\\Downloads\\\\Temp\\\\Republic Polytechnic\\\\Assignment_ComputerVision\\\\TIPP_AAI_AAISD_CV\\\\Question_1\\\\clean_dataset\\\\train\\\\Black-winged_Kite\\\\_JWO9696_cr.jpg'"
      ]
     },
     "execution_count": 9,
     "metadata": {},
     "output_type": "execute_result"
    },
    {
     "data": {
      "text/plain": [
       "'C:\\\\Users\\\\SengTian\\\\Downloads\\\\Temp\\\\Republic Polytechnic\\\\Assignment_ComputerVision\\\\TIPP_AAI_AAISD_CV\\\\Question_1\\\\clean_dataset\\\\train\\\\Black-winged_Kite\\\\_JWO9711_cr.jpg'"
      ]
     },
     "execution_count": 9,
     "metadata": {},
     "output_type": "execute_result"
    },
    {
     "data": {
      "text/plain": [
       "'C:\\\\Users\\\\SengTian\\\\Downloads\\\\Temp\\\\Republic Polytechnic\\\\Assignment_ComputerVision\\\\TIPP_AAI_AAISD_CV\\\\Question_1\\\\clean_dataset\\\\train\\\\Black-winged_Kite\\\\_JWO9719_cr.jpg'"
      ]
     },
     "execution_count": 9,
     "metadata": {},
     "output_type": "execute_result"
    },
    {
     "data": {
      "text/plain": [
       "'C:\\\\Users\\\\SengTian\\\\Downloads\\\\Temp\\\\Republic Polytechnic\\\\Assignment_ComputerVision\\\\TIPP_AAI_AAISD_CV\\\\Question_1\\\\clean_dataset\\\\train\\\\Black-winged_Kite\\\\_JWO9747_cr.jpg'"
      ]
     },
     "execution_count": 9,
     "metadata": {},
     "output_type": "execute_result"
    },
    {
     "data": {
      "text/plain": [
       "'C:\\\\Users\\\\SengTian\\\\Downloads\\\\Temp\\\\Republic Polytechnic\\\\Assignment_ComputerVision\\\\TIPP_AAI_AAISD_CV\\\\Question_1\\\\clean_dataset\\\\train\\\\Black-winged_Kite\\\\_JWO9754_cr.jpg'"
      ]
     },
     "execution_count": 9,
     "metadata": {},
     "output_type": "execute_result"
    },
    {
     "data": {
      "text/plain": [
       "'C:\\\\Users\\\\SengTian\\\\Downloads\\\\Temp\\\\Republic Polytechnic\\\\Assignment_ComputerVision\\\\TIPP_AAI_AAISD_CV\\\\Question_1\\\\clean_dataset\\\\train\\\\Black-winged_Kite\\\\_JWO9755_cr.jpg'"
      ]
     },
     "execution_count": 9,
     "metadata": {},
     "output_type": "execute_result"
    },
    {
     "data": {
      "text/plain": [
       "'C:\\\\Users\\\\SengTian\\\\Downloads\\\\Temp\\\\Republic Polytechnic\\\\Assignment_ComputerVision\\\\TIPP_AAI_AAISD_CV\\\\Question_1\\\\clean_dataset\\\\train\\\\Black-winged_Kite\\\\_JWO9756_cr.jpg'"
      ]
     },
     "execution_count": 9,
     "metadata": {},
     "output_type": "execute_result"
    },
    {
     "data": {
      "text/plain": [
       "'C:\\\\Users\\\\SengTian\\\\Downloads\\\\Temp\\\\Republic Polytechnic\\\\Assignment_ComputerVision\\\\TIPP_AAI_AAISD_CV\\\\Question_1\\\\clean_dataset\\\\train\\\\Black-winged_Kite\\\\_JWO9757_cr.jpg'"
      ]
     },
     "execution_count": 9,
     "metadata": {},
     "output_type": "execute_result"
    },
    {
     "data": {
      "text/plain": [
       "'C:\\\\Users\\\\SengTian\\\\Downloads\\\\Temp\\\\Republic Polytechnic\\\\Assignment_ComputerVision\\\\TIPP_AAI_AAISD_CV\\\\Question_1\\\\clean_dataset\\\\train\\\\Common_Flamebacked_Woodpecker\\\\_JWO9775_cr.jpg'"
      ]
     },
     "execution_count": 9,
     "metadata": {},
     "output_type": "execute_result"
    },
    {
     "data": {
      "text/plain": [
       "'C:\\\\Users\\\\SengTian\\\\Downloads\\\\Temp\\\\Republic Polytechnic\\\\Assignment_ComputerVision\\\\TIPP_AAI_AAISD_CV\\\\Question_1\\\\clean_dataset\\\\train\\\\Common_Flamebacked_Woodpecker\\\\_JWO9776_cr.jpg'"
      ]
     },
     "execution_count": 9,
     "metadata": {},
     "output_type": "execute_result"
    },
    {
     "data": {
      "text/plain": [
       "'C:\\\\Users\\\\SengTian\\\\Downloads\\\\Temp\\\\Republic Polytechnic\\\\Assignment_ComputerVision\\\\TIPP_AAI_AAISD_CV\\\\Question_1\\\\clean_dataset\\\\train\\\\Oriental_Magpie_Robin\\\\_JWO9796_1_cr.jpg'"
      ]
     },
     "execution_count": 9,
     "metadata": {},
     "output_type": "execute_result"
    },
    {
     "data": {
      "text/plain": [
       "'C:\\\\Users\\\\SengTian\\\\Downloads\\\\Temp\\\\Republic Polytechnic\\\\Assignment_ComputerVision\\\\TIPP_AAI_AAISD_CV\\\\Question_1\\\\clean_dataset\\\\train\\\\Black-winged_Kite\\\\_JWO9799_cr.jpg'"
      ]
     },
     "execution_count": 9,
     "metadata": {},
     "output_type": "execute_result"
    },
    {
     "data": {
      "text/plain": [
       "'C:\\\\Users\\\\SengTian\\\\Downloads\\\\Temp\\\\Republic Polytechnic\\\\Assignment_ComputerVision\\\\TIPP_AAI_AAISD_CV\\\\Question_1\\\\clean_dataset\\\\train\\\\Black-winged_Kite\\\\_JWO9800_cr.jpg'"
      ]
     },
     "execution_count": 9,
     "metadata": {},
     "output_type": "execute_result"
    },
    {
     "data": {
      "text/plain": [
       "'C:\\\\Users\\\\SengTian\\\\Downloads\\\\Temp\\\\Republic Polytechnic\\\\Assignment_ComputerVision\\\\TIPP_AAI_AAISD_CV\\\\Question_1\\\\clean_dataset\\\\train\\\\Oriental_Pied_Hornbill\\\\_JWO9822_cr.jpg'"
      ]
     },
     "execution_count": 9,
     "metadata": {},
     "output_type": "execute_result"
    },
    {
     "data": {
      "text/plain": [
       "'C:\\\\Users\\\\SengTian\\\\Downloads\\\\Temp\\\\Republic Polytechnic\\\\Assignment_ComputerVision\\\\TIPP_AAI_AAISD_CV\\\\Question_1\\\\clean_dataset\\\\train\\\\Oriental_Pied_Hornbill\\\\_JWO9857_cr.jpg'"
      ]
     },
     "execution_count": 9,
     "metadata": {},
     "output_type": "execute_result"
    },
    {
     "data": {
      "text/plain": [
       "'C:\\\\Users\\\\SengTian\\\\Downloads\\\\Temp\\\\Republic Polytechnic\\\\Assignment_ComputerVision\\\\TIPP_AAI_AAISD_CV\\\\Question_1\\\\clean_dataset\\\\train\\\\Oriental_Pied_Hornbill\\\\_JWO9880_cr.jpg'"
      ]
     },
     "execution_count": 9,
     "metadata": {},
     "output_type": "execute_result"
    },
    {
     "data": {
      "text/plain": [
       "'C:\\\\Users\\\\SengTian\\\\Downloads\\\\Temp\\\\Republic Polytechnic\\\\Assignment_ComputerVision\\\\TIPP_AAI_AAISD_CV\\\\Question_1\\\\clean_dataset\\\\train\\\\Oriental_Pied_Hornbill\\\\_JWO9883_cr.jpg'"
      ]
     },
     "execution_count": 9,
     "metadata": {},
     "output_type": "execute_result"
    },
    {
     "data": {
      "text/plain": [
       "'C:\\\\Users\\\\SengTian\\\\Downloads\\\\Temp\\\\Republic Polytechnic\\\\Assignment_ComputerVision\\\\TIPP_AAI_AAISD_CV\\\\Question_1\\\\clean_dataset\\\\train\\\\Brahmini_Kite\\\\_JWO9897_cr.jpg'"
      ]
     },
     "execution_count": 9,
     "metadata": {},
     "output_type": "execute_result"
    },
    {
     "data": {
      "text/plain": [
       "'C:\\\\Users\\\\SengTian\\\\Downloads\\\\Temp\\\\Republic Polytechnic\\\\Assignment_ComputerVision\\\\TIPP_AAI_AAISD_CV\\\\Question_1\\\\clean_dataset\\\\train\\\\Brahmini_Kite\\\\_JWO9898_cr.jpg'"
      ]
     },
     "execution_count": 9,
     "metadata": {},
     "output_type": "execute_result"
    },
    {
     "data": {
      "text/plain": [
       "'C:\\\\Users\\\\SengTian\\\\Downloads\\\\Temp\\\\Republic Polytechnic\\\\Assignment_ComputerVision\\\\TIPP_AAI_AAISD_CV\\\\Question_1\\\\clean_dataset\\\\train\\\\Brahmini_Kite\\\\_JWO9899_cr.jpg'"
      ]
     },
     "execution_count": 9,
     "metadata": {},
     "output_type": "execute_result"
    },
    {
     "data": {
      "text/plain": [
       "'C:\\\\Users\\\\SengTian\\\\Downloads\\\\Temp\\\\Republic Polytechnic\\\\Assignment_ComputerVision\\\\TIPP_AAI_AAISD_CV\\\\Question_1\\\\clean_dataset\\\\train\\\\Brahmini_Kite\\\\_JWO9904_cr.jpg'"
      ]
     },
     "execution_count": 9,
     "metadata": {},
     "output_type": "execute_result"
    },
    {
     "data": {
      "text/plain": [
       "'C:\\\\Users\\\\SengTian\\\\Downloads\\\\Temp\\\\Republic Polytechnic\\\\Assignment_ComputerVision\\\\TIPP_AAI_AAISD_CV\\\\Question_1\\\\clean_dataset\\\\train\\\\Brahmini_Kite\\\\_JWO9919_cr.jpg'"
      ]
     },
     "execution_count": 9,
     "metadata": {},
     "output_type": "execute_result"
    },
    {
     "data": {
      "text/plain": [
       "'C:\\\\Users\\\\SengTian\\\\Downloads\\\\Temp\\\\Republic Polytechnic\\\\Assignment_ComputerVision\\\\TIPP_AAI_AAISD_CV\\\\Question_1\\\\clean_dataset\\\\train\\\\Brahmini_Kite\\\\_JWO9925_cr.jpg'"
      ]
     },
     "execution_count": 9,
     "metadata": {},
     "output_type": "execute_result"
    },
    {
     "data": {
      "text/plain": [
       "'C:\\\\Users\\\\SengTian\\\\Downloads\\\\Temp\\\\Republic Polytechnic\\\\Assignment_ComputerVision\\\\TIPP_AAI_AAISD_CV\\\\Question_1\\\\clean_dataset\\\\train\\\\Brahmini_Kite\\\\_JWO9926_cr.jpg'"
      ]
     },
     "execution_count": 9,
     "metadata": {},
     "output_type": "execute_result"
    },
    {
     "data": {
      "text/plain": [
       "'C:\\\\Users\\\\SengTian\\\\Downloads\\\\Temp\\\\Republic Polytechnic\\\\Assignment_ComputerVision\\\\TIPP_AAI_AAISD_CV\\\\Question_1\\\\clean_dataset\\\\train\\\\Brahmini_Kite\\\\_JWO9930_cr.jpg'"
      ]
     },
     "execution_count": 9,
     "metadata": {},
     "output_type": "execute_result"
    },
    {
     "data": {
      "text/plain": [
       "'C:\\\\Users\\\\SengTian\\\\Downloads\\\\Temp\\\\Republic Polytechnic\\\\Assignment_ComputerVision\\\\TIPP_AAI_AAISD_CV\\\\Question_1\\\\clean_dataset\\\\train\\\\Banded_Woodpecker\\\\_JWO9950_1_cr.jpg'"
      ]
     },
     "execution_count": 9,
     "metadata": {},
     "output_type": "execute_result"
    },
    {
     "data": {
      "text/plain": [
       "'C:\\\\Users\\\\SengTian\\\\Downloads\\\\Temp\\\\Republic Polytechnic\\\\Assignment_ComputerVision\\\\TIPP_AAI_AAISD_CV\\\\Question_1\\\\clean_dataset\\\\train\\\\Banded_Woodpecker\\\\_JWO9971_cr.jpg'"
      ]
     },
     "execution_count": 9,
     "metadata": {},
     "output_type": "execute_result"
    },
    {
     "data": {
      "text/plain": [
       "'C:\\\\Users\\\\SengTian\\\\Downloads\\\\Temp\\\\Republic Polytechnic\\\\Assignment_ComputerVision\\\\TIPP_AAI_AAISD_CV\\\\Question_1\\\\clean_dataset\\\\train\\\\Chinese_Sparrowhawk\\\\ch_sparrowhawk1.jpg'"
      ]
     },
     "execution_count": 9,
     "metadata": {},
     "output_type": "execute_result"
    },
    {
     "data": {
      "text/plain": [
       "'C:\\\\Users\\\\SengTian\\\\Downloads\\\\Temp\\\\Republic Polytechnic\\\\Assignment_ComputerVision\\\\TIPP_AAI_AAISD_CV\\\\Question_1\\\\clean_dataset\\\\train\\\\Chinese_Sparrowhawk\\\\ch_sparrowhawk2.jpg'"
      ]
     },
     "execution_count": 9,
     "metadata": {},
     "output_type": "execute_result"
    },
    {
     "data": {
      "text/plain": [
       "'C:\\\\Users\\\\SengTian\\\\Downloads\\\\Temp\\\\Republic Polytechnic\\\\Assignment_ComputerVision\\\\TIPP_AAI_AAISD_CV\\\\Question_1\\\\clean_dataset\\\\train\\\\Chinese_Sparrowhawk\\\\ch_sparrowhawk3.jpg'"
      ]
     },
     "execution_count": 9,
     "metadata": {},
     "output_type": "execute_result"
    },
    {
     "data": {
      "text/plain": [
       "'C:\\\\Users\\\\SengTian\\\\Downloads\\\\Temp\\\\Republic Polytechnic\\\\Assignment_ComputerVision\\\\TIPP_AAI_AAISD_CV\\\\Question_1\\\\clean_dataset\\\\train\\\\Chinese_Sparrowhawk\\\\crested_goshawk02.jpg'"
      ]
     },
     "execution_count": 9,
     "metadata": {},
     "output_type": "execute_result"
    },
    {
     "data": {
      "text/plain": [
       "'C:\\\\Users\\\\SengTian\\\\Downloads\\\\Temp\\\\Republic Polytechnic\\\\Assignment_ComputerVision\\\\TIPP_AAI_AAISD_CV\\\\Question_1\\\\clean_dataset\\\\train\\\\Pin-tailed_Whydah\\\\Document Name_cr_1_cr.jpg'"
      ]
     },
     "execution_count": 9,
     "metadata": {},
     "output_type": "execute_result"
    },
    {
     "data": {
      "text/plain": [
       "'C:\\\\Users\\\\SengTian\\\\Downloads\\\\Temp\\\\Republic Polytechnic\\\\Assignment_ComputerVision\\\\TIPP_AAI_AAISD_CV\\\\Question_1\\\\clean_dataset\\\\train\\\\Oriental_Pied_Hornbill\\\\File1382_cr.jpg'"
      ]
     },
     "execution_count": 9,
     "metadata": {},
     "output_type": "execute_result"
    },
    {
     "data": {
      "text/plain": [
       "'C:\\\\Users\\\\SengTian\\\\Downloads\\\\Temp\\\\Republic Polytechnic\\\\Assignment_ComputerVision\\\\TIPP_AAI_AAISD_CV\\\\Question_1\\\\clean_dataset\\\\train\\\\Oriental_Pied_Hornbill\\\\File1395_cr.jpg'"
      ]
     },
     "execution_count": 9,
     "metadata": {},
     "output_type": "execute_result"
    },
    {
     "data": {
      "text/plain": [
       "'C:\\\\Users\\\\SengTian\\\\Downloads\\\\Temp\\\\Republic Polytechnic\\\\Assignment_ComputerVision\\\\TIPP_AAI_AAISD_CV\\\\Question_1\\\\clean_dataset\\\\train\\\\Oriental_Pied_Hornbill\\\\File1408_cr.jpg'"
      ]
     },
     "execution_count": 9,
     "metadata": {},
     "output_type": "execute_result"
    },
    {
     "data": {
      "text/plain": [
       "'C:\\\\Users\\\\SengTian\\\\Downloads\\\\Temp\\\\Republic Polytechnic\\\\Assignment_ComputerVision\\\\TIPP_AAI_AAISD_CV\\\\Question_1\\\\clean_dataset\\\\train\\\\Oriental_Pied_Hornbill\\\\File1498_cr.jpg'"
      ]
     },
     "execution_count": 9,
     "metadata": {},
     "output_type": "execute_result"
    },
    {
     "data": {
      "text/plain": [
       "'C:\\\\Users\\\\SengTian\\\\Downloads\\\\Temp\\\\Republic Polytechnic\\\\Assignment_ComputerVision\\\\TIPP_AAI_AAISD_CV\\\\Question_1\\\\clean_dataset\\\\train\\\\Oriental_Pied_Hornbill\\\\File1499_cr.jpg'"
      ]
     },
     "execution_count": 9,
     "metadata": {},
     "output_type": "execute_result"
    },
    {
     "data": {
      "text/plain": [
       "'C:\\\\Users\\\\SengTian\\\\Downloads\\\\Temp\\\\Republic Polytechnic\\\\Assignment_ComputerVision\\\\TIPP_AAI_AAISD_CV\\\\Question_1\\\\clean_dataset\\\\train\\\\Oriental_Pied_Hornbill\\\\File2827_cr.jpg'"
      ]
     },
     "execution_count": 9,
     "metadata": {},
     "output_type": "execute_result"
    },
    {
     "data": {
      "text/plain": [
       "'C:\\\\Users\\\\SengTian\\\\Downloads\\\\Temp\\\\Republic Polytechnic\\\\Assignment_ComputerVision\\\\TIPP_AAI_AAISD_CV\\\\Question_1\\\\clean_dataset\\\\train\\\\Sunda_Pygmy_Woodpecker\\\\sunda_pygmi01_cr.jpg'"
      ]
     },
     "execution_count": 9,
     "metadata": {},
     "output_type": "execute_result"
    },
    {
     "data": {
      "text/plain": [
       "'C:\\\\Users\\\\SengTian\\\\Downloads\\\\Temp\\\\Republic Polytechnic\\\\Assignment_ComputerVision\\\\TIPP_AAI_AAISD_CV\\\\Question_1\\\\clean_dataset\\\\train\\\\Sunda_Pygmy_Woodpecker\\\\sunda_pygmi02_cr.jpg'"
      ]
     },
     "execution_count": 9,
     "metadata": {},
     "output_type": "execute_result"
    },
    {
     "name": "stdout",
     "output_type": "stream",
     "text": [
      "886 files were copied\n"
     ]
    }
   ],
   "source": [
    "for name, label in train_cplist:\n",
    "    srcfile = os.path.join(current_dir, original_images_dir)\n",
    "    srcfile = os.path.join(srcfile, name + '.' + image_type)\n",
    "    dest = os.path.join(current_dir, cleaned_dir)\n",
    "    dest = os.path.join(dest, 'train')\n",
    "    dest = os.path.join (dest, label)\n",
    "    shutil.copy(srcfile, dest)\n",
    "    count = count + 1\n",
    "print('{} files were copied'.format(count))"
   ]
  },
  {
   "cell_type": "code",
   "execution_count": 10,
   "metadata": {},
   "outputs": [
    {
     "name": "stdout",
     "output_type": "stream",
     "text": [
      "0 files were copied\n"
     ]
    }
   ],
   "source": [
    "count = 0\n",
    "for name, label in validate_cplist:\n",
    "    srcfile = os.path.join(current_dir, original_images_dir)\n",
    "    srcfile = os.path.join(srcfile, name + '.' + image_type)\n",
    "    dest = os.path.join(current_dir, cleaned_dir)\n",
    "    dest = os.path.join(dest, 'validate')\n",
    "    dest = os.path.join (dest, label)\n",
    "    shutil.copy(srcfile, dest)\n",
    "    count = count + 1\n",
    "\n",
    "print('{} files were copied'.format(count))\n"
   ]
  },
  {
   "cell_type": "code",
   "execution_count": 11,
   "metadata": {},
   "outputs": [
    {
     "data": {
      "text/plain": [
       "Zitting_Cisticola                    46\n",
       "Stork-billed_Kingfisher              44\n",
       "White-breasted_Waterhen              42\n",
       "White-winged_Tern                    35\n",
       "Red-Crowned_Crane                    34\n",
       "White-bellied_Sea_Eagle              29\n",
       "Lesser_Whistling_Duck                24\n",
       "Jerdons_Baza                         24\n",
       "Olive-backed_Sunbird                 23\n",
       "Common_Kingfisher                    22\n",
       "Grey-headed_Fish_Eagle               21\n",
       "Blue-throated_Bee-eater              20\n",
       "Grey-rumped_Treeswift                20\n",
       "Black-winged_Kite                    20\n",
       "Banded_Woodpecker                    19\n",
       "Little_Tern                          19\n",
       "Slaty-breasted_Rail                  18\n",
       "Yellow-vented_Bulbul                 17\n",
       "Sunda_Scoops_Owl                     17\n",
       "Black-crowned_Night_Heron            16\n",
       "Sunda_Pygmy_Woodpecker               16\n",
       "Buffy_Fish_Owl                       15\n",
       "Green_Imperial_Pigeon                14\n",
       "Oriental_Pied_Hornbill               14\n",
       "Brahmini_Kite                        13\n",
       "Blue-crowned_Hanging_Parrot          13\n",
       "Golden-backed_Weaver                 13\n",
       "Greater_Racket-tailed_Drongo         13\n",
       "Zanzibar_Red_Bishop                  13\n",
       "White-tailed_Sea_Eagle               11\n",
       "Paddyfield_Pipit                     11\n",
       "Pied_Triller                         11\n",
       "Striated_Heron                       11\n",
       "Yellow_Bittern                       10\n",
       "Whooper_Swan                         10\n",
       "Blue-winged_Pita                     10\n",
       "Little_Spiderhunter                   9\n",
       "Grey_Heron                            9\n",
       "Black_Baza                            9\n",
       "Malayan_Pied_Fantail                  8\n",
       "Rose-ringed_Parakeet                  8\n",
       "Masked_Lapwing                        8\n",
       "Oriental_Magpie_Robin                 8\n",
       "Brown-throated_Sunbird                7\n",
       "White-collared_Kingfisher             6\n",
       "Asian_Koel                            6\n",
       "Purple_Heron                          6\n",
       "Common_Redshank                       5\n",
       "Red_Junglefowl                        5\n",
       "Chinese_Sparrowhawk                   5\n",
       "Tiger_Shrike                          5\n",
       "Coppersmith_Barbet                    4\n",
       "Japanese_Tit                          4\n",
       "Lesser_Egret                          4\n",
       "Amur_Asian_Paradise_Flycatcher        4\n",
       "Crimson_Sunbird                       4\n",
       "Swiftlet                              4\n",
       "Oriental_Dollarbird                   4\n",
       "Pin-tailed_Whydah                     4\n",
       "Large-tailed_Nightjar                 3\n",
       "Common_Flamebacked_Woodpecker         3\n",
       "Blue-eared_Kingfisher                 3\n",
       "Brown_Shrike                          3\n",
       "Wimbrel                               3\n",
       "Zappey's_Flycatcher                   3\n",
       "Orange-bellied_Woodpecker             3\n",
       "Blyth's_Asian_Paradise_Flycatcher     2\n",
       "Grey_Nightjar                         2\n",
       "White-throated_Kingfisher             2\n",
       "Stellar_Sea_Eagle                     2\n",
       "Painted_Stork                         2\n",
       "Mallard_Duck                          2\n",
       "Blue-tailed_Bee-eater                 2\n",
       "Asian_Glossy_Starling                 2\n",
       "Oriental_Honey_Buzzard                2\n",
       "Yellow_Oriole                         2\n",
       "Straw-headed_Bulbul                   1\n",
       "Name: label, dtype: int64"
      ]
     },
     "execution_count": 11,
     "metadata": {},
     "output_type": "execute_result"
    }
   ],
   "source": [
    "# do a unique class count\n",
    "pd.set_option('display.max_rows', 100)\n",
    "df.label.value_counts()\n"
   ]
  },
  {
   "cell_type": "code",
   "execution_count": 12,
   "metadata": {},
   "outputs": [
    {
     "name": "stdout",
     "output_type": "stream",
     "text": [
      "-- The End --\n"
     ]
    }
   ],
   "source": [
    "print('-- The End --')"
   ]
  }
 ],
 "metadata": {
  "kernelspec": {
   "display_name": "Python 3",
   "language": "python",
   "name": "python3"
  },
  "language_info": {
   "codemirror_mode": {
    "name": "ipython",
    "version": 3
   },
   "file_extension": ".py",
   "mimetype": "text/x-python",
   "name": "python",
   "nbconvert_exporter": "python",
   "pygments_lexer": "ipython3",
   "version": "3.7.6"
  }
 },
 "nbformat": 4,
 "nbformat_minor": 4
}
